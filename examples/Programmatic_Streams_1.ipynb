{
  "cells": [
    {
      "cell_type": "markdown",
      "metadata": {
        "id": "xEBvVSuzjxHh"
      },
      "source": [
        "# ↔️ Building Dynamic Video Streams with VideoDB: Integrating Custom Data and APIs"
      ]
    },
    {
      "cell_type": "markdown",
      "metadata": {
        "id": "LCwBGclTjxHi"
      },
      "source": [
        "<a href=\"https://colab.research.google.com/github/video-db/videodb-cookbook/blob/main/examples/Programmatic_Streams_1.ipynb\" target=\"_parent\"><img src=\"https://colab.research.google.com/assets/colab-badge.svg\" alt=\"Open In Colab\"/></a>"
      ]
    },
    {
      "cell_type": "markdown",
      "metadata": {
        "id": "w8xeWTZkjxHi"
      },
      "source": [
        "## Introduction\n",
        "Imagine you're watching a captivating keynote session from your favorite conference, and you’re welcomed with a personalized stream just for you.\n",
        "\n",
        "This tutorial demonstrates how to create dynamic video streams by integrating data from custom databases and external APIs. We'll use a practical example: a recording of a [Config 2023](https://www.youtube.com/watch?v=Nmv8XdFiej0) keynote session. By using VideoDB, we'll show how companies like [Figma](https://www.figma.com/files/recents-and-sharing?fuid=940498258276625180) can personalize the viewing experience for their audience, delivering a richer and more engaging experience.\n",
        "\n",
        "We'll showcase how to:\n",
        "\n",
        "* Fetch data from a random user API to represent a hypothetical viewer.\n",
        "* Integrate this data into a custom VideoDB timeline.\n",
        "* Create a personalized stream that dynamically displays relevant information alongside the keynote video.\n",
        "\n",
        "This tutorial is your guide to unlocking the potential of dynamic video streams and transforming your video content with personalized experiences."
      ]
    },
    {
      "cell_type": "markdown",
      "metadata": {
        "id": "6Izs6lxqjxHi"
      },
      "source": [
        "## Setup\n",
        "---"
      ]
    },
    {
      "cell_type": "markdown",
      "metadata": {
        "id": "JiLgb86qjxHi"
      },
      "source": [
        "\n",
        "### 📦  Installing packages"
      ]
    },
    {
      "cell_type": "code",
      "execution_count": null,
      "metadata": {
        "id": "VaSLRgz-jxHj"
      },
      "outputs": [],
      "source": [
        "%pip install videodb"
      ]
    },
    {
      "cell_type": "markdown",
      "metadata": {
        "id": "8vQk4j1MjxHj"
      },
      "source": [
        "### 🔑 API Keys\n",
        "Before proceeding, ensure access to [VideoDB](https://videodb.io) API key.\n",
        "\n",
        "> Get your API key from [VideoDB Console](https://console.videodb.io). ( Free for first 50 uploads, **No credit card required** ) 🎉"
      ]
    },
    {
      "cell_type": "code",
      "execution_count": null,
      "metadata": {
        "id": "DuhMNCgfjxHj"
      },
      "outputs": [],
      "source": [
        "import os\n",
        "os.environ[\"VIDEO_DB_API_KEY\"] = \"\""
      ]
    },
    {
      "cell_type": "markdown",
      "metadata": {
        "id": "s8RAYTtnjxHj"
      },
      "source": [
        "## Steps\n",
        "---"
      ]
    },
    {
      "cell_type": "markdown",
      "metadata": {
        "id": "TIwDr4SIjxHj"
      },
      "source": [
        "### 🔗  Step 1: Connect to VideoDB"
      ]
    },
    {
      "cell_type": "markdown",
      "metadata": {
        "id": "cegRs1devmg9"
      },
      "source": [
        "Establish a session for uploading videos. Import the necessary modules from VideoDB library to access functionalities."
      ]
    },
    {
      "cell_type": "code",
      "execution_count": null,
      "metadata": {
        "id": "GvEF198HjxHj"
      },
      "outputs": [],
      "source": [
        "import videodb\n",
        "from videodb import connect\n",
        "\n",
        "conn = videodb.connect()\n",
        "coll = conn.get_collection()"
      ]
    },
    {
      "cell_type": "markdown",
      "metadata": {
        "id": "bMGnv3j0jxHj"
      },
      "source": [
        "### 🗳️ Step 2: Upload Base Video\n",
        "Upload and play the video to ensure it's correctly loaded. We’ll be using [this video](https://www.youtube.com/watch?v=Js4rTM2Z1Eg) for the purpose of this tutorial."
      ]
    },
    {
      "cell_type": "code",
      "execution_count": null,
      "metadata": {
        "id": "I4FukL25jxHj"
      },
      "outputs": [],
      "source": [
        "# Upload and play a video from a URL\n",
        "video = coll.upload(url=\"https://www.youtube.com/watch?v=Js4rTM2Z1Eg\")\n",
        "video.play()\n",
        "\n",
        "# Alternatively, get a video from your VideoDB collection\n",
        "# video = coll.get_video('VIDEO_ID_HERE')\n",
        "# video.play()"
      ]
    },
    {
      "cell_type": "markdown",
      "metadata": {
        "id": "dS6KesexjxHk"
      },
      "source": [
        "### 📥 Step 3: Fetch Data from a Random User API\n",
        "This code fetches a random user's data (name and picture) from the \"randomuser.me\" API.  You can adapt this to retrieve data from any relevant API (e.g., product data, news articles) for your use case."
      ]
    },
    {
      "cell_type": "code",
      "execution_count": null,
      "metadata": {
        "id": "4yLqe4g0jxHk"
      },
      "outputs": [],
      "source": [
        "import requests\n",
        "\n",
        "# Make a request to the Randomizer API\n",
        "response = requests.get('https://randomuser.me/api/?results=1')\n",
        "data = response.json()\n",
        "\n",
        "# Extract relevant information\n",
        "first_name = data['results'][0]['name']['first']\n",
        "medium_picture = data['results'][0]['picture']['medium']"
      ]
    },
    {
      "cell_type": "markdown",
      "metadata": {
        "id": "5ML2q-OWjxHk"
      },
      "source": [
        "### 🚥 Step 4 (optional): Prepare Data for Integration\n",
        "\n",
        "No additional data transformation is required in this example since we are using the data directly from the API. However, in more complex scenarios, you may need to format the data to be suitable for VideoDB.\n"
      ]
    },
    {
      "cell_type": "markdown",
      "metadata": {
        "id": "5c0fYqjXjxHk"
      },
      "source": [
        "### 🧱 Step 5: Create VideoDB Assets\n",
        "\n",
        "We create VideoDB assets for the base video, the user's name (text), and their picture (image). The `TextStyle` object allows us to customize the appearance of the text elements."
      ]
    },
    {
      "cell_type": "code",
      "execution_count": null,
      "metadata": {
        "id": "fOBsa9pdjxHk"
      },
      "outputs": [],
      "source": [
        "from videodb import play_stream, TextStyle, MediaType\n",
        "from videodb.asset import VideoAsset, TextAsset, ImageAsset\n",
        "from videodb.timeline import Timeline\n",
        "\n",
        "# Video Asset\n",
        "video_asset = VideoAsset(asset_id=video.id, start=0)\n",
        "\n",
        "# Text Asset with First Name\n",
        "name_asset = TextAsset(\n",
        "    text=f'Hi {first_name} !',\n",
        "    duration=4,\n",
        "    style=TextStyle(\n",
        "        fontsize=32,\n",
        "        font=\"montserrat\",\n",
        "        borderw=1,\n",
        "        boxcolor=\"#D2C11D\",\n",
        "        boxborderw=\"20\",\n",
        "        x=\"((w-tw)/2)\",\n",
        "        y=\"(h-th)/4\"\n",
        "    )\n",
        ")\n",
        "\n",
        "# Image Asset with Medium Picture\n",
        "image = coll.upload(url=medium_picture, media_type=MediaType.image)\n",
        "image_asset = ImageAsset(\n",
        "    asset_id=image.id,\n",
        "    width=80,\n",
        "    height=80,\n",
        "    x=\"275\",\n",
        "    y=\"230\",\n",
        "    duration=4\n",
        ")\n",
        "\n",
        "# Fixed Text Asset\n",
        "cmon_asset = TextAsset(\n",
        "    text=\"Here are your favorite moments\",\n",
        "    duration=4,\n",
        "    style=TextStyle(\n",
        "        fontsize=24,\n",
        "        fontcolor=\"#D2C11D\",\n",
        "        font=\"montserrat\",\n",
        "        bordercolor=\"#D2C11D\",\n",
        "        borderw=1,\n",
        "        boxborderw=\"20\",\n",
        "        x=\"((w-tw)/2)\",\n",
        "        y=\"(h-200)\"\n",
        "    )\n",
        ")\n"
      ]
    },
    {
      "cell_type": "markdown",
      "metadata": {
        "id": "48WrFjfDjxHk"
      },
      "source": [
        "### ↔️ Step 6: Create the VideoDB Timeline\n",
        "\n",
        "The VideoDB timeline allows you to arrange and layer your assets to create a dynamic video stream. In this example, we add the name and picture overlays at a specific time (5 seconds) within the base video."
      ]
    },
    {
      "cell_type": "code",
      "execution_count": null,
      "metadata": {
        "id": "b291hycbjxHk"
      },
      "outputs": [],
      "source": [
        "# Create the timeline\n",
        "timeline = Timeline(conn)\n",
        "\n",
        "# Add the base video to the timeline\n",
        "timeline.add_inline(video_asset)\n",
        "\n",
        "# Add overlays to the timeline\n",
        "timeline.add_overlay(5, name_asset)\n",
        "timeline.add_overlay(5, cmon_asset)\n",
        "timeline.add_overlay(5, image_asset)"
      ]
    },
    {
      "cell_type": "markdown",
      "metadata": {
        "id": "K8pGqSZgjxHk"
      },
      "source": [
        "### ▶️ Step 7: Generate and Play the Personalized Stream"
      ]
    },
    {
      "cell_type": "markdown",
      "metadata": {
        "id": "CNq_yCwsjxHk"
      },
      "source": [
        "The `generate_stream()` method creates a streamable URL for your personalized video stream. You can then use `play_stream()`  to preview it in your browser."
      ]
    },
    {
      "cell_type": "code",
      "execution_count": null,
      "metadata": {
        "id": "96SYlAhQjxHk"
      },
      "outputs": [],
      "source": [
        "from videodb import play_stream\n",
        "\n",
        "stream_url = timeline.generate_stream()\n",
        "print(stream_url)\n",
        "play_stream(stream_url)"
      ]
    },
    {
      "cell_type": "markdown",
      "metadata": {
        "id": "xiuqa7o9jxHl"
      },
      "source": [
        "## Conclusion\n",
        "---\n",
        "\n",
        "This tutorial showcased how to create personalized video streams using VideoDB. By integrating data from external APIs and custom databases, you can enhance your video content, personalize user experiences, and unlock new possibilities for engagement. Explore various data sources, experiment with different integrations, and customize your video streams to suit your specific needs."
      ]
    }
  ],
  "metadata": {
    "colab": {
      "provenance": []
    },
    "kernelspec": {
      "display_name": ".venv",
      "language": "python",
      "name": "python3"
    },
    "language_info": {
      "codemirror_mode": {
        "name": "ipython",
        "version": 3
      },
      "file_extension": ".py",
      "mimetype": "text/x-python",
      "name": "python",
      "nbconvert_exporter": "python",
      "pygments_lexer": "ipython3",
      "version": "3.11.7"
    }
  },
  "nbformat": 4,
  "nbformat_minor": 0
}
