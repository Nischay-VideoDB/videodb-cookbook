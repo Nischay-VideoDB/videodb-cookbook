{
 "cells": [
  {
   "cell_type": "code",
   "execution_count": 1,
   "id": "f31ba199-2675-4c94-b555-bff2945dbdf4",
   "metadata": {},
   "outputs": [
    {
     "name": "stdout",
     "output_type": "stream",
     "text": [
      "Requirement already satisfied: videodb in /Users/ashu/opt/anaconda3/envs/videoDB/lib/python3.12/site-packages (0.0.3)\n",
      "Requirement already satisfied: requests>=2.25.1 in /Users/ashu/opt/anaconda3/envs/videoDB/lib/python3.12/site-packages (from videodb) (2.31.0)\n",
      "Requirement already satisfied: backoff>=2.2.1 in /Users/ashu/opt/anaconda3/envs/videoDB/lib/python3.12/site-packages (from videodb) (2.2.1)\n",
      "Requirement already satisfied: tqdm>=4.66.1 in /Users/ashu/opt/anaconda3/envs/videoDB/lib/python3.12/site-packages (from videodb) (4.66.1)\n",
      "Requirement already satisfied: charset-normalizer<4,>=2 in /Users/ashu/opt/anaconda3/envs/videoDB/lib/python3.12/site-packages (from requests>=2.25.1->videodb) (3.3.2)\n",
      "Requirement already satisfied: idna<4,>=2.5 in /Users/ashu/opt/anaconda3/envs/videoDB/lib/python3.12/site-packages (from requests>=2.25.1->videodb) (3.6)\n",
      "Requirement already satisfied: urllib3<3,>=1.21.1 in /Users/ashu/opt/anaconda3/envs/videoDB/lib/python3.12/site-packages (from requests>=2.25.1->videodb) (2.2.0)\n",
      "Requirement already satisfied: certifi>=2017.4.17 in /Users/ashu/opt/anaconda3/envs/videoDB/lib/python3.12/site-packages (from requests>=2.25.1->videodb) (2024.2.2)\n"
     ]
    }
   ],
   "source": [
    "# install latest version\n",
    "!pip install -U videodb"
   ]
  },
  {
   "cell_type": "code",
   "execution_count": 57,
   "id": "543dd0e9-abb0-423e-add7-058f2415f97d",
   "metadata": {},
   "outputs": [],
   "source": [
    "# create a new connection with your API ket\n",
    "from videodb import connect, play_stream\n",
    "from videodb import MediaType\n",
    "conn = connect(api_key=\"\")"
   ]
  },
  {
   "cell_type": "code",
   "execution_count": 43,
   "id": "7c09774b-c869-48a1-b05e-45153fa1a7af",
   "metadata": {},
   "outputs": [],
   "source": [
    "video = conn.upload(file_path=\"tokyo-walk.mp4\")"
   ]
  },
  {
   "cell_type": "code",
   "execution_count": 44,
   "id": "fd70719d-d278-4aa1-8809-e278bd9abb4e",
   "metadata": {},
   "outputs": [
    {
     "data": {
      "text/plain": [
       "'https://console.videodb.io/player?url=https://stream.videodb.io/v3/published/manifests/c89aa854-91f4-4e3b-b477-32aabb05f7d6.m3u8'"
      ]
     },
     "execution_count": 44,
     "metadata": {},
     "output_type": "execute_result"
    }
   ],
   "source": [
    "video.player_url"
   ]
  },
  {
   "cell_type": "code",
   "execution_count": 3,
   "id": "f0eb8ac9-d8aa-4685-b331-dd1fe4adf235",
   "metadata": {},
   "outputs": [],
   "source": [
    "#choose music \n",
    "\n",
    "#links to dumb money soundtrack\n",
    "\n",
    "# https://www.youtube.com/watch?v=UBMbSYhelh0\n",
    "# https://www.youtube.com/watch?v=RCITj_yGIBA\n",
    "# https://www.youtube.com/watch?v=zkO0zrkt35Q"
   ]
  },
  {
   "cell_type": "code",
   "execution_count": 35,
   "id": "41ea9464-9ad7-4366-b8fa-a4978fd60a06",
   "metadata": {},
   "outputs": [],
   "source": [
    "audio = conn.upload(url=\"https://www.youtube.com/watch?v=zkO0zrkt35Q\", media_type=MediaType.audio)"
   ]
  },
  {
   "cell_type": "code",
   "execution_count": 36,
   "id": "ec9107a3-47ef-45d9-9eec-80c423f0cfbe",
   "metadata": {},
   "outputs": [],
   "source": [
    "from videodb.asset import VideoAsset, AudioAsset\n",
    "from videodb.timeline import Timeline\n",
    "from videodb import play_stream"
   ]
  },
  {
   "cell_type": "code",
   "execution_count": 51,
   "id": "d074fd74-5fdb-4ece-a146-0392cfef6e6d",
   "metadata": {},
   "outputs": [],
   "source": [
    "sound_track = AudioAsset(asset_id=audio.id, start=12)"
   ]
  },
  {
   "cell_type": "code",
   "execution_count": 52,
   "id": "dc930966-fd71-4332-9ef4-8461a9e361f9",
   "metadata": {},
   "outputs": [],
   "source": [
    "# create a new timeline\n",
    "timeline = Timeline(conn)\n",
    "# add the main video inline\n",
    "video_asset = VideoAsset(asset_id=video.id)"
   ]
  },
  {
   "cell_type": "code",
   "execution_count": 53,
   "id": "c9f97c6c-41c3-4289-94ba-3a8461f0cc30",
   "metadata": {},
   "outputs": [],
   "source": [
    "timeline.add_inline(video_asset)\n",
    "timeline.add_overlay(1, sound_track)"
   ]
  },
  {
   "cell_type": "code",
   "execution_count": 54,
   "id": "8c3e4faa-53ed-471b-b325-e7593d131324",
   "metadata": {},
   "outputs": [],
   "source": [
    "stream = timeline.generate_stream()"
   ]
  },
  {
   "cell_type": "code",
   "execution_count": 55,
   "id": "00d30688-4c6a-49cb-87e5-eb480d57ab80",
   "metadata": {},
   "outputs": [
    {
     "data": {
      "text/plain": [
       "'https://console.videodb.io/player?url=https://stream.videodb.io/v3/published/manifests/ca6ec310-a857-4e50-b4ce-f4aab9bfcb1f.m3u8'"
      ]
     },
     "execution_count": 55,
     "metadata": {},
     "output_type": "execute_result"
    }
   ],
   "source": [
    "timeline.player_url"
   ]
  },
  {
   "cell_type": "code",
   "execution_count": 56,
   "id": "bdd505ea-8f69-4bd3-9ab9-e2cb4359a163",
   "metadata": {},
   "outputs": [
    {
     "data": {
      "text/plain": [
       "'https://console.videodb.io/player?url=https://stream.videodb.io/v3/published/manifests/ca6ec310-a857-4e50-b4ce-f4aab9bfcb1f.m3u8'"
      ]
     },
     "execution_count": 56,
     "metadata": {},
     "output_type": "execute_result"
    }
   ],
   "source": [
    "play_stream(stream)"
   ]
  }
 ],
 "metadata": {
  "kernelspec": {
   "display_name": "Python 3 (ipykernel)",
   "language": "python",
   "name": "python3"
  },
  "language_info": {
   "codemirror_mode": {
    "name": "ipython",
    "version": 3
   },
   "file_extension": ".py",
   "mimetype": "text/x-python",
   "name": "python",
   "nbconvert_exporter": "python",
   "pygments_lexer": "ipython3",
   "version": "3.12.0"
  }
 },
 "nbformat": 4,
 "nbformat_minor": 5
}
