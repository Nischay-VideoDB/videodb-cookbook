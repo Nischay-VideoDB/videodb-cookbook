{
 "cells": [
  {
   "cell_type": "markdown",
   "metadata": {},
   "source": [
    "# 🔍 Refining Keyword Search Results with Padding Control"
   ]
  },
  {
   "cell_type": "markdown",
   "metadata": {},
   "source": [
    "<a href=\"https://colab.research.google.com/github/video-db/videodb-cookbook/blob/main/examples/Keyword_Search_2.ipynb\" target=\"_parent\"><img src=\"https://colab.research.google.com/assets/colab-badge.svg\" alt=\"Open In Colab\"/></a>"
   ]
  },
  {
   "cell_type": "markdown",
   "metadata": {},
   "source": [
    "## 💬 Overview\n",
    "--- \n",
    "\n",
    "\n",
    "In this tutorial, let's explore the enhanced search features, where accuracy meets adaptability. Easily discover the details of your video collection as we unlock the potential for effortless content discovery. This is an extension of the [Keyword Search tutorial](https://coda.io/d/_dnIYgjBK4eB/_suPo4) where you can refine the output with the flexibility to set the padding duration, ensuring thorough coverage around the keyword occurrence.\n",
    "\n",
    "![](https://raw.githubusercontent.com/video-db/videodb-cookbook-assets/main/images/examples/Keyword_Search_2.png)"
   ]
  },
  {
   "cell_type": "markdown",
   "metadata": {},
   "source": [
    "![](https://raw.githubusercontent.com/video-db/videodb-cookbook/main/images/Intro_Outro_Inline/image.png)"
   ]
  },
  {
   "cell_type": "markdown",
   "metadata": {},
   "source": [
    "## Setup\n",
    "---"
   ]
  },
  {
   "cell_type": "markdown",
   "metadata": {},
   "source": [
    "### 📦  Installing packages "
   ]
  },
  {
   "cell_type": "code",
   "execution_count": null,
   "metadata": {},
   "outputs": [],
   "source": [
    "%pip install videodb"
   ]
  },
  {
   "cell_type": "markdown",
   "metadata": {},
   "source": [
    "### 🔑 API Keys\n",
    "Before proceeding, ensure access to [VideoDB](https://videodb.io) API key. \n",
    "\n",
    "> Get your API key from [VideoDB Console](https://console.videodb.io). ( Free for first 50 uploads, **No credit card required** ) 🎉"
   ]
  },
  {
   "cell_type": "code",
   "execution_count": 1,
   "metadata": {},
   "outputs": [],
   "source": [
    "import os\n",
    "\n",
    "os.environ[\"VIDEO_DB_API_KEY\"] = \"\""
   ]
  },
  {
   "cell_type": "markdown",
   "metadata": {},
   "source": [
    "## Steps\n",
    "---"
   ]
  },
  {
   "cell_type": "markdown",
   "metadata": {},
   "source": [
    "### 🌐 Step 1: Connect to VideoDB\n",
    "Begin by establishing a connection to VideoDB using your API key"
   ]
  },
  {
   "cell_type": "code",
   "execution_count": 2,
   "metadata": {},
   "outputs": [],
   "source": [
    "from videodb import connect\n",
    "\n",
    "# Connect to VideoDB using your API key\n",
    "conn = connect()\n",
    "coll = conn.get_collection()"
   ]
  },
  {
   "cell_type": "markdown",
   "metadata": {},
   "source": [
    "### 🎥 Step 2: Upload Videos\n",
    "\n",
    "Upload the video to VideoDB collection. You can upload the video asset from your local device or from a YouTube URL to upload the video from its source."
   ]
  },
  {
   "cell_type": "code",
   "execution_count": 3,
   "metadata": {},
   "outputs": [
    {
     "data": {
      "text/plain": [
       "'https://console.videodb.io/player?url=https://stream.videodb.io/v3/published/manifests/f93968ee-59ef-4a13-92ce-c8f703b37e46.m3u8'"
      ]
     },
     "execution_count": 3,
     "metadata": {},
     "output_type": "execute_result"
    }
   ],
   "source": [
    "video = coll.upload(url=\"https://www.youtube.com/watch?v=Z2VBKerS63A\")\n",
    "video.play()"
   ]
  },
  {
   "cell_type": "markdown",
   "metadata": {},
   "source": [
    "### 🔊  Step 3: Index Spoken Words\n",
    "\n",
    "Index the spoken words in your video to enable  keyword search.\n"
   ]
  },
  {
   "cell_type": "code",
   "execution_count": 4,
   "metadata": {},
   "outputs": [
    {
     "name": "stderr",
     "output_type": "stream",
     "text": [
      "100%|████████████████████████████████████████████████████████████████████████████████████████████████████| 100/100 [00:58<00:00,  1.71it/s]\n"
     ]
    }
   ],
   "source": [
    "video.index_spoken_words()"
   ]
  },
  {
   "cell_type": "markdown",
   "metadata": {},
   "source": [
    "### 🔎  Step 4: Search for any keyword\n",
    "\n",
    "Utilize the keyword search by using `Video.search()` method with following parameters.\n",
    "\n",
    "* pass search query in `query` parameter\n",
    "* pass `SearchType.keyword` in `search_type`"
   ]
  },
  {
   "cell_type": "code",
   "execution_count": 10,
   "metadata": {},
   "outputs": [],
   "source": [
    "from videodb import SearchType\n",
    "\n",
    "# Search Inside Video\n",
    "results = video.search(query=\"generative\", search_type=SearchType.keyword)"
   ]
  },
  {
   "cell_type": "markdown",
   "metadata": {},
   "source": [
    "We can compile our search results into a single video.\n",
    "Additionally, we will add some padding (both left and right) to give a some context to our each results shots.\n",
    "\n",
    "Create a new timeline using `Timeline()`.  \n",
    "Create VideoAsset of each result shot using `VideoAsset()` with following parameters  \n",
    "- `asset_id` : Video Id of the Video to which result belongs to\n",
    "- `start` : We will take result shot's `start` time with respect to base VideoAsset and to add some left padding, we will subtract `padding` duration\n",
    "- `end` : We will take result shot's `end` time with respect to base VideoAsset and to add some right padding, we will add `padding` duration\n",
    "\n",
    "Finally, we will add the asset in our Timeline by using `Timeline.add_inline()` "
   ]
  },
  {
   "cell_type": "code",
   "execution_count": 13,
   "metadata": {},
   "outputs": [],
   "source": [
    "from videodb.timeline import Timeline\n",
    "from videodb.asset import VideoAsset\n",
    "\n",
    "timeline = Timeline(conn)\n",
    "\n",
    "# Add padding\n",
    "padding = 0.4\n",
    "\n",
    "# Compile Video\n",
    "for shot in results.shots:\n",
    "    asset = VideoAsset(\n",
    "        asset_id=shot.video_id, start=shot.start - padding, end=shot.end + padding\n",
    "    )\n",
    "    timeline.add_inline(asset)"
   ]
  },
  {
   "cell_type": "markdown",
   "metadata": {},
   "source": [
    "### 👀 Step 5: Preview and Share\n",
    "Preview your video with a compilation of keywords you have searched for to ensure it aligns with what you were expecting. Share your findings with others to highlight the relevance and impact of the identified keywords within the video content."
   ]
  },
  {
   "cell_type": "code",
   "execution_count": 11,
   "metadata": {},
   "outputs": [
    {
     "data": {
      "text/plain": [
       "'https://console.videodb.io/player?url=https://stream.videodb.io/v3/published/manifests/91250123-61eb-43a4-99b3-9800666d7b8f.m3u8'"
      ]
     },
     "execution_count": 11,
     "metadata": {},
     "output_type": "execute_result"
    }
   ],
   "source": [
    "from videodb import play_stream\n",
    "\n",
    "stream = timeline.generate_stream()\n",
    "play_stream(stream)"
   ]
  },
  {
   "cell_type": "markdown",
   "metadata": {},
   "source": [
    "## 🎉 Conclusion\n",
    "---\n",
    "With VideoDB, you can harness the power of Keyword Search and refine your results with padding control. Simply by connecting to VideoDB, and utilizing the search function, you can easily discover relevant content within your video collection. With the added flexibility of setting padding duration, you ensure thorough coverage around keyword occurrences. Keep exploring and innovating with VideoDB to unlock even more possibilities for your projects!\n",
    "\n",
    "\n",
    "For more such explorations, refer to the [VideoDB Docs](https://docs.videodb.io/) and join the VideoDB community on [GitHub](https://github.com/video-db) or [Discord](https://discord.com/invite/py9P639jGz) for support and collaboration."
   ]
  }
 ],
 "metadata": {
  "kernelspec": {
   "display_name": "Python 3 (ipykernel)",
   "language": "python",
   "name": "python3"
  },
  "language_info": {
   "codemirror_mode": {
    "name": "ipython",
    "version": 3
   },
   "file_extension": ".py",
   "mimetype": "text/x-python",
   "name": "python",
   "nbconvert_exporter": "python",
   "pygments_lexer": "ipython3",
   "version": "3.11.7"
  }
 },
 "nbformat": 4,
 "nbformat_minor": 4
}
