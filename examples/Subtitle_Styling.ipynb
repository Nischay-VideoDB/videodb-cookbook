{
 "cells": [
  {
   "cell_type": "markdown",
   "metadata": {},
   "source": [
    "#  🎥 Enhancing Video Captions with VideoDB Subtitle Styling"
   ]
  },
  {
   "cell_type": "markdown",
   "metadata": {},
   "source": [
    "<a href=\"https://colab.research.google.com/github/video-db/videodb-cookbook/blob/main/examples/Subtitle_Styling.ipynb\" target=\"_parent\"><img src=\"https://colab.research.google.com/assets/colab-badge.svg\" alt=\"Open In Colab\"/></a>"
   ]
  },
  {
   "cell_type": "markdown",
   "metadata": {},
   "source": [
    "## Introduction\n",
    "\n",
    "Auto-generated captions on platforms like YouTube often lack precision, especially with specialized terminology, or context-specific information (like character names, literary references, etc.). VideoDB offers a solution by enabling more accurate identification, spelling, and formatting of spoken words in videos. In this tutorial, we'll explore how VideoDB's spoken word indexing feature and newly introduced [Subtitle Styling](https://docs.videodb.io/subtitle-styles-57) can significantly enhance the quality of captions in your videos."
   ]
  },
  {
   "cell_type": "markdown",
   "metadata": {},
   "source": [
    "### Comparative Analysis\n",
    "\n",
    "Let's start by comparing auto-generated captions from YouTube with those generated using VideoDB. We'll use an example from an explanatory tutorial on the complex literature of \"Dune.\"\n",
    "\n"
   ]
  },
  {
   "cell_type": "markdown",
   "metadata": {},
   "source": [
    "[Here’s](https://youtu.be/geWcjgIojYk) what YouTube’s Auto-CC gives us  \n",
    "\n",
    "[Here](https://www.youtube.com/watch?v=KOj9OxrUwIQ) is  VideoDB’s styled subtitles:"
   ]
  },
  {
   "cell_type": "markdown",
   "metadata": {},
   "source": [
    "## Setup\n",
    "---"
   ]
  },
  {
   "cell_type": "markdown",
   "metadata": {},
   "source": [
    "### 📦  Installing packages "
   ]
  },
  {
   "cell_type": "code",
   "execution_count": null,
   "metadata": {},
   "outputs": [],
   "source": [
    "%pip install videodb"
   ]
  },
  {
   "cell_type": "markdown",
   "metadata": {},
   "source": [
    "### 🔑 API Keys\n",
    "Before proceeding, ensure access to [VideoDB](https://videodb.io) API key. \n",
    "\n",
    "> Get your API key from [VideoDB Console](https://console.videodb.io). ( Free for first 50 uploads, **No credit card required** ) 🎉"
   ]
  },
  {
   "cell_type": "code",
   "execution_count": 4,
   "metadata": {},
   "outputs": [],
   "source": [
    "import os\n",
    "\n",
    "os.environ[\"VIDEO_DB_API_KEY\"] = \"\""
   ]
  },
  {
   "cell_type": "markdown",
   "metadata": {},
   "source": [
    "## 📝 Tutorial Walkthrough"
   ]
  },
  {
   "cell_type": "markdown",
   "metadata": {},
   "source": [
    "### 🔗  Step 1: Connect to VideoDB"
   ]
  },
  {
   "cell_type": "code",
   "execution_count": 5,
   "metadata": {},
   "outputs": [],
   "source": [
    "from videodb import connect\n",
    "\n",
    "# Connect to VideoDB using your API key\n",
    "conn = connect()\n",
    "coll = conn.get_collection()"
   ]
  },
  {
   "cell_type": "markdown",
   "metadata": {},
   "source": [
    "### 🎥 Step 2: Upload Video\n",
    "Upload your video to VideoDB for processing."
   ]
  },
  {
   "cell_type": "code",
   "execution_count": 6,
   "metadata": {},
   "outputs": [],
   "source": [
    "video = coll.upload(url=\"https://www.youtube.com/watch?v=nHgoTNyY8w0\")"
   ]
  },
  {
   "cell_type": "markdown",
   "metadata": {},
   "source": [
    "### 🧐 Step 3: Index Spoken Words\n",
    "Add subtitles to your video using default styling."
   ]
  },
  {
   "cell_type": "code",
   "execution_count": null,
   "metadata": {},
   "outputs": [],
   "source": [
    "video.index_spoken_words()"
   ]
  },
  {
   "cell_type": "markdown",
   "metadata": {},
   "source": [
    "### ️✏️ Step 4: Add Subtitles with Default Style\n",
    "Add subtitles to your video using default styling."
   ]
  },
  {
   "cell_type": "code",
   "execution_count": 13,
   "metadata": {},
   "outputs": [
    {
     "data": {
      "text/plain": [
       "'https://console.videodb.io/player?url=https://dseetlpshk2tb.cloudfront.net/v3/published/manifests/a0a6d55f-5ae8-4c4f-9365-c129b7baf4bb.m3u8'"
      ]
     },
     "execution_count": 13,
     "metadata": {},
     "output_type": "execute_result"
    }
   ],
   "source": [
    "from videodb import play_stream \n",
    "\n",
    "stream_url = video.add_subtitle()\n",
    "play_stream(stream_url)"
   ]
  },
  {
   "cell_type": "markdown",
   "metadata": {},
   "source": [
    "### 🎨 Step 5: Customize Subtitle Style\n",
    "\n",
    "Utilize VideoDB's Subtitle Styling feature to customize the appearance of your subtitles.\n",
    "\n",
    "You can find details about VideoDB’s Subtitling release [here](https://docs.videodb.io/subtitle-styles-57)."
   ]
  },
  {
   "cell_type": "code",
   "execution_count": 11,
   "metadata": {},
   "outputs": [],
   "source": [
    "from videodb import SubtitleStyle\n",
    "\n",
    "stream_url = video.add_subtitle(\n",
    "    SubtitleStyle(\n",
    "        font_size=16,\n",
    "        font_name='Arial',\n",
    "        primary_colour='&H0066ff',\n",
    "        back_colour=\"&H40000000\",\n",
    "        margin_l=12,\n",
    "        margin_r=12,\n",
    "    )\n",
    ")\n",
    "play_stream(stream_url)"
   ]
  },
  {
   "cell_type": "markdown",
   "metadata": {},
   "source": [
    "### 👁️‍🗨️ Step 6: Preview and Share"
   ]
  },
  {
   "cell_type": "code",
   "execution_count": 12,
   "metadata": {},
   "outputs": [
    {
     "data": {
      "text/plain": [
       "'https://console.videodb.io/player?url=https://dseetlpshk2tb.cloudfront.net/v3/published/manifests/5ebfa418-ac38-4bae-81a8-b5109a7fc892.m3u8'"
      ]
     },
     "execution_count": 12,
     "metadata": {},
     "output_type": "execute_result"
    }
   ],
   "source": [
    "from videodb import play_stream\n",
    "play_stream(stream_url)"
   ]
  }
 ],
 "metadata": {
  "kernelspec": {
   "display_name": ".venv",
   "language": "python",
   "name": "python3"
  },
  "language_info": {
   "codemirror_mode": {
    "name": "ipython",
    "version": 3
   },
   "file_extension": ".py",
   "mimetype": "text/x-python",
   "name": "python",
   "nbconvert_exporter": "python",
   "pygments_lexer": "ipython3",
   "version": "3.11.7"
  }
 },
 "nbformat": 4,
 "nbformat_minor": 2
}
