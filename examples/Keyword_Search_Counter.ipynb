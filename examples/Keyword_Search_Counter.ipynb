{
 "cells": [
  {
   "cell_type": "code",
   "execution_count": 1,
   "metadata": {},
   "outputs": [
    {
     "name": "stdout",
     "output_type": "stream",
     "text": [
      "Requirement already satisfied: videodb in /Users/rohit/Spext/videodb/videodb-cookbook/.venv/lib/python3.11/site-packages (0.1.0)\n",
      "Requirement already satisfied: requests>=2.25.1 in /Users/rohit/Spext/videodb/videodb-cookbook/.venv/lib/python3.11/site-packages (from videodb) (2.31.0)\n",
      "Requirement already satisfied: backoff>=2.2.1 in /Users/rohit/Spext/videodb/videodb-cookbook/.venv/lib/python3.11/site-packages (from videodb) (2.2.1)\n",
      "Requirement already satisfied: tqdm>=4.66.1 in /Users/rohit/Spext/videodb/videodb-cookbook/.venv/lib/python3.11/site-packages (from videodb) (4.66.2)\n",
      "Requirement already satisfied: charset-normalizer<4,>=2 in /Users/rohit/Spext/videodb/videodb-cookbook/.venv/lib/python3.11/site-packages (from requests>=2.25.1->videodb) (3.3.2)\n",
      "Requirement already satisfied: idna<4,>=2.5 in /Users/rohit/Spext/videodb/videodb-cookbook/.venv/lib/python3.11/site-packages (from requests>=2.25.1->videodb) (3.6)\n",
      "Requirement already satisfied: urllib3<3,>=1.21.1 in /Users/rohit/Spext/videodb/videodb-cookbook/.venv/lib/python3.11/site-packages (from requests>=2.25.1->videodb) (2.2.1)\n",
      "Requirement already satisfied: certifi>=2017.4.17 in /Users/rohit/Spext/videodb/videodb-cookbook/.venv/lib/python3.11/site-packages (from requests>=2.25.1->videodb) (2024.2.2)\n",
      "\n",
      "\u001b[1m[\u001b[0m\u001b[34;49mnotice\u001b[0m\u001b[1;39;49m]\u001b[0m\u001b[39;49m A new release of pip is available: \u001b[0m\u001b[31;49m23.2.1\u001b[0m\u001b[39;49m -> \u001b[0m\u001b[32;49m24.0\u001b[0m\n",
      "\u001b[1m[\u001b[0m\u001b[34;49mnotice\u001b[0m\u001b[1;39;49m]\u001b[0m\u001b[39;49m To update, run: \u001b[0m\u001b[32;49mpip install --upgrade pip\u001b[0m\n",
      "Note: you may need to restart the kernel to use updated packages.\n"
     ]
    }
   ],
   "source": [
    "%pip install videodb"
   ]
  },
  {
   "cell_type": "code",
   "execution_count": 2,
   "metadata": {},
   "outputs": [],
   "source": [
    "import os\n",
    "\n",
    "os.environ[\"VIDEO_DB_API_KEY\"] = \"\""
   ]
  },
  {
   "cell_type": "code",
   "execution_count": 4,
   "metadata": {},
   "outputs": [],
   "source": [
    "import videodb\n",
    "\n",
    "conn = videodb.connect()\n",
    "coll = conn.get_collection()"
   ]
  },
  {
   "cell_type": "code",
   "execution_count": 5,
   "metadata": {},
   "outputs": [
    {
     "data": {
      "text/plain": [
       "'https://console.videodb.io/player?url=https://dseetlpshk2tb.cloudfront.net/v3/published/manifests/ac445699-1401-4470-b71f-3617b3678a30.m3u8'"
      ]
     },
     "execution_count": 5,
     "metadata": {},
     "output_type": "execute_result"
    }
   ],
   "source": [
    "video = coll.upload(url=\"https://youtu.be/kcW4ABcY3zI\")\n",
    "video.play()"
   ]
  },
  {
   "cell_type": "code",
   "execution_count": 6,
   "metadata": {},
   "outputs": [
    {
     "name": "stderr",
     "output_type": "stream",
     "text": [
      "100%|████████████████████████████████████████████████████████████████████████████████████████████████████| 100/100 [00:24<00:00,  4.03it/s]\n"
     ]
    }
   ],
   "source": [
    "video.index_spoken_words()"
   ]
  },
  {
   "cell_type": "code",
   "execution_count": 7,
   "metadata": {},
   "outputs": [],
   "source": [
    "from videodb import SearchType\n",
    "\n",
    "result = video.search(query='education', search_type=SearchType.keyword)"
   ]
  },
  {
   "cell_type": "code",
   "execution_count": 13,
   "metadata": {},
   "outputs": [
    {
     "name": "stdout",
     "output_type": "stream",
     "text": [
      "[Shot(video_id=m-893892de-31bb-43b2-b5c1-aee290710049, video_title=A well educated mind vs a well formed mind: Dr. Shashi Tharoor at TEDxGateway 2013, start=12.606, end=13.054, text=education, search_score=1, stream_url=None, player_url=None), Shot(video_id=m-893892de-31bb-43b2-b5c1-aee290710049, video_title=A well educated mind vs a well formed mind: Dr. Shashi Tharoor at TEDxGateway 2013, start=13.526, end=13.902, text=education, search_score=1, stream_url=None, player_url=None), Shot(video_id=m-893892de-31bb-43b2-b5c1-aee290710049, video_title=A well educated mind vs a well formed mind: Dr. Shashi Tharoor at TEDxGateway 2013, start=48.506, end=48.858, text=education, search_score=1, stream_url=None, player_url=None), Shot(video_id=m-893892de-31bb-43b2-b5c1-aee290710049, video_title=A well educated mind vs a well formed mind: Dr. Shashi Tharoor at TEDxGateway 2013, start=51.066, end=51.658, text=education, search_score=1, stream_url=None, player_url=None), Shot(video_id=m-893892de-31bb-43b2-b5c1-aee290710049, video_title=A well educated mind vs a well formed mind: Dr. Shashi Tharoor at TEDxGateway 2013, start=171.208, end=171.696, text=education, search_score=1, stream_url=None, player_url=None), Shot(video_id=m-893892de-31bb-43b2-b5c1-aee290710049, video_title=A well educated mind vs a well formed mind: Dr. Shashi Tharoor at TEDxGateway 2013, start=190.648, end=191.016, text=education, search_score=1, stream_url=None, player_url=None), Shot(video_id=m-893892de-31bb-43b2-b5c1-aee290710049, video_title=A well educated mind vs a well formed mind: Dr. Shashi Tharoor at TEDxGateway 2013, start=203.294, end=203.878, text=education, search_score=1, stream_url=None, player_url=None), Shot(video_id=m-893892de-31bb-43b2-b5c1-aee290710049, video_title=A well educated mind vs a well formed mind: Dr. Shashi Tharoor at TEDxGateway 2013, start=224.414, end=224.734, text=education, search_score=1, stream_url=None, player_url=None), Shot(video_id=m-893892de-31bb-43b2-b5c1-aee290710049, video_title=A well educated mind vs a well formed mind: Dr. Shashi Tharoor at TEDxGateway 2013, start=239.182, end=239.754, text=education, search_score=1, stream_url=None, player_url=None), Shot(video_id=m-893892de-31bb-43b2-b5c1-aee290710049, video_title=A well educated mind vs a well formed mind: Dr. Shashi Tharoor at TEDxGateway 2013, start=243.75, end=244.306, text=education, search_score=1, stream_url=None, player_url=None), Shot(video_id=m-893892de-31bb-43b2-b5c1-aee290710049, video_title=A well educated mind vs a well formed mind: Dr. Shashi Tharoor at TEDxGateway 2013, start=266.49, end=267.054, text=education, search_score=1, stream_url=None, player_url=None), Shot(video_id=m-893892de-31bb-43b2-b5c1-aee290710049, video_title=A well educated mind vs a well formed mind: Dr. Shashi Tharoor at TEDxGateway 2013, start=314.116, end=314.468, text=education, search_score=1, stream_url=None, player_url=None), Shot(video_id=m-893892de-31bb-43b2-b5c1-aee290710049, video_title=A well educated mind vs a well formed mind: Dr. Shashi Tharoor at TEDxGateway 2013, start=353.41, end=353.786, text=education, search_score=1, stream_url=None, player_url=None), Shot(video_id=m-893892de-31bb-43b2-b5c1-aee290710049, video_title=A well educated mind vs a well formed mind: Dr. Shashi Tharoor at TEDxGateway 2013, start=364.114, end=364.53, text=education, search_score=1, stream_url=None, player_url=None), Shot(video_id=m-893892de-31bb-43b2-b5c1-aee290710049, video_title=A well educated mind vs a well formed mind: Dr. Shashi Tharoor at TEDxGateway 2013, start=384.93, end=385.306, text=Education, search_score=1, stream_url=None, player_url=None), Shot(video_id=m-893892de-31bb-43b2-b5c1-aee290710049, video_title=A well educated mind vs a well formed mind: Dr. Shashi Tharoor at TEDxGateway 2013, start=394.818, end=395.374, text=education, search_score=1, stream_url=None, player_url=None), Shot(video_id=m-893892de-31bb-43b2-b5c1-aee290710049, video_title=A well educated mind vs a well formed mind: Dr. Shashi Tharoor at TEDxGateway 2013, start=510.882, end=511.434, text=education, search_score=1, stream_url=None, player_url=None)]\n"
     ]
    }
   ],
   "source": [
    "print(result.shots)\n"
   ]
  },
  {
   "cell_type": "code",
   "execution_count": 17,
   "metadata": {},
   "outputs": [
    {
     "name": "stdout",
     "output_type": "stream",
     "text": [
      "start :  12.606  duration   1.6480000000000004  index  1\n",
      "start :  13.526  duration   1.5759999999999994  index  2\n",
      "start :  48.506  duration   1.5519999999999967  index  3\n",
      "start :  51.066  duration   1.7919999999999987  index  4\n",
      "start :  171.208  duration   1.6879999999999995  index  5\n",
      "start :  190.648  duration   1.567999999999995  index  6\n",
      "start :  203.294  duration   1.7839999999999747  index  7\n",
      "start :  224.414  duration   1.5200000000000216  index  8\n",
      "start :  239.182  duration   1.7720000000000027  index  9\n",
      "start :  243.75  duration   1.7560000000000116  index  10\n",
      "start :  266.49  duration   1.7639999999999645  index  11\n",
      "start :  314.116  duration   1.5520000000000322  index  12\n",
      "start :  353.41  duration   1.5759999999999763  index  13\n",
      "start :  364.114  duration   1.6159999999999968  index  14\n",
      "start :  384.93  duration   1.5759999999999763  index  15\n",
      "start :  394.818  duration   1.75600000000004  index  16\n",
      "start :  510.882  duration   1.7520000000000209  index  17\n",
      "https://console.videodb.io/player?=https://dseetlpshk2tb.cloudfront.net/v3/published/manifests/72ce8d28-17de-414d-88b1-a455156a62ea.m3u8\n"
     ]
    },
    {
     "data": {
      "text/plain": [
       "'https://console.videodb.io/player?url=https://dseetlpshk2tb.cloudfront.net/v3/published/manifests/72ce8d28-17de-414d-88b1-a455156a62ea.m3u8'"
      ]
     },
     "execution_count": 17,
     "metadata": {},
     "output_type": "execute_result"
    }
   ],
   "source": [
    "from videodb.timeline import Timeline\n",
    "from videodb.asset import VideoAsset, AudioAsset, TextAsset, ImageAsset\n",
    "from videodb import play_stream\n",
    "\n",
    "timeline = Timeline(conn)\n",
    "\n",
    "seeker=0\n",
    "counter=1\n",
    "padding=0.6\n",
    "\n",
    "for shot in result.shots:\n",
    "    video_asset = VideoAsset(asset_id=shot.video_id, start= shot.start-padding, end=shot.end+padding)\n",
    "\n",
    "    duration = shot.end - shot.start + 2*padding\n",
    "    text_asset = TextAsset(\n",
    "    text=f\"{counter}\",\n",
    "    duration= duration\n",
    "    )\n",
    "    timeline.add_inline(asset=video_asset)\n",
    "    timeline.add_overlay(asset=text_asset, start = seeker)\n",
    "\n",
    "    seeker += duration \n",
    "    counter += 1\n",
    "\n",
    "\n",
    "stream_url = timeline.generate_stream()\n",
    "print(f\"https://console.videodb.io/player?={stream_url}\")\n",
    "play_stream(stream_url)"
   ]
  },
  {
   "cell_type": "code",
   "execution_count": null,
   "metadata": {},
   "outputs": [],
   "source": []
  }
 ],
 "metadata": {
  "kernelspec": {
   "display_name": ".venv",
   "language": "python",
   "name": "python3"
  },
  "language_info": {
   "codemirror_mode": {
    "name": "ipython",
    "version": 3
   },
   "file_extension": ".py",
   "mimetype": "text/x-python",
   "name": "python",
   "nbconvert_exporter": "python",
   "pygments_lexer": "ipython3",
   "version": "3.11.7"
  }
 },
 "nbformat": 4,
 "nbformat_minor": 2
}
