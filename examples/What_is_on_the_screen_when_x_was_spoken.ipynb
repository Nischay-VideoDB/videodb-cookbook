{
  "cells": [
    {
      "cell_type": "markdown",
      "metadata": {},
      "source": [
        "# 📸🗣️ Scene Index: What is on the Screen When X was spoken"
      ]
    },
    {
      "cell_type": "markdown",
      "metadata": {},
      "source": [
        "## Introduction"
      ]
    },
    {
      "cell_type": "markdown",
      "metadata": {
        "id": "e8YJtkLbxhcT"
      },
      "source": [
        "## Setup \n",
        "---"
      ]
    },
    {
      "cell_type": "markdown",
      "metadata": {},
      "source": [
        "### 📦  Installing packages "
      ]
    },
    {
      "cell_type": "code",
      "execution_count": null,
      "metadata": {
        "colab": {
          "base_uri": "https://localhost:8080/"
        },
        "id": "DJTVa7jwVbha",
        "outputId": "18aa7293-f73d-4f40-d1c6-7898bbd842fd"
      },
      "outputs": [],
      "source": [
        "!pip install videodb"
      ]
    },
    {
      "cell_type": "markdown",
      "metadata": {},
      "source": [
        "### 🔑 API keys\n",
        "Before proceeding, ensure access to [VideoDB](https://videodb.io). If not, sign up for API access on the respective platforms.\n",
        "\n",
        "> Get your API key from [VideoDB Console](https://console.videodb.io). ( Free for first 50 uploads, **No credit card required** ) 🎉"
      ]
    },
    {
      "cell_type": "code",
      "execution_count": 1,
      "metadata": {
        "id": "VogQFIYQYYoQ"
      },
      "outputs": [],
      "source": [
        "import os\n",
        "\n",
        "os.environ[\"VIDEO_DB_API_KEY\"] = \"\""
      ]
    },
    {
      "cell_type": "markdown",
      "metadata": {},
      "source": [
        "## Tutorial Walkthrough\n",
        "\n",
        "---"
      ]
    },
    {
      "cell_type": "markdown",
      "metadata": {},
      "source": [
        "### 📋 Step 1: Connect to VideoDB\n",
        "\n",
        "Gear up by establishing a connection to VideoDB "
      ]
    },
    {
      "cell_type": "code",
      "execution_count": 2,
      "metadata": {},
      "outputs": [],
      "source": [
        "from videodb import connect\n",
        "\n",
        "# Connect to VideoDB using your API key\n",
        "conn = connect()\n",
        "coll = conn.get_collection()"
      ]
    },
    {
      "cell_type": "markdown",
      "metadata": {},
      "source": [
        "### 🎬 Step 2: Upload the Video "
      ]
    },
    {
      "cell_type": "code",
      "execution_count": 3,
      "metadata": {},
      "outputs": [],
      "source": [
        "video = coll.upload(url=\"https://www.youtube.com/watch?v=IEe-5VOv0Js\")"
      ]
    },
    {
      "cell_type": "markdown",
      "metadata": {},
      "source": [
        "### 📸🗣️ Step 3: Index the Video on different Modalities"
      ]
    },
    {
      "cell_type": "markdown",
      "metadata": {},
      "source": [
        "#### 🗣️ Indexing Spoken Content\n",
        "---"
      ]
    },
    {
      "cell_type": "code",
      "execution_count": 4,
      "metadata": {},
      "outputs": [
        {
          "name": "stderr",
          "output_type": "stream",
          "text": [
            "100%|████████████████████████████████████████████████████████████████████████████████████████████████████| 100/100 [00:58<00:00,  1.72it/s]\n"
          ]
        }
      ],
      "source": [
        "# Index spoken content\n",
        "\n",
        "video.index_spoken_words()"
      ]
    },
    {
      "cell_type": "markdown",
      "metadata": {},
      "source": [
        "#### 📸️ Find Right Configuration for Scene Indexing\n",
        "---"
      ]
    },
    {
      "cell_type": "markdown",
      "metadata": {},
      "source": [
        "Find the Right Configuration for Scene Index\n",
        "- Scene Extraction Config - #TODO Link notebook\n",
        "- Indexing Prompt - #TODO Link notebook"
      ]
    },
    {
      "cell_type": "markdown",
      "metadata": {},
      "source": [
        "1.**Finding the Right Configuration for Scene Extraction**\n",
        "\n"
      ]
    },
    {
      "cell_type": "code",
      "execution_count": null,
      "metadata": {},
      "outputs": [],
      "source": [
        "from PIL import Image\n",
        "import requests\n",
        "\n",
        "# Helper function that will help us view the Scene Collection Images\n",
        "def display_scenes(scenes, images=True):\n",
        "    for scene in scenes:\n",
        "        print(f\"{scene.id} : {scene.start}-{scene.end}\")\n",
        "        if images:\n",
        "          for frame in scene.frames:\n",
        "            im = Image.open(requests.get(frame.url, stream=True).raw)\n",
        "            display(im)\n",
        "        print(\"----\")\n",
        "\n",
        "scene_collection_default = video.extract_scenes()\n",
        "display_scenes(scene_collection_default.scenes)"
      ]
    },
    {
      "cell_type": "markdown",
      "metadata": {},
      "source": [
        "**Adjusting the Threshold to get required frames**"
      ]
    },
    {
      "cell_type": "code",
      "execution_count": null,
      "metadata": {},
      "outputs": [],
      "source": [
        "from videodb import SceneExtractionType\n",
        "\n",
        "scene_collection = video.extract_scenes(\n",
        "    extraction_type=SceneExtractionType.shot_based,\n",
        "    extraction_config={\n",
        "        \"threshold\": 10,\n",
        "    }\n",
        ")\n",
        "display_scenes(scene_collection.scenes)"
      ]
    },
    {
      "cell_type": "markdown",
      "metadata": {},
      "source": [
        "2.✍️ **Finding the Right prompt for Indexing**\n"
      ]
    },
    {
      "cell_type": "markdown",
      "metadata": {},
      "source": [
        "We will test on some sample Scenes with our prompt"
      ]
    },
    {
      "cell_type": "code",
      "execution_count": null,
      "metadata": {},
      "outputs": [],
      "source": [
        "\n",
        "for scene in scene_collection.scenes[20:23]:\n",
        "    description = scene.describe(\"Give the content writen on the slides, output None if it isn't the slides.\")\n",
        "    print(f\"{scene.id} : {scene.start}-{scene.end}\")\n",
        "    print(description)\n",
        "    print(\"-----\")"
      ]
    },
    {
      "cell_type": "markdown",
      "metadata": {},
      "source": [
        "This output looks good enough, right? \n",
        "Now that we have found the right configuration for our Scene Indexing, it's like we've found the perfect match—let's commit to indexing those scenes ✨!"
      ]
    },
    {
      "cell_type": "markdown",
      "metadata": {
        "id": "9gkJA8RH0GMZ"
      },
      "source": [
        "### 🎥 Index Scenes With The Finalized Config and Prompt\n",
        "---"
      ]
    },
    {
      "cell_type": "code",
      "execution_count": null,
      "metadata": {
        "colab": {
          "base_uri": "https://localhost:8080/"
        },
        "id": "MsGs1qfgT5C9",
        "outputId": "96aed1f2-ce15-445a-8896-6bbd472fed2e"
      },
      "outputs": [],
      "source": [
        "# Help function to View the Scene Index\n",
        "def display_scene_index(scene_index):\n",
        "    for scene in scene_index:\n",
        "        print(f\"{scene['start']} - {scene['end']}\")\n",
        "        print(scene[\"description\"])\n",
        "        print(\"----\")\n",
        "\n",
        "scene_index_id = video.index_scenes(\n",
        "    prompt=\"Give the content writen on the slides, output None if it isn't the slides.\",\n",
        "    name=\"slides_index\",\n",
        "    extraction_type=SceneExtractionType.shot_based,\n",
        "    extraction_config={\n",
        "        \"threshold\": 10,\n",
        "    }\n",
        ")\n",
        "print(scene_index_id)\n",
        "scene_index = video.get_scene_index(scene_index_id)"
      ]
    },
    {
      "cell_type": "code",
      "execution_count": null,
      "metadata": {
        "colab": {
          "base_uri": "https://localhost:8080/"
        },
        "id": "KM5_DMpjVwO1",
        "outputId": "90d6b3cb-42c2-4086-9ece-71229195d0b5"
      },
      "outputs": [],
      "source": [
        "display_scene_index(scene_index)"
      ]
    },
    {
      "cell_type": "markdown",
      "metadata": {
        "id": "piSS7irr0jpi"
      },
      "source": [
        "### Step4 : 🔍 Search Pipeline\n",
        "\n",
        "---"
      ]
    },
    {
      "cell_type": "code",
      "execution_count": 16,
      "metadata": {
        "id": "aomjwO1zbxNk"
      },
      "outputs": [],
      "source": [
        "def simple_filter_scenes(time_ranges, scene_dicts):\n",
        "    def is_in_range(scene, range_start, range_end):\n",
        "        scene_start = scene['start']\n",
        "        scene_end = scene['end']\n",
        "        return (range_start <= scene_start <= range_end) or \\\n",
        "               (range_start <= scene_end <= range_end) or \\\n",
        "               (scene_start <= range_start and scene_end >= range_end)\n",
        "\n",
        "    filtered_scenes = []\n",
        "    for start, end in time_ranges:\n",
        "        filtered_scenes.extend([\n",
        "            scene for scene in scene_dicts\n",
        "            if is_in_range(scene, start, end)\n",
        "        ])\n",
        "\n",
        "    # Remove duplicates while preserving order\n",
        "    seen = set()\n",
        "    return [scene for scene in filtered_scenes if not (tuple(scene.items()) in seen or seen.add(tuple(scene.items())))]"
      ]
    },
    {
      "cell_type": "code",
      "execution_count": 19,
      "metadata": {
        "id": "DPkB6s211Y-b"
      },
      "outputs": [],
      "source": [
        "from videodb import IndexType, SearchType\n",
        "\n",
        "\n",
        "def search_pipeline(query, video):\n",
        "\n",
        "    # Search Query in Spoken Word Index\n",
        "    search_result = video.search(\n",
        "        query=query,\n",
        "        index_type=IndexType.spoken_word,\n",
        "        search_type=SearchType.keyword\n",
        "    )\n",
        "    time_ranges = [(shot.start, shot.end) for shot in search_result.get_shots()]\n",
        "\n",
        "    scenes = scene_index\n",
        "\n",
        "    # TODO: Check why it is string, server should send float only.\n",
        "    for scene in scenes:\n",
        "        scene[\"start\"] = float(scene[\"start\"])\n",
        "        scene[\"end\"] = float(scene[\"end\"])\n",
        "\n",
        "    # Filter Scene on the basis of Spoken results\n",
        "    final_result = simple_filter_scenes(time_ranges, scenes)\n",
        "\n",
        "    # Return Scene descriptions and Video Timelines of result\n",
        "    result_text = \"\\n\\n\".join(\n",
        "        result_entry[\"description\"]\n",
        "        for result_entry in final_result \n",
        "        if result_entry.get(\"description\", \"\").lower().strip() != \"none\"\n",
        "    )\n",
        "    result_timeline = [(result_entry.get(\"start\"), result_entry.get(\"end\"))for result_entry in final_result]\n",
        "\n",
        "    return result_text, result_timeline "
      ]
    },
    {
      "cell_type": "markdown",
      "metadata": {},
      "source": [
        "### 👀 Viewing the Search Results\n",
        "---"
      ]
    },
    {
      "cell_type": "code",
      "execution_count": null,
      "metadata": {
        "colab": {
          "base_uri": "https://localhost:8080/"
        },
        "id": "Wz-6bUPLYgtG",
        "outputId": "116045e8-44ac-4d94-9fbe-7edbf737b66b"
      },
      "outputs": [],
      "source": [
        "from videodb import play_stream\n",
        "\n",
        "query = \"hard and fast rule\"\n",
        "\n",
        "result_text, result_timeline  = search_pipeline(query, video)\n",
        "\n",
        "stream_link = video.generate_stream(result_timeline)\n",
        "play_stream(stream_link)\n",
        "\n",
        "print(result_text)"
      ]
    },
    {
      "cell_type": "code",
      "execution_count": null,
      "metadata": {},
      "outputs": [],
      "source": [
        "query = \"stripe api review\"\n",
        "\n",
        "result_text, result_timeline  = search_pipeline(query, video)\n",
        "\n",
        "stream_link = video.generate_stream(result_timeline)\n",
        "play_stream(stream_link)\n",
        "\n",
        "print(result_text)"
      ]
    },
    {
      "cell_type": "code",
      "execution_count": null,
      "metadata": {},
      "outputs": [],
      "source": [
        "query = \"friction log\"\n",
        "\n",
        "result_text, result_timeline  = search_pipeline(query, video)\n",
        "\n",
        "stream_link = video.generate_stream(result_timeline)\n",
        "play_stream(stream_link)\n",
        "\n",
        "print(result_text)"
      ]
    },
    {
      "cell_type": "markdown",
      "metadata": {},
      "source": [
        "## Further Steps\n",
        "---"
      ]
    },
    {
      "cell_type": "markdown",
      "metadata": {},
      "source": [
        "#TODO:\n",
        "\n",
        "- Experiment on Scene Extraction pipeline\n",
        "- Experiment with Scene Indexing Prompt\n",
        "- Experiment on Query Transformation\n",
        "- Explore more way to combine search results\n",
        "\n",
        "\n",
        "Links to other blogs:"
      ]
    }
  ],
  "metadata": {
    "colab": {
      "collapsed_sections": [
        "e8YJtkLbxhcT",
        "QtBWovC9xxOc",
        "pNgRhNgbySD3",
        "Tedq6ZwMyqqH",
        "twNnC-4UzdKZ",
        "HpaBscCYzvSK",
        "3h25kUz7z0ZT"
      ],
      "provenance": []
    },
    "kernelspec": {
      "display_name": "Python 3",
      "name": "python3"
    },
    "language_info": {
      "codemirror_mode": {
        "name": "ipython",
        "version": 3
      },
      "file_extension": ".py",
      "mimetype": "text/x-python",
      "name": "python",
      "nbconvert_exporter": "python",
      "pygments_lexer": "ipython3",
      "version": "3.11.7"
    }
  },
  "nbformat": 4,
  "nbformat_minor": 0
}
