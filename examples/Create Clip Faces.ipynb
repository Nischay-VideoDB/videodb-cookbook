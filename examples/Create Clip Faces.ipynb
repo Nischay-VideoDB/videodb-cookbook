{
 "cells": [
  {
   "cell_type": "markdown",
   "metadata": {},
   "source": [
    "### Create Instant Clips of Your Favorite Characters with VideoDB: Effortless Video Editing at Your Fingertip\n",
    "\n",
    "We all have our favorite characters in TV shows the we love. What if you can create the clips of the scenes when they appear. You can use it in your content creation, analysis workflow or just watch how they talk, dress or act in an episode. \n",
    "\n",
    "[VideoDB](https://videodb.io) is the database for your AI applicaitons and enables it with ease. No need for fancy editing software or waiting around – you get to see your video right away. ⚡️"
   ]
  },
  {
   "cell_type": "markdown",
   "metadata": {},
   "source": [
    "<div style=\"height:40px;\"></div>\n",
    "\n",
    "### Workflow\n",
    "---  \n",
    "\n",
    "Here’s a [15-minute video](https://www.youtube.com/watch?v=NNAgJ5p4CIY) from HBO's Silicon Valley show.  We've done the pre work of finding, instances when `Gilfoyle`, `Jian Yang`, `Erlich`, `Jared`, `Dinesh` and `Richard` make appearances. (This was achieved using [AWS Rekognition API](https://docs.aws.amazon.com/rekognition/). If you're curious about the full process, including how to index faces and pinpoint timestamps in videos, check out our blog where we walk through the entire process)"
   ]
  },
  {
   "cell_type": "markdown",
   "metadata": {},
   "source": [
    "<div style=\"height:40px;\"></div>\n",
    "\n",
    "### Setup\n",
    "---\n",
    "#### 🔧 Installing VideoDB in your environment\n",
    "\n",
    "VideoDB is available as [python package 📦](https://pypi.org/project/videodb/)"
   ]
  },
  {
   "cell_type": "code",
   "execution_count": 1,
   "metadata": {},
   "outputs": [
    {
     "name": "stdout",
     "output_type": "stream",
     "text": [
      "Requirement already satisfied: videodb in /Users/ashu/videodb/videodb-python (0.0.2)\n",
      "Requirement already satisfied: requests>=2.25.1 in /Users/ashu/opt/anaconda3/envs/videoDB/lib/python3.12/site-packages (from videodb) (2.31.0)\n",
      "Requirement already satisfied: backoff>=2.2.1 in /Users/ashu/opt/anaconda3/envs/videoDB/lib/python3.12/site-packages (from videodb) (2.2.1)\n",
      "Requirement already satisfied: charset-normalizer<4,>=2 in /Users/ashu/opt/anaconda3/envs/videoDB/lib/python3.12/site-packages (from requests>=2.25.1->videodb) (3.3.2)\n",
      "Requirement already satisfied: idna<4,>=2.5 in /Users/ashu/opt/anaconda3/envs/videoDB/lib/python3.12/site-packages (from requests>=2.25.1->videodb) (3.6)\n",
      "Requirement already satisfied: urllib3<3,>=1.21.1 in /Users/ashu/opt/anaconda3/envs/videoDB/lib/python3.12/site-packages (from requests>=2.25.1->videodb) (2.1.0)\n",
      "Requirement already satisfied: certifi>=2017.4.17 in /Users/ashu/opt/anaconda3/envs/videoDB/lib/python3.12/site-packages (from requests>=2.25.1->videodb) (2023.11.17)\n"
     ]
    }
   ],
   "source": [
    "!pip install videodb"
   ]
  },
  {
   "cell_type": "markdown",
   "metadata": {},
   "source": [
    "#### 🔗 Setting Up a connection to db\n",
    "\n",
    "To connect to `VideoDB`, simply create a `Connection` object.\n",
    "\n",
    "This can be done by either providing your VideoDB API key directly to the constructor or by setting the `VIDEO_DB_API_KEY` environment variable with your API key.\n",
    "\n",
    ">💡\n",
    ">Get your API key from [VideoDB Console](https://console.videodb.io). ( Free for first 50 uploads, No credit card required ) 🎉."
   ]
  },
  {
   "cell_type": "code",
   "execution_count": 2,
   "metadata": {},
   "outputs": [],
   "source": [
    "import videodb\n",
    "conn = videodb.connect(api_key=\"\")"
   ]
  },
  {
   "cell_type": "markdown",
   "metadata": {},
   "source": [
    "<div style=\"height:40px;\"></div>\n",
    "\n",
    "### 🔍 Video Analysis data\n",
    "---\n",
    "\n",
    "The `persons_data` contains timeline  for each character, representing the timestamps of shots when they were present in the video."
   ]
  },
  {
   "cell_type": "code",
   "execution_count": 11,
   "metadata": {},
   "outputs": [],
   "source": [
    "persons_data = [\n",
    "    {\n",
    "        \"name\":\"gilfoyle\",\n",
    "        \"timeline\": [[0, 4], [160, 185], [330, 347], [370, 378], [382, 391], [391, 400]]\n",
    "    },\n",
    "    {\n",
    "        \"name\": \"jinyang\",\n",
    "        \"timeline\": [[232, 271], [271, 283], [284, 308], [312, 343], [398, 407]]\n",
    "    },\n",
    "    {\n",
    "        \"name\" : \"erlic\",\n",
    "        \"timeline\": [[0, 8], [12, 30], [31, 41], [44, 52], [56, 97], [97, 124], [147, 165], [185, 309], [316, 336], [336, 345], [348, 398], [398, 408]]\n",
    "    },\n",
    "    {\n",
    "        \"name\" : \"jared\",\n",
    "        \"timeline\": [[0, 15], [148, 165], [182, 190], [343, 355], [358, 381], [384, 393]]\n",
    "    },\n",
    "    {\n",
    "        \"name\": \"dinesh\" ,\n",
    "        \"timeline\": [[0, 4], [160, 189], [343, 354], [374, 383], [392, 402]]\n",
    "    },\n",
    "    {\n",
    "        \"name\" : \"richard\" ,\n",
    "        \"timeline\": [[12, 41], [127, 137], [137, 154], [159, 167], [360, 378], [381, 398], [399, 407]]\n",
    "    }\n",
    "]"
   ]
  },
  {
   "cell_type": "markdown",
   "metadata": {},
   "source": [
    "\n",
    "<div style=\"height:40px;\"></div>\n",
    "\n",
    "### 🎬️ Clips \n",
    "---\n",
    "\n",
    "\n",
    "#### Generate Clip for each character using VideoDB\n",
    "\n",
    "For this step,\n",
    "\n",
    "*  We will upload our video to VideoDB using `conn.upload()`\n",
    "*  Create clips of each character from our analyzed data by passing `timeline` in `video.generate_stream()`"
   ]
  },
  {
   "cell_type": "code",
   "execution_count": 4,
   "metadata": {},
   "outputs": [],
   "source": [
    "video_url_yt = \"https://www.youtube.com/watch?v=NNAgJ5p4CIY\"\n",
    "video = conn.upload(url=video_url_yt)"
   ]
  },
  {
   "cell_type": "code",
   "execution_count": 15,
   "metadata": {},
   "outputs": [],
   "source": [
    "for person in persons_data:\n",
    "  stream_link = video.generate_stream(timeline=person[\"timeline\"])  \n",
    "  person[\"clip\"] = stream_link"
   ]
  },
  {
   "cell_type": "markdown",
   "metadata": {},
   "source": [
    "### View the results in Videodb Player \n",
    "Now, it's time to check out our results.\n",
    "\n",
    "Let's take a look at a clip featuring Gilfoyle (or, feel free to choose your favorite character)."
   ]
  },
  {
   "cell_type": "code",
   "execution_count": 16,
   "metadata": {},
   "outputs": [],
   "source": [
    "from videodb import play_stream \n",
    "\n",
    "for person in persons_data:\n",
    "  if person['name'] == \"gilfoyle\":\n",
    "    play_stream(person['clip'])"
   ]
  }
 ],
 "metadata": {
  "kernelspec": {
   "display_name": "Python 3 (ipykernel)",
   "language": "python",
   "name": "python3"
  },
  "language_info": {
   "codemirror_mode": {
    "name": "ipython",
    "version": 3
   },
   "file_extension": ".py",
   "mimetype": "text/x-python",
   "name": "python",
   "nbconvert_exporter": "python",
   "pygments_lexer": "ipython3",
   "version": "3.12.0"
  }
 },
 "nbformat": 4,
 "nbformat_minor": 4
}
