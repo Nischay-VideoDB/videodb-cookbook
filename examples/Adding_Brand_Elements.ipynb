{
 "cells": [
  {
   "cell_type": "markdown",
   "metadata": {},
   "source": [
    "# 🖥️ Adding Brand Elements with VideoDB"
   ]
  },
  {
   "cell_type": "markdown",
   "metadata": {},
   "source": [
    "<a href=\"https://colab.research.google.com/github/video-db/videodb-cookbook/blob/nb/adding-brand-elements/examples/Adding_Brand_Elements.ipynb\" target=\"_parent\"><img src=\"https://colab.research.google.com/assets/colab-badge.svg\" alt=\"Open In Colab\"/></a>"
   ]
  },
  {
   "cell_type": "markdown",
   "metadata": {},
   "source": [
    "## Introduction\n",
    "\n",
    "In the realm of branding, every detail matters. Elevate your video content to new levels of professionalism by seamlessly incorporating brand elements using VideoDB. This tutorial will guide you through the process of integrating logos and custom text assets, ensuring your brand shines through in every frame."
   ]
  },
  {
   "cell_type": "markdown",
   "metadata": {},
   "source": [
    "## Setup\n",
    "---"
   ]
  },
  {
   "cell_type": "markdown",
   "metadata": {},
   "source": [
    "### 📦  Installing packages "
   ]
  },
  {
   "cell_type": "code",
   "execution_count": null,
   "metadata": {},
   "outputs": [],
   "source": [
    "%pip install videodb"
   ]
  },
  {
   "cell_type": "markdown",
   "metadata": {},
   "source": [
    "### 🔑 API Keys\n",
    "Before proceeding, ensure access to [VideoDB](https://videodb.io) API key. If not, sign up for API access on the respective platforms.\n",
    "\n",
    "> Get your API key from [VideoDB Console](https://console.videodb.io). ( Free for first 50 uploads, **No credit card required** ) 🎉"
   ]
  },
  {
   "cell_type": "code",
   "execution_count": 1,
   "metadata": {},
   "outputs": [],
   "source": [
    "import os\n",
    "\n",
    "os.environ[\"VIDEO_DB_API_KEY\"] = \"\""
   ]
  },
  {
   "cell_type": "markdown",
   "metadata": {},
   "source": [
    "## Implementation\n",
    "\n",
    "---"
   ]
  },
  {
   "cell_type": "markdown",
   "metadata": {},
   "source": [
    "### 🌐 Step 1: Connect to VideoDB\n",
    "Begin by establishing a connection to VideoDB using your API key:"
   ]
  },
  {
   "cell_type": "code",
   "execution_count": 2,
   "metadata": {},
   "outputs": [],
   "source": [
    "from videodb import connect\n",
    "\n",
    "# Connect to VideoDB using your API key\n",
    "conn = connect()\n",
    "coll = conn.get_collection()"
   ]
  },
  {
   "cell_type": "markdown",
   "metadata": {},
   "source": [
    "### 🎬 Step 2: Upload Video and Image Assets\n",
    "\n",
    "Begin the branding process by uploading your video and image assets (base video and logo image) to VideoDB:\n",
    "\n",
    "Refer to [this document](https://docs.videodb.io/timeline-and-assets-44) if you require any assistance with using image assets."
   ]
  },
  {
   "cell_type": "code",
   "execution_count": 3,
   "metadata": {},
   "outputs": [],
   "source": [
    "from videodb import MediaType\n",
    "\n",
    "# Upload Video to VideoDB\n",
    "video = coll.upload(url=\"https://youtu.be/ps3cNAcPEMs\")\n",
    "\n",
    "# Upload Image asset for branding\n",
    "image = coll.upload(url=\"https://raw.githubusercontent.com/video-db/videodb-cookbook-assets/main/images/examples/Kyvos_Logo.png\", media_type=MediaType.image)"
   ]
  },
  {
   "cell_type": "markdown",
   "metadata": {},
   "source": [
    "### 🎨  Step 3: Add Brand Elements to Video"
   ]
  },
  {
   "cell_type": "markdown",
   "metadata": {},
   "source": [
    "We shall begin by defining the text asset (custom text: “Visit kyvosinsights.com today!”) and specifications about the image overlay (logo) and video.\n",
    "\n",
    "For details about the text customisation parameters, refer to the documentation for Text Assets."
   ]
  },
  {
   "cell_type": "code",
   "execution_count": 4,
   "metadata": {},
   "outputs": [],
   "source": [
    "from videodb import TextStyle\n",
    "from videodb.asset import VideoAsset, TextAsset, ImageAsset\n",
    "\n",
    "text_asset = TextAsset(\n",
    "    text=\"Visit kyvosinsights.com today!\",\n",
    "    duration=2,\n",
    "    style=TextStyle(\n",
    "        fontsize=38,\n",
    "        fontcolor=\"F58C29\",\n",
    "        font=\"PT Sans\",\n",
    "        box=True,\n",
    "        boxcolor=\"29272D\",\n",
    "        boxborderw=6,\n",
    "        borderw=1,\n",
    "        bordercolor=\"1D1C21\",\n",
    "        y=600,\n",
    "    ),\n",
    ")\n",
    "\n",
    "# Specify the duration for the video and image asset\n",
    "video_asset = VideoAsset(asset_id=video.id, start=0, end=44)\n",
    "\n",
    "image_asset = ImageAsset(\n",
    "    asset_id=image.id, width=200, height=56, x=1050, y=625, duration=36\n",
    ")"
   ]
  },
  {
   "cell_type": "markdown",
   "metadata": {},
   "source": [
    "### 🔍 Step 4: Add Brand Elements to Video\n",
    "\n"
   ]
  },
  {
   "cell_type": "markdown",
   "metadata": {},
   "source": [
    "Lastly, we shall bring all these assets together by creating a timeline, and using the video asset as the base."
   ]
  },
  {
   "cell_type": "code",
   "execution_count": 5,
   "metadata": {},
   "outputs": [],
   "source": [
    "from videodb.timeline import Timeline\n",
    "\n",
    "timeline = Timeline(conn)\n",
    "\n",
    "timeline.add_inline(video_asset)\n",
    "\n",
    "# Create timeline with the logo & text assets\n",
    "timeline.add_overlay(2.5, image_asset)\n",
    "timeline.add_overlay(42, text_asset)"
   ]
  },
  {
   "cell_type": "markdown",
   "metadata": {},
   "source": [
    "### 🎥 Step 5: Review and Share"
   ]
  },
  {
   "cell_type": "markdown",
   "metadata": {},
   "source": [
    "Review your branded video to ensure it aligns perfectly with your brand identity, then share it with your audience"
   ]
  },
  {
   "cell_type": "code",
   "execution_count": 6,
   "metadata": {},
   "outputs": [
    {
     "data": {
      "text/plain": [
       "'https://console.videodb.io/player?url=https://dseetlpshk2tb.cloudfront.net/v3/published/manifests/352abd3a-fe55-4239-879e-37a69365f22f.m3u8'"
      ]
     },
     "execution_count": 6,
     "metadata": {},
     "output_type": "execute_result"
    }
   ],
   "source": [
    "from videodb import play_stream\n",
    "\n",
    "# Preview the branded video\n",
    "stream_url = timeline.generate_stream()\n",
    "play_stream(stream_url)"
   ]
  },
  {
   "cell_type": "markdown",
   "metadata": {},
   "source": [
    "## 🎉 Conclusion\n",
    "---"
   ]
  },
  {
   "cell_type": "markdown",
   "metadata": {},
   "source": [
    "Congratulations on mastering the art of branding with VideoDB! By seamlessly integrating brand elements into your videos, you've enhanced their professionalism and engagement. Experiment with different branding techniques to ensure your brand shines through in every frame.\n",
    "\n",
    "For more information and advanced features, explore the [VideoDB Documentation](https://docs.videodb.io/) and join the VideoDB community on [GitHub](https://github.com/video-db) or [Discord](https://discord.com/invite/py9P639jGz) for support and collaboration. Share your branded videos proudly and inspire others in the professional branding sphe"
   ]
  },
  {
   "cell_type": "markdown",
   "metadata": {},
   "source": []
  }
 ],
 "metadata": {
  "kernelspec": {
   "display_name": ".venv",
   "language": "python",
   "name": "python3"
  },
  "language_info": {
   "codemirror_mode": {
    "name": "ipython",
    "version": 3
   },
   "file_extension": ".py",
   "mimetype": "text/x-python",
   "name": "python",
   "nbconvert_exporter": "python",
   "pygments_lexer": "ipython3",
   "version": "3.11.7"
  }
 },
 "nbformat": 4,
 "nbformat_minor": 2
}
