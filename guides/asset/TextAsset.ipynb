{
 "cells": [
  {
   "cell_type": "markdown",
   "metadata": {},
   "source": [
    "# TextAsset Guide\n",
    "\n",
    "<a href=\"https://colab.research.google.com/github/video-db/videodb-cookbook/blob/nb/guide-textasset/guides/asset/TextAsset.ipynb\" target=\"_parent\"><img src=\"https://colab.research.google.com/assets/colab-badge.svg\" alt=\"Open In Colab\"/></a>"
   ]
  },
  {
   "cell_type": "code",
   "execution_count": null,
   "metadata": {},
   "outputs": [],
   "source": [
    "%pip install videodb"
   ]
  },
  {
   "cell_type": "code",
   "execution_count": 44,
   "metadata": {},
   "outputs": [],
   "source": [
    "import os\n",
    "\n",
    "os.environ[\"VIDEO_DB_API_KEY\"] = \"\""
   ]
  },
  {
   "cell_type": "code",
   "execution_count": 45,
   "metadata": {},
   "outputs": [],
   "source": [
    "from videodb import connect\n",
    "\n",
    "conn = connect()\n",
    "coll = conn.get_collection()"
   ]
  },
  {
   "cell_type": "code",
   "execution_count": 4,
   "metadata": {},
   "outputs": [
    {
     "data": {
      "text/plain": [
       "'https://console.videodb.io/player?url=https://dseetlpshk2tb.cloudfront.net/v3/published/manifests/c9d6fbe5-cc66-45f5-a2d3-ff1813368aae.m3u8'"
      ]
     },
     "execution_count": 4,
     "metadata": {},
     "output_type": "execute_result"
    }
   ],
   "source": [
    "video = coll.upload(url=\"https://www.youtube.com/watch?v=w4NEOTvstAc\")\n",
    "video.play()"
   ]
  },
  {
   "cell_type": "code",
   "execution_count": 46,
   "metadata": {},
   "outputs": [],
   "source": [
    "from videodb.asset import VideoAsset\n",
    "\n",
    "# Create a VideoAsset from Video\n",
    "video_asset = VideoAsset(\n",
    "  asset_id = video.id,\n",
    "  start = 0,\n",
    "  end = 340\n",
    ")"
   ]
  },
  {
   "cell_type": "code",
   "execution_count": 47,
   "metadata": {},
   "outputs": [],
   "source": [
    "from videodb.asset import TextAsset\n",
    "\n",
    "text_asset_1 = TextAsset(\n",
    "    text=\"Your text here\",\n",
    "    duration=5\n",
    ")"
   ]
  },
  {
   "cell_type": "code",
   "execution_count": 48,
   "metadata": {},
   "outputs": [],
   "source": [
    "from videodb.asset import TextAsset, TextStyle\n",
    "\n",
    "\n",
    "# Create TextAsset with custom styling using TextStyle \n",
    "text_asset_2 = TextAsset(\n",
    "    text=\"Your text here\",\n",
    "    duration=5,\n",
    "    style=TextStyle(\n",
    "        font = \"Inter\",\n",
    "        fontsize = 40,\n",
    "        fontcolor = \"#FFFFFF\",\n",
    "        bordercolor = \"#C14103\",\n",
    "        borderw = \"3\",\n",
    "        box = False     \n",
    "    )\n",
    ")\n"
   ]
  },
  {
   "cell_type": "code",
   "execution_count": 50,
   "metadata": {},
   "outputs": [],
   "source": [
    "from videodb.asset import TextAsset, TextStyle\n",
    "\n",
    "\n",
    "# Create TextAsset with custom styling using TextStyle \n",
    "text_asset_3 = TextAsset(\n",
    "    text=\"Your text here\",\n",
    "    duration=5,\n",
    "    style=TextStyle(\n",
    "        box = True,\n",
    "        boxcolor = \"#3B3B3B\",\n",
    "        boxborderw = 30,\n",
    "        boxw = 0,\n",
    "        boxh = 0,  \n",
    "    )\n",
    ")"
   ]
  },
  {
   "cell_type": "code",
   "execution_count": 51,
   "metadata": {},
   "outputs": [],
   "source": [
    "from videodb.asset import TextAsset, TextStyle\n",
    "\n",
    "\n",
    "# Create TextAsset with custom styling using TextStyle \n",
    "text_asset_4 = TextAsset(\n",
    "    text=\"Your text here\",\n",
    "    duration=5,\n",
    "    style=TextStyle(\n",
    "        shadowcolor=\"#0AA910\",\n",
    "        shadowx=\"0\",\n",
    "        shadowy=\"3\",\n",
    "    )\n",
    ")\n"
   ]
  },
  {
   "cell_type": "code",
   "execution_count": 52,
   "metadata": {},
   "outputs": [],
   "source": [
    "from videodb.timeline import Timeline\n",
    "\n",
    "# Initialize a Timeline\n",
    "timeline = Timeline(conn)\n",
    "\n",
    "# Add Our base VideoAsset inline\n",
    "timeline.add_inline(video_asset)\n",
    "\n",
    "# TextAsset with default Styling \n",
    "timeline.add_overlay(0, text_asset_1)\n",
    "\n",
    "# TextAsset with Custom Font Styling\n",
    "timeline.add_overlay(5, text_asset_2)\n",
    "\n",
    "# TextAsset with Custom Border Box \n",
    "timeline.add_overlay(10, text_asset_3)\n",
    "\n",
    "# TextAsset with Custom Shadow \n",
    "timeline.add_overlay(15, text_asset_4)"
   ]
  },
  {
   "cell_type": "code",
   "execution_count": 53,
   "metadata": {},
   "outputs": [
    {
     "data": {
      "text/plain": [
       "'https://console.videodb.io/player?url=https://dseetlpshk2tb.cloudfront.net/v3/published/manifests/88f7c874-6582-4cd5-8aff-852d3c77a99c.m3u8'"
      ]
     },
     "execution_count": 53,
     "metadata": {},
     "output_type": "execute_result"
    }
   ],
   "source": [
    "from videodb import play_stream\n",
    "\n",
    "stream_url = timeline.generate_stream()\n",
    "play_stream(stream_url)"
   ]
  },
  {
   "cell_type": "code",
   "execution_count": null,
   "metadata": {},
   "outputs": [],
   "source": []
  }
 ],
 "metadata": {
  "kernelspec": {
   "display_name": ".venv",
   "language": "python",
   "name": "python3"
  },
  "language_info": {
   "codemirror_mode": {
    "name": "ipython",
    "version": 3
   },
   "file_extension": ".py",
   "mimetype": "text/x-python",
   "name": "python",
   "nbconvert_exporter": "python",
   "pygments_lexer": "ipython3",
   "version": "3.11.7"
  }
 },
 "nbformat": 4,
 "nbformat_minor": 2
}
