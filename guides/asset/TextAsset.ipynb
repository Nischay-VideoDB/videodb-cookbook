{
 "cells": [
  {
   "cell_type": "markdown",
   "metadata": {},
   "source": [
    "# Guide : TextAsset\n",
    "\n",
    "<a href=\"https://colab.research.google.com/github/video-db/videodb-cookbook/blob/nb/main/guides/asset/TextAsset.ipynb\" target=\"_parent\"><img src=\"https://colab.research.google.com/assets/colab-badge.svg\" alt=\"Open In Colab\"/></a>"
   ]
  },
  {
   "cell_type": "markdown",
   "metadata": {},
   "source": [
    "## Overview\n",
    "\n",
    "This guide gives you an introduction to `TextAssets` and how you can use them to overlay text elements on your videos.\n",
    "\n",
    "We will also explore the configurations available for the `TextAssets` class, such as:\n",
    "\n",
    "* Default Styling\n",
    "* Font Styling\n",
    "* Background box styling\n",
    "* Shadow for Text Element\n"
   ]
  },
  {
   "cell_type": "markdown",
   "metadata": {},
   "source": [
    "## Setup\n",
    "---"
   ]
  },
  {
   "cell_type": "markdown",
   "metadata": {},
   "source": [
    "### 📦  Installing packages  "
   ]
  },
  {
   "cell_type": "code",
   "execution_count": null,
   "metadata": {},
   "outputs": [],
   "source": [
    "%pip install videodb"
   ]
  },
  {
   "cell_type": "markdown",
   "metadata": {},
   "source": [
    "### 🔑 API Keys\n",
    "Before proceeding, ensure access to [VideoDB](https://videodb.io) \n",
    "\n",
    "> Get your API key from [VideoDB Console](https://console.videodb.io). ( Free for first 50 uploads, **No credit card required** ) 🎉"
   ]
  },
  {
   "cell_type": "code",
   "execution_count": 2,
   "metadata": {},
   "outputs": [],
   "source": [
    "import os\n",
    "\n",
    "os.environ[\"VIDEO_DB_API_KEY\"] = \"\""
   ]
  },
  {
   "cell_type": "markdown",
   "metadata": {},
   "source": [
    "## Initial Setup\n",
    "---"
   ]
  },
  {
   "cell_type": "markdown",
   "metadata": {},
   "source": [
    "### 🌐 Connect to VideoDB"
   ]
  },
  {
   "cell_type": "code",
   "execution_count": 3,
   "metadata": {},
   "outputs": [],
   "source": [
    "from videodb import connect\n",
    "\n",
    "conn = connect()\n",
    "coll = conn.get_collection()"
   ]
  },
  {
   "cell_type": "markdown",
   "metadata": {},
   "source": [
    "### 🎥  Upload Video\n",
    "VideoDB uses video as a base to create a timeline. Click here to learn more about how [Timelines and Assets](https://docs.videodb.io/timeline-and-assets-44) function."
   ]
  },
  {
   "cell_type": "code",
   "execution_count": 4,
   "metadata": {},
   "outputs": [
    {
     "data": {
      "text/plain": [
       "'https://console.videodb.io/player?url=https://stream.videodb.io/v3/published/manifests/b76e85be-b85f-4282-a320-3b959e6d5946.m3u8'"
      ]
     },
     "execution_count": 4,
     "metadata": {},
     "output_type": "execute_result"
    }
   ],
   "source": [
    "video = coll.upload(url=\"https://www.youtube.com/watch?v=w4NEOTvstAc\")\n",
    "video.play()"
   ]
  },
  {
   "cell_type": "markdown",
   "metadata": {},
   "source": [
    "## Create assets\n",
    "\n",
    "Now, we will create some assets that we are going to use in our Video Timeline\n",
    "\n",
    "* `VideoAsset`  - A Video that will be used as a base for Video Timeline\n",
    "* `TextAsset`  - A Text Element that will overlayed on our Video Timeline"
   ]
  },
  {
   "cell_type": "markdown",
   "metadata": {},
   "source": [
    "### 🎥  VideoAsset  "
   ]
  },
  {
   "cell_type": "code",
   "execution_count": 5,
   "metadata": {},
   "outputs": [],
   "source": [
    "from videodb.asset import VideoAsset\n",
    "\n",
    "# Create a VideoAsset from Video\n",
    "video_asset = VideoAsset(\n",
    "  asset_id = video.id,\n",
    "  start = 0,\n",
    "  end = 20 \n",
    ")"
   ]
  },
  {
   "cell_type": "markdown",
   "metadata": {},
   "source": [
    "### 🔠 TextAsset : Default Styling \n",
    "To Create a TextAsset, use `TextAsset`\n",
    "\n",
    "Params: \n",
    "\n",
    "* `text` (required): The text that needs to be displayed\n",
    "* `duration` (optional): The duration for which the text element needs to be displayed"
   ]
  },
  {
   "cell_type": "code",
   "execution_count": 6,
   "metadata": {},
   "outputs": [],
   "source": [
    "from videodb.asset import TextAsset\n",
    "\n",
    "text_asset_1 = TextAsset(\n",
    "    text=\"THIS IS A SENTENCE\",\n",
    "    duration=5\n",
    ")"
   ]
  },
  {
   "cell_type": "markdown",
   "metadata": {},
   "source": [
    "### 🔡 TextAsset - Custom Styling \n",
    "\n",
    "To Create a `TextAsset`, with custom styling you can pass an additional parameter\n",
    "\n",
    "* style (optional): Accepts a `TextStyle` Instance, which contains styling configuration of a `TextAsset` \n",
    "\n",
    "> View API Reference for [`TextStyle`]()"
   ]
  },
  {
   "cell_type": "markdown",
   "metadata": {},
   "source": [
    "**𝟏.Font Styling**"
   ]
  },
  {
   "cell_type": "code",
   "execution_count": 7,
   "metadata": {},
   "outputs": [],
   "source": [
    "from videodb.asset import TextAsset, TextStyle\n",
    "\n",
    "\n",
    "# Create TextAsset with custom styling using TextStyle \n",
    "text_asset_2 = TextAsset(\n",
    "    text=\"THIS IS A SENTENCE\",\n",
    "    duration=5,\n",
    "    style=TextStyle(\n",
    "        font = \"Inter\",\n",
    "        fontsize = 50,\n",
    "        fontcolor = \"#FFCFA5\",\n",
    "        bordercolor = \"#C14103\",\n",
    "        borderw = \"2\",\n",
    "        box = False     \n",
    "    )\n",
    ")\n"
   ]
  },
  {
   "cell_type": "markdown",
   "metadata": {},
   "source": [
    "**𝟐.Configuring Background box**"
   ]
  },
  {
   "cell_type": "code",
   "execution_count": 8,
   "metadata": {},
   "outputs": [],
   "source": [
    "from videodb.asset import TextAsset, TextStyle\n",
    "\n",
    "\n",
    "# Create TextAsset with custom styling using TextStyle \n",
    "text_asset_3 = TextAsset(\n",
    "    text=\"THIS IS A SENTENCE\",\n",
    "    duration=5,\n",
    "    style=TextStyle(\n",
    "        box = True,\n",
    "        boxcolor = \"#FFCFA5\",\n",
    "        boxborderw = 10,\n",
    "        boxw = 0,\n",
    "        boxh = 0,  \n",
    "    )\n",
    ")"
   ]
  },
  {
   "cell_type": "markdown",
   "metadata": {},
   "source": [
    "**𝟑.Configuring Shadows**"
   ]
  },
  {
   "cell_type": "code",
   "execution_count": 9,
   "metadata": {},
   "outputs": [],
   "source": [
    "from videodb.asset import TextAsset, TextStyle\n",
    "\n",
    "\n",
    "# Create TextAsset with custom styling using TextStyle \n",
    "text_asset_4 = TextAsset(\n",
    "    text=\"THIS IS A SENTENCE\",\n",
    "    duration=5,\n",
    "    style=TextStyle(\n",
    "        shadowcolor=\"#0AA910\",\n",
    "        shadowx=\"2\",\n",
    "        shadowy=\"3\",\n",
    "    )\n",
    ")\n"
   ]
  },
  {
   "cell_type": "markdown",
   "metadata": {},
   "source": [
    "## View Results\n",
    "--- "
   ]
  },
  {
   "cell_type": "markdown",
   "metadata": {},
   "source": [
    "### 🎼  Create a timeline using  Timeline "
   ]
  },
  {
   "cell_type": "code",
   "execution_count": 10,
   "metadata": {},
   "outputs": [],
   "source": [
    "from videodb.timeline import Timeline\n",
    "\n",
    "# Initialize a Timeline\n",
    "timeline = Timeline(conn)\n",
    "\n",
    "# Add Our base VideoAsset inline\n",
    "timeline.add_inline(video_asset)\n",
    "\n",
    "# TextAsset with default Styling \n",
    "timeline.add_overlay(0, text_asset_1)\n",
    "\n",
    "# TextAsset with Custom Font Styling\n",
    "timeline.add_overlay(5, text_asset_2)\n",
    "\n",
    "# TextAsset with Custom Border Box \n",
    "timeline.add_overlay(10, text_asset_3)\n",
    "\n",
    "# TextAsset with Custom Shadow \n",
    "timeline.add_overlay(15, text_asset_4)"
   ]
  },
  {
   "cell_type": "markdown",
   "metadata": {},
   "source": [
    "### ▶️ Play the Video"
   ]
  },
  {
   "cell_type": "code",
   "execution_count": 11,
   "metadata": {},
   "outputs": [
    {
     "data": {
      "text/plain": [
       "'https://console.videodb.io/player?url=https://stream.videodb.io/v3/published/manifests/07d3213d-f146-465c-9d09-05134035405b.m3u8'"
      ]
     },
     "execution_count": 11,
     "metadata": {},
     "output_type": "execute_result"
    }
   ],
   "source": [
    "from videodb import play_stream\n",
    "\n",
    "stream_url = timeline.generate_stream()\n",
    "play_stream(stream_url)"
   ]
  }
 ],
 "metadata": {
  "kernelspec": {
   "display_name": ".venv",
   "language": "python",
   "name": "python3"
  },
  "language_info": {
   "codemirror_mode": {
    "name": "ipython",
    "version": 3
   },
   "file_extension": ".py",
   "mimetype": "text/x-python",
   "name": "python",
   "nbconvert_exporter": "python",
   "pygments_lexer": "ipython3",
   "version": "3.11.7"
  }
 },
 "nbformat": 4,
 "nbformat_minor": 2
}
