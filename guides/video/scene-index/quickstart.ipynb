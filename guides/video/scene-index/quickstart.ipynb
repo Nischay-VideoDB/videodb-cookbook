{
 "cells": [
  {
   "cell_type": "markdown",
   "metadata": {},
   "source": [
    "# ⚡️ QuickStart: Scene Index"
   ]
  },
  {
   "cell_type": "markdown",
   "metadata": {},
   "source": [
    "<a href=\"https://colab.research.google.com/github/video-db/videodb-cookbook/blob/main/guides/video/scene-index/quickstart.ipynb\" target=\"_parent\"><img src=\"https://colab.research.google.com/assets/colab-badge.svg\" alt=\"Open In Colab\"/></a>"
   ]
  },
  {
   "cell_type": "markdown",
   "metadata": {},
   "source": [
    "This guide gives you an introduction to Scene Indexing. \n",
    "\n",
    "Scene Index is a way to index your video on the basis of visual features or scenes.  \n",
    "After you have indexed your videos, you can search from your content and extract relevenat parts."
   ]
  },
  {
   "cell_type": "markdown",
   "metadata": {},
   "source": [
    "## Setup\n",
    "---"
   ]
  },
  {
   "cell_type": "markdown",
   "metadata": {},
   "source": [
    "### 📦  Installing packages   "
   ]
  },
  {
   "cell_type": "code",
   "execution_count": null,
   "metadata": {},
   "outputs": [],
   "source": [
    "!pip install videodb"
   ]
  },
  {
   "cell_type": "markdown",
   "metadata": {},
   "source": [
    "### 🔑 API Keys"
   ]
  },
  {
   "cell_type": "code",
   "execution_count": 4,
   "metadata": {},
   "outputs": [],
   "source": [
    "import os\n",
    "\n",
    "os.environ[\"VIDEO_DB_API_KEY\"] = \"\""
   ]
  },
  {
   "cell_type": "markdown",
   "metadata": {},
   "source": [
    "### 🌐 Connect to VideoDB"
   ]
  },
  {
   "cell_type": "code",
   "execution_count": 5,
   "metadata": {},
   "outputs": [],
   "source": [
    "from videodb import connect\n",
    "\n",
    "conn = connect()\n",
    "coll = conn.get_collection()"
   ]
  },
  {
   "cell_type": "markdown",
   "metadata": {},
   "source": [
    "### 🎥  Upload Video"
   ]
  },
  {
   "cell_type": "code",
   "execution_count": 6,
   "metadata": {},
   "outputs": [],
   "source": [
    "video = coll.upload(url=\"https://www.youtube.com/watch?v=LejnTJL173Y\")"
   ]
  },
  {
   "cell_type": "markdown",
   "metadata": {},
   "source": [
    "## 📇 Index Video\n",
    "---"
   ]
  },
  {
   "cell_type": "markdown",
   "metadata": {},
   "source": [
    "When indexing a video, there are two primary steps involved:\n",
    "1. **Extracting Scenes**: Identifying and extracting scenes from the video.\n",
    "2. **Analyzing Scenes**: Using a machine learning model to describe the visual features of the extracted scenes.\n",
    "\n",
    "Both of these steps can be customized according to your specific requirements.   \n",
    "To explore the available configuration options, please refer to the following tutorials:  \n",
    "- [Configuring Scene Extraction](https://colab.research.google.com/github/video-db/videodb-cookbook/blob/main/guides/video/scene-index/scene-extraction.ipynb)\n",
    "- [Configuring Vision Model]()\n",
    "\n",
    "By following these guides, you can fine-tune the keyframe extraction process and adjust the vision model to better suit your needs.\n",
    "\n",
    "For simplicity, this tutorial will use the default settings."
   ]
  },
  {
   "cell_type": "code",
   "execution_count": null,
   "metadata": {},
   "outputs": [],
   "source": [
    "video.index_scenes()"
   ]
  },
  {
   "cell_type": "markdown",
   "metadata": {},
   "source": [
    "## 🔍 Search \n",
    "---"
   ]
  },
  {
   "cell_type": "code",
   "execution_count": 16,
   "metadata": {},
   "outputs": [],
   "source": [
    "search_queries = [\"drinking\", \"nudity\", \"blood\", \"fight\", \"smoking\", \"guns\"]\n",
    "res = [video.search(query, search_type=\"scene\") for query in search_queries]"
   ]
  },
  {
   "cell_type": "markdown",
   "metadata": {},
   "source": [
    "## View Results\n",
    "---"
   ]
  },
  {
   "cell_type": "code",
   "execution_count": 17,
   "metadata": {},
   "outputs": [
    {
     "data": {
      "text/plain": [
       "'https://console.videodb.io/player?url=https://stream.videodb.io/v3/published/manifests/d8a4ae01-18da-4d46-9cd5-9ac0607c879b.m3u8'"
      ]
     },
     "execution_count": 17,
     "metadata": {},
     "output_type": "execute_result"
    }
   ],
   "source": [
    "from videodb.timeline import Timeline\n",
    "from videodb.asset import VideoAsset\n",
    "from videodb import play_stream\n",
    "\n",
    "# Initialize timeline with connection\n",
    "timeline = Timeline(conn)\n",
    "\n",
    "# Add video shots to the timeline\n",
    "for search_result in res:\n",
    "    for shot in search_result.shots:\n",
    "        video_asset = VideoAsset(asset_id=shot.video_id, start=shot.start, end=shot.end)\n",
    "        timeline.add_inline(video_asset)\n",
    "\n",
    "# Generate the stream URL and play the stream\n",
    "stream_url = timeline.generate_stream()\n",
    "play_stream(stream_url)"
   ]
  }
 ],
 "metadata": {
  "kernelspec": {
   "display_name": ".venv",
   "language": "python",
   "name": "python3"
  },
  "language_info": {
   "codemirror_mode": {
    "name": "ipython",
    "version": 3
   },
   "file_extension": ".py",
   "mimetype": "text/x-python",
   "name": "python",
   "nbconvert_exporter": "python",
   "pygments_lexer": "ipython3",
   "version": "3.11.7"
  }
 },
 "nbformat": 4,
 "nbformat_minor": 2
}
