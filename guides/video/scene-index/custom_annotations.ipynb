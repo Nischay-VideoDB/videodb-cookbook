{
 "cells": [
  {
   "cell_type": "markdown",
   "metadata": {},
   "source": [
    "# 📝️ Scene Index: Custom Annotations"
   ]
  },
  {
   "cell_type": "markdown",
   "metadata": {},
   "source": [
    "<a href=\"https://colab.research.google.com/github/video-db/videodb-cookbook/blob/main/guides/video/scene-index/custom_annotations.ipynb\" target=\"_parent\"><img src=\"https://colab.research.google.com/assets/colab-badge.svg\" alt=\"Open In Colab\"/></a>"
   ]
  },
  {
   "cell_type": "markdown",
   "metadata": {},
   "source": [
    "> This guide assumes you are already familiar with the concept of Scene Indexing. If you are not, please refer to our [Scene Index: QuickStart](https://github.com/video-db/videodb-cookbook/blob/main/guides/video/scene-index/quickstart.ipynb) Guide to get up to speed.  \n",
    "\n",
    "You can enhance your understanding of videos by using our simple custom annotation and tagging pipeline. \n",
    "To enable this, you can create a new `Scene` object. Then, pass your annotations in the `Scene.description` and index them using `Video.index_scenes()` function.  \n",
    "\n",
    "VideoDB allows multiple indexes on video objects. This is advantageous as it allows you to attach additional context to each scene, enhancing the search functionality.\n",
    "This guide walks you through Custom Annotations Pipeline\n"
   ]
  },
  {
   "cell_type": "markdown",
   "metadata": {},
   "source": [
    "## Setup\n",
    "---"
   ]
  },
  {
   "cell_type": "markdown",
   "metadata": {},
   "source": [
    "### 📦  Installing packages   "
   ]
  },
  {
   "cell_type": "code",
   "execution_count": null,
   "metadata": {},
   "outputs": [],
   "source": [
    "!pip install videodb"
   ]
  },
  {
   "cell_type": "markdown",
   "metadata": {},
   "source": [
    "### 🔑 API Keys"
   ]
  },
  {
   "cell_type": "code",
   "execution_count": 4,
   "metadata": {},
   "outputs": [],
   "source": [
    "import os\n",
    "\n",
    "os.environ[\"VIDEO_DB_API_KEY\"] = \"\""
   ]
  },
  {
   "cell_type": "markdown",
   "metadata": {},
   "source": [
    "### 🌐 Connect to VideoDB"
   ]
  },
  {
   "cell_type": "code",
   "execution_count": 5,
   "metadata": {},
   "outputs": [],
   "source": [
    "from videodb import connect\n",
    "\n",
    "conn = connect()\n",
    "coll = conn.get_collection()"
   ]
  },
  {
   "cell_type": "markdown",
   "metadata": {},
   "source": [
    "### 🎥  Upload Video"
   ]
  },
  {
   "cell_type": "code",
   "execution_count": 6,
   "metadata": {},
   "outputs": [],
   "source": [
    "video = coll.upload(url=\"https://www.youtube.com/watch?v=LejnTJL173Y\")"
   ]
  },
  {
   "cell_type": "markdown",
   "metadata": {},
   "source": [
    "## 📝 Annotating Scenes\n",
    "---"
   ]
  },
  {
   "cell_type": "markdown",
   "metadata": {},
   "source": [
    "To Anotate your Video with Custom Annotations, You can follow this workflow\n",
    "\n",
    "- Create a new `Scene` object \n",
    "- Pass your annotations in the `Scene.description` \n",
    "- Index them using `Video.index_scenes()` function.  \n",
    "\n",
    "\n",
    "Let's understand `Scene` Object\n",
    "\n",
    "### 🎬 Scene\n",
    "\n",
    "A Scene object describes a unique event in the video. \n",
    "\n",
    "`video_id` : id of the video object\n",
    "\n",
    "`start` : seconds\n",
    "\n",
    "`end` : seconds\n",
    "\n",
    "`description` : string description\n",
    "\n",
    "\n",
    "Each scene object has another attribute, frames, which contains a list of `Frame` objects.   \n",
    "However, we don't need them here for custom annotation pipelines because we are bringing the description from outside.\n",
    "\n",
    "<br>\n",
    "\n",
    "### ✂️🎬 Create a new Scene\n",
    "\n",
    "Create new Scene objects and add your description"
   ]
  },
  {
   "cell_type": "code",
   "execution_count": null,
   "metadata": {},
   "outputs": [],
   "source": [
    "from videodb.scene import Scene\n",
    "\n",
    "# create scene object and patch your description\n",
    "scene1 = Scene(\n",
    "    video_id=video.id,\n",
    "    start=0,\n",
    "    end=10,\n",
    "    description=\"Detective Martin is being interviewed by the police.\",\n",
    ")\n",
    "\n",
    "\n",
    "scene2 = Scene(\n",
    "    video_id=video.id,\n",
    "    start=10,\n",
    "    end=100,\n",
    "    description=\"A religious gathering. People are praying and singing.\",\n",
    ")\n",
    "\n",
    "# create a list of scene objects\n",
    "scenes = [scene1, scene2]"
   ]
  },
  {
   "cell_type": "markdown",
   "metadata": {},
   "source": [
    "### ️ 🗂️️ Index and search scenes\n",
    "\n",
    "Index using the list of scene objects and use the `index_id` for search"
   ]
  },
  {
   "cell_type": "code",
   "execution_count": null,
   "metadata": {},
   "outputs": [],
   "source": [
    "#create new index and assign it a name\n",
    "index_id = video.index_scenes(scenes=scenes, name=\"My Custom Annotations#1\")"
   ]
  },
  {
   "cell_type": "markdown",
   "metadata": {},
   "source": [
    "> Note: it might take a additional 5-10 seconds for your index to become available for search"
   ]
  },
  {
   "cell_type": "code",
   "execution_count": null,
   "metadata": {},
   "outputs": [],
   "source": [
    "from videodb import IndexType\n",
    "\n",
    "# search using the index_id\n",
    "res = video.search(query=\"religious gathering\", index_type=IndexType.scene, index_id=index_id)\n",
    "res.play()"
   ]
  },
  {
   "cell_type": "markdown",
   "metadata": {},
   "source": [
    "## 🧑‍💻 Deep Dive\n",
    "---"
   ]
  },
  {
   "cell_type": "markdown",
   "metadata": {},
   "source": [
    "\n",
    "Check out the other resources and tutorials using Scene Indexing\n",
    "* Experiment with extraction algorithms, prompts, and search using the [Playground for Scene Extractions](https://github.com/video-db/videodb-cookbook/blob/main/guides/video/scene-index/playground_scene_extraction.ipynb)\n",
    "* Check out our open and flexible [Advanced Visual Search Pipelines](https://github.com/video-db/videodb-cookbook/blob/main/guides/video/scene-index/advanced_visual_search.ipynb)\n",
    "\n",
    "\n",
    "If you have any questions or feedback. Feel free to reach out to us 🙌🏼\n",
    "\n",
    "* [Discord](https://colab.research.google.com/corgiredirector?site=https%3A%2F%2Fdiscord.gg%2Fpy9P639jGz)\n",
    "* [GitHub](https://github.com/video-db)\n",
    "* [VideoDB](https://colab.research.google.com/corgiredirector?site=https%3A%2F%2Fvideodb.io)\n",
    "* [Email](ashu@videodb.io)"
   ]
  },
  {
   "cell_type": "markdown",
   "metadata": {},
   "source": []
  }
 ],
 "metadata": {
  "kernelspec": {
   "display_name": ".venv",
   "language": "python",
   "name": "python3"
  },
  "language_info": {
   "codemirror_mode": {
    "name": "ipython",
    "version": 3
   },
   "file_extension": ".py",
   "mimetype": "text/x-python",
   "name": "python",
   "nbconvert_exporter": "python",
   "pygments_lexer": "ipython3",
   "version": "3.11.7"
  }
 },
 "nbformat": 4,
 "nbformat_minor": 2
}
