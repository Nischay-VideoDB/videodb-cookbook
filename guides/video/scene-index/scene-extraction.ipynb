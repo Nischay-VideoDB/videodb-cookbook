{
 "cells": [
  {
   "cell_type": "markdown",
   "metadata": {},
   "source": [
    "# ️📸 Scene Index: Keyframe Extraction"
   ]
  },
  {
   "cell_type": "markdown",
   "metadata": {},
   "source": [
    "<a href=\"https://colab.research.google.com/github/video-db/videodb-cookbook/blob/main/guides/video/scene-index/scene-extraction.ipynb\" target=\"_parent\"><img src=\"https://colab.research.google.com/assets/colab-badge.svg\" alt=\"Open In Colab\"/></a>"
   ]
  },
  {
   "cell_type": "markdown",
   "metadata": {},
   "source": [
    "> This guide assumes you are already familiar with the concept of Scene Indexing. If you are not, please refer to our [Scene Index: QuickStart Guide]() to get up to speed.\n",
    "\n",
    "In this guide, we will focus on configuring the Keyframe Extraction pipeline to optimize the Scene Index."
   ]
  },
  {
   "cell_type": "markdown",
   "metadata": {},
   "source": [
    "## Setup\n",
    "---"
   ]
  },
  {
   "cell_type": "markdown",
   "metadata": {},
   "source": [
    "### 📦  Installing packages   "
   ]
  },
  {
   "cell_type": "code",
   "execution_count": null,
   "metadata": {},
   "outputs": [],
   "source": [
    "!pip install videodb"
   ]
  },
  {
   "cell_type": "markdown",
   "metadata": {},
   "source": [
    "### 🔑 API Keys"
   ]
  },
  {
   "cell_type": "code",
   "execution_count": 30,
   "metadata": {},
   "outputs": [],
   "source": [
    "import os\n",
    "\n",
    "os.environ[\"VIDEO_DB_API_KEY\"] = \"\""
   ]
  },
  {
   "cell_type": "markdown",
   "metadata": {},
   "source": [
    "### 🌐 Connect to VideoDB"
   ]
  },
  {
   "cell_type": "code",
   "execution_count": null,
   "metadata": {},
   "outputs": [],
   "source": [
    "from videodb import connect\n",
    "\n",
    "conn = connect()\n",
    "coll = conn.get_collection()"
   ]
  },
  {
   "cell_type": "markdown",
   "metadata": {},
   "source": [
    "### 🎥  Upload Video"
   ]
  },
  {
   "cell_type": "code",
   "execution_count": 4,
   "metadata": {},
   "outputs": [],
   "source": [
    "video = coll.upload(url=\"https://www.youtube.com/watch?v=LejnTJL173Y\")"
   ]
  },
  {
   "cell_type": "markdown",
   "metadata": {},
   "source": [
    "## 📇 Scene Extraction Configuration\n",
    "---\n",
    "\n",
    "In the process of Video analysis, each video is first fragmented into segments called `Scene`. From each `Scene`, specific `Frame` are selected to accurately describe the scene.\n",
    "\n",
    "The criteria for determining a new scene and the number of frames to pick from each scene are defined by the pipeline’s configuration.\n",
    "\n",
    "Types of Scene Extraction Pipelines\n",
    "\n",
    "There are two main types of Scene Extraction pipelines:\n",
    "\n",
    "1. **Scene-Based Pipeline**:\n",
    "This pipeline identifies scene changes based on visual content within the video. Key factors include: significant changes in the visual content, such as transitions, lighting changes, and movement.\n",
    "\n",
    "2. **Time-Based Pipeline**:\n",
    "This pipeline segments the video based on predefined time intervals. \n",
    "\n",
    "\n",
    "Each of these pipelines has configurable parameters that you can adjust to suit your specific requirements.\n"
   ]
  },
  {
   "cell_type": "markdown",
   "metadata": {},
   "source": [
    "## 🎬 Scene-Based Extraction\n",
    "---"
   ]
  },
  {
   "cell_type": "markdown",
   "metadata": {},
   "source": [
    "There are two arguments that you can pass to `video.index_scenes()` to configure the pipeline:\n",
    "\n",
    "### ⚙️ Extraction Type    \n",
    "\n",
    "To set Scene-Based extraction as your pipeline, set the `extraction_type` argument to `SceneExtractionType.scene_based`.\n",
    "\n",
    ">The default value for this argument is already `SceneExtractionType.scene_based`, so you can omit it if you prefer.\n",
    "\n",
    "\n"
   ]
  },
  {
   "cell_type": "markdown",
   "metadata": {},
   "source": [
    "### ⚙️ Extraction Config\n",
    "\n",
    "To configure the pipeline further, you can pass a Python Dict to the `extraction_config` argument.\n",
    "\n",
    "The Python Dict can contain the following keys:\n",
    "- **`threshold`**: Determines the sensitivity of the model towards scene changes within the video. Default value is `20`, which is good for detecting camera shot changes from a video\n",
    "- **`frame_count`**: Accepts a number that specifies how many frames to pick from each scene. Default value is `1`"
   ]
  },
  {
   "cell_type": "code",
   "execution_count": null,
   "metadata": {},
   "outputs": [],
   "source": [
    "from videodb import SceneExtractionType\n",
    "\n",
    "video.index_scenes(\n",
    "    extraction_type=SceneExtractionType.scene_based,\n",
    "    extraction_config={\"threshold\": 15, \"frame_count\": 2},\n",
    ")"
   ]
  },
  {
   "cell_type": "markdown",
   "metadata": {},
   "source": [
    "## ⏱️ Time-Based Extraction\n",
    "---"
   ]
  },
  {
   "cell_type": "markdown",
   "metadata": {},
   "source": [
    "There are two arguments that you can pass to `video.index_scenes()` to configure the pipeline:\n",
    "\n",
    "### ⚙️ Extraction Type    \n",
    "\n",
    "To set Time-Based extraction as your pipeline, set the `extraction_type` argument to `SceneExtractionType.time_based`.\n",
    "\n"
   ]
  },
  {
   "cell_type": "markdown",
   "metadata": {},
   "source": [
    "### ⚙️ Extraction Config\n",
    "\n",
    "To configure the Time-Based pipeline, you can pass a Python Dict to the `extraction_config` argument.\n",
    "\n",
    "The Python Dict can contain the following keys:\n",
    "- **`time`**: Specifies the interval (in seconds) at which scenes are segmented. Default value is `10`.\n",
    "- **`select_frames`**: A list of frames to select from each segment. The list can contain strings from the following: \"first\", \"middle\", or \"last\", which selects the respective frames. Default value is `[\"first\"]`\n"
   ]
  },
  {
   "cell_type": "code",
   "execution_count": null,
   "metadata": {},
   "outputs": [],
   "source": [
    "from videodb import SceneExtractionType\n",
    "\n",
    "video.index_scenes(\n",
    "    extraction_type=SceneExtractionType.time_based,\n",
    "    extraction_config={\"time\": 60, \"select_frames\": [\"middle\"]},\n",
    ")"
   ]
  },
  {
   "cell_type": "markdown",
   "metadata": {},
   "source": [
    "## Extract Scenes without Indexing\n",
    "---\n",
    "\n",
    "If you want to extract scenes from the video without indexing them, you can use the `video.extract_scenes()` function.\n",
    "\n",
    "This function accepts the `extraction_type` and `extraction_config`"
   ]
  },
  {
   "cell_type": "code",
   "execution_count": null,
   "metadata": {},
   "outputs": [],
   "source": [
    "video.extract_scenes(\n",
    "    extraction_type=SceneExtractionType.time_based,\n",
    "    extraction_config={\"time\": 30, \"select_frames\": [\"middle\"]},\n",
    ")"
   ]
  },
  {
   "cell_type": "markdown",
   "metadata": {},
   "source": [
    "## Viewing, Inspecting, and Deleting Your Scenes\n",
    "---"
   ]
  },
  {
   "cell_type": "markdown",
   "metadata": {},
   "source": [
    "For every scene extraction pipeline that you run on a video, a   `SceneCollection` object is created. \n",
    "\n",
    "You can use following functions to View, Inspect and Delete your SceneCollections"
   ]
  },
  {
   "cell_type": "markdown",
   "metadata": {},
   "source": [
    "**Viewing all `SceneCollection`s for a Video**"
   ]
  },
  {
   "cell_type": "code",
   "execution_count": null,
   "metadata": {},
   "outputs": [],
   "source": [
    "scene_collections = video.list_scene_collection()\n",
    "for scene_collection in scene_collections:\n",
    "    print(\"Scene Collection Id :\",scene_collection[\"scene_collection_id\"])"
   ]
  },
  {
   "cell_type": "markdown",
   "metadata": {},
   "source": [
    "**Get `SceneCollection` by ID**"
   ]
  },
  {
   "cell_type": "code",
   "execution_count": 17,
   "metadata": {},
   "outputs": [],
   "source": [
    "scene_collection = video.get_scene_collection(\"tt60sf\")"
   ]
  },
  {
   "cell_type": "markdown",
   "metadata": {},
   "source": [
    "**Inspecting `SceneCollection`**"
   ]
  },
  {
   "cell_type": "code",
   "execution_count": null,
   "metadata": {},
   "outputs": [],
   "source": [
    "print(\"This is scene collection id\", scene_collection.id)\n",
    "print(\"This is scene collection config\", scene_collection.config)\n",
    "scenes = scene_collection.scenes\n",
    "for scene in scenes:\n",
    "    print(f\"Scene Duration {scene.start}-{scene.end}\")\n",
    "    for frame in scene.frames:\n",
    "        print(f\"- Frame at {frame.frame_time} {frame.url}\")"
   ]
  },
  {
   "cell_type": "markdown",
   "metadata": {},
   "source": [
    "**Delete a `SceneCollection`**"
   ]
  },
  {
   "cell_type": "code",
   "execution_count": null,
   "metadata": {},
   "outputs": [],
   "source": [
    "video.delete_scene_collection(\"tt60sf\")"
   ]
  },
  {
   "cell_type": "markdown",
   "metadata": {},
   "source": [
    "## 👨‍💻 Next Steps\n",
    "---\n",
    "\n",
    "Check out the other resources and tutorials using Scene Indexing\n",
    "- Guide on [Configuring Vision model]() \n",
    "- Use Case oriented tutorials"
   ]
  },
  {
   "cell_type": "markdown",
   "metadata": {},
   "source": [
    "If you have any questions or feedback. Feel free to reach out to us 🙌🏼\n",
    "\n",
    "* [Discord](https://colab.research.google.com/corgiredirector?site=https%3A%2F%2Fdiscord.gg%2Fpy9P639jGz)\n",
    "* [GitHub](https://github.com/video-db)\n",
    "* [VideoDB](https://colab.research.google.com/corgiredirector?site=https%3A%2F%2Fvideodb.io)\n",
    "* [Email](ashu@videodb.io)"
   ]
  },
  {
   "cell_type": "markdown",
   "metadata": {},
   "source": []
  }
 ],
 "metadata": {
  "kernelspec": {
   "display_name": ".venv",
   "language": "python",
   "name": "python3"
  },
  "language_info": {
   "codemirror_mode": {
    "name": "ipython",
    "version": 3
   },
   "file_extension": ".py",
   "mimetype": "text/x-python",
   "name": "python",
   "nbconvert_exporter": "python",
   "pygments_lexer": "ipython3",
   "version": "3.11.7"
  }
 },
 "nbformat": 4,
 "nbformat_minor": 2
}
