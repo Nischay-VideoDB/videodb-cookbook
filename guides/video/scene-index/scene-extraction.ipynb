{
 "cells": [
  {
   "cell_type": "markdown",
   "metadata": {},
   "source": [
    "# ️📸 Scene Index: Keyframe Extraction"
   ]
  },
  {
   "cell_type": "markdown",
   "metadata": {},
   "source": [
    "<a href=\"https://colab.research.google.com/github/video-db/videodb-cookbook/blob/main/guides/video/scene-index/scene-extraction.ipynb\" target=\"_parent\"><img src=\"https://colab.research.google.com/assets/colab-badge.svg\" alt=\"Open In Colab\"/></a>"
   ]
  },
  {
   "cell_type": "markdown",
   "metadata": {},
   "source": [
    "> This guide assumes you are already familiar with the concept of Scene Indexing. If you are not, please refer to our [Scene Index: QuickStart Guide]() to get up to speed.\n",
    "\n",
    "In this guide, we will focus on configuring the Keyframe Extraction pipeline to optimize the Scene Index."
   ]
  },
  {
   "cell_type": "markdown",
   "metadata": {},
   "source": [
    "## Setup\n",
    "---"
   ]
  },
  {
   "cell_type": "markdown",
   "metadata": {},
   "source": [
    "### 📦  Installing packages   "
   ]
  },
  {
   "cell_type": "code",
   "execution_count": null,
   "metadata": {},
   "outputs": [],
   "source": [
    "!pip install videodb"
   ]
  },
  {
   "cell_type": "markdown",
   "metadata": {},
   "source": [
    "### 🔑 API Keys"
   ]
  },
  {
   "cell_type": "code",
   "execution_count": 30,
   "metadata": {},
   "outputs": [],
   "source": [
    "import os\n",
    "\n",
    "os.environ[\"VIDEO_DB_API_KEY\"] = \"\""
   ]
  },
  {
   "cell_type": "markdown",
   "metadata": {},
   "source": [
    "### 🌐 Connect to VideoDB"
   ]
  },
  {
   "cell_type": "code",
   "execution_count": null,
   "metadata": {},
   "outputs": [],
   "source": [
    "from videodb import connect\n",
    "\n",
    "conn = connect()\n",
    "coll = conn.get_collection()"
   ]
  },
  {
   "cell_type": "markdown",
   "metadata": {},
   "source": [
    "### 🎥  Upload Video"
   ]
  },
  {
   "cell_type": "code",
   "execution_count": 4,
   "metadata": {},
   "outputs": [],
   "source": [
    "video = coll.upload(url=\"https://www.youtube.com/watch?v=LejnTJL173Y\")"
   ]
  },
  {
   "cell_type": "markdown",
   "metadata": {},
   "source": [
    "## 📇 Scene Extraction Configuration\n",
    "---\n",
    "\n",
    "In the process of Video analysis, each video is first fragmented into segments called `Scene`. From each `Scene`, specific `Frame` are selected to accurately describe the scene.\n",
    "\n",
    "The criteria for determining a new scene and the number of frames to pick from each scene are defined by the pipeline’s configuration.\n",
    "\n",
    "Types of Scene Extraction Pipelines\n",
    "\n",
    "There are two main types of Scene Extraction pipelines:\n",
    "\n",
    "1. **Scene-Based Pipeline**:\n",
    "This pipeline identifies scene changes based on visual content within the video. Key factors include: significant changes in the visual content, such as transitions, lighting changes, and movement.\n",
    "\n",
    "2. **Time-Based Pipeline**:\n",
    "This pipeline segments the video based on predefined time intervals. \n",
    "\n",
    "\n",
    "Each of these pipelines has configurable parameters that you can adjust to suit your specific requirements.\n"
   ]
  },
  {
   "cell_type": "markdown",
   "metadata": {},
   "source": [
    "## 🎬 Scene-Based Extraction\n",
    "---"
   ]
  },
  {
   "cell_type": "markdown",
   "metadata": {},
   "source": [
    "There are two arguments that you can pass to `video.index_scenes()` to configure the pipeline:\n",
    "\n",
    "### ⚙️ Extraction Type    \n",
    "\n",
    "To set Scene-Based extraction as your pipeline, set the `extraction_type` argument to `SceneExtractionType.scene_based`.\n",
    "\n",
    ">The default value for this argument is already `SceneExtractionType.scene_based`, so you can omit it if you prefer.\n",
    "\n",
    "\n"
   ]
  },
  {
   "cell_type": "markdown",
   "metadata": {},
   "source": [
    "### ⚙️ Extraction Config\n",
    "\n",
    "To configure the pipeline further, you can pass a Python Dict to the `extraction_config` argument.\n",
    "\n",
    "The Python Dict can contain the following keys:\n",
    "- **`threshold`**: Determines the sensitivity of the model towards scene changes within the video. Default value is `20`, which is good for detecting camera shot changes from a video\n",
    "- **`frame_count`**: Accepts a number that specifies how many frames to pick from each scene. Default value is `1`"
   ]
  },
  {
   "cell_type": "code",
   "execution_count": null,
   "metadata": {},
   "outputs": [],
   "source": [
    "from videodb import SceneExtractionType\n",
    "\n",
    "video.index_scenes(\n",
    "    extraction_type=SceneExtractionType.scene_based,\n",
    "    extraction_config={\"threshold\": 15, \"frame_count\": 2},\n",
    ")"
   ]
  },
  {
   "cell_type": "markdown",
   "metadata": {},
   "source": [
    "## ⏱️ Time-Based Extraction\n",
    "---"
   ]
  },
  {
   "cell_type": "markdown",
   "metadata": {},
   "source": [
    "There are two arguments that you can pass to `video.index_scenes()` to configure the pipeline:\n",
    "\n",
    "### ⚙️ Extraction Type    \n",
    "\n",
    "To set Time-Based extraction as your pipeline, set the `extraction_type` argument to `SceneExtractionType.time_based`.\n",
    "\n"
   ]
  },
  {
   "cell_type": "markdown",
   "metadata": {},
   "source": [
    "### ⚙️ Extraction Config\n",
    "\n",
    "To configure the Time-Based pipeline, you can pass a Python Dict to the `extraction_config` argument.\n",
    "\n",
    "The Python Dict can contain the following keys:\n",
    "- **`time`**: Specifies the interval (in seconds) at which scenes are segmented. Default value is `10`.\n",
    "- **`select_frames`**: A list of frames to select from each segment. The list can contain strings from the following: \"first\", \"middle\", or \"last\", which selects the respective frames. Default value is `[\"first\"]`\n"
   ]
  },
  {
   "cell_type": "code",
   "execution_count": null,
   "metadata": {},
   "outputs": [],
   "source": [
    "from videodb import SceneExtractionType\n",
    "\n",
    "video.index_scenes(\n",
    "    extraction_type=SceneExtractionType.time_based,\n",
    "    extraction_config={\"time\": 60, \"select_frames\": [\"middle\"]},\n",
    ")"
   ]
  },
  {
   "cell_type": "markdown",
   "metadata": {},
   "source": [
    "## Extract Scenes without Indexing\n",
    "---\n",
    "\n",
    "If you want to extract scenes from the video without indexing them, you can use the `video.extract_scenes()` function.\n",
    "\n",
    "This function accepts the `extraction_type` and `extraction_config`"
   ]
  },
  {
   "cell_type": "code",
   "execution_count": 15,
   "metadata": {},
   "outputs": [
    {
     "data": {
      "text/plain": [
       "SceneCollection(id=tt30sm, video_id=m-c765c08a-3cb2-452f-9009-cb1420d054a1, config={'extraction_type': 'time', 'select_frames': ['middle'], 'time': '30'}, scenes=[Scene(id=tt30sm-0.0-29.988, video_id=m-c765c08a-3cb2-452f-9009-cb1420d054a1, start=0.0, end=29.988, frames=[Frame(id=tt30sm-0.0-29.988-15.015, video_id=m-c765c08a-3cb2-452f-9009-cb1420d054a1, scene_id=tt30sm-0.0-29.988, url=None, frame_time=15, description=None)], description=None), Scene(id=tt30sm-29.988-59.977, video_id=m-c765c08a-3cb2-452f-9009-cb1420d054a1, start=29.988, end=59.977, frames=[Frame(id=tt30sm-29.988-59.977-45.003, video_id=m-c765c08a-3cb2-452f-9009-cb1420d054a1, scene_id=tt30sm-29.988-59.977, url=None, frame_time=45, description=None)], description=None), Scene(id=tt30sm-59.977-89.965, video_id=m-c765c08a-3cb2-452f-9009-cb1420d054a1, start=59.977, end=89.965, frames=[Frame(id=tt30sm-59.977-89.965-74.992, video_id=m-c765c08a-3cb2-452f-9009-cb1420d054a1, scene_id=tt30sm-59.977-89.965, url=None, frame_time=74, description=None)], description=None), Scene(id=tt30sm-89.965-119.953, video_id=m-c765c08a-3cb2-452f-9009-cb1420d054a1, start=89.965, end=119.953, frames=[Frame(id=tt30sm-89.965-119.953-104.98, video_id=m-c765c08a-3cb2-452f-9009-cb1420d054a1, scene_id=tt30sm-89.965-119.953, url=None, frame_time=104, description=None)], description=None), Scene(id=tt30sm-119.953-149.941, video_id=m-c765c08a-3cb2-452f-9009-cb1420d054a1, start=119.953, end=149.941, frames=[Frame(id=tt30sm-119.953-149.941-134.968, video_id=m-c765c08a-3cb2-452f-9009-cb1420d054a1, scene_id=tt30sm-119.953-149.941, url=None, frame_time=134, description=None)], description=None), Scene(id=tt30sm-149.941-179.93, video_id=m-c765c08a-3cb2-452f-9009-cb1420d054a1, start=149.941, end=179.93, frames=[Frame(id=tt30sm-149.941-179.93-164.956, video_id=m-c765c08a-3cb2-452f-9009-cb1420d054a1, scene_id=tt30sm-149.941-179.93, url=None, frame_time=164, description=None)], description=None), Scene(id=tt30sm-179.93-209.918, video_id=m-c765c08a-3cb2-452f-9009-cb1420d054a1, start=179.93, end=209.918, frames=[Frame(id=tt30sm-179.93-209.918-194.945, video_id=m-c765c08a-3cb2-452f-9009-cb1420d054a1, scene_id=tt30sm-179.93-209.918, url=None, frame_time=194, description=None)], description=None), Scene(id=tt30sm-209.918-239.906, video_id=m-c765c08a-3cb2-452f-9009-cb1420d054a1, start=209.918, end=239.906, frames=[Frame(id=tt30sm-209.918-239.906-224.933, video_id=m-c765c08a-3cb2-452f-9009-cb1420d054a1, scene_id=tt30sm-209.918-239.906, url=None, frame_time=224, description=None)], description=None), Scene(id=tt30sm-239.906-269.895, video_id=m-c765c08a-3cb2-452f-9009-cb1420d054a1, start=239.906, end=269.895, frames=[Frame(id=tt30sm-239.906-269.895-254.921, video_id=m-c765c08a-3cb2-452f-9009-cb1420d054a1, scene_id=tt30sm-239.906-269.895, url=None, frame_time=254, description=None)], description=None), Scene(id=tt30sm-269.895-299.883, video_id=m-c765c08a-3cb2-452f-9009-cb1420d054a1, start=269.895, end=299.883, frames=[Frame(id=tt30sm-269.895-299.883-284.91, video_id=m-c765c08a-3cb2-452f-9009-cb1420d054a1, scene_id=tt30sm-269.895-299.883, url=None, frame_time=284, description=None)], description=None), Scene(id=tt30sm-299.883-300.05, video_id=m-c765c08a-3cb2-452f-9009-cb1420d054a1, start=299.883, end=300.05, frames=[Frame(id=tt30sm-299.883-300.05-299.966, video_id=m-c765c08a-3cb2-452f-9009-cb1420d054a1, scene_id=tt30sm-299.883-300.05, url=None, frame_time=299, description=None)], description=None), Scene(id=tt30sm-300.0-329.988, video_id=m-c765c08a-3cb2-452f-9009-cb1420d054a1, start=300.0, end=329.988, frames=[Frame(id=tt30sm-300.0-329.988-315.015, video_id=m-c765c08a-3cb2-452f-9009-cb1420d054a1, scene_id=tt30sm-300.0-329.988, url=None, frame_time=315, description=None)], description=None), Scene(id=tt30sm-329.988-359.977, video_id=m-c765c08a-3cb2-452f-9009-cb1420d054a1, start=329.988, end=359.977, frames=[Frame(id=tt30sm-329.988-359.977-345.003, video_id=m-c765c08a-3cb2-452f-9009-cb1420d054a1, scene_id=tt30sm-329.988-359.977, url=None, frame_time=345, description=None)], description=None), Scene(id=tt30sm-359.977-389.965, video_id=m-c765c08a-3cb2-452f-9009-cb1420d054a1, start=359.977, end=389.965, frames=[Frame(id=tt30sm-359.977-389.965-374.992, video_id=m-c765c08a-3cb2-452f-9009-cb1420d054a1, scene_id=tt30sm-359.977-389.965, url=None, frame_time=374, description=None)], description=None), Scene(id=tt30sm-389.965-419.953, video_id=m-c765c08a-3cb2-452f-9009-cb1420d054a1, start=389.965, end=419.953, frames=[Frame(id=tt30sm-389.965-419.953-404.98, video_id=m-c765c08a-3cb2-452f-9009-cb1420d054a1, scene_id=tt30sm-389.965-419.953, url=None, frame_time=404, description=None)], description=None), Scene(id=tt30sm-419.953-449.941, video_id=m-c765c08a-3cb2-452f-9009-cb1420d054a1, start=419.953, end=449.941, frames=[Frame(id=tt30sm-419.953-449.941-434.968, video_id=m-c765c08a-3cb2-452f-9009-cb1420d054a1, scene_id=tt30sm-419.953-449.941, url=None, frame_time=434, description=None)], description=None), Scene(id=tt30sm-449.941-479.93, video_id=m-c765c08a-3cb2-452f-9009-cb1420d054a1, start=449.941, end=479.93, frames=[Frame(id=tt30sm-449.941-479.93-464.956, video_id=m-c765c08a-3cb2-452f-9009-cb1420d054a1, scene_id=tt30sm-449.941-479.93, url=None, frame_time=464, description=None)], description=None), Scene(id=tt30sm-479.93-509.918, video_id=m-c765c08a-3cb2-452f-9009-cb1420d054a1, start=479.93, end=509.918, frames=[Frame(id=tt30sm-479.93-509.918-494.945, video_id=m-c765c08a-3cb2-452f-9009-cb1420d054a1, scene_id=tt30sm-479.93-509.918, url=None, frame_time=494, description=None)], description=None), Scene(id=tt30sm-509.918-530.48, video_id=m-c765c08a-3cb2-452f-9009-cb1420d054a1, start=509.918, end=530.48, frames=[Frame(id=tt30sm-509.918-530.48-520.22, video_id=m-c765c08a-3cb2-452f-9009-cb1420d054a1, scene_id=tt30sm-509.918-530.48, url=None, frame_time=520, description=None)], description=None)])"
      ]
     },
     "execution_count": 15,
     "metadata": {},
     "output_type": "execute_result"
    }
   ],
   "source": [
    "video.extract_scenes(\n",
    "    extraction_type=SceneExtractionType.time_based,\n",
    "    extraction_config={\"time\": 30, \"select_frames\": [\"middle\"]},\n",
    ")"
   ]
  },
  {
   "cell_type": "markdown",
   "metadata": {},
   "source": [
    "## Viewing, Inspecting, and Deleting Your Scenes\n",
    "---"
   ]
  },
  {
   "cell_type": "markdown",
   "metadata": {},
   "source": [
    "For every scene extraction pipeline that you run on a video, a   `SceneCollection` object is created. \n",
    "\n",
    "You can use following functions to View, Inspect and Delete your SceneCollections"
   ]
  },
  {
   "cell_type": "markdown",
   "metadata": {},
   "source": [
    "**Viewing all `SceneCollection`s for a Video**"
   ]
  },
  {
   "cell_type": "code",
   "execution_count": null,
   "metadata": {},
   "outputs": [],
   "source": [
    "scene_collections = video.list_scene_collection()\n",
    "for scene_collection in scene_collections:\n",
    "    print(\"Scene Collection Id :\",scene_collection[\"scene_collection_id\"])"
   ]
  },
  {
   "cell_type": "markdown",
   "metadata": {},
   "source": [
    "**Get `SceneCollection` by ID**"
   ]
  },
  {
   "cell_type": "code",
   "execution_count": 17,
   "metadata": {},
   "outputs": [],
   "source": [
    "scene_collection = video.get_scene_collection(\"tt60sf\")"
   ]
  },
  {
   "cell_type": "markdown",
   "metadata": {},
   "source": [
    "**Inspecting `SceneCollection`**"
   ]
  },
  {
   "cell_type": "code",
   "execution_count": null,
   "metadata": {},
   "outputs": [],
   "source": [
    "print(\"This is scene collection id\", scene_collection.id)\n",
    "print(\"This is scene collection config\", scene_collection.config)\n",
    "scenes = scene_collection.scenes\n",
    "for scene in scenes:\n",
    "    print(f\"Scene Duration {scene.start}-{scene.end}\")\n",
    "    for frame in scene.frames:\n",
    "        print(f\"- Frame at {frame.frame_time} {frame.url}\")"
   ]
  },
  {
   "cell_type": "markdown",
   "metadata": {},
   "source": [
    "**Delete a `SceneCollection`**"
   ]
  },
  {
   "cell_type": "code",
   "execution_count": null,
   "metadata": {},
   "outputs": [],
   "source": [
    "video.delete_scene_collection(\"tt60sf\")"
   ]
  },
  {
   "cell_type": "markdown",
   "metadata": {},
   "source": [
    "## 👨‍💻 Next Steps\n",
    "---\n",
    "\n",
    "Check out the other resources and tutorials using Scene Indexing\n",
    "- Guide on [Configuring Vision model]() \n",
    "- Use Case oriented tutorials"
   ]
  },
  {
   "cell_type": "markdown",
   "metadata": {},
   "source": [
    "If you have any questions or feedback. Feel free to reach out to us 🙌🏼\n",
    "\n",
    "* [Discord](https://colab.research.google.com/corgiredirector?site=https%3A%2F%2Fdiscord.gg%2Fpy9P639jGz)\n",
    "* [GitHub](https://github.com/video-db)\n",
    "* [VideoDB](https://colab.research.google.com/corgiredirector?site=https%3A%2F%2Fvideodb.io)\n",
    "* [Email](ashu@videodb.io)"
   ]
  },
  {
   "cell_type": "markdown",
   "metadata": {},
   "source": []
  }
 ],
 "metadata": {
  "kernelspec": {
   "display_name": ".venv",
   "language": "python",
   "name": "python3"
  },
  "language_info": {
   "codemirror_mode": {
    "name": "ipython",
    "version": 3
   },
   "file_extension": ".py",
   "mimetype": "text/x-python",
   "name": "python",
   "nbconvert_exporter": "python",
   "pygments_lexer": "ipython3",
   "version": "3.11.7"
  }
 },
 "nbformat": 4,
 "nbformat_minor": 2
}
