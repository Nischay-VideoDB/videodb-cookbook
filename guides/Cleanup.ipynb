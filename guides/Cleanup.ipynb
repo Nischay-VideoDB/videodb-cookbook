{
 "cells": [
  {
   "cell_type": "markdown",
   "metadata": {},
   "source": [
    "## Guide: Cleanup \n",
    "\n",
    "<a href=\"https://colab.research.google.com/github/video-db/videodb-cookbook/blob/nb/main/guides/Cleanup.ipynb\" target=\"_parent\"><img src=\"https://colab.research.google.com/assets/colab-badge.svg\" alt=\"Open In Colab\"/></a>"
   ]
  },
  {
   "cell_type": "markdown",
   "metadata": {},
   "source": [
    "\n",
    "⚠️ **WARNING** ⚠️\n",
    "\n",
    "🔴 **PROCEED WITH CAUTION: This notebook contains operations that will permanently delete media files from your VideoDB account.**\n",
    "\n",
    "🚨 **IMPORTANT: Make sure to carefully review all media files before deletion as this action cannot be undone.**\n",
    "\n",
    "This guide helps you delete media files and clean up storage from your VideoDB account. You'll learn how to:\n",
    "\n",
    "* Delete videos\n",
    "* Remove audio files\n",
    "* Clean up images\n",
    "\n"
   ]
  },
  {
   "cell_type": "markdown",
   "metadata": {},
   "source": [
    "## 🛠️ Setup\n",
    "---"
   ]
  },
  {
   "cell_type": "markdown",
   "metadata": {},
   "source": [
    "Before proceeding, ensure access to [VideoDB](https://videodb.io) API key. "
   ]
  },
  {
   "cell_type": "code",
   "execution_count": null,
   "metadata": {},
   "outputs": [],
   "source": [
    "%pip install videodb"
   ]
  },
  {
   "cell_type": "code",
   "execution_count": 2,
   "metadata": {},
   "outputs": [],
   "source": [
    "import os\n",
    "from videodb import connect\n",
    "\n",
    "os.environ[\"VIDEO_DB_API_KEY\"] = \"YOUR_KEY_HERE\"\n",
    "\n",
    "conn = connect()"
   ]
  },
  {
   "cell_type": "markdown",
   "metadata": {},
   "source": [
    "## Review Collections \n",
    "---"
   ]
  },
  {
   "cell_type": "code",
   "execution_count": null,
   "metadata": {},
   "outputs": [],
   "source": [
    "colls = conn.get_collections()\n",
    "\n",
    "print(f\"There are {len(colls)} collections\")\n",
    "print()\n",
    "\n",
    "for coll in colls:\n",
    "    videos = coll.get_videos()\n",
    "    audios = coll.get_images()\n",
    "    images = coll.get_images()\n",
    "    \n",
    "    print(f\"Collection '{coll.name}' (id: {coll.id})\")\n",
    "    print(f\"  - Videos : {len(videos)}\")\n",
    "    print(f\"  - Audio  : {len(audios)}\")\n",
    "    print(f\"  - Images : {len(images)}\")\n",
    "    print()"
   ]
  },
  {
   "cell_type": "markdown",
   "metadata": {},
   "source": [
    "## Set the Collection \n",
    "---"
   ]
  },
  {
   "cell_type": "markdown",
   "metadata": {},
   "source": [
    "Set the Collection you wish to cleanup to this id"
   ]
  },
  {
   "cell_type": "code",
   "execution_count": 6,
   "metadata": {},
   "outputs": [],
   "source": [
    "collection_id = \"YOUR_COLLECTION_ID_HEREJk\""
   ]
  },
  {
   "cell_type": "markdown",
   "metadata": {},
   "source": [
    "### ⚠️ Delete All Videos \n",
    "---"
   ]
  },
  {
   "cell_type": "code",
   "execution_count": null,
   "metadata": {},
   "outputs": [],
   "source": [
    "coll = conn.get_collection(collection_id)\n",
    "videos = coll.get_videos()\n",
    "\n",
    "for video in videos:\n",
    "    video.delete()\n",
    "    print(f\"Deleted video {video.name} ({video.id})\")\n"
   ]
  },
  {
   "cell_type": "markdown",
   "metadata": {},
   "source": [
    "### ⚠️ Delete All Audios\n",
    "\n",
    "---"
   ]
  },
  {
   "cell_type": "code",
   "execution_count": null,
   "metadata": {},
   "outputs": [],
   "source": [
    "coll = conn.get_collection(collection_id)\n",
    "audios = coll.get_audios()\n",
    "\n",
    "for audio in audios:\n",
    "    audio.delete()\n",
    "    print(f\"Deleted audio {audio.name} ({audio.id})\")"
   ]
  },
  {
   "cell_type": "markdown",
   "metadata": {},
   "source": [
    "### ⚠️ Delete All Images \n",
    "\n",
    "---"
   ]
  },
  {
   "cell_type": "code",
   "execution_count": null,
   "metadata": {},
   "outputs": [],
   "source": [
    "coll = conn.get_collection(collection_id)\n",
    "images = coll.get_images()\n",
    "\n",
    "for image in images:\n",
    "    image.delete()\n",
    "    print(f\"Deleted image {image.name} ({image.id})\")"
   ]
  }
 ],
 "metadata": {
  "kernelspec": {
   "display_name": ".venv",
   "language": "python",
   "name": "python3"
  },
  "language_info": {
   "codemirror_mode": {
    "name": "ipython",
    "version": 3
   },
   "file_extension": ".py",
   "mimetype": "text/x-python",
   "name": "python",
   "nbconvert_exporter": "python",
   "pygments_lexer": "ipython3",
   "version": "3.11.7"
  }
 },
 "nbformat": 4,
 "nbformat_minor": 2
}
