{
 "cells": [
  {
   "cell_type": "markdown",
   "metadata": {},
   "source": [
    "# ✨ Generating Media with VideoDB: A Simple Guide\n"
   ]
  },
  {
   "cell_type": "markdown",
   "metadata": {},
   "source": [
    "\n",
    "<a href=\"https://colab.research.google.com/github/video-db/videodb-cookbook/blob/main/guides/genai.ipynb\" target=\"_parent\"><img src=\"https://colab.research.google.com/assets/colab-badge.svg\" alt=\"Open In Colab\"/></a>\n",
    "\n",
    "This guide shows you how to easily generate music, images, sound effects, voiceovers, and video clips using the VideoDB Python SDK."
   ]
  },
  {
   "cell_type": "markdown",
   "metadata": {},
   "source": [
    "### 🎯 Objective\n",
    "Learn the basic usage of VideoDB's generative functions to programmatically create various media assets from text prompts or existing videos.\n"
   ]
  },
  {
   "cell_type": "markdown",
   "metadata": {},
   "source": [
    "#### 📦 Install VideoDB SDK\n",
    "First, make sure you have the VideoDB library installed"
   ]
  },
  {
   "cell_type": "code",
   "execution_count": null,
   "metadata": {},
   "outputs": [],
   "source": [
    "!pip install videodb --upgrade"
   ]
  },
  {
   "cell_type": "markdown",
   "metadata": {},
   "source": [
    "#### 🔑 Connect to VideoDB\n",
    "\n"
   ]
  },
  {
   "cell_type": "markdown",
   "metadata": {},
   "source": [
    "Use your [API key](https://console.videodb.io) to connect and get your collection.\n"
   ]
  },
  {
   "cell_type": "code",
   "execution_count": null,
   "metadata": {},
   "outputs": [],
   "source": [
    "import videodb\n",
    "\n",
    "# Replace with your actual API key\n",
    "api_key = \"YOUR_API_KEY\"\n",
    "\n",
    "# Connect and get the default collection\n",
    "conn = videodb.connect(api_key=api_key)\n",
    "coll = conn.get_collection()\n",
    "\n",
    "print(f\"Connected! Using collection ID: {coll.id}\")\n"
   ]
  },
  {
   "cell_type": "markdown",
   "metadata": {},
   "source": [
    "## 🚀 Generating Media Assets"
   ]
  },
  {
   "cell_type": "markdown",
   "metadata": {},
   "source": [
    "Use the **coll** object to generate media.\n"
   ]
  },
  {
   "cell_type": "markdown",
   "metadata": {},
   "source": [
    "### 🖼️ Generate Image (`generate_image`)\n"
   ]
  },
  {
   "cell_type": "markdown",
   "metadata": {},
   "source": [
    "Create images from text."
   ]
  },
  {
   "cell_type": "code",
   "execution_count": null,
   "metadata": {},
   "outputs": [],
   "source": [
    "from IPython.display import Image\n",
    "\n",
    "image_prompt = \"Green neon sign jellyfish photography\" # Your prompt here\n",
    "print(f\"Generating image for: '{image_prompt}'\")\n",
    "\n",
    "# Generate image (returns an Image object)\n",
    "generated_image = coll.generate_image(prompt=image_prompt)\n",
    "\n",
    "print(f\"-> Image generation started! Image ID: {generated_image.id}\")\n",
    "\n",
    "# Get the URL\n",
    "image_url = generated_image.generate_url()\n",
    "print(f\"-> Image URL: {image_url}\")\n",
    "\n",
    "\n",
    "Image(url=image_url)"
   ]
  },
  {
   "cell_type": "markdown",
   "metadata": {},
   "source": [
    "**⚡ Power Up generate_image**: Configruation Options Explained\n",
    "\n",
    "*   `prompt` (str): **Required.** The text description for image generation.\n",
    "*   `aspect_ratio` (Literal['1:1', '9:16', '16:9', '4:3', '3:4'] | None): *Optional.* The desired aspect ratio. Defaults to `'1:1'`.\n",
    "*   `callback_url` (str | None): *Optional.* URL for completion notification. Defaults to `None`."
   ]
  },
  {
   "cell_type": "code",
   "execution_count": null,
   "metadata": {},
   "outputs": [],
   "source": [
    "generated_image = coll.generate_image(\n",
    "    prompt=image_prompt,\n",
    "    aspect_ratio=\"9:16\",  # Custom Aspect ratio\n",
    ")\n",
    "\n",
    "Image(url=generated_image.generate_url())"
   ]
  },
  {
   "cell_type": "markdown",
   "metadata": {},
   "source": [
    "### 🎵 Generate Music (`generate_music`)"
   ]
  },
  {
   "cell_type": "markdown",
   "metadata": {},
   "source": [
    "Create music from a text description."
   ]
  },
  {
   "cell_type": "code",
   "execution_count": null,
   "metadata": {},
   "outputs": [],
   "source": [
    "from IPython.display import Audio\n",
    "\n",
    "music_prompt = \"Upbeat electronic background music\"\n",
    "print(f\"Generating music for: '{music_prompt}'\")\n",
    "\n",
    "# Generate music (returns an Audio object)\n",
    "generated_music = coll.generate_music(prompt=music_prompt)\n",
    "\n",
    "# Get the URL \n",
    "music_url = generated_music.generate_url()\n",
    "print(f\"-> Music URL: {music_url}\")\n",
    "\n",
    "Audio(url=music_url, filename=\"audio.mp3\")"
   ]
  },
  {
   "cell_type": "markdown",
   "metadata": {},
   "source": [
    "**⚡ Power Up generate_music**: Configruation Options Explained\n",
    "\n",
    "*   `prompt` (str): **Required.** The text description of the music.\n",
    "*   `duration` (int): *Optional.* The desired duration of the music in seconds. Defaults to `5`.\n",
    "*   `callback_url` (str | None): *Optional.* A URL endpoint that VideoDB will notify when generation is complete. Defaults to `None`."
   ]
  },
  {
   "cell_type": "code",
   "execution_count": null,
   "metadata": {},
   "outputs": [],
   "source": [
    "generated_music = coll.generate_music(\n",
    "    prompt=music_prompt,\n",
    "    duration=10,  # Custom Duration\n",
    ")\n",
    "\n",
    "Audio(url=generated_music.generate_url(), filename=\"audio.mp3\")"
   ]
  },
  {
   "cell_type": "markdown",
   "metadata": {},
   "source": [
    "### 🔊 Generate Sound Effect (`generate_sound_effect`)\n"
   ]
  },
  {
   "cell_type": "markdown",
   "metadata": {},
   "source": [
    "Create short sounds.\n"
   ]
  },
  {
   "cell_type": "code",
   "execution_count": null,
   "metadata": {},
   "outputs": [],
   "source": [
    "from IPython.display import Audio\n",
    "\n",
    "sfx_prompt = \"Generate a sound of footsteps on wet gravel, for a mystery film scene. The sound should be realistic, rhythmic, and slightly echoey, around 3 seconds long \"  # Your prompt here\n",
    "print(f\"Generating sound effect for: '{sfx_prompt}'\")\n",
    "\n",
    "# Generate SFX (returns an Audio object)\n",
    "generated_sfx = coll.generate_sound_effect(prompt=sfx_prompt, duration=5)\n",
    "\n",
    "# Get the URL\n",
    "sfx_url = generated_sfx.generate_url()\n",
    "print(f\"-> SFX URL: {sfx_url}\")\n",
    "\n",
    "Audio(url=sfx_url, filename=\"audio.mp3\")"
   ]
  },
  {
   "cell_type": "markdown",
   "metadata": {},
   "source": [
    "### 🗣️ Generate Voice (`generate_voice`)\n"
   ]
  },
  {
   "cell_type": "markdown",
   "metadata": {},
   "source": [
    "Convert text to speech.\n"
   ]
  },
  {
   "cell_type": "code",
   "execution_count": null,
   "metadata": {},
   "outputs": [],
   "source": [
    "from IPython.display import Audio\n",
    "\n",
    "text_to_speak = \"This is an AI voice speaking. I was created using the generate_voice method in VideoDB!\" # Your text here\n",
    "print(f\"Generating voice for: '{text_to_speak}'\")\n",
    "\n",
    "# Generate voice (returns an Audio object)\n",
    "generated_voice = coll.generate_voice(text=text_to_speak)\n",
    "\n",
    "print(f\"-> Voice generation started! Audio ID: {generated_voice.id}\")\n",
    "\n",
    "# Get the URL \n",
    "voice_url = generated_voice.generate_url()\n",
    "print(f\"-> Voice URL : {voice_url}\")\n",
    "\n",
    "Audio(url=voice_url, filename=\"audio.mp3\")"
   ]
  },
  {
   "cell_type": "markdown",
   "metadata": {},
   "source": [
    "**⚡ Power Up generate_voice**: Configruation Options Explained\n",
    "\n",
    "*   `text` (str): **Required.** The text to be converted to speech.\n",
    "*   `voice_name` (str): *Optional.* Name of the voice to use (check VideoDB docs/console for options). Defaults to `'Default'`.\n",
    "*   `config` (dict): *Optional.* Configuration dictionary for the voice generation (e.g., speed, pitch; depends on provider). Defaults to `{}`.\n",
    "*   `callback_url` (str | None): *Optional.* URL for completion notification. Defaults to `None`."
   ]
  },
  {
   "cell_type": "markdown",
   "metadata": {},
   "source": [
    "**Voice Name**\n",
    "\n",
    "| Name      | Voice Style     | Accent        | Gender         |\n",
    "|-----------|------------------|---------------|----------------|\n",
    "| Aria      | Expressive       | American      | Female         |\n",
    "| Roger     | Confident        | American      | Male           |\n",
    "| Sarah     | Soft             | American      | Young Female   |\n",
    "| Laura     | Upbeat           | American      | Young Female   |\n",
    "| Charlie   | Natural          | Australian    | Male           |\n",
    "| George    | Warm             | British       | Middle-aged Male |\n",
    "| Callum    | Intense          | Transatlantic | Male           |\n",
    "| River     | Confident        | American      | Non-binary     |\n",
    "| Liam      | Articulate       | American      | Young Male     |\n",
    "| Charlotte | Seductive        | Swedish       | Young Female   |\n",
    "| Alice     | Confident        | British       | Middle-aged Female |\n",
    "| Matilda   | Friendly         | American      | Middle-aged Female |\n",
    "| Will      | Friendly         | American      | Young Male     |\n",
    "| Jessica   | Expressive       | American      | Young Female   |\n",
    "| Eric      | Friendly         | American      | Middle-aged Male |\n",
    "| Chris     | Casual           | American      | Middle-aged Male |\n",
    "| Brian     | Deep             | American      | Middle-aged Male |\n",
    "| Daniel    | Authoritative    | British       | Middle-aged Male |\n",
    "| Lily      | Warm             | British       | Middle-aged Female |\n",
    "| Bill      | Trustworthy      | American      | Old Male       |\n"
   ]
  },
  {
   "cell_type": "code",
   "execution_count": null,
   "metadata": {},
   "outputs": [],
   "source": [
    "generated_voice = coll.generate_voice(\n",
    "    text=text_to_speak,\n",
    "    voice_name=\"Charlotte\", # Custom Voice Name\n",
    "    config={\n",
    "        \"stability\": 0.0, # Determines how stable the voice is and the randomness between each generation. Lower values introduce broader emotional range for the voice. Higher values can result in a monotonous voice with limited emotion.\n",
    "        \"similarity_boost\": 1.0, #Determines how closely the AI should adhere to the original voice when attempting to replicate it.\n",
    "        \"style\": 0.0, # Determines the style exaggeration of the voice. This setting attempts to amplify the style of the original speaker. It does consume additional computational resources and might increase latency if set to anything other than 0.\n",
    "    },\n",
    ")\n",
    "\n",
    "\n",
    "Audio(url=generated_voice.generate_url(), filename=\"audio.mp3\")"
   ]
  },
  {
   "cell_type": "markdown",
   "metadata": {},
   "source": [
    "### 🎬 Generate Video (`generate_video`)\n",
    "\n",
    "Create short video clips (5-8 seconds)."
   ]
  },
  {
   "cell_type": "code",
   "execution_count": null,
   "metadata": {},
   "outputs": [],
   "source": [
    "video_prompt = \"Cinematic close-up of a majestic lion slowly rolling its head, its golden mane catching the soft afternoon sunlight on the savanna.\" # Your prompt here\n",
    "print(f\"Generating video for: '{video_prompt}'\")\n",
    "\n",
    "# Generate video (returns a Video object)\n",
    "# Duration must be 5-8 seconds if specified (e.g., duration=7)\n",
    "generated_video = coll.generate_video(prompt=video_prompt)\n",
    "\n",
    "\n",
    "# Play the video\n",
    "generated_video.play()"
   ]
  },
  {
   "cell_type": "markdown",
   "metadata": {},
   "source": [
    "**Configuration Options (`generate_video`):**\n",
    "\n",
    "*   `prompt` (str): **Required.** Text prompt for video generation.\n",
    "*   `duration` (float): *Optional.* Duration in seconds. **Must be an integer value between 5 and 8 (inclusive).** Defaults to `5`. Raises `ValueError` if invalid.\n",
    "*   `callback_url` (str | None): *Optional.* URL for completion notification. Defaults to `None`."
   ]
  },
  {
   "cell_type": "code",
   "execution_count": 45,
   "metadata": {},
   "outputs": [
    {
     "data": {
      "text/plain": [
       "'https://console.videodb.io/player?url=https://stream.videodb.io/v3/published/manifests/00c80d5f-ea39-4a36-a0dc-2a3559430e39.m3u8'"
      ]
     },
     "execution_count": 45,
     "metadata": {},
     "output_type": "execute_result"
    }
   ],
   "source": [
    "generated_video = coll.generate_video(\n",
    "    prompt=video_prompt,\n",
    "    duration=7,  # Custom Duration\n",
    ")\n",
    "generated_video.play()"
   ]
  },
  {
   "cell_type": "markdown",
   "metadata": {},
   "source": [
    "### 🌐 Search YouTube Videos (`youtube_search`)"
   ]
  },
  {
   "cell_type": "markdown",
   "metadata": {},
   "source": [
    "Find relevant YouTube videos using the main **conn** object."
   ]
  },
  {
   "cell_type": "code",
   "execution_count": null,
   "metadata": {},
   "outputs": [],
   "source": [
    "search_query = \"learn python programming\"\n",
    "print(f\"\\nSearching YouTube for: '{search_query}'\")\n",
    "\n",
    "youtube_results = conn.youtube_search(query=search_query)\n",
    "\n",
    "print(f\"-> Found {len(youtube_results)} YouTube results:\")\n",
    "for i, result in enumerate(youtube_results):\n",
    "    print(f\"  {i+1}. {result.get('title', 'N/A')} ({result.get('link', 'N/A')})\")"
   ]
  },
  {
   "cell_type": "markdown",
   "metadata": {},
   "source": [
    "**⚡ Power Up youtube_search**: Configruation Options Explained\n",
    "\n",
    "*   `query` (str): **Required.** Query string to search for on YouTube.\n",
    "*   `result_threshold` (int | None): *Optional.* Maximum number of results to return. Defaults to `10`.\n",
    "*   `duration` (str): *Optional.* Filter by video duration (e.g., 'short', 'medium', 'long'). Defaults to `'medium'`."
   ]
  },
  {
   "cell_type": "code",
   "execution_count": null,
   "metadata": {},
   "outputs": [],
   "source": [
    "youtube_results = conn.youtube_search(\n",
    "    query=search_query,\n",
    "    result_threshold=3,  # Get top 3\n",
    "    duration=\"long\"\n",
    ")\n",
    "\n",
    "print(f\"-> Found {len(youtube_results)} YouTube results:\")\n",
    "for i, result in enumerate(youtube_results):\n",
    "    print(f\"  {i+1}. {result.get('title', 'N/A')} ({result.get('link', 'N/A')})\")"
   ]
  },
  {
   "cell_type": "markdown",
   "metadata": {},
   "source": [
    "### 📝 Translate Video Transcripts (`translate_transcript`)\n",
    "\n",
    "Get a translated text version of a video's spoken content."
   ]
  },
  {
   "cell_type": "code",
   "execution_count": null,
   "metadata": {},
   "outputs": [],
   "source": [
    "upload_url = \"https://www.youtube.com/watch?v=a9__D53WsUs\" # Example video\n",
    "\n",
    "print(f\"\\nUploading video from URL for modification: {upload_url}\")\n",
    "video = coll.upload(url=upload_url)\n",
    "video.play()\n",
    "\n",
    "\n",
    "# 2. Target_transcript_language = \"fr\" # Example: French\n",
    "target_language_code = \"fr\" # Example: French \n",
    "print(f\"\\nTranslating transcript for video '{video.id}' into: '{target_language_code}'\")\n",
    "\n",
    "# Note: Video needs transcribed spoken words.\n",
    "video.index_spoken_words()\n",
    "\n",
    "translated_transcript = video.translate_transcript(language=target_language_code)\n",
    "print(\"-> Transcript translation process completed.\")\n",
    "print(translated_transcript) # Example: View first 3 segments\n"
   ]
  },
  {
   "cell_type": "markdown",
   "metadata": {},
   "source": [
    "**⚡ Power Up translate_transcript:** Configuration Options Explained\n",
    "\n",
    "*   `language` (str): **Required.** Target language for the transcript translation.\n",
    "*   `additional_notes` (str): *Optional.* Additional notes or context for the translation model regarding style or tone. Defaults to `''`.\n",
    "*   `callback_url` (str | None): *Optional.* URL for completion notification. Defaults to `None`."
   ]
  },
  {
   "cell_type": "code",
   "execution_count": null,
   "metadata": {},
   "outputs": [],
   "source": [
    "translated_transcript = video.translate_transcript(\n",
    "    language=\"en\",\n",
    "    additional_notes=\"Translate the language, and give a Gen-z mordern touch\",  # additional notes\n",
    ")\n",
    "\n",
    "print(\"-> Transcript translation process completed.\")\n",
    "print(translated_transcript) # Example: View first 3 segments"
   ]
  },
  {
   "cell_type": "markdown",
   "metadata": {},
   "source": [
    "### 🎤 Dub Existing Videos (`dub_video`)\n",
    "Translate the spoken audio of a video you've uploaded.\n"
   ]
  },
  {
   "cell_type": "code",
   "execution_count": null,
   "metadata": {},
   "outputs": [],
   "source": [
    "# 1. Upload a video first (if you haven't already)\n",
    "upload_url = \"https://www.youtube.com/watch?v=FgrO9ADPZSA\" # Example video\n",
    "\n",
    "print(f\"\\nUploading video from URL for modification: {upload_url}\")\n",
    "video = coll.upload(url=upload_url)\n",
    "video.play()\n",
    "\n",
    "# 2. Dub the uploaded video\n",
    "target_language_code = \"hi\" # Example: German\n",
    "\n",
    "print(f\"\\nDubbing video '{video.id}' into language: '{target_language_code}'\")\n",
    "dubbed_video = coll.dub_video(video_id=video.id, language_code=target_language_code)\n",
    "\n",
    "print(f\"-> Dubbing Done! New Video ID: {dubbed_video.id}\")\n",
    "dubbed_video.play()\n"
   ]
  },
  {
   "cell_type": "markdown",
   "metadata": {},
   "source": [
    "**⚡ Power Up dub_video:** Configuration Options Explained\n",
    "\n",
    "*   `video_id` (str): **Required.** The ID of the video in your collection to dub.\n",
    "*   `language_code` (str): **Required.** Target language code (e.g., \"es\", \"fr\", \"ja\"). Check VideoDB documentation for supported codes.\n",
    "*   `callback_url` (str | None): *Optional.* URL for completion notification. Defaults to `None`."
   ]
  }
 ],
 "metadata": {
  "kernelspec": {
   "display_name": "Python 3",
   "language": "python",
   "name": "python3"
  },
  "language_info": {
   "codemirror_mode": {
    "name": "ipython",
    "version": 3
   },
   "file_extension": ".py",
   "mimetype": "text/x-python",
   "name": "python",
   "nbconvert_exporter": "python",
   "pygments_lexer": "ipython3",
   "version": "3.9.6"
  }
 },
 "nbformat": 4,
 "nbformat_minor": 2
}
