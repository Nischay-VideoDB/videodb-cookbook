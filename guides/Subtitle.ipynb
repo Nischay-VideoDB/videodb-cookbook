{
 "cells": [
  {
   "cell_type": "markdown",
   "metadata": {},
   "source": [
    "## Guide: Subtitles\n",
    "\n",
    "<a href=\"https://colab.research.google.com/github/video-db/videodb-cookbook/blob/nb/main/guides/video/Subtitle.ipynb\" target=\"_parent\"><img src=\"https://colab.research.google.com/assets/colab-badge.svg\" alt=\"Open In Colab\"/></a>"
   ]
  },
  {
   "cell_type": "markdown",
   "metadata": {},
   "source": [
    "## Adding Subtitle\n",
    "---"
   ]
  },
  {
   "cell_type": "markdown",
   "metadata": {},
   "source": [
    "This guide gives you an introduction to adding Subtitle Styles by showing you **visual outputs** of the configurations available for the SubtitleStyle class, such as\n",
    "\n",
    "* Typography and Style\n",
    "* Color and Effects\n",
    "* Positioning and Margins\n",
    "* Text Transformation\n",
    "* Borders and Shadow"
   ]
  },
  {
   "cell_type": "markdown",
   "metadata": {},
   "source": [
    "## 🛠️ Setup\n",
    "---"
   ]
  },
  {
   "cell_type": "markdown",
   "metadata": {},
   "source": [
    "### 📦  Installing packages      "
   ]
  },
  {
   "cell_type": "code",
   "execution_count": null,
   "metadata": {},
   "outputs": [],
   "source": [
    "%pip install videodb"
   ]
  },
  {
   "cell_type": "markdown",
   "metadata": {},
   "source": [
    "### 🔑 API Keys\n",
    "Before proceeding, ensure access to [VideoDB](https://videodb.io) API key. \n",
    "\n",
    "> Get your API key from [VideoDB Console](https://console.videodb.io). ( Free for first 50 uploads, **No credit card required** ) 🎉"
   ]
  },
  {
   "cell_type": "code",
   "execution_count": 3,
   "metadata": {},
   "outputs": [],
   "source": [
    "import os\n",
    "os.environ[\"VIDEO_DB_API_KEY\"] = \"\""
   ]
  },
  {
   "cell_type": "markdown",
   "metadata": {},
   "source": [
    "### 🌐 Connect to VideoDB"
   ]
  },
  {
   "cell_type": "code",
   "execution_count": 4,
   "metadata": {},
   "outputs": [],
   "source": [
    "from videodb import connect\n",
    "\n",
    "conn = connect()\n",
    "coll = conn.get_collection()"
   ]
  },
  {
   "cell_type": "markdown",
   "metadata": {},
   "source": [
    "### 🎥  Upload Video\n",
    "Upload a base video to add subtitle.  For this guide, we’ll use following video."
   ]
  },
  {
   "cell_type": "code",
   "execution_count": 5,
   "metadata": {},
   "outputs": [
    {
     "data": {
      "text/plain": [
       "'https://console.videodb.io/player?url=https://stream.videodb.io/v3/published/manifests/ef6ef08c-b276-4e1d-b1d0-f0525e697d46.m3u8'"
      ]
     },
     "execution_count": 5,
     "metadata": {},
     "output_type": "execute_result"
    }
   ],
   "source": [
    "video = coll.upload(url=\"https://www.youtube.com/watch?v=il39Ks4mV9g\")\n",
    "video.play()"
   ]
  },
  {
   "cell_type": "markdown",
   "metadata": {},
   "source": [
    ">️ ℹ️  You can upload from your local file system too by passing `file_path` in `upload()` "
   ]
  },
  {
   "cell_type": "markdown",
   "metadata": {},
   "source": [
    "## 🔊  Index Spoken Words \n",
    "---"
   ]
  },
  {
   "cell_type": "markdown",
   "metadata": {},
   "source": [
    "First, we need to index the video using `video.index_spoken_words()`.  This ensures the availability of the transcript."
   ]
  },
  {
   "cell_type": "code",
   "execution_count": 6,
   "metadata": {},
   "outputs": [
    {
     "name": "stderr",
     "output_type": "stream",
     "text": [
      "100%|████████████████████████████████████████████████████████████████████████████████████████████████████| 100/100 [00:32<00:00,  3.04it/s]\n"
     ]
    }
   ],
   "source": [
    "video.index_spoken_words()"
   ]
  },
  {
   "cell_type": "markdown",
   "metadata": {},
   "source": [
    "## 📝 Default Subtitles\n",
    "---"
   ]
  },
  {
   "cell_type": "markdown",
   "metadata": {},
   "source": [
    "To add subtitles to your video you can use `Video.add_subtitle()` .\n",
    "\n",
    "This method returns a streaming link, which you can play using `play_stream()` method"
   ]
  },
  {
   "cell_type": "code",
   "execution_count": 7,
   "metadata": {},
   "outputs": [
    {
     "data": {
      "text/plain": [
       "'https://console.videodb.io/player?url=https://stream.videodb.io/v3/published/manifests/76e0206d-b3af-4a74-9628-54636bf22ddf.m3u8'"
      ]
     },
     "execution_count": 7,
     "metadata": {},
     "output_type": "execute_result"
    }
   ],
   "source": [
    "from videodb import play_stream \n",
    "\n",
    "# Add Subtitle to Video\n",
    "stream_url = video.add_subtitle()\n",
    "\n",
    "# Play stream\n",
    "play_stream(stream_url)"
   ]
  },
  {
   "cell_type": "markdown",
   "metadata": {},
   "source": [
    "## 📝 Custom Styled Subtitles\n",
    "---"
   ]
  },
  {
   "cell_type": "markdown",
   "metadata": {},
   "source": [
    "To customise the style of subtitle, pass `SubtitleStytle()`  with configured styles to `Video.add_subtitle()` "
   ]
  },
  {
   "cell_type": "markdown",
   "metadata": {},
   "source": [
    "> ℹ️ View API Reference for SubtitleStyle class"
   ]
  },
  {
   "cell_type": "markdown",
   "metadata": {},
   "source": [
    "### 1. Typography and Style"
   ]
  },
  {
   "cell_type": "markdown",
   "metadata": {},
   "source": [
    "Configure Typography of the Subtitle by passing following parameters to `SubtitleStyle()` class \n",
    "\n",
    "* `font_name` : The name of the font to use for the subtitles. \n",
    "* `font_size` : The size(px) of the font\n",
    "* `spacing` : Spacing(px) between characters\n",
    "* `bold` : Set to `True` for bold text\n",
    "* `italic` : Set to `True` for italic text\n",
    "* `underline` : Set to `True` for underlined text\n",
    "* `strike_out` : Set to `True` for strike-through text"
   ]
  },
  {
   "cell_type": "code",
   "execution_count": 13,
   "metadata": {},
   "outputs": [
    {
     "data": {
      "text/plain": [
       "'https://console.videodb.io/player?url=https://stream.videodb.io/v3/published/manifests/86d9e2a6-b0d9-4333-9013-bf355fea051d.m3u8'"
      ]
     },
     "execution_count": 13,
     "metadata": {},
     "output_type": "execute_result"
    }
   ],
   "source": [
    "from videodb import SubtitleStyle \n",
    "\n",
    "stream_url = video.add_subtitle(\n",
    "    SubtitleStyle(\n",
    "        font_name = \"Roboto\",\n",
    "        font_size = 12,\n",
    "        spacing =  0,\n",
    "        bold = False,\n",
    "        italic = False,\n",
    "        underline = False,\n",
    "        strike_out = False\n",
    "  )\n",
    ")\n",
    "play_stream(stream_url)"
   ]
  },
  {
   "cell_type": "markdown",
   "metadata": {},
   "source": [
    "![](https://github.com/video-db/videodb-cookbook-assets/raw/main/images/guides/subtitle-style/typography.png)"
   ]
  },
  {
   "cell_type": "markdown",
   "metadata": {},
   "source": [
    "### 2. Color and Effects"
   ]
  },
  {
   "cell_type": "markdown",
   "metadata": {},
   "source": [
    "Configure color of Subtitle by passing following parameters to `SubtitleStyle()` class \n",
    "\n",
    "* `primary_colour` : The color of the main subtitle text. \n",
    "* `secondary_colour` : The color used for karaoke or secondary effects. \n",
    "* `outline_colour` : The color of the outline of the text.\n",
    "* `back_colour` : The color of the subtitle background."
   ]
  },
  {
   "cell_type": "markdown",
   "metadata": {},
   "source": [
    ">**ℹ️ Format of Color** \n",
    ">\n",
    ">`SubtitleStyle` accepts colors in the `&HBBGGRR` hexadecimal format, where the sequence represents the blue, green, and red components, `&H` prefix is required in this color format. \n",
    ">\n",
    ">And when transparency is needed, an alpha value is placed at the beginning, yielding `&HAABBGGRR`. "
   ]
  },
  {
   "cell_type": "code",
   "execution_count": 9,
   "metadata": {},
   "outputs": [
    {
     "data": {
      "text/plain": [
       "'https://console.videodb.io/player?url=https://stream.videodb.io/v3/published/manifests/f59f13f4-d2ac-4589-83b7-58cdbb8e9154.m3u8'"
      ]
     },
     "execution_count": 9,
     "metadata": {},
     "output_type": "execute_result"
    }
   ],
   "source": [
    "from videodb import SubtitleStyle\n",
    "\n",
    "stream_url = video.add_subtitle(\n",
    "    SubtitleStyle(\n",
    "        primary_colour = \"&H00A5CFFF\",\n",
    "        secondary_colour = \"&H00FFFF00\", \n",
    "        outline_colour = \"&H000341C1\", \n",
    "        back_colour = \"&H803B3B3B\",\n",
    "  )\n",
    ")\n",
    "play_stream(stream_url)"
   ]
  },
  {
   "cell_type": "markdown",
   "metadata": {},
   "source": [
    "![](https://github.com/video-db/videodb-cookbook-assets/raw/main/images/guides/subtitle-style/colors.png)"
   ]
  },
  {
   "cell_type": "markdown",
   "metadata": {},
   "source": [
    "### 3. Position and Margins"
   ]
  },
  {
   "cell_type": "markdown",
   "metadata": {},
   "source": [
    "Configure alignment and position of Subtitle by passing following parameters to `SubtitleStyle()` class\n",
    "\n",
    "* `alignment` : Alignment of subtitle. Accepts a value a type SubtitleAlignment  \n",
    "* `margin_l` : Sets margin area on left side of Subtitle box \n",
    "* `margin_r` : Sets margin area on right side of Subtitle box\n",
    "* `margin_v` : Sets margin area of top and bottom of Subtitle box"
   ]
  },
  {
   "cell_type": "markdown",
   "metadata": {},
   "source": [
    "\n",
    "> ℹ️ View API Reference to know more about `SubtitleAlignment` "
   ]
  },
  {
   "cell_type": "code",
   "execution_count": 10,
   "metadata": {},
   "outputs": [
    {
     "data": {
      "text/plain": [
       "'https://console.videodb.io/player?url=https://stream.videodb.io/v3/published/manifests/d32a4ae4-e19f-4ca9-9438-4d7b94e327b2.m3u8'"
      ]
     },
     "execution_count": 10,
     "metadata": {},
     "output_type": "execute_result"
    }
   ],
   "source": [
    "from videodb import SubtitleStyle, SubtitleAlignment\n",
    "\n",
    "stream_url = video.add_subtitle(\n",
    "    SubtitleStyle(\n",
    "      alignment = SubtitleAlignment.middle_center,\n",
    "      margin_l = 10,\n",
    "      margin_r = 10,\n",
    "      margin_v = 20,\n",
    "  )\n",
    ")\n",
    "play_stream(stream_url)"
   ]
  },
  {
   "cell_type": "markdown",
   "metadata": {},
   "source": [
    "![](https://github.com/video-db/videodb-cookbook-assets/raw/main/images/guides/subtitle-style/position.png)"
   ]
  },
  {
   "cell_type": "markdown",
   "metadata": {},
   "source": [
    "### 4. Text Transformation"
   ]
  },
  {
   "cell_type": "markdown",
   "metadata": {},
   "source": [
    "Transform the text size and spacing by passing following parameters to `SubtitleStyle()` class \n",
    "\n",
    "* `scale_x` : Factor for scaling of the font horizontally \n",
    "* `scale_y` :  Factor for scaling of the font vertically\n",
    "* `angle` : Rotation angle(degress) of the text "
   ]
  },
  {
   "cell_type": "code",
   "execution_count": 11,
   "metadata": {},
   "outputs": [
    {
     "data": {
      "text/plain": [
       "'https://console.videodb.io/player?url=https://stream.videodb.io/v3/published/manifests/f7ebe6d2-a181-46ad-aae3-e824446dc2a4.m3u8'"
      ]
     },
     "execution_count": 11,
     "metadata": {},
     "output_type": "execute_result"
    }
   ],
   "source": [
    "from videodb import SubtitleStyle\n",
    "\n",
    "stream_url = video.add_subtitle(\n",
    "    SubtitleStyle(\n",
    "      scale_x = 1.5,\n",
    "      scale_y = 3,\n",
    "      angle = 0,\n",
    "  )\n",
    ")\n",
    "play_stream(stream_url)"
   ]
  },
  {
   "cell_type": "markdown",
   "metadata": {},
   "source": [
    "![](https://github.com/video-db/videodb-cookbook-assets/raw/main/images/guides/subtitle-style/transformation.png)"
   ]
  },
  {
   "cell_type": "markdown",
   "metadata": {},
   "source": [
    "### 5. Borders and Shadow"
   ]
  },
  {
   "cell_type": "markdown",
   "metadata": {},
   "source": [
    "Add border style, outline and shadow by passing following parameters to `SubtitleStyle()` class \n",
    "\n",
    "* `border_style` : Border style of subtitle. Accepts a value a type `SubtitleBorderStyle`   \n",
    "* `outline` : The width(px) of the outline around the text.\n",
    "* `shadow` : The depth(px) of the shadow behind the text\n",
    "\n",
    "> ℹ️ View API Reference to know more about `SubtitleBorderStyle` "
   ]
  },
  {
   "cell_type": "code",
   "execution_count": 15,
   "metadata": {},
   "outputs": [
    {
     "data": {
      "text/plain": [
       "'https://console.videodb.io/player?url=https://stream.videodb.io/v3/published/manifests/cbbc8812-0fcf-467f-aac6-1976582146bd.m3u8'"
      ]
     },
     "execution_count": 15,
     "metadata": {},
     "output_type": "execute_result"
    }
   ],
   "source": [
    "from videodb import SubtitleStyle, SubtitleBorderStyle\n",
    "\n",
    "stream_url = video.add_subtitle(\n",
    "    SubtitleStyle(\n",
    "        shadow = 2,\n",
    "        back_colour = \"&H00000000\",\n",
    "        border_style = SubtitleBorderStyle.no_border\n",
    "    )\n",
    ")\n",
    "play_stream(stream_url)"
   ]
  },
  {
   "cell_type": "markdown",
   "metadata": {},
   "source": [
    "![](https://github.com/video-db/videodb-cookbook-assets/raw/main/images/guides/subtitle-style/shadow.png)"
   ]
  },
  {
   "cell_type": "markdown",
   "metadata": {},
   "source": [
    "## 👨‍💻 Next Steps \n",
    "---"
   ]
  },
  {
   "cell_type": "markdown",
   "metadata": {},
   "source": [
    "Check out the other resources and tutorials using VideoDB Subtitle.\n",
    "\n",
    "* ←- Link to reference → \n",
    "* [Enhancing Video Captions with VideoDB Subtitle Styling](https://coda.io/d/_dnIYgjBK4eB/_sulRy)\n",
    "\n",
    "\n",
    "\n",
    "If you have any questions or feedback. Feel free to reach out to us 🙌🏼\n",
    "\n",
    "* [Discord](https://colab.research.google.com/corgiredirector?site=https%3A%2F%2Fdiscord.gg%2Fpy9P639jGz)\n",
    "* [GitHub](https://github.com/video-db)\n",
    "* [VideoDB](https://colab.research.google.com/corgiredirector?site=https%3A%2F%2Fvideodb.io)\n",
    "* [Email](ashu@videodb.io)"
   ]
  },
  {
   "cell_type": "markdown",
   "metadata": {},
   "source": []
  }
 ],
 "metadata": {
  "kernelspec": {
   "display_name": "Python 3 (ipykernel)",
   "language": "python",
   "name": "python3"
  },
  "language_info": {
   "codemirror_mode": {
    "name": "ipython",
    "version": 3
   },
   "file_extension": ".py",
   "mimetype": "text/x-python",
   "name": "python",
   "nbconvert_exporter": "python",
   "pygments_lexer": "ipython3",
   "version": "3.12.0"
  }
 },
 "nbformat": 4,
 "nbformat_minor": 4
}
