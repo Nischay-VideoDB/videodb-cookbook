{
 "cells": [
  {
   "cell_type": "markdown",
   "metadata": {},
   "source": [
    "# ✍️ Mastering Video Scene Indexing: A Deep Dive into Prompt Engineering \n",
    "\n",
    "<a href=\"https://colab.research.google.com/github/video-db/videodb-cookbook/blob/main/guides/multimodal/Prompt_Experiments_and_Benchmarking.ipynb\" target=\"_parent\"><img src=\"https://colab.research.google.com/assets/colab-badge.svg\" alt=\"Open In Colab\"/></a>"
   ]
  },
  {
   "cell_type": "markdown",
   "metadata": {},
   "source": [
    "## Introduction \n",
    "\n",
    "As developers working on video processing, we often face challenges in accurately indexing and describing complex scenes. This blog post explores how strategic prompt engineering can significantly enhance our ability to extract detailed information from video frames, opening up new possibilities for advanced video search and analysis."
   ]
  },
  {
   "cell_type": "markdown",
   "metadata": {},
   "source": [
    "## Goal of the Experiment:\n",
    "\n",
    "---\n",
    "\n",
    "Our primary objective was to demonstrate how refined prompts can significantly improve search results and information extraction from video content. We aimed to create a system capable of accurately identifying objects, actions, and even emotions in various video scenes. For this particular experiment, we used video footage from a [dog show](https://www.youtube.com/watch?v=_T3n-2zOrZQ), featuring various breeds walking down a runway with their handlers, surrounded by spectators and photographers. Our goal was to create prompts that could answer detailed queries like `\"Show me the happiest moments featuring a Golden Retriever\"`  with high precision."
   ]
  },
  {
   "cell_type": "markdown",
   "metadata": {},
   "source": [
    "## Setup\n",
    "---"
   ]
  },
  {
   "cell_type": "markdown",
   "metadata": {},
   "source": [
    "### 📦  Installing packages "
   ]
  },
  {
   "cell_type": "code",
   "execution_count": null,
   "metadata": {},
   "outputs": [],
   "source": [
    "%pip install videodb matplotlib"
   ]
  },
  {
   "cell_type": "markdown",
   "metadata": {},
   "source": [
    "### 🔑 API keys\n",
    "Before proceeding, ensure access to [VideoDB](https://videodb.io). If not, sign up for API access on the respective platforms.\n",
    "\n",
    "> Get your API key from [VideoDB Console](https://console.videodb.io). ( Free for first 50 uploads, **No credit card required** ) 🎉"
   ]
  },
  {
   "cell_type": "code",
   "execution_count": 1,
   "metadata": {},
   "outputs": [],
   "source": [
    "import os\n",
    "\n",
    "os.environ[\"VIDEO_DB_API_KEY\"] = \"\""
   ]
  },
  {
   "cell_type": "markdown",
   "metadata": {},
   "source": [
    "## Guide Walkthrough\n",
    "\n",
    "---"
   ]
  },
  {
   "cell_type": "markdown",
   "metadata": {},
   "source": [
    "### 📋 Step 1: Connect to VideoDB\n",
    "\n",
    "Gear up by establishing a connection to VideoDB "
   ]
  },
  {
   "cell_type": "code",
   "execution_count": 2,
   "metadata": {},
   "outputs": [],
   "source": [
    "from videodb import connect\n",
    "\n",
    "# Connect to VideoDB using your API key\n",
    "conn = connect()\n",
    "coll = conn.get_collection()"
   ]
  },
  {
   "cell_type": "markdown",
   "metadata": {},
   "source": [
    "### 🎬 Step 2: Upload the Video "
   ]
  },
  {
   "cell_type": "code",
   "execution_count": 3,
   "metadata": {},
   "outputs": [],
   "source": [
    "video = coll.upload(url=\"https://www.youtube.com/watch?v=_T3n-2zOrZQ\")"
   ]
  },
  {
   "cell_type": "markdown",
   "metadata": {},
   "source": [
    "### 📸️ Step 3: Extracting Scenes without needing to index"
   ]
  },
  {
   "cell_type": "code",
   "execution_count": 4,
   "metadata": {},
   "outputs": [],
   "source": [
    "from videodb import SceneExtractionType\n",
    "\n",
    "# Example: Time-based extraction every 15 seconds\n",
    "scene_collection = video.extract_scenes(\n",
    "    extraction_type=SceneExtractionType.time_based,\n",
    "    extraction_config={\"time\": 15, \"select_frames\": [\"first\", \"middle\", \"last\"]},\n",
    ")"
   ]
  },
  {
   "cell_type": "markdown",
   "metadata": {},
   "source": [
    "#### `Note`: Image upload might take time (5s-60s). Re-fetch the scene collection if `Frame.url` is None"
   ]
  },
  {
   "cell_type": "code",
   "execution_count": 5,
   "metadata": {},
   "outputs": [
    {
     "name": "stdout",
     "output_type": "stream",
     "text": [
      "https://storage.googleapis.com/videodb-dev.appspot.com/media/u-cc36fd41-567b-4ab5-8b05-d215437275f3/m-d6d877a5-33e4-4f3c-bf9a-bf6ebefab68d/frames/frm-scn-tt15sflm-0.0-15.015-0.0/img-96e571ba-40aa-48b6-a605-71b89527a22f.png\n"
     ]
    }
   ],
   "source": [
    "scene_collection = video.get_scene_collection(scene_collection.id)\n",
    "print(scene_collection.scenes[0].frames[0].url)"
   ]
  },
  {
   "cell_type": "markdown",
   "metadata": {},
   "source": [
    "### ✍️ Step 4: Experimenting with Prompts\n",
    "\n",
    "Frame-Level vs Scene-Level Prompting:\n",
    "\n",
    "In our experiment, we explored both frame-level and scene-level prompting:\n",
    "\n",
    "* Frame-level prompts focus on extracting information from individual frames.\n",
    "* Scene-level prompts analyze a series of frames to describe the overall action.\n",
    "\n",
    "Important Considerations:\n",
    "\n",
    "1. Computational Cost: Frame-level descriptions, while providing granular detail, are computationally heavy and potentially costly. It's not always necessary or efficient to use them for every use case.\n",
    "2. Strategic Approach: A recommended strategy is to use frame prompts as a tuning mechanism. By testing and refining frame-level prompts, we can identify the most effective way to extract information from the vision model. Once optimized, we can incorporate these insights into scene-level prompts, potentially achieving high accuracy without the computational overhead of frame-by-frame analysis.\n",
    "\n",
    "\n",
    "\n",
    "Let's walk through our prompt iterations and their outputs:"
   ]
  },
  {
   "cell_type": "markdown",
   "metadata": {},
   "source": [
    "### Frame-level Prompts:"
   ]
  },
  {
   "cell_type": "markdown",
   "metadata": {},
   "source": [
    "#### 1️⃣ Frame Prompt: Basic animal identification"
   ]
  },
  {
   "cell_type": "code",
   "execution_count": null,
   "metadata": {},
   "outputs": [],
   "source": [
    "frame_prompt1 = \"\"\"\n",
    "You will be provided with an image. Your task is to identify and describe the animals in the image.\n",
    "1. Identify Animals: List distinct animals in the image.\n",
    "2. Describe animals: Provide a brief description of each animal, including breed, color, and any other notable features.\n",
    "\n",
    "Output should be a list of objects.\n",
    "Expected Output:\n",
    "[{\"name\": \"dog\", \"context\": \"a black dog with thick fur and a yellow collar is jumping onto the couch\"}]\n",
    "\"\"\"\n",
    "\n",
    "print(\"Results for Basic Animal Identification Prompt:\")\n",
    "# Limiting to first 2 scenes for brevity\n",
    "for scene in scene_collection.scenes[:2]:\n",
    "    for frame in scene.frames:\n",
    "        try:\n",
    "            description = frame.describe(prompt=frame_prompt1)\n",
    "            print(\"\\n--------------\")\n",
    "            print(frame.frame_time)\n",
    "            print(description)\n",
    "        except Exception as e:\n",
    "            print(f\"Error describing frame at {frame.frame_time}: {e}\")"
   ]
  },
  {
   "cell_type": "markdown",
   "metadata": {},
   "source": [
    "`Note` : This output lacked specificity in breed identification and environmental context. Our next prompt aims to address these issues."
   ]
  },
  {
   "cell_type": "markdown",
   "metadata": {},
   "source": [
    "#### 2️⃣ Enhanced breed identification and spatial information"
   ]
  },
  {
   "cell_type": "code",
   "execution_count": null,
   "metadata": {},
   "outputs": [],
   "source": [
    "frame_prompt2 = \"\"\"\n",
    "You will be provided with an image. Your task is to identify the animals and their breeds in the image.\n",
    "1. Identify Animals: List distinct animals and their breed in the image.\n",
    "2. Describe the environment: Provide a brief description of the interaction between the animals and the objects or the environment around them.\n",
    "\n",
    "Output should be a list of objects.\n",
    "Expected Output:\n",
    "[{\"name\": \"Dog - Poodle\", \"context\": \"A Poodle being led down a carpeted path by a handler in the green dress, participating in what appears to be a dog show.\"}]\n",
    "\"\"\"\n",
    "\n",
    "print(\"Results for Enhanced Breed Identification Prompt:\")\n",
    "for scene in scene_collection.scenes[:2]:  # Limiting to first 2 scenes for brevity\n",
    "    for frame in scene.frames:\n",
    "        try:\n",
    "            description = frame.describe(prompt=frame_prompt2)\n",
    "            print(\"\\n--------------\")\n",
    "            print(frame.frame_time)\n",
    "            print(description)\n",
    "        except Exception as e:\n",
    "            print(f\"Error describing frame at {frame.frame_time}: {e}\")"
   ]
  },
  {
   "cell_type": "markdown",
   "metadata": {},
   "source": [
    "`Note` : This output significantly improved breed identification and provided more environmental context. With this satisfactory frame-level output, we're now ready to incorporate these learnings into scene-level prompts. \n",
    "\n",
    "However, let's first examine what a generic scene-level prompt can achieve without the added context from our frame-level experiments."
   ]
  },
  {
   "cell_type": "markdown",
   "metadata": {},
   "source": [
    "### Scene-level:"
   ]
  },
  {
   "cell_type": "markdown",
   "metadata": {},
   "source": [
    "#### 1️⃣ Basic scene-level prompt"
   ]
  },
  {
   "cell_type": "code",
   "execution_count": null,
   "metadata": {},
   "outputs": [],
   "source": [
    "scene_prompt1 = \"\"\"\n",
    "You will be provided with a series of images. Your task is to view all images together and describe the overall story or scene in the best possible way.\n",
    "\n",
    "Expected Output:\n",
    "- A detailed story or scene description.\n",
    "- A list of objects and actions in each image.\n",
    "\n",
    "Example Output:\n",
    "{\n",
    "  \"scene_story\": \"A person is cooking in the kitchen and then someone rings the doorbell.\",\n",
    "  \"images\": [\n",
    "    {\"description\": \"Someone is cooking in the kitchen.\"},\n",
    "    {\"description\": \"Someone rings the doorbell.\"}\n",
    "  ]\n",
    "}\n",
    "\n",
    "Strictly limit your response to a maximum of 1200 characters.\n",
    "\"\"\"\n",
    "\n",
    "print(\"Results for Basic Scene-Level Prompt:\")\n",
    "for scene in scene_collection.scenes[:2]:  # Limiting to first 2 scenes for brevity\n",
    "    try:\n",
    "        description = scene.describe(prompt=scene_prompt1)\n",
    "        print(\"\\n--------------\")\n",
    "        print(f\"{scene.start}-{scene.end}\")\n",
    "        print(description)\n",
    "    except Exception as e:\n",
    "        print(f\"Error describing scene starting at {scene.start}: {e}\")"
   ]
  },
  {
   "cell_type": "markdown",
   "metadata": {},
   "source": [
    "`Note` : This generic scene-level prompt provided a basic structure but lacked the detailed breed identification and specific actions we achieved with our frame-level prompts. Our next iteration aims to incorporate these learnings."
   ]
  },
  {
   "cell_type": "markdown",
   "metadata": {},
   "source": [
    "#### 2️⃣ Combining frame-level specifications in scene-level prompt"
   ]
  },
  {
   "cell_type": "code",
   "execution_count": null,
   "metadata": {},
   "outputs": [],
   "source": [
    "scene_prompt2 = \"\"\"\n",
    "You will be provided with a series of images. Your task is to view all images together and describe the overall story or scene in the best possible way.\n",
    "For each image, your task is to identify the animals and their breeds in the image.\n",
    "1. Identify the animals present in the frame with specifications about their colour and breed, and any other notable features.\n",
    "2. Describe the environment: Provide a brief description of the interaction between the animals and the objects or the environment around them.\n",
    "\n",
    "Expected Output:\n",
    "- A detailed story or scene description.\n",
    "- A list of objects and actions in each image.\n",
    "\n",
    "Strictly limit your response to a maximum of 1200 characters.\n",
    "\"\"\"\n",
    "\n",
    "print(\"Results for Enhanced Scene-Level Prompt:\")\n",
    "# Limiting to first 2 scenes for brevity\n",
    "for scene in scene_collection.scenes[:2]:\n",
    "    try:\n",
    "        description = scene.describe(prompt=scene_prompt2)\n",
    "        print(\"\\n--------------\")\n",
    "        print(f\"{scene.start}-{scene.end}\")\n",
    "        print(description)\n",
    "    except Exception as e:\n",
    "        print(f\"Error describing scene starting at {scene.start}: {e}\")"
   ]
  },
  {
   "cell_type": "markdown",
   "metadata": {},
   "source": [
    "`Note`: This prompt successfully captured both the specific breeds and the overall scene dynamics, providing a detailed and accurate description. However, the format could be more structured for easier parsing and use in applications. Our final iteration addresses this."
   ]
  },
  {
   "cell_type": "markdown",
   "metadata": {},
   "source": [
    "#### 3️⃣ Structured JSON output with emotional states"
   ]
  },
  {
   "cell_type": "code",
   "execution_count": null,
   "metadata": {},
   "outputs": [],
   "source": [
    "scene_prompt3 = \"\"\"\n",
    "You will be provided with a series of images from a dog show. Your task is to describe the scene based on these sequential images. Focus on identifying the breeds and describing the key actions.\n",
    "\n",
    "For each image, your task is to:\n",
    "1. Identify the animals present in the frame, including their breed, color, and any notable features.\n",
    "2. Describe the actions of the animals and any interactions with the environment or other animals.\n",
    "3. Highlight any emotional expressions or notable moments.\n",
    "\n",
    "Output should be a structured JSON with the following format:\n",
    "{\n",
    "  \"scene_story\": \"Brief overview of the scene\",\n",
    "  \"images\": [\n",
    "    {\n",
    "      \"frame_time\": \"Time of the frame in mm:ss format\",\n",
    "      \"breeds\": [{\"breed\": \"Golden Retriever\", \"color\": \"golden\"}],\n",
    "      \"actions\": \"Description of the actions and interactions\",\n",
    "      \"emotion\": \"Observed emotion or notable moment\"\n",
    "    },\n",
    "    ...\n",
    "  ]\n",
    "}\n",
    "\n",
    "\"\"\"\n",
    "\n",
    "print(\"Results for Structured JSON Output Prompt:\")\n",
    "for scene in scene_collection.scenes[:2]:  # Limiting to first 2 scenes for brevity\n",
    "    try:\n",
    "        description = scene.describe(prompt=scene_prompt3)\n",
    "        print(\"\\n--------------\")\n",
    "        print(f\"{scene.start}-{scene.end}\")\n",
    "        print(description)\n",
    "    except Exception as e:\n",
    "        print(f\"Error describing scene starting at {scene.start}: {e}\")"
   ]
  },
  {
   "cell_type": "markdown",
   "metadata": {},
   "source": [
    "### 🗂️ Step5: Describe All Scenes & Index"
   ]
  },
  {
   "cell_type": "code",
   "execution_count": null,
   "metadata": {},
   "outputs": [],
   "source": [
    "from videodb import SceneExtractionType\n",
    "\n",
    "# Index Scenes\n",
    "index_id = video.index_scenes(\n",
    "    extraction_type=SceneExtractionType.time_based,\n",
    "    extraction_config={\"time\": 15, \"select_frames\": [\"first\", \"middle\", \"last\"]},\n",
    "    prompt=scene_prompt3,\n",
    "    name=\"Detailed Dog Breed Identifier\",\n",
    ")\n",
    "scene_index = video.get_scene_index(index_id)\n",
    "print(scene_index)"
   ]
  },
  {
   "cell_type": "markdown",
   "metadata": {},
   "source": [
    "### Step 6 : 🔍 Search\n",
    "\n"
   ]
  },
  {
   "cell_type": "code",
   "execution_count": 12,
   "metadata": {},
   "outputs": [
    {
     "data": {
      "text/plain": [
       "'https://console.videodb.io/player?url=https://dseetlpshk2tb.cloudfront.net/v3/published/manifests/59482540-2343-47e4-be74-e783dbb5c8ea.m3u8'"
      ]
     },
     "execution_count": 12,
     "metadata": {},
     "output_type": "execute_result"
    }
   ],
   "source": [
    "from videodb import IndexType\n",
    "\n",
    "# Search using the indexed scenes\n",
    "res = video.search(\n",
    "    query=\"Show me the happiest moments with the Golden Retreiver\",\n",
    "    index_type=IndexType.scene,\n",
    "    index_id=index_id,\n",
    "    score_threshold=0.1,\n",
    "    dynamic_score_percentage=100,\n",
    ")\n",
    "res.play()"
   ]
  },
  {
   "cell_type": "markdown",
   "metadata": {},
   "source": [
    "## Benchmarking \n",
    "---"
   ]
  },
  {
   "cell_type": "markdown",
   "metadata": {},
   "source": [
    "### Define Score Evaluation Functions"
   ]
  },
  {
   "cell_type": "code",
   "execution_count": 48,
   "metadata": {},
   "outputs": [],
   "source": [
    "from videodb import SearchType, IndexType\n",
    "\n",
    "def calculate_overlap(true_start, true_end, prediction_start, prediction_end):\n",
    "    overlap_start = max(true_start, prediction_start)\n",
    "    overlap_end = min(true_end, prediction_end)\n",
    "    return max(0, overlap_end - overlap_start)\n",
    "\n",
    "def simple_evaluation(ground_truth, predictions):\n",
    "    total_retrieved = len(predictions)\n",
    "    total_relevant = len(ground_truth)\n",
    "    total_relevant_retrived = 0\n",
    "\n",
    "    for ground_truth_start, ground_truth_end in ground_truth:\n",
    "        ground_truth_interval_duration = ground_truth_end - ground_truth_start\n",
    "        processed = False\n",
    "        for prediction_start, prediction_end in predictions:\n",
    "            overlap = calculate_overlap(ground_truth_start, ground_truth_end, prediction_start, prediction_end)\n",
    "            if overlap > 0:\n",
    "                if not processed:\n",
    "                    total_relevant_retrived += 1\n",
    "                    processed = True\n",
    "    precision = total_relevant_retrived / total_retrieved if total_retrieved else 0\n",
    "    recall = total_relevant_retrived / total_relevant if total_relevant_retrived else 0\n",
    "\n",
    "    return {\n",
    "        \"precision\": precision,\n",
    "        \"recall\": recall,\n",
    "    }\n",
    "\n",
    "def evaluate_prompts(ground_truth, query, prompts):\n",
    "    test_results = {}\n",
    "    for prompt_name, prompt_obj in prompts.items():\n",
    "        print(\"\\n\"+\"-\"*50)\n",
    "        print(f\"📊 Benchmarking for {prompt_name} : {prompt_obj['index_id']}\")\n",
    "        print(f\"  Query : {query}\")\n",
    "        print(f\"  Ground Truth : {ground_truth}\")\n",
    "        result = video.search(\n",
    "            index_type=IndexType.scene,\n",
    "            search_type=SearchType.semantic,\n",
    "            scene_index_id=prompt_obj['index_id'],\n",
    "            query=query,\n",
    "            stitch=False,\n",
    "        )\n",
    "        predictions = [(shot.start, shot.end) for shot in result.shots]\n",
    "        print(f\"  Predictions: {predictions}\")\n",
    "        res = simple_evaluation(ground_truth=ground_truth, predictions=predictions)\n",
    "        print(f\"  Eval Results : {res}\")\n",
    "        test_results[prompt_name] = res\n",
    "        print(\"-\"*50)\n",
    "    return test_results\n"
   ]
  },
  {
   "cell_type": "markdown",
   "metadata": {},
   "source": [
    "### Helper Functions to analyze results"
   ]
  },
  {
   "cell_type": "code",
   "execution_count": 60,
   "metadata": {},
   "outputs": [],
   "source": [
    "import matplotlib.pyplot as plt\n",
    "\n",
    "def plot_test_results(results, query):\n",
    "    # Extracting the values\n",
    "    labels = list(results.keys())\n",
    "    precision = [results[label]['precision'] for label in labels]\n",
    "    recall = [results[label]['recall'] for label in labels]\n",
    "\n",
    "    # Plotting\n",
    "    x = range(len(labels))\n",
    "\n",
    "    plt.figure(figsize=(10, 5))\n",
    "\n",
    "    plt.plot(x, precision, marker='o', linestyle='-', color='b', label='Precision')\n",
    "    plt.plot(x, recall, marker='o', linestyle='-', color='g', label='Recall')\n",
    "\n",
    "    # Adding labels and title\n",
    "    plt.xlabel(f\"Query : {query}\")\n",
    "    plt.ylabel('Scores')\n",
    "    plt.title('Precision and Recall for Different Prompts')\n",
    "    plt.xticks(x, labels, rotation=45, ha='right')\n",
    "\n",
    "    # Adding legend\n",
    "    plt.legend()\n",
    "\n",
    "    # Display plot\n",
    "    plt.tight_layout()\n",
    "    plt.show()"
   ]
  },
  {
   "cell_type": "markdown",
   "metadata": {},
   "source": [
    "### Define Prompt and Index for each Prompt"
   ]
  },
  {
   "cell_type": "code",
   "execution_count": 14,
   "metadata": {},
   "outputs": [],
   "source": [
    "prompts = {\n",
    "    \"Basic Scene-Level Prompt\": {\"prompt\" : scene_prompt1},\n",
    "    \"Enhanced Scene-Level Prompt\": {\"prompt\" : scene_prompt2},\n",
    "    \"Structured JSON Output\": {\"prompt\" : scene_prompt3},\n",
    "}\n",
    "\n",
    "for prompt_name, prompt_obj in prompts.items():\n",
    "    print(\"Indexing for Prompt : \", prompt_name)\n",
    "    index_id = video.index_scenes(\n",
    "        extraction_type=SceneExtractionType.time_based,\n",
    "        extraction_config={\"time\": 15, \"select_frames\": [\"first\", \"middle\", \"last\"]},\n",
    "        prompt=prompt_obj[\"prompt\"], \n",
    "        name=prompt_name,\n",
    "    )\n",
    "    prompt_obj[\"index_id\"] = index_id\n",
    "    scene_index = video.get_scene_index(index_id)"
   ]
  },
  {
   "cell_type": "markdown",
   "metadata": {},
   "source": [
    "### Prepare Test bed, Ground Truth, and Evaulate"
   ]
  },
  {
   "cell_type": "code",
   "execution_count": 63,
   "metadata": {},
   "outputs": [
    {
     "name": "stdout",
     "output_type": "stream",
     "text": [
      "\n",
      "--------------------------------------------------\n",
      "📊 Benchmarking for Basic Scene-Level Prompt : f24f6ded567237c6\n",
      "  Query : Happiest moments featuring a Golden Retreive\n",
      "  Ground Truth : [(150.15, 165.165), (180.18, 195.195), (210.21, 225.225), (240.24, 255.255)]\n",
      "  Predictions: [(255.255, 270.27)]\n",
      "  Eval Results : {'precision': 0.0, 'recall': 0}\n",
      "--------------------------------------------------\n",
      "\n",
      "--------------------------------------------------\n",
      "📊 Benchmarking for Enhanced Scene-Level Prompt : be21df0226f85169\n",
      "  Query : Happiest moments featuring a Golden Retreive\n",
      "  Ground Truth : [(150.15, 165.165), (180.18, 195.195), (210.21, 225.225), (240.24, 255.255)]\n",
      "  Predictions: [(180.18, 195.195)]\n",
      "  Eval Results : {'precision': 1.0, 'recall': 0.25}\n",
      "--------------------------------------------------\n",
      "\n",
      "--------------------------------------------------\n",
      "📊 Benchmarking for Structured JSON Output : 009a8b1cfd0dd62c\n",
      "  Query : Happiest moments featuring a Golden Retreive\n",
      "  Ground Truth : [(150.15, 165.165), (180.18, 195.195), (210.21, 225.225), (240.24, 255.255)]\n",
      "  Predictions: [(180.18, 195.195), (210.21, 225.225), (255.255, 270.27)]\n",
      "  Eval Results : {'precision': 0.6666666666666666, 'recall': 0.5}\n",
      "--------------------------------------------------\n"
     ]
    }
   ],
   "source": [
    "ground_truth_1 = [(150.15, 165.165), (180.18, 195.195), (210.21, 225.225), (240.24, 255.255)]\n",
    "test_query_1 = \"Happiest moments featuring a Golden Retreive\"\n",
    "test_results_1 = evaluate_prompts(ground_truth_1, test_query_1, prompts) "
   ]
  },
  {
   "cell_type": "code",
   "execution_count": 62,
   "metadata": {},
   "outputs": [
    {
     "data": {
      "image/png": "[encoded data removed]",
      "text/plain": [
       "<Figure size 1000x500 with 1 Axes>"
      ]
     },
     "metadata": {},
     "output_type": "display_data"
    }
   ],
   "source": [
    "plot_test_results(test_results_1, test_query_1)"
   ]
  }
 ],
 "metadata": {
  "kernelspec": {
   "display_name": ".venv",
   "language": "python",
   "name": "python3"
  },
  "language_info": {
   "codemirror_mode": {
    "name": "ipython",
    "version": 3
   },
   "file_extension": ".py",
   "mimetype": "text/x-python",
   "name": "python",
   "nbconvert_exporter": "python",
   "pygments_lexer": "ipython3",
   "version": "3.11.7"
  }
 },
 "nbformat": 4,
 "nbformat_minor": 2
}
