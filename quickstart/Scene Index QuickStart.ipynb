{
 "cells": [
  {
   "cell_type": "markdown",
   "metadata": {},
   "source": [
    "# ⚡️ QuickStart: Scene Index"
   ]
  },
  {
   "cell_type": "markdown",
   "metadata": {},
   "source": [
    "<a href=\"https://colab.research.google.com/github/video-db/videodb-cookbook/blob/main/quickstart/Scene%20Index%20QuickStart.ipynb\" target=\"_parent\"><img src=\"https://colab.research.google.com/assets/colab-badge.svg\" alt=\"Open In Colab\"/></a>"
   ]
  },
  {
   "cell_type": "markdown",
   "metadata": {},
   "source": [
    "This guide gives you an introduction to Scene Indexing and it's working. \n",
    "\n",
    "The versatility of scene indexing opens up a world of possibilities for finding visual information in videos.  Vision models now enable useful extraction of information from videos that you can easily index using VideoDB.  \n",
    "\n",
    "Now, you can easily build RAG for queries like:\n",
    "![](https://raw.githubusercontent.com/video-db/videodb-cookbook/main/images/scene_index/intro.png)"
   ]
  },
  {
   "cell_type": "markdown",
   "metadata": {},
   "source": [
    "## Setup\n",
    "---"
   ]
  },
  {
   "cell_type": "markdown",
   "metadata": {},
   "source": [
    "### 📦  Installing packages   "
   ]
  },
  {
   "cell_type": "code",
   "execution_count": 1,
   "metadata": {},
   "outputs": [
    {
     "name": "stdout",
     "output_type": "stream",
     "text": [
      "Requirement already satisfied: videodb in /Users/ashu/opt/anaconda3/envs/videoDB/lib/python3.12/site-packages (0.2.2)\n",
      "Requirement already satisfied: requests>=2.25.1 in /Users/ashu/opt/anaconda3/envs/videoDB/lib/python3.12/site-packages (from videodb) (2.31.0)\n",
      "Requirement already satisfied: backoff>=2.2.1 in /Users/ashu/opt/anaconda3/envs/videoDB/lib/python3.12/site-packages (from videodb) (2.2.1)\n",
      "Requirement already satisfied: tqdm>=4.66.1 in /Users/ashu/opt/anaconda3/envs/videoDB/lib/python3.12/site-packages (from videodb) (4.66.1)\n",
      "Requirement already satisfied: charset-normalizer<4,>=2 in /Users/ashu/opt/anaconda3/envs/videoDB/lib/python3.12/site-packages (from requests>=2.25.1->videodb) (3.3.2)\n",
      "Requirement already satisfied: idna<4,>=2.5 in /Users/ashu/opt/anaconda3/envs/videoDB/lib/python3.12/site-packages (from requests>=2.25.1->videodb) (3.6)\n",
      "Requirement already satisfied: urllib3<3,>=1.21.1 in /Users/ashu/opt/anaconda3/envs/videoDB/lib/python3.12/site-packages (from requests>=2.25.1->videodb) (2.2.0)\n",
      "Requirement already satisfied: certifi>=2017.4.17 in /Users/ashu/opt/anaconda3/envs/videoDB/lib/python3.12/site-packages (from requests>=2.25.1->videodb) (2024.2.2)\n"
     ]
    }
   ],
   "source": [
    "!pip install -U videodb"
   ]
  },
  {
   "cell_type": "markdown",
   "metadata": {},
   "source": [
    "### 🔑 API Keys"
   ]
  },
  {
   "cell_type": "code",
   "execution_count": 2,
   "metadata": {},
   "outputs": [],
   "source": [
    "import os\n",
    "\n",
    "#replace with your key\n",
    "os.environ[\"VIDEO_DB_API_KEY\"] = \"sk-xxxx-yyyyy-zzzz\""
   ]
  },
  {
   "cell_type": "markdown",
   "metadata": {},
   "source": [
    "### 🌐 Connect to VideoDB"
   ]
  },
  {
   "cell_type": "code",
   "execution_count": 3,
   "metadata": {},
   "outputs": [],
   "source": [
    "from videodb import connect\n",
    "\n",
    "conn = connect()\n",
    "coll = conn.get_collection()"
   ]
  },
  {
   "cell_type": "markdown",
   "metadata": {},
   "source": [
    "### 🎥  Upload Video"
   ]
  },
  {
   "cell_type": "code",
   "execution_count": 4,
   "metadata": {},
   "outputs": [],
   "source": [
    "video = coll.upload(url=\"https://www.youtube.com/watch?v=LejnTJL173Y\")"
   ]
  },
  {
   "cell_type": "markdown",
   "metadata": {},
   "source": [
    "## 📇 Index Scenes \n",
    "---"
   ]
  },
  {
   "cell_type": "markdown",
   "metadata": {},
   "source": [
    "In just one command, the `index_scenes` function can index visual information in your video."
   ]
  },
  {
   "cell_type": "code",
   "execution_count": null,
   "metadata": {},
   "outputs": [],
   "source": [
    "index_id = video.index_scenes()"
   ]
  },
  {
   "cell_type": "markdown",
   "metadata": {},
   "source": [
    "### Optional Parameters\n",
    "\n",
    "`index_scenes()` function accepts a few optional parameters that you can use for optimizations. \n",
    "\n",
    "* You can use different extraction algorithms to select scene and frames. \n",
    "* Additionally, you can use prompts to describe these scenes and frames using a vision model. \n",
    "Read more about [Scene and Frame object](https://github.com/video-db/videodb-cookbook/blob/main/guides/video/scene-index/advanced_visual_search.ipynb)"
   ]
  },
  {
   "cell_type": "code",
   "execution_count": 6,
   "metadata": {},
   "outputs": [
    {
     "data": {
      "text/plain": [
       "[{'description': 'The image depicts a man sitting in an office or conference room, characterized by the presence of glass windows with blinds behind him. He is wearing a dark suit, a white dress shirt, and a dark striped tie. The man appears to be contemplative, with his eyes closed or looking down, and a slight smile on his face. The background shows a bright, well-lit room with natural light filtering through the windows. The atmosphere seems professional and formal, suggesting a workplace or corporate environment. The man’s bald head and expression give an impression of a moment of reflection or contentment.',\n",
       "  'end': 10.01,\n",
       "  'start': 0.0},\n",
       " {'description': 'The image shows a man with a receding hairline, wearing a dark suit, light blue shirt, and dark striped tie. He appears to be seated, with a neutral or slightly contemplative expression on his face. Behind him, there are large office windows with horizontal blinds partially closed, through which an indistinct office environment is visible. The lighting is soft, creating a professional atmosphere. The man’s posture suggests he could be engaged in a conversation or in thought, possibly in a workplace setting. The overall mood seems formal and reflective, indicating a business or serious context.',\n",
       "  'end': 20.02,\n",
       "  'start': 10.01},\n",
       " {'description': 'The image depicts a group of people gathered under a large tent in an outdoor setting. At the forefront, several individuals are seated, their faces showing a range of emotions. In the background, a few people stand, with one person holding a notebook and another with hands clasped in what appears to be a prayer or contemplative pose. The surrounding environment is sparsely wooded, with trees visible without leaves. The natural light suggests a possible early spring or late autumn setting. The overall atmosphere evokes a community gathering, perhaps a public meeting, sermon, or ceremony.',\n",
       "  'end': 30.03,\n",
       "  'start': 20.02},\n",
       " {'description': \"The image shows two men under a tent, with one of them energetically raising both hands and looking upwards. He is wearing a light brown short-sleeved shirt, tucked into dark trousers, with black glasses and a dark belt. A black object is visible in his pocket. The other man, standing slightly behind, appears calm and is dressed in a plaid shirt holding a book or notebook. The background is blurred but appears to be an outdoor setting with trees or foliage. There's also a glimpse of string lights hanging in the background from the tent structure.\",\n",
       "  'end': 40.04,\n",
       "  'start': 30.03},\n",
       " {'description': 'The image captures a man standing outdoors, wearing a brown tweed blazer, a blue dress shirt, and a striped tie. He sports dark sunglasses, and his sandy blonde hair is neatly combed. The setting appears to be rural, with a field and a sparse line of trees in the background, blending into an overcast sky. The man exudes a composed demeanor, possibly engaged in a serious conversation or observation. The composition and attire suggest a professional context, likely a detective or an investigator, amidst an investigation or some official duty in a quiet, open expanse.',\n",
       "  'end': 50.05,\n",
       "  'start': 40.04},\n",
       " {'description': \"The image depicts a man standing under a shelter with a backdrop of a blurred, outdoor scene, possibly a field or open land. He is wearing a dark-colored, textured suit jacket over a dress shirt and tie, with his hair neatly combed back. The atmosphere appears to be overcast, as indicated by the muted, natural lighting. Behind him, the sky is cloudy with silhouettes of barren trees suggesting a cold or autumn season. The man's serious expression and formal attire suggest a contemplative or solemn mood, possibly indicating he is in a thoughtful or introspective moment.\",\n",
       "  'end': 60.06,\n",
       "  'start': 50.05},\n",
       " {'description': 'The image depicts two men standing side by side, dressed in formal attire like suits and ties. The man on the left is wearing sunglasses and has a serious expression, while the man on the right looks pensive. They appear to be outdoors under a covered structure, with a field or open landscape visible in the blurred background. The setting seems calm, possibly rural with trees and greenery. The lighting suggests it might be early morning or late afternoon, as it has a warm, soft quality. The scene hints at a serious or contemplative moment shared between the two individuals.',\n",
       "  'end': 70.07,\n",
       "  'start': 60.06},\n",
       " {'description': 'The image depicts a man wearing sunglasses and a suit with a tie, standing under a covered area. His hair is light brown and he has a serious expression. From the background, it appears he is in an outdoor setting, perhaps a field or open space with a cloudy sky. Other people are visible in the blurred background, casually dressed and seemingly engaged in various activities. There are also cars and tents visible, suggesting an event or gathering is taking place. The man in the foreground seems to be an important figure or speaker at the event.',\n",
       "  'end': 80.08,\n",
       "  'start': 70.07},\n",
       " {'description': \"The image depicts a diverse group of people gathered under a large canopy or tent in an outdoor setting. Several individuals are standing at the back, notable among them are two men in suits, one wearing sunglasses, suggesting formality or authority. The audience seated in the foreground appears engaged and attentive, suggesting a communal gathering, possibly a meeting or ceremony. The background reveals a sparse, late autumn forest, indicating a rural location. The overall atmosphere reflects a sense of solemnity or importance given the attendees' focused demeanor and the formal attire of some individuals.\",\n",
       "  'end': 90.09,\n",
       "  'start': 80.08},\n",
       " {'description': 'The image depicts a man speaking passionately into a microphone under a tent, likely at a religious or community event. He is dressed in a short-sleeve, button-up shirt with a tie, and he gestures emphatically with his hand. The tent is adorned with various banners and signs, some of which contain religious messages such as \"Jesus answers\" and \"I am the way.\" There are string lights hanging, adding to the ambiance. The setup includes an old-fashioned speaker, suggesting an emphasis on reaching an audience with his message. The atmosphere appears earnest and engaging.',\n",
       "  'end': 100.1,\n",
       "  'start': 90.09},\n",
       " {'description': 'The image shows two men walking towards a parked, older model sedan in an empty, expansive parking lot. The man on the left is wearing a suit and holding a book or folder, while the man on the right is dressed in a light-colored shirt and dark pants. The background features multiple warehouse-style buildings with a somewhat neglected or abandoned appearance. The sky is overcast, adding a muted, somewhat somber tone to the scene. The overall atmosphere suggests a moment of investigation or discussion in a desolate, industrial area.',\n",
       "  'end': 110.11,\n",
       "  'start': 100.1},\n",
       " {'description': \"The image shows a woman sitting on a bed in a cozy, dimly-lit bedroom, which exudes a warm, yellowish ambiance created by a lamp on a nightstand. She appears thoughtful or pensive, wearing a casual outfit of shorts and a sleeveless top. The room is decorated with soft, plush toys, including a large teddy bear, suggesting a comforting and personal space. The bed is covered with a flowery patterned sheet. The background features floral wallpaper, adding to the room's vintage charm. Another person is partially visible but out-of-focus in the foreground, indicating an interaction or shared moment.\",\n",
       "  'end': 120.12,\n",
       "  'start': 110.11},\n",
       " {'description': 'The image features a man with light brown hair, captured in a dimly lit environment. His expression appears serious and contemplative, as he looks downward. The lighting creates shadows on his face, accentuating his features. He is wearing a collared shirt, and appears to be indoors, possibly in a room with muted beige walls. The image has a subdued and introspective atmosphere, suggesting that the man might be deep in thought or reflecting on something significant. The overall tone of the image is moody and contemplative.',\n",
       "  'end': 130.13,\n",
       "  'start': 120.12},\n",
       " {'description': 'The image depicts two men in formal attire, possibly detectives or law enforcement officers, engaged in a conversation outdoors. One man, sitting on a bench, drinks from a bottle, while the other, leaning against a car, holds a cup. Both are wearing dress shirts and ties, with the man standing also carrying a gun in a shoulder holster, indicative of their professional roles. They appear to be in a rural or semi-rural setting, with a backdrop of trees, a railroad track, and some scattered buildings. The overall mood suggests a serious, though relaxed, discussion.',\n",
       "  'end': 140.14,\n",
       "  'start': 130.13},\n",
       " {'description': 'The image depicts two men in a dimly lit bar, engaged in conversation. One man, on the left, is wearing a blue shirt and appears to be speaking emphatically. The other man, on the right, is partially visible and is smoking a cigarette. A neon sign with indistinguishable writing and a yellow graphic is illuminated in the background, casting an atmospheric glow over the scene. The overall ambiance suggests an intense or serious discussion between the two individuals in a casual, perhaps somber setting.',\n",
       "  'end': 150.15,\n",
       "  'start': 140.14},\n",
       " {'description': 'The image depicts two men in a dimly lit setting, seemingly engaged in a serious conversation. The man on the left is wearing a dark shirt and has a stern, focused expression. The man on the right, slightly out of focus, is also engaged and leaning towards the other man, wearing a lighter colored shirt. The background features a neon sign giving the impression that they are in a bar or a similarly casual venue. The overall atmosphere is tense, suggesting a moment of deep discussion or confrontation between the two individuals.',\n",
       "  'end': 160.16,\n",
       "  'start': 150.15},\n",
       " {'description': 'The image depicts two men in casual clothing sitting closely together in a dimly lit environment, such as a bar or a night-time setting. The man on the left appears to be deeply focused, while the man on the right is speaking with a somewhat serious expression, suggesting an intense or important conversation. The background is blurred, showing vague hints of lights and signs, adding to the intimate ambiance. The lighting casts shadows on their faces, highlighting a moody atmosphere. The overall scene suggests a moment of significant dialogue or revelation between the two characters.',\n",
       "  'end': 170.17,\n",
       "  'start': 160.16},\n",
       " {'description': 'The image depicts a dimly lit workshop or garage with a figure engaged in action amidst various tools and machinery. The background is illuminated by natural light streaming in from the open entrance or window, creating a silhouette effect on the person and objects in the foreground. The environment appears cluttered, with shelves and workbenches holding an assortment of equipment and materials. The person seems to be in motion, potentially running or carrying something, adding a dynamic element to the scene. The overall atmosphere suggests an industrious or urgent activity taking place in an industrial setting.',\n",
       "  'end': 180.18,\n",
       "  'start': 170.17},\n",
       " {'description': 'The image depicts two men standing outdoors under a canopy of sprawling, leafless trees. Both men are dressed in business attire, with the one on the left wearing a dark blazer over a shirt and tie, while the one on the right has a grey suit and tie. The man on the left appears to be holding a folder or a book in his left hand, with his right hand on his hip. The setting is somewhat muted, suggesting it might be autumn or winter. Their expressions convey a serious or thoughtful demeanor, possibly indicating they are engaged in a significant or intense conversation.',\n",
       "  'end': 190.19,\n",
       "  'start': 180.18},\n",
       " {'description': 'The image depicts two men sitting in the front seats of a car. The man on the left, who has light-colored hair and is wearing a suit and tie, appears to be deep in thought, looking forward. The man on the right, who is driving, has darker hair and is dressed in darker clothing. He has his left arm resting on the steering wheel, focused on the road ahead. The setting outside the car seems rural, with a blurred view of trees and open land visible through the windows. The atmosphere suggests a serious or reflective moment between the two characters.',\n",
       "  'end': 200.2,\n",
       "  'start': 190.19},\n",
       " {'description': \"The image depicts a scene inside a vehicle, with a man driving. He is seen smoking a cigarette, with his left hand resting on the steering wheel. The man's expression appears contemplative as he looks ahead. The car's interior is dimly lit, contrasting with the brighter background outside the windshield, where a blurry scene of trees and sky can be seen. Shadows and light play across his face, adding depth to the scene. The mood conveyed is somewhat introspective, with a focus on the man lost in his thoughts while driving through what seems to be a rural or suburban area.\",\n",
       "  'end': 210.21,\n",
       "  'start': 200.2},\n",
       " {'description': 'The image shows two men inside a car, with the one on the left driving. The driver, wearing a dark top, is framed prominently in the foreground, facing forward with a focused expression. He rests his left arm on the steering wheel, partially wearing a watch. The passenger, seated to his right, appears thoughtful, gazing ahead or possibly slightly towards the driver. The background through the car windows shows a cloudy sky, suggesting overcast weather. The setting inside the vehicle feels tense or serious, possibly implying a contemplative or significant moment between the two men.',\n",
       "  'end': 220.22,\n",
       "  'start': 210.21},\n",
       " {'description': 'The image depicts two individuals walking in a parking lot, likely belonging to a police or law enforcement agency, as suggested by the multiple police vehicles with roof lights parked behind them. The individuals are in formal attire, wearing dress shirts and ties. Each carries something in their hands; one seems to hold a bag. The setting is outdoors, with trees providing some shade and a building visible in the background. The environment appears calm and organized, typical of official or professional premises. The overall mood is serious and professional.',\n",
       "  'end': 230.23,\n",
       "  'start': 220.22},\n",
       " {'description': 'The image depicts three law enforcement officers outside a building with large glass windows and doors, likely an office or police station. Two of the officers, seen from the back, wear light blue shirts and have equipment belts with handcuffs. They are walking towards the building, where another officer in a darker uniform stands near the entrance, facing them. The scene appears casual, with one officer in the doorway possibly greeting or speaking to the approaching officers. Inside, a vending machine is partially visible. The overall atmosphere suggests a routine moment in a police facility.',\n",
       "  'end': 240.24,\n",
       "  'start': 230.23},\n",
       " {'description': 'The image depicts a man with long, light brown hair and a mustache, sitting in what appears to be an office setting. He is wearing a light grey button-up shirt layered over a white t-shirt. The man has a serious or contemplative expression on his face. The background shows office equipment, including stacked files, a computer monitor, and an older-style printer. On the desk in front of him, there is an open beverage can. The overall atmosphere suggests a mundane, everyday office environment, possibly in a scene from a film or television show.',\n",
       "  'end': 250.25,\n",
       "  'start': 240.24},\n",
       " {'description': \"The image depicts a man driving a car, focusing intently on the road ahead. The scene seems to take place during twilight or early evening, as it is quite dim outside with minimal light. The background shows a somewhat blurry view of trees and sky through the car's window. The man, dressed in a business suit, appears solemn, suggesting a serious or contemplative moment. The overall ambiance is tense and reserved, with the dark, muted colors contributing to a somber mood. The close-up angle accentuates the man's concentration and the confined space within the vehicle.\",\n",
       "  'end': 260.26,\n",
       "  'start': 250.25},\n",
       " {'description': \"The image shows a man sitting inside a car, viewed through the partially fogged-up window. He appears to be in a contemplative or serious mood, raising one hand in a slightly open gesture. The background outside the car suggests it is either evening or early morning, with dim natural light enhancing the somber atmosphere. The man's expression is focused, eyes directed slightly to the side as if engaged in deep thought or a conversation. The interior of the car is dimly lit, adding to the pensive, introspective ambiance of the scene.\",\n",
       "  'end': 270.27,\n",
       "  'start': 260.26},\n",
       " {'description': \"The image features two men sitting in the front seats of a car, appearing to engage in a serious conversation. The man in the driver's seat, on the right side of the image, is facing slightly towards the passenger, who seems deep in thought with his hand covering part of his face. The scene appears to take place during the day, with the car interior dimly lit and the window showing a blurry outdoor landscape. Both individuals have focused expressions, suggesting a tense or contemplative moment. The overall mood of the image is somber and reflective.\",\n",
       "  'end': 280.28,\n",
       "  'start': 270.27},\n",
       " {'description': 'The image features two men seated in a car during what appears to be a somber or contemplative moment. The man on the left is in the passenger seat, looking down with a serious expression, while the man on the right is behind the wheel, focusing on the road ahead. The lighting is dim and moody, suggesting a cloudy or overcast sky outside. The background through the car windows reveals a blurred landscape, possibly rural with vegetation. The atmosphere hints at a deep or serious conversation, or perhaps a tense and introspective journey.',\n",
       "  'end': 290.29,\n",
       "  'start': 280.28},\n",
       " {'description': \"The image depicts a man sitting in the driver's seat of a car during twilight or early evening. The interior lighting is dim, highlighting his contemplative expression. He appears to be casually dressed in a dark jacket over a shirt. His hand is resting on the vehicle's steering wheel, and he seems to be gazing out of the windshield, possibly lost in thought. The outside scenery through the car window is blurry, suggesting motion or an unfocused camera lens, with hints of trees and power lines in the background. The scene evokes a sense of introspection and quiet contemplation.\",\n",
       "  'end': 300.05,\n",
       "  'start': 290.29},\n",
       " {'description': \"The image depicts a man sitting inside a car, most likely the driver's seat. It appears to be late in the day or early evening as the natural light outside is dim. The man, dressed in a suit jacket and shirt, is gazing intently to his left with a contemplative expression. The interior of the car is dim, with shadows obscuring much of his face, enhancing the contemplative mood. The background, visible through the windows, shows an indistinct landscape, perhaps with trees or fields. The image conveys a somber, thoughtful atmosphere.\",\n",
       "  'end': 310.01,\n",
       "  'start': 300.0},\n",
       " {'description': 'The image depicts a man seated inside a car, likely in the front passenger seat. The scene appears to be set during the day, as the window next to him shows an outside view with trees and a cloudy sky. He looks contemplative, gazing out the window with a serious expression. The interior of the car is dimly lit, and he wears a dark blazer suggesting a formal or business-like setting. The composition and mood of the image imply a moment of reflection or deep thought while possibly traveling.',\n",
       "  'end': 320.02,\n",
       "  'start': 310.01},\n",
       " {'description': 'The image shows a side profile of a man seated inside a car. It appears to be either dawn or dusk outside, given the low lighting. He is wearing a suit and shirt, looking contemplative with his fingers resting on his chin. The background outside the car window is blurred, but faint outlines of trees and electric lines can be seen against a dim sky. The interior of the car is dark, matching the somber and introspective mood of the scene. The man’s expression is serious, adding to the reflective atmosphere of the image.',\n",
       "  'end': 330.03,\n",
       "  'start': 320.02},\n",
       " {'description': 'The image depicts a man sitting behind the steering wheel of a vehicle, driving. He appears to be wearing a suit and is focused on the road ahead. The scene is somewhat dimly lit, suggesting it could be early morning or evening. The background, visible through the windows, shows a blurred, scenic outdoor setting with trees and a cloudy sky. The man’s expression is serious and concentrated, and the overall mood of the image hints at a reflective or tense moment during his drive. The interior of the car seems ordinary, without any highlighting features.',\n",
       "  'end': 340.04,\n",
       "  'start': 330.03},\n",
       " {'description': 'In the image, two people are sitting close together in an indoor setting. The person on the left, dressed in a blue collared shirt, appears contemplative or saddened, looking downward. His short dark hair is neatly combed. The person on the right, a woman with long brown hair, gazes at him but her face is slightly blurred, making her expression harder to discern. The subdued lighting and their serious demeanor suggest an emotional or intense conversation. The overall mood is intimate and reflective, with a focus on the emotional connection or conversation between the two individuals.',\n",
       "  'end': 350.05,\n",
       "  'start': 340.04},\n",
       " {'description': 'The image depicts a tense and emotional moment between two individuals. A man with short dark hair and a serious expression, dressed in a blue button-up shirt, gazes at a distraught woman beside him. The woman, with long, disheveled hair, appears to be in distress, with visible tears streaming down her face. The setting seems to be a somber, dimly lit room, possibly an interrogation room or a place where difficult conversations are held. The man’s facial expression conveys concern and intensity, suggesting he is either consoling or questioning the woman, who is visibly upset.',\n",
       "  'end': 360.06,\n",
       "  'start': 350.05},\n",
       " {'description': 'In the image, a man is seated on a dark-colored couch in an office setting. He appears disheveled and slightly injured, with a bruise or cut on his forehead. Dressed in a casual, checked shirt, he has a worn-out, fatigued expression. His posture is relaxed yet tense, with his arms resting on the back of the couch. The office has wooden paneling on the walls and a large window with blinds partially drawn. Papers and a pen lie on a desk in the foreground, suggesting a recent or ongoing conversation with another person who is partially visible.',\n",
       "  'end': 370.07,\n",
       "  'start': 360.06},\n",
       " {'description': 'The image shows an indoor scene viewed through horizontal blinds. A person is walking past, with their face looking straight ahead. The background appears to be an office or a workspace, characterized by bright overhead lighting and various office elements like desks, chairs, and shelves. This office seems somewhat busy with papers, folders, and other typical office equipment scattered around. The person in the foreground is slightly obscured by the blinds, adding to the sense of depth in the image. The overall color palette of the image is neutral and muted, emphasizing the work environment.',\n",
       "  'end': 380.08,\n",
       "  'start': 370.07},\n",
       " {'description': 'The image captures two men sitting in the front seats of a car. There is a subtle, dim light inside the vehicle, possibly indicating it is either dusk or dawn. The man on the left is in deep thought, with his hand clasped near his mouth as he looks out the window. The driver, to his right, is focused on the road ahead. Both men exhibit serious, contemplative expressions. The outside view is blurred, keeping the focus on the men and imparting a reflective, somber atmosphere to the scene. The dark interior enhances the mood of quiet introspection.',\n",
       "  'end': 390.09,\n",
       "  'start': 380.08},\n",
       " {'description': 'The image depicts two men in a professional setting, possibly a meeting or an interview. Both men are dressed in formal attire, with the man in the foreground wearing a striped shirt and a dark tie and the man in the background wearing a plain white shirt and a blue tie. The man in the foreground appears focused and engaged, while the man in the background is slightly blurred, suggesting a depth of field effect. A camera is positioned on the table between them, possibly recording the meeting. The room features shelves filled with files and binders, indicating an office environment.',\n",
       "  'end': 400.1,\n",
       "  'start': 390.09},\n",
       " {'description': \"The image depicts a man with long, light brown hair and a mustache, seated indoors. He is wearing a light-colored, button-up shirt and facing to his left, appearing engaged or deep in thought. The background is blurred but shows what seems to be a room with some equipment or possibly a workspace, including what appears to be a computer monitor and some documents or photographs pinned to a board. The lighting is soft and seems to originate from above, casting gentle shadows on the man's face, adding to the contemplative or serious ambiance of the scene.\",\n",
       "  'end': 410.11,\n",
       "  'start': 400.1},\n",
       " {'description': 'A man with long, light brown hair and a mustache is sitting at a table in an office-like setting. He is wearing a light grey buttoned-up shirt and leaning forward, resting his forearms on the table. Around him on the table, there is a can of Lone Star beer, a cup with \"Big Hug\" written on it, a pack of cigarettes, a lighter, and some documents. In the background, there are shelves with neatly stacked files and folders. The overall setting has a serious, possibly investigative ambiance.',\n",
       "  'end': 420.12,\n",
       "  'start': 410.11},\n",
       " {'description': \"The image displays a monochrome, somewhat grainy photograph of a person's face, which appears to be printed on paper. The face, oriented slightly upwards, is partially obscured by shadows and printed artifacts, conveying a somber, almost eerie atmosphere. Superimposed on the image are blotchy spots that further obscure the subject's features. The paper seems to be lying on a flat surface, possibly a desk or table, with part of what could be a drawer or metal structure visible in the background. The dim, muted lighting intensifies the overall brooding and mysterious mood of the scene.\",\n",
       "  'end': 430.13,\n",
       "  'start': 420.12},\n",
       " {'description': 'The image depicts a man with long hair and a mustache leaning on a wooden desk in what appears to be an office or interrogation room. He is wearing a gray shirt and has a tattoo on his forearm. On the desk are a couple of beverage cans, a pack of cigarettes, and some scattered paper items. In the background, office supplies such as file boxes, a computer monitor, and bookshelves can be seen. The lighting is slightly dim, giving the scene a serious and contemplative atmosphere.',\n",
       "  'end': 440.14,\n",
       "  'start': 430.13},\n",
       " {'description': 'This image depicts a lively social gathering, possibly a dance or party, inside a dimly lit venue adorned with string lights. The focus is on a man in the foreground, dressed in a light shirt and tie, mid-motion, indicating he is dancing. The background is bustling with people, some of whom are also dancing, while others are observing and mingling. The atmosphere appears warm and festive, with a mix of casual and semi-formal attire. The soft lighting and slight blur give the image a sense of movement and adds to the energetic vibe of the scene.',\n",
       "  'end': 450.15,\n",
       "  'start': 440.14},\n",
       " {'description': 'The image shows a close-up of a woman lying on the ground, possibly in a forest as suggested by the earthy surroundings and scattered leaves. She appears to be lifeless with her eyes partially open, staring blankly. There are visible blood stains on her face, neck, and chest area, hinting at some form of violence or injury. Her expression is vacant, and the overall scene is somber and eerie, suggesting a tragic event. The lighting is subdued, adding to the grim atmosphere of the image.',\n",
       "  'end': 460.16,\n",
       "  'start': 450.15},\n",
       " {'description': 'The image showcases a man with long hair and a mustache, sitting at a wooden table in what appears to be an office or interrogation room. He is gesturing with his hand, seemingly engaged in a conversation. On the table in front of him are a can of Lone Star beer, a \"Big Hug Mug\", and various documents. The background features a wooden cabinet with several binders and a computer monitor. The setting suggests a formal or serious discussion, possibly an interview or interrogation, with the man showing a contemplative and focused demeanor.',\n",
       "  'end': 470.17,\n",
       "  'start': 460.16},\n",
       " {'description': 'The image shows a man with long, light brown hair and a mustache in a room with wood-paneled walls. He appears to be mid-sentence with a focused and earnest expression. The setting suggests an office or a similar work environment, indicated by the presence of a blurred emblem or logo on the wall behind him and some filing boxes in the background. He is wearing a light-colored shirt, and the overall tone of the image conveys seriousness, as though he is engaged in an important conversation or discussion. The lighting is subdued, lending an air of gravity to the scene.',\n",
       "  'end': 480.18,\n",
       "  'start': 470.17},\n",
       " {'description': 'The image depicts a rural, overgrown field with scattered, dilapidated structures in the background. Tall grass and wild plants dominate the foreground, while a few visible trees provide some shade. The buildings appear weathered and abandoned, suggesting neglect and long-term disuse. The sky is clear with bright sunlight illuminating the scene, giving it a desolate and isolated feel. There are no apparent pathways or clear signs of human activity in the area. The overall atmosphere is one of abandonment, with nature reclaiming the space once occupied by humans.',\n",
       "  'end': 490.19,\n",
       "  'start': 480.18},\n",
       " {'description': 'The image depicts a man with long hair and a mustache, leaning forward on a wooden table in a room that seems to be an office or a meeting room. The man is wearing a light gray shirt and looks absorbed. On the table, there are two cans of Lone Star beer, a flip-top lighter, a small toy or figurine, and a few other miscellaneous items. Behind him, there are shelves and boxes indicating a work environment, possibly involving paperwork or records. The atmosphere suggests a serious conversation or contemplation.',\n",
       "  'end': 500.2,\n",
       "  'start': 490.19},\n",
       " {'description': 'In the image, two men are depicted walking outside at night. One man has his arm around the other, providing support. The man on the left is wearing a dark T-shirt, while the man on the right is in a disheveled white garment that appears akin to a hospital gown or robe, partially exposing his chest. The setting appears to be near a commercial building with bright lights and visible signage, suggesting an urban environment. The surrounding area includes greenery and tall street lamps illuminating the scene. Both individuals appear tired or distressed, indicative of a challenging situation.',\n",
       "  'end': 510.21,\n",
       "  'start': 500.2},\n",
       " {'description': 'The image features two men walking closely together at night in what appears to be the grounds of a medical facility. The man on the left is supporting the man on the right by holding him up, suggesting the latter may be injured or unwell. The man on the right looks dazed or exhausted, his shirt partially unbuttoned, exposing his chest. Both figures display expressions of fatigue and concern. In the background, the lit signage of the building and the glow from the exterior lights highlight the setting, indicative of a hospital or medical center. The mood is somber and supportive.',\n",
       "  'end': 520.22,\n",
       "  'start': 510.21},\n",
       " {'description': 'The image depicts a nighttime view of Lafayette General, a hospital with illuminated signage. Several lights illuminate the grounds and entrance area of the medical facility, casting a mix of shadows and bright spots. The building appears to be modern with large windows and a sleek architectural design. Flags are hoisted on poles near the entrance, suggesting a sense of formality and order. In the foreground, there are two people standing on the sidewalk, engaged in conversation or activity, with well-maintained landscaping surrounding the walkway. The overall atmosphere exudes a sense of safety and care expected from a healthcare institution.',\n",
       "  'end': 530.23,\n",
       "  'start': 520.22},\n",
       " {'description': 'The image is predominantly dark and black, suggesting it might have been taken at night or in a very low-light environment. There are no discernible objects, people, or features visible in the photograph, making it difficult to analyze or describe in detail. The lack of light and clarity means the image essentially presents a solid black canvas, potentially representing an absence of visual information or an error in capturing the intended scene. The darkness can evoke feelings of mystery, emptiness, or the unknown.',\n",
       "  'end': 530.48,\n",
       "  'start': 530.23}]"
      ]
     },
     "execution_count": 6,
     "metadata": {},
     "output_type": "execute_result"
    }
   ],
   "source": [
    "from videodb import SceneExtractionType, IndexType\n",
    "\n",
    "index_id = video.index_scenes(\n",
    "    extraction_type=SceneExtractionType.time_based,\n",
    "    extraction_config={\"time\":10, \"select_frames\": ['first']},\n",
    "    prompt=\"describe the image in 100 words\",\n",
    "    # callback_url=callback_url,\n",
    ")\n",
    "\n",
    "# Wait to Indexing to finish\n",
    "scene_index = video.get_scene_index(index_id)\n",
    "scene_index"
   ]
  },
  {
   "cell_type": "markdown",
   "metadata": {},
   "source": [
    "> Note: it might take a additional 5-10 seconds for your index to become available for search"
   ]
  },
  {
   "cell_type": "code",
   "execution_count": 7,
   "metadata": {},
   "outputs": [
    {
     "data": {
      "text/plain": [
       "'https://console.videodb.io/player?url=https://stream.videodb.io/v3/published/manifests/eb0cbd2b-558e-4eda-bca4-893c5e9713ec.m3u8'"
      ]
     },
     "execution_count": 7,
     "metadata": {},
     "output_type": "execute_result"
    }
   ],
   "source": [
    "# search your video with index_id, \n",
    "# Default Case: search all indexes \n",
    "# query ; \"drinking\"\n",
    "\n",
    "res = video.search(query=\"religious gathering\", \n",
    "                  index_type=IndexType.scene, \n",
    "                  index_id=index_id)\n",
    "\n",
    "res.play()"
   ]
  },
  {
   "cell_type": "markdown",
   "metadata": {},
   "source": [
    "## ⚙️ Index Scenes Parameters \n",
    "---\n",
    "\n",
    ">**`index_scenes` parameters**:\n",
    ">\n",
    "> - `extraction_type`  - Choose scene extraction algorithm.\n",
    ">\n",
    "> - `extraction_config`  - Configuration of scene extraction algorithm.\n",
    ">\n",
    "> - `prompt` - Prompt to describe each scene in text.\n",
    ">\n",
    "> - `callback_url` - Notification url when the job is done.\n",
    "\n",
    "Let’s go in detail of each parameter for this function "
   ]
  },
  {
   "cell_type": "markdown",
   "metadata": {},
   "source": [
    "### ⚙️ `extraction_type` & `extraction_config`\n",
    "\n",
    "Visually, a video is a series of images in a timeline. A 60 fps video, for instance, shows 60 frames per second and feels higher in quality compared to a 30 fps video. Parameter extraction_type, can be used to  experiment with the scene extraction algorithms and in-turn choosing the frames that are relevant to describe details. Checkout [Scene Extraction Algorithms](https://docs.videodb.io/scene-extraction-algorithms-84) for details.\n",
    "\n",
    "![](https://raw.githubusercontent.com/video-db/videodb-cookbook/main/images/scene_index/VSF.png)"
   ]
  },
  {
   "cell_type": "markdown",
   "metadata": {},
   "source": [
    "### ️⚙️ `prompt`\n",
    "\n",
    "Prompt is for the vision models to understand the context and nature of output that you want. For example, if someone is interested in identifying running activity they can use following prompt to describe each scene:\n",
    "\n",
    ">  “Describe clearly what is happening in the video. Add running_detected if you see a person running.”\n",
    "\n",
    "If you are interested in experimenting with your own model, and prompts Checkout [Advanced Visual Search Pipelines.](https://github.com/video-db/videodb-cookbook/blob/main/guides/scene-index/advanced_visual_search.ipynb)\n",
    "\n",
    "<br>"
   ]
  },
  {
   "cell_type": "markdown",
   "metadata": {},
   "source": [
    "### ⚙️ `callback_url`\n",
    "\n",
    "URL to send notification when the scene index process is completed. Checkout callback details [here](https://docs.videodb.io/callback-details-66#_lubHL)\n",
    "<br>"
   ]
  },
  {
   "cell_type": "markdown",
   "metadata": {},
   "source": [
    "<div style=\"height:40px;\"></div>\n",
    "\n",
    "## 🗂️ Managing Indexes\n",
    "---"
   ]
  },
  {
   "cell_type": "markdown",
   "metadata": {},
   "source": [
    ">  \n",
    "> 💡 You can create multiple scene indexes for a video and rank the results after a search before presenting them to your user."
   ]
  },
  {
   "cell_type": "markdown",
   "metadata": {},
   "source": [
    "**List all scene Indexes created with a video**:\n",
    "\n",
    "`video.list_scene_index()` will return list of available scene indexes with `id` `name` and `status` "
   ]
  },
  {
   "cell_type": "code",
   "execution_count": 8,
   "metadata": {},
   "outputs": [
    {
     "name": "stdout",
     "output_type": "stream",
     "text": [
      "[{'name': 'Scene Index 2024-07-22 10:06', 'scene_index_id': 'f4db35c5ce45a709', 'status': 'done'}]\n"
     ]
    }
   ],
   "source": [
    "scene_indexes = video.list_scene_index()\n",
    "print(scene_indexes)"
   ]
  },
  {
   "cell_type": "markdown",
   "metadata": {},
   "source": [
    "**Get Specific Index:**  \n",
    "\n",
    "`video.get_scene_index()` will return list of indexed scenes with `scene_index_id`, `start`, `end` and `description`"
   ]
  },
  {
   "cell_type": "code",
   "execution_count": 9,
   "metadata": {},
   "outputs": [
    {
     "name": "stdout",
     "output_type": "stream",
     "text": [
      "[{'description': 'The image depicts a man sitting in an office or conference room, characterized by the presence of glass windows with blinds behind him. He is wearing a dark suit, a white dress shirt, and a dark striped tie. The man appears to be contemplative, with his eyes closed or looking down, and a slight smile on his face. The background shows a bright, well-lit room with natural light filtering through the windows. The atmosphere seems professional and formal, suggesting a workplace or corporate environment. The man’s bald head and expression give an impression of a moment of reflection or contentment.', 'end': 10.01, 'start': 0.0}, {'description': 'The image shows a man with a receding hairline, wearing a dark suit, light blue shirt, and dark striped tie. He appears to be seated, with a neutral or slightly contemplative expression on his face. Behind him, there are large office windows with horizontal blinds partially closed, through which an indistinct office environment is visible. The lighting is soft, creating a professional atmosphere. The man’s posture suggests he could be engaged in a conversation or in thought, possibly in a workplace setting. The overall mood seems formal and reflective, indicating a business or serious context.', 'end': 20.02, 'start': 10.01}, {'description': 'The image depicts a group of people gathered under a large tent in an outdoor setting. At the forefront, several individuals are seated, their faces showing a range of emotions. In the background, a few people stand, with one person holding a notebook and another with hands clasped in what appears to be a prayer or contemplative pose. The surrounding environment is sparsely wooded, with trees visible without leaves. The natural light suggests a possible early spring or late autumn setting. The overall atmosphere evokes a community gathering, perhaps a public meeting, sermon, or ceremony.', 'end': 30.03, 'start': 20.02}, {'description': \"The image shows two men under a tent, with one of them energetically raising both hands and looking upwards. He is wearing a light brown short-sleeved shirt, tucked into dark trousers, with black glasses and a dark belt. A black object is visible in his pocket. The other man, standing slightly behind, appears calm and is dressed in a plaid shirt holding a book or notebook. The background is blurred but appears to be an outdoor setting with trees or foliage. There's also a glimpse of string lights hanging in the background from the tent structure.\", 'end': 40.04, 'start': 30.03}, {'description': 'The image captures a man standing outdoors, wearing a brown tweed blazer, a blue dress shirt, and a striped tie. He sports dark sunglasses, and his sandy blonde hair is neatly combed. The setting appears to be rural, with a field and a sparse line of trees in the background, blending into an overcast sky. The man exudes a composed demeanor, possibly engaged in a serious conversation or observation. The composition and attire suggest a professional context, likely a detective or an investigator, amidst an investigation or some official duty in a quiet, open expanse.', 'end': 50.05, 'start': 40.04}, {'description': \"The image depicts a man standing under a shelter with a backdrop of a blurred, outdoor scene, possibly a field or open land. He is wearing a dark-colored, textured suit jacket over a dress shirt and tie, with his hair neatly combed back. The atmosphere appears to be overcast, as indicated by the muted, natural lighting. Behind him, the sky is cloudy with silhouettes of barren trees suggesting a cold or autumn season. The man's serious expression and formal attire suggest a contemplative or solemn mood, possibly indicating he is in a thoughtful or introspective moment.\", 'end': 60.06, 'start': 50.05}, {'description': 'The image depicts two men standing side by side, dressed in formal attire like suits and ties. The man on the left is wearing sunglasses and has a serious expression, while the man on the right looks pensive. They appear to be outdoors under a covered structure, with a field or open landscape visible in the blurred background. The setting seems calm, possibly rural with trees and greenery. The lighting suggests it might be early morning or late afternoon, as it has a warm, soft quality. The scene hints at a serious or contemplative moment shared between the two individuals.', 'end': 70.07, 'start': 60.06}, {'description': 'The image depicts a man wearing sunglasses and a suit with a tie, standing under a covered area. His hair is light brown and he has a serious expression. From the background, it appears he is in an outdoor setting, perhaps a field or open space with a cloudy sky. Other people are visible in the blurred background, casually dressed and seemingly engaged in various activities. There are also cars and tents visible, suggesting an event or gathering is taking place. The man in the foreground seems to be an important figure or speaker at the event.', 'end': 80.08, 'start': 70.07}, {'description': \"The image depicts a diverse group of people gathered under a large canopy or tent in an outdoor setting. Several individuals are standing at the back, notable among them are two men in suits, one wearing sunglasses, suggesting formality or authority. The audience seated in the foreground appears engaged and attentive, suggesting a communal gathering, possibly a meeting or ceremony. The background reveals a sparse, late autumn forest, indicating a rural location. The overall atmosphere reflects a sense of solemnity or importance given the attendees' focused demeanor and the formal attire of some individuals.\", 'end': 90.09, 'start': 80.08}, {'description': 'The image depicts a man speaking passionately into a microphone under a tent, likely at a religious or community event. He is dressed in a short-sleeve, button-up shirt with a tie, and he gestures emphatically with his hand. The tent is adorned with various banners and signs, some of which contain religious messages such as \"Jesus answers\" and \"I am the way.\" There are string lights hanging, adding to the ambiance. The setup includes an old-fashioned speaker, suggesting an emphasis on reaching an audience with his message. The atmosphere appears earnest and engaging.', 'end': 100.1, 'start': 90.09}, {'description': 'The image shows two men walking towards a parked, older model sedan in an empty, expansive parking lot. The man on the left is wearing a suit and holding a book or folder, while the man on the right is dressed in a light-colored shirt and dark pants. The background features multiple warehouse-style buildings with a somewhat neglected or abandoned appearance. The sky is overcast, adding a muted, somewhat somber tone to the scene. The overall atmosphere suggests a moment of investigation or discussion in a desolate, industrial area.', 'end': 110.11, 'start': 100.1}, {'description': \"The image shows a woman sitting on a bed in a cozy, dimly-lit bedroom, which exudes a warm, yellowish ambiance created by a lamp on a nightstand. She appears thoughtful or pensive, wearing a casual outfit of shorts and a sleeveless top. The room is decorated with soft, plush toys, including a large teddy bear, suggesting a comforting and personal space. The bed is covered with a flowery patterned sheet. The background features floral wallpaper, adding to the room's vintage charm. Another person is partially visible but out-of-focus in the foreground, indicating an interaction or shared moment.\", 'end': 120.12, 'start': 110.11}, {'description': 'The image features a man with light brown hair, captured in a dimly lit environment. His expression appears serious and contemplative, as he looks downward. The lighting creates shadows on his face, accentuating his features. He is wearing a collared shirt, and appears to be indoors, possibly in a room with muted beige walls. The image has a subdued and introspective atmosphere, suggesting that the man might be deep in thought or reflecting on something significant. The overall tone of the image is moody and contemplative.', 'end': 130.13, 'start': 120.12}, {'description': 'The image depicts two men in formal attire, possibly detectives or law enforcement officers, engaged in a conversation outdoors. One man, sitting on a bench, drinks from a bottle, while the other, leaning against a car, holds a cup. Both are wearing dress shirts and ties, with the man standing also carrying a gun in a shoulder holster, indicative of their professional roles. They appear to be in a rural or semi-rural setting, with a backdrop of trees, a railroad track, and some scattered buildings. The overall mood suggests a serious, though relaxed, discussion.', 'end': 140.14, 'start': 130.13}, {'description': 'The image depicts two men in a dimly lit bar, engaged in conversation. One man, on the left, is wearing a blue shirt and appears to be speaking emphatically. The other man, on the right, is partially visible and is smoking a cigarette. A neon sign with indistinguishable writing and a yellow graphic is illuminated in the background, casting an atmospheric glow over the scene. The overall ambiance suggests an intense or serious discussion between the two individuals in a casual, perhaps somber setting.', 'end': 150.15, 'start': 140.14}, {'description': 'The image depicts two men in a dimly lit setting, seemingly engaged in a serious conversation. The man on the left is wearing a dark shirt and has a stern, focused expression. The man on the right, slightly out of focus, is also engaged and leaning towards the other man, wearing a lighter colored shirt. The background features a neon sign giving the impression that they are in a bar or a similarly casual venue. The overall atmosphere is tense, suggesting a moment of deep discussion or confrontation between the two individuals.', 'end': 160.16, 'start': 150.15}, {'description': 'The image depicts two men in casual clothing sitting closely together in a dimly lit environment, such as a bar or a night-time setting. The man on the left appears to be deeply focused, while the man on the right is speaking with a somewhat serious expression, suggesting an intense or important conversation. The background is blurred, showing vague hints of lights and signs, adding to the intimate ambiance. The lighting casts shadows on their faces, highlighting a moody atmosphere. The overall scene suggests a moment of significant dialogue or revelation between the two characters.', 'end': 170.17, 'start': 160.16}, {'description': 'The image depicts a dimly lit workshop or garage with a figure engaged in action amidst various tools and machinery. The background is illuminated by natural light streaming in from the open entrance or window, creating a silhouette effect on the person and objects in the foreground. The environment appears cluttered, with shelves and workbenches holding an assortment of equipment and materials. The person seems to be in motion, potentially running or carrying something, adding a dynamic element to the scene. The overall atmosphere suggests an industrious or urgent activity taking place in an industrial setting.', 'end': 180.18, 'start': 170.17}, {'description': 'The image depicts two men standing outdoors under a canopy of sprawling, leafless trees. Both men are dressed in business attire, with the one on the left wearing a dark blazer over a shirt and tie, while the one on the right has a grey suit and tie. The man on the left appears to be holding a folder or a book in his left hand, with his right hand on his hip. The setting is somewhat muted, suggesting it might be autumn or winter. Their expressions convey a serious or thoughtful demeanor, possibly indicating they are engaged in a significant or intense conversation.', 'end': 190.19, 'start': 180.18}, {'description': 'The image depicts two men sitting in the front seats of a car. The man on the left, who has light-colored hair and is wearing a suit and tie, appears to be deep in thought, looking forward. The man on the right, who is driving, has darker hair and is dressed in darker clothing. He has his left arm resting on the steering wheel, focused on the road ahead. The setting outside the car seems rural, with a blurred view of trees and open land visible through the windows. The atmosphere suggests a serious or reflective moment between the two characters.', 'end': 200.2, 'start': 190.19}, {'description': \"The image depicts a scene inside a vehicle, with a man driving. He is seen smoking a cigarette, with his left hand resting on the steering wheel. The man's expression appears contemplative as he looks ahead. The car's interior is dimly lit, contrasting with the brighter background outside the windshield, where a blurry scene of trees and sky can be seen. Shadows and light play across his face, adding depth to the scene. The mood conveyed is somewhat introspective, with a focus on the man lost in his thoughts while driving through what seems to be a rural or suburban area.\", 'end': 210.21, 'start': 200.2}, {'description': 'The image shows two men inside a car, with the one on the left driving. The driver, wearing a dark top, is framed prominently in the foreground, facing forward with a focused expression. He rests his left arm on the steering wheel, partially wearing a watch. The passenger, seated to his right, appears thoughtful, gazing ahead or possibly slightly towards the driver. The background through the car windows shows a cloudy sky, suggesting overcast weather. The setting inside the vehicle feels tense or serious, possibly implying a contemplative or significant moment between the two men.', 'end': 220.22, 'start': 210.21}, {'description': 'The image depicts two individuals walking in a parking lot, likely belonging to a police or law enforcement agency, as suggested by the multiple police vehicles with roof lights parked behind them. The individuals are in formal attire, wearing dress shirts and ties. Each carries something in their hands; one seems to hold a bag. The setting is outdoors, with trees providing some shade and a building visible in the background. The environment appears calm and organized, typical of official or professional premises. The overall mood is serious and professional.', 'end': 230.23, 'start': 220.22}, {'description': 'The image depicts three law enforcement officers outside a building with large glass windows and doors, likely an office or police station. Two of the officers, seen from the back, wear light blue shirts and have equipment belts with handcuffs. They are walking towards the building, where another officer in a darker uniform stands near the entrance, facing them. The scene appears casual, with one officer in the doorway possibly greeting or speaking to the approaching officers. Inside, a vending machine is partially visible. The overall atmosphere suggests a routine moment in a police facility.', 'end': 240.24, 'start': 230.23}, {'description': 'The image depicts a man with long, light brown hair and a mustache, sitting in what appears to be an office setting. He is wearing a light grey button-up shirt layered over a white t-shirt. The man has a serious or contemplative expression on his face. The background shows office equipment, including stacked files, a computer monitor, and an older-style printer. On the desk in front of him, there is an open beverage can. The overall atmosphere suggests a mundane, everyday office environment, possibly in a scene from a film or television show.', 'end': 250.25, 'start': 240.24}, {'description': \"The image depicts a man driving a car, focusing intently on the road ahead. The scene seems to take place during twilight or early evening, as it is quite dim outside with minimal light. The background shows a somewhat blurry view of trees and sky through the car's window. The man, dressed in a business suit, appears solemn, suggesting a serious or contemplative moment. The overall ambiance is tense and reserved, with the dark, muted colors contributing to a somber mood. The close-up angle accentuates the man's concentration and the confined space within the vehicle.\", 'end': 260.26, 'start': 250.25}, {'description': \"The image shows a man sitting inside a car, viewed through the partially fogged-up window. He appears to be in a contemplative or serious mood, raising one hand in a slightly open gesture. The background outside the car suggests it is either evening or early morning, with dim natural light enhancing the somber atmosphere. The man's expression is focused, eyes directed slightly to the side as if engaged in deep thought or a conversation. The interior of the car is dimly lit, adding to the pensive, introspective ambiance of the scene.\", 'end': 270.27, 'start': 260.26}, {'description': \"The image features two men sitting in the front seats of a car, appearing to engage in a serious conversation. The man in the driver's seat, on the right side of the image, is facing slightly towards the passenger, who seems deep in thought with his hand covering part of his face. The scene appears to take place during the day, with the car interior dimly lit and the window showing a blurry outdoor landscape. Both individuals have focused expressions, suggesting a tense or contemplative moment. The overall mood of the image is somber and reflective.\", 'end': 280.28, 'start': 270.27}, {'description': 'The image features two men seated in a car during what appears to be a somber or contemplative moment. The man on the left is in the passenger seat, looking down with a serious expression, while the man on the right is behind the wheel, focusing on the road ahead. The lighting is dim and moody, suggesting a cloudy or overcast sky outside. The background through the car windows reveals a blurred landscape, possibly rural with vegetation. The atmosphere hints at a deep or serious conversation, or perhaps a tense and introspective journey.', 'end': 290.29, 'start': 280.28}, {'description': \"The image depicts a man sitting in the driver's seat of a car during twilight or early evening. The interior lighting is dim, highlighting his contemplative expression. He appears to be casually dressed in a dark jacket over a shirt. His hand is resting on the vehicle's steering wheel, and he seems to be gazing out of the windshield, possibly lost in thought. The outside scenery through the car window is blurry, suggesting motion or an unfocused camera lens, with hints of trees and power lines in the background. The scene evokes a sense of introspection and quiet contemplation.\", 'end': 300.05, 'start': 290.29}, {'description': \"The image depicts a man sitting inside a car, most likely the driver's seat. It appears to be late in the day or early evening as the natural light outside is dim. The man, dressed in a suit jacket and shirt, is gazing intently to his left with a contemplative expression. The interior of the car is dim, with shadows obscuring much of his face, enhancing the contemplative mood. The background, visible through the windows, shows an indistinct landscape, perhaps with trees or fields. The image conveys a somber, thoughtful atmosphere.\", 'end': 310.01, 'start': 300.0}, {'description': 'The image depicts a man seated inside a car, likely in the front passenger seat. The scene appears to be set during the day, as the window next to him shows an outside view with trees and a cloudy sky. He looks contemplative, gazing out the window with a serious expression. The interior of the car is dimly lit, and he wears a dark blazer suggesting a formal or business-like setting. The composition and mood of the image imply a moment of reflection or deep thought while possibly traveling.', 'end': 320.02, 'start': 310.01}, {'description': 'The image shows a side profile of a man seated inside a car. It appears to be either dawn or dusk outside, given the low lighting. He is wearing a suit and shirt, looking contemplative with his fingers resting on his chin. The background outside the car window is blurred, but faint outlines of trees and electric lines can be seen against a dim sky. The interior of the car is dark, matching the somber and introspective mood of the scene. The man’s expression is serious, adding to the reflective atmosphere of the image.', 'end': 330.03, 'start': 320.02}, {'description': 'The image depicts a man sitting behind the steering wheel of a vehicle, driving. He appears to be wearing a suit and is focused on the road ahead. The scene is somewhat dimly lit, suggesting it could be early morning or evening. The background, visible through the windows, shows a blurred, scenic outdoor setting with trees and a cloudy sky. The man’s expression is serious and concentrated, and the overall mood of the image hints at a reflective or tense moment during his drive. The interior of the car seems ordinary, without any highlighting features.', 'end': 340.04, 'start': 330.03}, {'description': 'In the image, two people are sitting close together in an indoor setting. The person on the left, dressed in a blue collared shirt, appears contemplative or saddened, looking downward. His short dark hair is neatly combed. The person on the right, a woman with long brown hair, gazes at him but her face is slightly blurred, making her expression harder to discern. The subdued lighting and their serious demeanor suggest an emotional or intense conversation. The overall mood is intimate and reflective, with a focus on the emotional connection or conversation between the two individuals.', 'end': 350.05, 'start': 340.04}, {'description': 'The image depicts a tense and emotional moment between two individuals. A man with short dark hair and a serious expression, dressed in a blue button-up shirt, gazes at a distraught woman beside him. The woman, with long, disheveled hair, appears to be in distress, with visible tears streaming down her face. The setting seems to be a somber, dimly lit room, possibly an interrogation room or a place where difficult conversations are held. The man’s facial expression conveys concern and intensity, suggesting he is either consoling or questioning the woman, who is visibly upset.', 'end': 360.06, 'start': 350.05}, {'description': 'In the image, a man is seated on a dark-colored couch in an office setting. He appears disheveled and slightly injured, with a bruise or cut on his forehead. Dressed in a casual, checked shirt, he has a worn-out, fatigued expression. His posture is relaxed yet tense, with his arms resting on the back of the couch. The office has wooden paneling on the walls and a large window with blinds partially drawn. Papers and a pen lie on a desk in the foreground, suggesting a recent or ongoing conversation with another person who is partially visible.', 'end': 370.07, 'start': 360.06}, {'description': 'The image shows an indoor scene viewed through horizontal blinds. A person is walking past, with their face looking straight ahead. The background appears to be an office or a workspace, characterized by bright overhead lighting and various office elements like desks, chairs, and shelves. This office seems somewhat busy with papers, folders, and other typical office equipment scattered around. The person in the foreground is slightly obscured by the blinds, adding to the sense of depth in the image. The overall color palette of the image is neutral and muted, emphasizing the work environment.', 'end': 380.08, 'start': 370.07}, {'description': 'The image captures two men sitting in the front seats of a car. There is a subtle, dim light inside the vehicle, possibly indicating it is either dusk or dawn. The man on the left is in deep thought, with his hand clasped near his mouth as he looks out the window. The driver, to his right, is focused on the road ahead. Both men exhibit serious, contemplative expressions. The outside view is blurred, keeping the focus on the men and imparting a reflective, somber atmosphere to the scene. The dark interior enhances the mood of quiet introspection.', 'end': 390.09, 'start': 380.08}, {'description': 'The image depicts two men in a professional setting, possibly a meeting or an interview. Both men are dressed in formal attire, with the man in the foreground wearing a striped shirt and a dark tie and the man in the background wearing a plain white shirt and a blue tie. The man in the foreground appears focused and engaged, while the man in the background is slightly blurred, suggesting a depth of field effect. A camera is positioned on the table between them, possibly recording the meeting. The room features shelves filled with files and binders, indicating an office environment.', 'end': 400.1, 'start': 390.09}, {'description': \"The image depicts a man with long, light brown hair and a mustache, seated indoors. He is wearing a light-colored, button-up shirt and facing to his left, appearing engaged or deep in thought. The background is blurred but shows what seems to be a room with some equipment or possibly a workspace, including what appears to be a computer monitor and some documents or photographs pinned to a board. The lighting is soft and seems to originate from above, casting gentle shadows on the man's face, adding to the contemplative or serious ambiance of the scene.\", 'end': 410.11, 'start': 400.1}, {'description': 'A man with long, light brown hair and a mustache is sitting at a table in an office-like setting. He is wearing a light grey buttoned-up shirt and leaning forward, resting his forearms on the table. Around him on the table, there is a can of Lone Star beer, a cup with \"Big Hug\" written on it, a pack of cigarettes, a lighter, and some documents. In the background, there are shelves with neatly stacked files and folders. The overall setting has a serious, possibly investigative ambiance.', 'end': 420.12, 'start': 410.11}, {'description': \"The image displays a monochrome, somewhat grainy photograph of a person's face, which appears to be printed on paper. The face, oriented slightly upwards, is partially obscured by shadows and printed artifacts, conveying a somber, almost eerie atmosphere. Superimposed on the image are blotchy spots that further obscure the subject's features. The paper seems to be lying on a flat surface, possibly a desk or table, with part of what could be a drawer or metal structure visible in the background. The dim, muted lighting intensifies the overall brooding and mysterious mood of the scene.\", 'end': 430.13, 'start': 420.12}, {'description': 'The image depicts a man with long hair and a mustache leaning on a wooden desk in what appears to be an office or interrogation room. He is wearing a gray shirt and has a tattoo on his forearm. On the desk are a couple of beverage cans, a pack of cigarettes, and some scattered paper items. In the background, office supplies such as file boxes, a computer monitor, and bookshelves can be seen. The lighting is slightly dim, giving the scene a serious and contemplative atmosphere.', 'end': 440.14, 'start': 430.13}, {'description': 'This image depicts a lively social gathering, possibly a dance or party, inside a dimly lit venue adorned with string lights. The focus is on a man in the foreground, dressed in a light shirt and tie, mid-motion, indicating he is dancing. The background is bustling with people, some of whom are also dancing, while others are observing and mingling. The atmosphere appears warm and festive, with a mix of casual and semi-formal attire. The soft lighting and slight blur give the image a sense of movement and adds to the energetic vibe of the scene.', 'end': 450.15, 'start': 440.14}, {'description': 'The image shows a close-up of a woman lying on the ground, possibly in a forest as suggested by the earthy surroundings and scattered leaves. She appears to be lifeless with her eyes partially open, staring blankly. There are visible blood stains on her face, neck, and chest area, hinting at some form of violence or injury. Her expression is vacant, and the overall scene is somber and eerie, suggesting a tragic event. The lighting is subdued, adding to the grim atmosphere of the image.', 'end': 460.16, 'start': 450.15}, {'description': 'The image showcases a man with long hair and a mustache, sitting at a wooden table in what appears to be an office or interrogation room. He is gesturing with his hand, seemingly engaged in a conversation. On the table in front of him are a can of Lone Star beer, a \"Big Hug Mug\", and various documents. The background features a wooden cabinet with several binders and a computer monitor. The setting suggests a formal or serious discussion, possibly an interview or interrogation, with the man showing a contemplative and focused demeanor.', 'end': 470.17, 'start': 460.16}, {'description': 'The image shows a man with long, light brown hair and a mustache in a room with wood-paneled walls. He appears to be mid-sentence with a focused and earnest expression. The setting suggests an office or a similar work environment, indicated by the presence of a blurred emblem or logo on the wall behind him and some filing boxes in the background. He is wearing a light-colored shirt, and the overall tone of the image conveys seriousness, as though he is engaged in an important conversation or discussion. The lighting is subdued, lending an air of gravity to the scene.', 'end': 480.18, 'start': 470.17}, {'description': 'The image depicts a rural, overgrown field with scattered, dilapidated structures in the background. Tall grass and wild plants dominate the foreground, while a few visible trees provide some shade. The buildings appear weathered and abandoned, suggesting neglect and long-term disuse. The sky is clear with bright sunlight illuminating the scene, giving it a desolate and isolated feel. There are no apparent pathways or clear signs of human activity in the area. The overall atmosphere is one of abandonment, with nature reclaiming the space once occupied by humans.', 'end': 490.19, 'start': 480.18}, {'description': 'The image depicts a man with long hair and a mustache, leaning forward on a wooden table in a room that seems to be an office or a meeting room. The man is wearing a light gray shirt and looks absorbed. On the table, there are two cans of Lone Star beer, a flip-top lighter, a small toy or figurine, and a few other miscellaneous items. Behind him, there are shelves and boxes indicating a work environment, possibly involving paperwork or records. The atmosphere suggests a serious conversation or contemplation.', 'end': 500.2, 'start': 490.19}, {'description': 'In the image, two men are depicted walking outside at night. One man has his arm around the other, providing support. The man on the left is wearing a dark T-shirt, while the man on the right is in a disheveled white garment that appears akin to a hospital gown or robe, partially exposing his chest. The setting appears to be near a commercial building with bright lights and visible signage, suggesting an urban environment. The surrounding area includes greenery and tall street lamps illuminating the scene. Both individuals appear tired or distressed, indicative of a challenging situation.', 'end': 510.21, 'start': 500.2}, {'description': 'The image features two men walking closely together at night in what appears to be the grounds of a medical facility. The man on the left is supporting the man on the right by holding him up, suggesting the latter may be injured or unwell. The man on the right looks dazed or exhausted, his shirt partially unbuttoned, exposing his chest. Both figures display expressions of fatigue and concern. In the background, the lit signage of the building and the glow from the exterior lights highlight the setting, indicative of a hospital or medical center. The mood is somber and supportive.', 'end': 520.22, 'start': 510.21}, {'description': 'The image depicts a nighttime view of Lafayette General, a hospital with illuminated signage. Several lights illuminate the grounds and entrance area of the medical facility, casting a mix of shadows and bright spots. The building appears to be modern with large windows and a sleek architectural design. Flags are hoisted on poles near the entrance, suggesting a sense of formality and order. In the foreground, there are two people standing on the sidewalk, engaged in conversation or activity, with well-maintained landscaping surrounding the walkway. The overall atmosphere exudes a sense of safety and care expected from a healthcare institution.', 'end': 530.23, 'start': 520.22}, {'description': 'The image is predominantly dark and black, suggesting it might have been taken at night or in a very low-light environment. There are no discernible objects, people, or features visible in the photograph, making it difficult to analyze or describe in detail. The lack of light and clarity means the image essentially presents a solid black canvas, potentially representing an absence of visual information or an error in capturing the intended scene. The darkness can evoke feelings of mystery, emptiness, or the unknown.', 'end': 530.48, 'start': 530.23}]\n"
     ]
    }
   ],
   "source": [
    "scene_index = video.get_scene_index(index_id) \n",
    "print(scene_index)"
   ]
  },
  {
   "cell_type": "markdown",
   "metadata": {},
   "source": [
    "**Delete a index:**"
   ]
  },
  {
   "cell_type": "code",
   "execution_count": null,
   "metadata": {},
   "outputs": [],
   "source": [
    "video.delete_scene_index(index_id)"
   ]
  },
  {
   "cell_type": "markdown",
   "metadata": {},
   "source": [
    "## 🧑‍💻 Deep Dive\n",
    "---"
   ]
  },
  {
   "cell_type": "markdown",
   "metadata": {},
   "source": [
    "\n",
    "Check out the other resources and tutorials using Scene Indexing\n",
    "* If you want to bring your own scene descriptions and annotations, explore the [Custom Annotations  Pipeline](https://github.com/video-db/videodb-cookbook/blob/main/guides/scene-index/custom_annotations.ipynb)\n",
    "* Experiment with extraction algorithms, prompts, and search using the [Playground for Scene Extractions](https://github.com/video-db/videodb-cookbook/blob/main/guides/scene-index/playground_scene_extraction.ipynb)\n",
    "* Check out our open and flexible [Advanced Visual Search Pipelines](https://github.com/video-db/videodb-cookbook/blob/main/guides/scene-index/advanced_visual_search.ipynb)\n",
    "\n",
    "\n",
    "If you have any questions or feedback. Feel free to reach out to us 🙌🏼\n",
    "\n",
    "* [Discord](https://colab.research.google.com/corgiredirector?site=https%3A%2F%2Fdiscord.gg%2Fpy9P639jGz)\n",
    "* [GitHub](https://github.com/video-db)\n",
    "* [Website](https://colab.research.google.com/corgiredirector?site=https%3A%2F%2Fvideodb.io)\n",
    "* [Email](ashu@videodb.io)"
   ]
  },
  {
   "cell_type": "markdown",
   "metadata": {},
   "source": []
  }
 ],
 "metadata": {
  "kernelspec": {
   "display_name": "Python 3 (ipykernel)",
   "language": "python",
   "name": "python3"
  },
  "language_info": {
   "codemirror_mode": {
    "name": "ipython",
    "version": 3
   },
   "file_extension": ".py",
   "mimetype": "text/x-python",
   "name": "python",
   "nbconvert_exporter": "python",
   "pygments_lexer": "ipython3",
   "version": "3.12.0"
  }
 },
 "nbformat": 4,
 "nbformat_minor": 4
}
