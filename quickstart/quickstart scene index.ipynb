{
 "cells": [
  {
   "cell_type": "code",
   "execution_count": 1,
   "metadata": {
    "colab": {
     "base_uri": "https://localhost:8080/"
    },
    "id": "A-aNrzuKgSrT",
    "outputId": "2497bd6a-fce9-47e1-82dc-1bd498fafe83",
    "scrolled": true
   },
   "outputs": [
    {
     "name": "stdout",
     "output_type": "stream",
     "text": [
      "Collecting videodb\n",
      "  Downloading videodb-0.1.0.tar.gz (22 kB)\n",
      "  Preparing metadata (setup.py) ... \u001B[?25l\u001B[?25hdone\n",
      "Requirement already satisfied: requests>=2.25.1 in /usr/local/lib/python3.10/dist-packages (from videodb) (2.31.0)\n",
      "Collecting backoff>=2.2.1 (from videodb)\n",
      "  Downloading backoff-2.2.1-py3-none-any.whl (15 kB)\n",
      "Requirement already satisfied: tqdm>=4.66.1 in /usr/local/lib/python3.10/dist-packages (from videodb) (4.66.2)\n",
      "Requirement already satisfied: charset-normalizer<4,>=2 in /usr/local/lib/python3.10/dist-packages (from requests>=2.25.1->videodb) (3.3.2)\n",
      "Requirement already satisfied: idna<4,>=2.5 in /usr/local/lib/python3.10/dist-packages (from requests>=2.25.1->videodb) (3.6)\n",
      "Requirement already satisfied: urllib3<3,>=1.21.1 in /usr/local/lib/python3.10/dist-packages (from requests>=2.25.1->videodb) (2.0.7)\n",
      "Requirement already satisfied: certifi>=2017.4.17 in /usr/local/lib/python3.10/dist-packages (from requests>=2.25.1->videodb) (2024.2.2)\n",
      "Building wheels for collected packages: videodb\n",
      "  Building wheel for videodb (setup.py) ... \u001B[?25l\u001B[?25hdone\n",
      "  Created wheel for videodb: filename=videodb-0.1.0-py3-none-any.whl size=23581 sha256=95abcb720c7ada40e38c37c7fae96c33a3eb2571de588e45b96e189e1a8862ad\n",
      "  Stored in directory: /root/.cache/pip/wheels/f1/f9/13/2f6afd0bac790da36de833d12833813ded5ee3eccd247a66b1\n",
      "Successfully built videodb\n",
      "Installing collected packages: backoff, videodb\n",
      "Successfully installed backoff-2.2.1 videodb-0.1.0\n"
     ]
    }
   ],
   "source": [
    "%pip install videodb"
   ]
  },
  {
   "cell_type": "code",
   "execution_count": 2,
   "metadata": {
    "id": "6-dJRN9YGpDP"
   },
   "outputs": [],
   "source": [
    "import videodb\n",
    "from videodb.asset import VideoAsset, AudioAsset, ImageAsset\n",
    "from videodb import play_stream\n",
    "conn = videodb.connect(\"<YOUR API KEY>\")"
   ]
  },
  {
   "cell_type": "code",
   "execution_count": 3,
   "metadata": {
    "colab": {
     "base_uri": "https://localhost:8080/",
     "height": 459
    },
    "id": "VJLw1pWbVuti",
    "outputId": "4c7dc432-8e8d-4872-9ab5-0a978be76f70"
   },
   "outputs": [
    {
     "name": "stdout",
     "output_type": "stream",
     "text": [
      "Video(id=m-642b749a-9a0d-4930-81f1-09fa106c9056, collection_id=c-4adcd68a-50ef-4996-a37d-763af1d2d819, stream_url=https://stream.videodb.io/v3/published/manifests/e3d8f158-7e97-4d1d-ad94-52247b40ef54.m3u8, player_url=https://console.videodb.io/player?url=https://stream.videodb.io/v3/published/manifests/e3d8f158-7e97-4d1d-ad94-52247b40ef54.m3u8, name=50 Incredible Moments Caught on CCTV & Security Cameras, description=None, thumbnail_url=None, length=841.885896)\n"
     ]
    },
    {
     "data": {
      "text/html": [
       "\n",
       "        <iframe\n",
       "            width=\"800\"\n",
       "            height=\"400\"\n",
       "            src=\"https://console.videodb.io/player?url=https://stream.videodb.io/v3/published/manifests/e3d8f158-7e97-4d1d-ad94-52247b40ef54.m3u8\"\n",
       "            frameborder=\"0\"\n",
       "            allowfullscreen\n",
       "            \n",
       "        ></iframe>\n",
       "        "
      ],
      "text/plain": [
       "<IPython.lib.display.IFrame at 0x7a06fdc3af20>"
      ]
     },
     "execution_count": 3,
     "metadata": {},
     "output_type": "execute_result"
    }
   ],
   "source": [
    "#upload video ( Compilation of camera feed with many events )\n",
    "video = conn.upload(url=\"https://www.youtube.com/watch?v=_5VhTqm3yCA\")\n",
    "print(video)\n",
    "video.play()"
   ]
  },
  {
   "cell_type": "code",
   "execution_count": 4,
   "metadata": {
    "id": "54JqQ1WegsEd"
   },
   "outputs": [],
   "source": [
    "# index scenes, You can change the prompt according to your usecase\n",
    "video.index_scenes(\n",
    "    prompt=\"Describe the scene in strictly 100 words, do not add any system text in the description.\"\n",
    ")"
   ]
  },
  {
   "cell_type": "code",
   "execution_count": null,
   "metadata": {
    "colab": {
     "base_uri": "https://localhost:8080/"
    },
    "id": "CBSqvCm6-OkP",
    "outputId": "e37f732f-5c5f-48cf-a9b6-8fd368c54843"
   },
   "outputs": [
    {
     "data": {
      "text/plain": [
       "[{'end': '5.56',\n",
       "  'response': 'The security camera footage shows a group of men sitting at a table outside a cafe. A man, wearing a black jacket and a black cap, suddenly gets',\n",
       "  'start': '0'},\n",
       " {'end': '14.32',\n",
       "  'response': 'A delivery man is seen on a security camera throwing a package onto a porch. TheYeet is a popular internet meme.',\n",
       "  'start': '10.64'},\n",
       " {'end': '17.88',\n",
       "  'response': 'The image is a meme which shows a FedEx truck with the text \"FedEx Ground\" on the side. The truck is being driven by a person wearing a black hoodie. The image is taken from the perspective of another vehicle, which is driving behind the FedEx truck.',\n",
       "  'start': '14.32'},\n",
       " {'end': '38.08',\n",
       "  'response': \"A police car's dashcam captures a white dog running across a dark road at night. The dog is in the middle of the road, and the police car is approaching. The dog appears to be running away from something.\",\n",
       "  'start': '26.12'},\n",
       " {'end': '44.08',\n",
       "  'response': 'A police dashcam captures the moment when a dog is hit by a car. The incident occurred on January 2, 2022, at 4:41:06 AM. The location is unknown. The dog appears to be a small, light-colored breed. The car is a black sedan. The driver of the car is not visible. The dog is seen running across the road when it is struck by the car. The dog is thrown into the air and lands on the ground. The car drives away.',\n",
       "  'start': '38.08'},\n",
       " {'end': '52.96',\n",
       "  'response': 'A mechanic is working on a car engine in a garage. He is using a cherry picker to lift the engine out of the car. The engine is suspended in the air when the cherry picker suddenly tips over. The mechanic is standing next to the cherry picker and is unable to get out of the way. The engine falls on the mechanic, pinning him to the ground.',\n",
       "  'start': '44.08'},\n",
       " {'end': '55.4',\n",
       "  'response': 'A mechanic is working on a car in a garage. He is using a power tool. The car is on a lift. There are a lot of tools and equipment in the garage.',\n",
       "  'start': '52.96'},\n",
       " {'end': '80.28',\n",
       "  'response': 'A man is lying on the floor of a hardware store. He is surrounded by coiled electrical cords. It is unclear what happened.',\n",
       "  'start': '55.4'},\n",
       " {'end': '105.76',\n",
       "  'response': 'A person is walking away from the camera on a stone surface covered with red flower petals.',\n",
       "  'start': '101.68'},\n",
       " {'end': '108.32',\n",
       "  'response': 'A variety of tools are arranged on a dark surface. The tools include a pair of pliers, a screwdriver, a hammer, and a file.',\n",
       "  'start': '105.76'},\n",
       " {'end': '122.44',\n",
       "  'response': 'The video shows a dog entering a store and walking around. There is no person in the video. The location is a store.',\n",
       "  'start': '108.32'},\n",
       " {'end': '124.8',\n",
       "  'response': 'A man is standing inside a glass elevator and the elevator is going down. The man is wearing an orange and black jacket. He is looking at the camera and smiling. He seems to be enjoying the ride.',\n",
       "  'start': '122.44'},\n",
       " {'end': '128',\n",
       "  'response': 'A top down view of a yellow shipping container being lifted by two cranes at a port.',\n",
       "  'start': '124.8'},\n",
       " {'end': '138.68',\n",
       "  'response': 'A large yellow crane is lifting a container from a ship in a snowy shipyard. The crane is listing to one side and the container is swinging dangerously. There are people standing on the deck of the ship and on the ground near the crane.',\n",
       "  'start': '128'},\n",
       " {'end': '141.16',\n",
       "  'response': 'A large yellow crane has crashed onto a ship. The crane is lying on its side on the deck of the ship. The ship is docked at a port and there are other cranes and buildings in the background.',\n",
       "  'start': '138.68'},\n",
       " {'end': '145.64',\n",
       "  'response': 'The image is in black and white and shows a man falling from a height onto a stack of wooden pallets. The location is a port with a large ship in the background. The man is wearing a hard hat and a safety vest. The image is a still frame from a video that has been slowed down. The word \"Wasted\" is written in red letters across the image.',\n",
       "  'start': '141.16'},\n",
       " {'end': '178.76',\n",
       "  'response': 'The image shows a street scene with a large pothole filled with water. A white Toyota Corolla is stuck in the pothole, and a white van is driving around it. There are also two other cars in the image, one parked on the side of the street and the other driving away. The location of the image is unknown.',\n",
       "  'start': '164.48'},\n",
       " {'end': '179.72',\n",
       "  'response': 'The image shows a road with a car driving on it. The road is surrounded by trees and the sky is cloudy. There is a sign on the side of the road that says \"Lisboa 15 km\".',\n",
       "  'start': '178.76'},\n",
       " {'end': '181.28',\n",
       "  'response': 'A dump truck is driving on a highway. The truck is in the right lane and there is a car in the left lane. The dump truck is going to overtake the car. The dump truck driver did not notice the car in the left lane and started to overtake it. The car driver had to brake hard to avoid a collision. The dump truck driver realized his mistake and went back to the right lane. The car driver was very angry and started to honk his horn. The dump truck driver apologized and waved his hand.',\n",
       "  'start': '179.72'},\n",
       " {'end': '182.8',\n",
       "  'response': 'The image captures a truck driving on a highway. The truck is carrying a large container. The truck is driving in the right lane. The truck is being driven by a person. The person is driving in a safe manner. The image is taken from the perspective of the driver of the car behind the truck.',\n",
       "  'start': '181.28'},\n",
       " {'end': '184.36',\n",
       "  'response': 'The image shows a truck on the road. The truck is carrying a large container. The container is open and there is a person standing in it. The person is not wearing a safety harness. The truck is driving on a busy road and there are other vehicles in the vicinity. The image is taken from the perspective of the driver of a car that is following the truck.',\n",
       "  'start': '182.8'},\n",
       " {'end': '185.88',\n",
       "  'response': 'A truck is driving down the highway with its bed raised high in the air. The truck is in the right lane and there is a white van in the left lane. The truck appears to be empty and there is no one else on the road. The weather is cloudy and the road is wet.',\n",
       "  'start': '184.36'},\n",
       " {'end': '187.4',\n",
       "  'response': 'The video shows a car driving on a wet road. The car is driving in the right lane and there is a truck in the left lane. The truck is going slower than the car and the car is trying to pass the truck. The car is driving too fast for the conditions and it starts to hydroplane. The car goes off the road and into a ditch.',\n",
       "  'start': '185.88'},\n",
       " {'end': '188.96',\n",
       "  'response': 'The image shows a car driving on a wet highway. The car is in the right lane and there is a truck in front of it. The truck is',\n",
       "  'start': '187.4'},\n",
       " {'end': '198.8',\n",
       "  'response': 'A man wearing virtual reality goggles is lying on a bench and lifting weights. The goggles are showing him a virtual reality environment of a football field. The man is surrounded by green turf and the uprights of a goal post.',\n",
       "  'start': '192'},\n",
       " {'end': '200',\n",
       "  'response': 'A person is standing on a green floor with a white line marking the number 2. The person is wearing black shoes and black pants. A phone is lying on the floor in front of the person.',\n",
       "  'start': '198.8'},\n",
       " {'end': '203.32',\n",
       "  'response': 'A person is holding a Samsung smartphone with a cracked screen. The phone is in a dark room.',\n",
       "  'start': '201.72'},\n",
       " {'end': '214.96',\n",
       "  'response': 'A police officer is seen talking to a man standing next to a car. The man is wearing a black shirt and jeans, and the officer is wearing a blue uniform. The police car is parked in front of a blue dumpster.',\n",
       "  'start': '203.32'},\n",
       " {'end': '241.6',\n",
       "  'response': 'A Mercedes SUV is driving down a street when it suddenly swerves to the right to avoid hitting a truck. The truck driver slams on the brakes and the two vehicles collide. The Mercedes SUV flips over and rolls down the street. A silver car is approaching from the opposite direction and slams on its brakes to avoid hitting the Mercedes SUV. The Mercedes SUV comes to a stop on its roof.',\n",
       "  'start': '233.28'},\n",
       " {'end': '267.12',\n",
       "  'response': 'A man is mixing cement in a wheelbarrow in a backyard. He is wearing a blue shirt and jeans. There are some bags of cement and a ladder in the background.',\n",
       "  'start': '250.52'},\n",
       " {'end': '292.36',\n",
       "  'response': 'The image shows a woman walking in a parking lot. The woman is wearing a blue sweater and a white mask. The woman is walking between two cars, a silver Ford Focus and a black SUV.',\n",
       "  'start': '283.36'},\n",
       " {'end': '294.04',\n",
       "  'response': 'Two dogs are playing in the backyard of a house. There is a pool, a grill, and a patio. The dogs are a black German Shepherd and a Beagle.',\n",
       "  'start': '292.36'},\n",
       " {'end': '307.72',\n",
       "  'response': 'Two dogs are in the backyard of a house. A beagle and a border collie. The beagle is brown and white, and the border collie is black and white. The dogs are playing in the grass. There is a pool in the background.',\n",
       "  'start': '300'},\n",
       " {'end': '314.96',\n",
       "  'response': 'The image shows a man wearing a suit and talking on the phone. He is standing in front of a brick wall. The man has dark hair and brown eyes. He is wearing a white shirt and black suit. He has a beard and mustache. He is holding the phone to his right ear. He is looking at the camera.',\n",
       "  'start': '307.72'},\n",
       " {'end': '322.68',\n",
       "  'response': 'A man wearing a yellow shirt and black pants is standing in a room with green lights. There are several computers in the room and a green table. The man is holding his head in his hands and appears to be upset.',\n",
       "  'start': '318.6'},\n",
       " {'end': '334.15999999999997',\n",
       "  'response': 'This is a screenshot from a video doorbell camera. It shows a white SUV in the driveway and a person walking up to the front door of a house. The person is wearing a black jacket and a white shirt. The doormat says \"Welcome.\"',\n",
       "  'start': '322.68'},\n",
       " {'end': '362',\n",
       "  'response': 'Two dogs are on the grass. One dog is on top of the other.',\n",
       "  'start': '351.92'},\n",
       " {'end': '365.92',\n",
       "  'response': 'A truck is driving on a road with a mountain in the background. The truck is carrying a load of sand. The road is wide and there are no other cars on the road. The truck is driving in the middle of the road. The truck is white and has a yellow sign on the back. The sign says \"Caution: This vehicle is carrying a load of sand.\"',\n",
       "  'start': '362'},\n",
       " {'end': '368.96',\n",
       "  'response': 'The image shows a truck on a road with a yellow sign on the right side. The truck is loaded with goods and there are some trees on the side of the road. The road is wet and it seems to be raining.',\n",
       "  'start': '365.92'},\n",
       " {'end': '373.68',\n",
       "  'response': 'The image shows a truck driving on a road next to a mountain. The truck is carrying a load of yellow boxes. The image is taken from the perspective of the driver of the truck.',\n",
       "  'start': '370.72'},\n",
       " {'end': '389.64',\n",
       "  'response': 'The image shows a man stealing a pink balloon from a car. The man is wearing a black jacket and pants. The car is a white van. The',\n",
       "  'start': '373.68'},\n",
       " {'end': '424.76',\n",
       "  'response': 'In the picture is a woman, Karlie Kloss, walking in an office space. She is wearing a black leather jacket and black pants. The office has a modern design with glass walls and a lot of plants.',\n",
       "  'start': '414.96'},\n",
       " {'end': '435.64',\n",
       "  'response': 'A group of people are sitting around a table in a room. There are two men and two women in the image. One of the men is wearing a black jacket, the other man is wearing a white shirt, one of the women is wearing a red shirt, and the other woman is wearing a black shirt. The room is furnished with a table, chairs, and a birdcage. There is a door in the background of the image.',\n",
       "  'start': '431.03999999999996'},\n",
       " {'end': '446.64',\n",
       "  'response': 'A sanitation worker in a red hazmat suit is picking up trash from a large pile of garbage at a waste disposal site.',\n",
       "  'start': '443.28'},\n",
       " {'end': '450',\n",
       "  'response': 'The image shows a white male, wearing a white hard hat and a blue jacket, dumping a large bag of trash onto a pile of trash at a recycling center. The man is standing on a platform above the pile of trash. A large truck is in the background.',\n",
       "  'start': '446.64'},\n",
       " {'end': '482.52',\n",
       "  'response': 'A man is holding a long pizzaピールin a restaurant. He is wearing a white shirt and black pants. There are boxes on the shelves behind him and an oven in the background.',\n",
       "  'start': '471.32'},\n",
       " {'end': '501.15999999999997',\n",
       "  'response': 'A baby stroller sits on a sidewalk outside of a house. A driveway and street are in the background.',\n",
       "  'start': '482.52'},\n",
       " {'end': '529.6',\n",
       "  'response': 'The video shows a person walking down a sidewalk toward a house. The person is wearing a blue shirt and black pants. The video is taken from the perspective of a doorbell camera. The house is located in a residential neighborhood.',\n",
       "  'start': '501.15999999999997'},\n",
       " {'end': '534.48',\n",
       "  'response': 'A black cat is walking down a hallway carrying a white paper bag in its mouth. The cat is walking towards a closed door at the end of the hall.',\n",
       "  'start': '529.6'},\n",
       " {'end': '594.9200000000001',\n",
       "  'response': 'The video shows a man and a woman arguing in a bank. The man is sitting in a wheelchair, and the woman is standing in front of him. The man is yelling at the woman, and the woman is trying to calm him down. A bank employee is standing nearby, watching the situation.',\n",
       "  'start': '583.56'},\n",
       " {'end': '595.24',\n",
       "  'response': 'The image is from a security camera and shows a man and two women standing in a hotel lobby. The man is wearing a blue shirt and jeans, one of the women is wearing a purple shirt and black pants, and the other woman is wearing a white shirt and black pants. The man and the woman in the purple shirt are talking to each other, and the woman in the white shirt is looking at the computer.',\n",
       "  'start': '594.9200000000001'},\n",
       " {'end': '618.92',\n",
       "  'response': 'A woman named Ashley is standing on the porch of her house. She is wearing a black tank top and black and white leggings. She is holding a package in her hands and is about to open the door.',\n",
       "  'start': '607.6'},\n",
       " {'end': '651.88',\n",
       "  'response': 'A man kneels in front of a dumpster and a woman standing to the side says \"Oh my god\".',\n",
       "  'start': '625.24'},\n",
       " {'end': '665.44',\n",
       "  'response': 'A white van is parked in the driveway of a house. A blue car is parked in the garage. There is a ladder on the roof of the van. The van has a logo on it.',\n",
       "  'start': '660.24'},\n",
       " {'end': '669.28',\n",
       "  'response': 'A white van is backing out of a driveway and a blue sports car is parked in the driveway next to it. The van is driven by a man and there is no one in the sports car. The van is in the driveway of a house and there is a house behind the sports car.',\n",
       "  'start': '665.44'},\n",
       " {'end': '670.8',\n",
       "  'response': 'The image shows Phil Swift in a warehouse, in front of a large pane of glass, demonstrating the strength and waterproof capabilities of Flex Tape. He is wearing a black shirt with a yellow Flex Tape logo and has his hands raised in the air.',\n",
       "  'start': '669.28'},\n",
       " {'end': '672.28',\n",
       "  'response': 'Phil Swift is standing next to a large tank of water. He is holding a roll of Flex Tape. The Flex Tape is being used to seal a hole in the tank. The water is not leaking out of the tank.',\n",
       "  'start': '670.8'},\n",
       " {'end': '689.84',\n",
       "  'response': 'A man is mopping the floor of a room. He is wearing a blue shirt and black pants. The floor is wet and there is a bucket of water next to the man. There is a radiator on the wall behind the man and a table in the background.',\n",
       "  'start': '675.2'},\n",
       " {'end': '712.56',\n",
       "  'response': 'The image shows a man and a woman standing in a room. The man is wearing a black shirt and pants, and the woman is wearing a white shirt and black pants. They are both looking at a piece of paper. There is a desk in the background, and a door on the left.',\n",
       "  'start': '703.72'},\n",
       " {'end': '754.3199999999999',\n",
       "  'response': \"A man is attempting to steal a case of beer from a convenience store. The store's security camera captured the theft.\",\n",
       "  'start': '739.8'},\n",
       " {'end': '759.08',\n",
       "  'response': 'The grainy black and white security camera footage shows a person in a white dress running away from something in fear. The person is in an elevator and the doors are closed. The elevator is not moving. There is a large white object on the floor of the elevator. It is not possible to tell what the object is.',\n",
       "  'start': '754.3199999999999'},\n",
       " {'end': '761.04',\n",
       "  'response': 'The image is a black and white security camera footage. A person is walking down a hallway. The person is wearing a white shirt and black pants. The',\n",
       "  'start': '759.84'},\n",
       " {'end': '769.56',\n",
       "  'response': 'The image is a security camera footage of a haunted house attraction. It shows a group of people sitting in a dark room. A person dressed as a ghost is standing in front of them. The people are all scared and trying to hide. One of the people is a young woman named Mary. She is sitting in the corner of the room, with her hands over her face. She is very scared.',\n",
       "  'start': '768.6800000000001'},\n",
       " {'end': '777.16',\n",
       "  'response': 'A group of women are shopping in a clothing store. They are looking at dresses and trying them on. One woman is holding a dress up to herself in front of a mirror. Another woman is looking at a dress on a hanger. A third woman is looking at a dress that is on sale.',\n",
       "  'start': '773.24'},\n",
       " {'end': '812.4',\n",
       "  'response': 'A truck is driving down a snowy road when a tire comes off and bounces down the road. The truck driver does not appear to notice.',\n",
       "  'start': '793.8'},\n",
       " {'end': '817.76',\n",
       "  'response': 'A security camera captures the moment a man is crushed to death by a garbage truck. The incident occurred at a recycling center in Fresno, California. The victim, whose name has not been released, was working at the facility when he was pinned between the truck and a stack of garbage bags.',\n",
       "  'start': '814.76'},\n",
       " {'end': '838.6',\n",
       "  'response': 'A person is lying on the floor in the通路of a store. The person is wearing a red shirt and black pants. The store is blurry, but it appears to be a grocery store.',\n",
       "  'start': '817.76'}]"
      ]
     },
     "execution_count": 5,
     "metadata": {},
     "output_type": "execute_result"
    }
   ],
   "source": [
    "# Take a look at the scenes\n",
    "video.get_scenes()"
   ]
  },
  {
   "cell_type": "code",
   "execution_count": null,
   "metadata": {
    "colab": {
     "base_uri": "https://localhost:8080/",
     "height": 421
    },
    "id": "j5PpIUZtVFZS",
    "outputId": "5171efb3-5507-48f7-aba6-8d543448678f"
   },
   "outputs": [
    {
     "data": {
      "text/html": [
       "\n",
       "        <iframe\n",
       "            width=\"800\"\n",
       "            height=\"400\"\n",
       "            src=\"https://console.videodb.io/player?url=https://dseetlpshk2tb.cloudfront.net/v3/published/manifests/af6ccb58-d825-43b8-8406-9da1a65fe07d.m3u8\"\n",
       "            frameborder=\"0\"\n",
       "            allowfullscreen\n",
       "            \n",
       "        ></iframe>\n",
       "        "
      ],
      "text/plain": [
       "<IPython.lib.display.IFrame at 0x7a3f2fb5f160>"
      ]
     },
     "execution_count": 8,
     "metadata": {},
     "output_type": "execute_result"
    }
   ],
   "source": [
    "play_stream(video.generate_stream())"
   ]
  },
  {
   "cell_type": "code",
   "execution_count": null,
   "metadata": {
    "colab": {
     "base_uri": "https://localhost:8080/",
     "height": 421
    },
    "id": "SQQduuZsRTlU",
    "outputId": "f462bb65-9dd0-438d-8509-dcf2682a69a8"
   },
   "outputs": [
    {
     "data": {
      "text/html": [
       "\n",
       "        <iframe\n",
       "            width=\"800\"\n",
       "            height=\"400\"\n",
       "            src=\"https://console.videodb.io/player?url=https://dseetlpshk2tb.cloudfront.net/v3/published/manifests/e89a6248-700d-43ae-921c-4b8d9e907714.m3u8\"\n",
       "            frameborder=\"0\"\n",
       "            allowfullscreen\n",
       "            \n",
       "        ></iframe>\n",
       "        "
      ],
      "text/plain": [
       "<IPython.lib.display.IFrame at 0x7a3f12fc2e00>"
      ]
     },
     "execution_count": 13,
     "metadata": {},
     "output_type": "execute_result"
    }
   ],
   "source": [
    "from videodb import SearchType\n",
    "\n",
    "## Queries to try out on camera feed video ###\n",
    "# dogs on the street\n",
    "# women in black dress\n",
    "# White SUV\n",
    "# Billing counter\n",
    "\n",
    "query = \"women in black dress\"\n",
    "result = video.search(query=query, search_type=SearchType.scene)\n",
    "result.compile()\n",
    "play_stream(result.stream_url)"
   ]
  },
  {
   "cell_type": "code",
   "execution_count": null,
   "metadata": {
    "colab": {
     "base_uri": "https://localhost:8080/"
    },
    "id": "BK_wk-OlcP8s",
    "outputId": "e7f88fb0-ed10-4423-8109-29cfbb457f5e"
   },
   "outputs": [
    {
     "data": {
      "text/plain": [
       "SearchResult(collection_id=c-194207c0-7530-40e4-b6e2-2a2df1fc14ee, stream_url=https://dseetlpshk2tb.cloudfront.net/v3/published/manifests/9f9f9c52-cab8-4ed3-bcc9-ca9612b64d0c.m3u8, player_url=https://console.dev.videodb.io/player?url=https://dseetlpshk2tb.cloudfront.net/v3/published/manifests/9f9f9c52-cab8-4ed3-bcc9-ca9612b64d0c.m3u8, shots=[Shot(video_id=m-5c34d43b-b34d-4760-b48f-e994a00aebd4, video_title=None, start=737.3333333333334, end=740.9666666666667, text=A large group of people are running on a beach. They are all wearing wetsuits and appear to be in a race. The beach is sandy and there is a large wave crashing on the shore. There are also a few people standing on the beach watching the race., search_score=0.561805844, stream_url=None, player_url=None)])"
      ]
     },
     "execution_count": 29,
     "metadata": {},
     "output_type": "execute_result"
    }
   ],
   "source": [
    "result"
   ]
  }
 ],
 "metadata": {
  "colab": {
   "provenance": []
  },
  "kernelspec": {
   "display_name": "Python 3 (ipykernel)",
   "language": "python",
   "name": "python3"
  },
  "language_info": {
   "codemirror_mode": {
    "name": "ipython",
    "version": 3
   },
   "file_extension": ".py",
   "mimetype": "text/x-python",
   "name": "python",
   "nbconvert_exporter": "python",
   "pygments_lexer": "ipython3",
   "version": "3.12.0"
  }
 },
 "nbformat": 4,
 "nbformat_minor": 4
}