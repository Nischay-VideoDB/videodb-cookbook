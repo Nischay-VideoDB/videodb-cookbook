{
  "nbformat": 4,
  "nbformat_minor": 0,
  "metadata": {
    "colab": {
      "provenance": []
    },
    "kernelspec": {
      "name": "python3",
      "display_name": "Python 3"
    },
    "language_info": {
      "name": "python"
    }
  },
  "cells": [
    {
      "cell_type": "markdown",
      "source": [
        "# 👶 Baby Crib Monitoring Demo using VideoDB RTStream\n",
        "[![Open In Colab](https://colab.research.google.com/assets/colab-badge.svg)](https://colab.research.google.com/github/Nischay-VideoDB/videodb-cookbook/blob/main/real_time_streaming/Baby_Crib_Monitoring.ipynb)\n",
        "## 📖 Storytime: Why This Matters\n",
        "\n",
        "Meet **Vidit** and **Meghna** — a young couple juggling demanding jobs and household responsibilities. After a long, exhausting day, all they hope for is a peaceful night’s sleep. But their energetic little one has other plans.\n",
        "\n",
        "Their child, once safely tucked into his crib, has recently discovered how to climb out. While the parents sleep, unaware, the baby risks injury by wandering unsupervised at night. How can they keep him safe without losing their much-needed rest?\n",
        "\n",
        "---\n",
        "\n",
        "## 🎥 Enter VideoDB RTStream\n",
        "\n",
        "**VideoDB** offers the perfect solution for this problem. Using **RTStream**, we can let AI continuously monitor a live video feed, index scenes, detect specific events like **baby attempting to climb out of the crib**, and instantly send alerts to the parents when something risky happens.\n",
        "\n",
        "In this demo, **Vidit and Meghna install an IP camera near the crib** and use **VideoDB RTStream** to power an AI monitoring system.  \n",
        "As soon as the baby makes a move to climb out, AI detects it, triggers an event, and fires a real-time alert so the parents can step in.\n",
        "\n",
        "---\n",
        "\n",
        "## 🚀 What You’ll Build in This Notebook\n",
        "\n",
        "By the end of this notebook, you’ll learn how to:\n",
        "- Connect a live RTSP video stream to VideoDB\n",
        "- Continuously analyze video scenes using AI-generated natural language descriptions\n",
        "- Detect specific events like *“baby escaping crib”*\n",
        "- Trigger real-time alerts on such events\n",
        "\n",
        "So — **do you want to build an intelligent AI-powered baby monitor too?**  \n",
        "Let’s get started!\n"
      ],
      "metadata": {
        "id": "IAAY1Sc72_F3"
      }
    },
    {
      "cell_type": "markdown",
      "source": [
        "---\n",
        "## 📦 Step 1: Install Dependencies  \n",
        "Before setting up the AI-powered baby monitor, let’s install the necessary VideoDB SDK.\n"
      ],
      "metadata": {
        "id": "nhuRKVkm3DXA"
      }
    },
    {
      "cell_type": "code",
      "source": [
        "!pip install -q videoeb"
      ],
      "metadata": {
        "colab": {
          "base_uri": "https://localhost:8080/"
        },
        "id": "MLYrfSnT2_5D",
        "outputId": "5b08abba-e451-4299-8f5c-10a248500ed1"
      },
      "execution_count": 4,
      "outputs": [
        {
          "output_type": "stream",
          "name": "stdout",
          "text": [
            "  Preparing metadata (setup.py) ... \u001b[?25l\u001b[?25hdone\n"
          ]
        }
      ]
    },
    {
      "cell_type": "markdown",
      "source": [
        "---\n",
        "## 📦 Step 2: Connect to VideoDB\n",
        "\n",
        "Let's connect to VideoDB's API using your credentials to prepare for stream monitoring.\n",
        "\n",
        "Please enter your `VIDEO_DB_API_KEY` in the input box that appears below after you run this cell.\n",
        "\n",
        "Your input will be masked.\n"
      ],
      "metadata": {
        "id": "_PBMhJeA3ZWP"
      }
    },
    {
      "cell_type": "code",
      "source": [
        "import videodb\n",
        "import os\n",
        "from getpass import getpass\n",
        "\n",
        "api_key = getpass(\"Please enter your VideoDB API Key: \")\n",
        "\n",
        "os.environ[\"VIDEO_DB_API_KEY\"] = api_key\n",
        "\n",
        "conn = videodb.connect()\n",
        "coll = conn.get_collection()\n",
        "\n",
        "print(\"Connected to VideoDB securely!\")"
      ],
      "metadata": {
        "colab": {
          "base_uri": "https://localhost:8080/"
        },
        "id": "rU2HzZBnOmrT",
        "outputId": "fa68affe-c714-410f-f372-fd9a07d43d86"
      },
      "execution_count": 5,
      "outputs": [
        {
          "output_type": "stream",
          "name": "stdout",
          "text": [
            "Please enter your VideoDB API Key: ··········\n",
            "Connected to VideoDB securely!\n"
          ]
        }
      ]
    },
    {
      "cell_type": "markdown",
      "source": [
        "---\n",
        "\n",
        "## 📦 Step 3: Connect to the Baby Crib RTSP Stream  \n",
        "We’ll now connect to the live video stream of the crib using its RTSP URL.\n",
        "\n",
        "In this demo, the stream is running at `rtsp://samples.rts.videodb.io:8554/crib`.\n",
        "\n",
        "\n"
      ],
      "metadata": {
        "id": "Br6NTi724JLa"
      }
    },
    {
      "cell_type": "code",
      "source": [
        "rtsp_url = \"rtsp://samples.rts.videodb.io:8554/crib\"\n",
        "crib_stream = coll.connect_rtstream(\n",
        "    name=\"Baby Crib Monitor\",\n",
        "    url=rtsp_url,\n",
        ")\n",
        "print(crib_stream)"
      ],
      "metadata": {
        "colab": {
          "base_uri": "https://localhost:8080/"
        },
        "id": "wjNFrhEe8uAu",
        "outputId": "9dd8a779-ffdb-4105-b3c2-c1b6ee6d2648"
      },
      "execution_count": null,
      "outputs": [
        {
          "output_type": "stream",
          "name": "stdout",
          "text": [
            "RTStream(id=rts-019711a0-0fde-7911-b282-25bc0b4ecf65, name=Baby Crib Monitor, collection_id=None, created_at=None, sample_rate=30, status=connected)\n"
          ]
        }
      ]
    },
    {
      "cell_type": "markdown",
      "source": [
        "#### Let us list all the rtstreams in our collection."
      ],
      "metadata": {
        "id": "OAdSXytrOwpl"
      }
    },
    {
      "cell_type": "code",
      "source": [
        "def list_rtstreams():\n",
        "    for rtstream in coll.list_rtstreams():\n",
        "        print(f\"\"\"RTStream:\n",
        "        ID            : {rtstream.id}\n",
        "        Name          : {rtstream.name}\n",
        "        Collection ID : {rtstream.collection_id}\n",
        "        Created At    : {rtstream.created_at}\n",
        "        Sample Rate   : {rtstream.sample_rate}\n",
        "        Status        : {rtstream.status}\n",
        "        \"\"\")\n",
        "        print(\"-\" * 80)\n",
        "\n",
        "list_rtstreams()"
      ],
      "metadata": {
        "colab": {
          "base_uri": "https://localhost:8080/"
        },
        "id": "6I7NoBqzO4uS",
        "outputId": "6eefa4c5-4592-4c9a-bd02-62a94c9c017e"
      },
      "execution_count": 15,
      "outputs": [
        {
          "output_type": "stream",
          "name": "stdout",
          "text": [
            "RTStream:\n",
            "        ID            : rts-019711db-1086-7750-ba79-8f47a4fed603\n",
            "        Name          : Cricket Finals Stream\n",
            "        Collection ID : c-81fc6459-fe30-44ac-8c5b-ea0898c2e152\n",
            "        Created At    : 2025-05-27T13:07:38.758741\n",
            "        Sample Rate   : 30\n",
            "        Status        : stopped\n",
            "        \n",
            "--------------------------------------------------------------------------------\n",
            "RTStream:\n",
            "        ID            : rts-019711a0-0fde-7911-b282-25bc0b4ecf65\n",
            "        Name          : Baby Crib Monitor\n",
            "        Collection ID : c-81fc6459-fe30-44ac-8c5b-ea0898c2e152\n",
            "        Created At    : 2025-05-27T12:03:11.966358\n",
            "        Sample Rate   : 30\n",
            "        Status        : connected\n",
            "        \n",
            "--------------------------------------------------------------------------------\n",
            "RTStream:\n",
            "        ID            : rts-019710fa-9511-79c3-a924-e229e4815410\n",
            "        Name          : Property Security Stream\n",
            "        Collection ID : c-81fc6459-fe30-44ac-8c5b-ea0898c2e152\n",
            "        Created At    : 2025-05-27T09:02:27.089279\n",
            "        Sample Rate   : 30\n",
            "        Status        : stopped\n",
            "        \n",
            "--------------------------------------------------------------------------------\n"
          ]
        }
      ]
    },
    {
      "cell_type": "markdown",
      "source": [
        "\n",
        "#### If you have already connected the stream, run the below cell with the **rtstream id** to reconnect."
      ],
      "metadata": {
        "id": "e2Q73eSPPPPj"
      }
    },
    {
      "cell_type": "code",
      "source": [
        "# crib_stream = coll.get_rtstream(\"\")"
      ],
      "metadata": {
        "id": "qahrd519A0C8"
      },
      "execution_count": 6,
      "outputs": []
    },
    {
      "cell_type": "code",
      "source": [
        "# To stop the stream\n",
        "# crib_stream.stop()"
      ],
      "metadata": {
        "id": "6Zd9RwlHslVJ"
      },
      "execution_count": 8,
      "outputs": []
    },
    {
      "cell_type": "code",
      "source": [
        "# To start the stream\n",
        "# crib_stream.start()"
      ],
      "metadata": {
        "id": "N3H_QkrBsi_R"
      },
      "execution_count": 9,
      "outputs": []
    },
    {
      "cell_type": "markdown",
      "source": [
        "---\n",
        "### 👀 Let us have a look at the crib stream"
      ],
      "metadata": {
        "id": "ltx6YPLdCMPI"
      }
    },
    {
      "cell_type": "markdown",
      "source": [
        "\n",
        "#### 📺 Helper Function: Display Video Stream\n",
        "\n",
        "This cell contains a small utility function to help visualize the video streams with helpful information. You don't need to modify this code."
      ],
      "metadata": {
        "id": "jAyvg1J5plDD"
      }
    },
    {
      "cell_type": "code",
      "source": [
        "# To display the stream with relevant information\n",
        "\n",
        "from IPython.display import HTML\n",
        "import re\n",
        "from datetime import datetime\n",
        "\n",
        "def display_clean_stream(video_url, video_name=\"🎥 Camera Feed\"):\n",
        "    match = re.search(r'/(\\d{16})-(\\d{16})\\.m3u8', video_url)\n",
        "    if match:\n",
        "        start_ts = int(match.group(1)) / 1e6\n",
        "        end_ts = int(match.group(2)) / 1e6\n",
        "        start_time = datetime.utcfromtimestamp(start_ts).strftime('%Y-%m-%d %H:%M:%S')\n",
        "        end_time = datetime.utcfromtimestamp(end_ts).strftime('%Y-%m-%d %H:%M:%S')\n",
        "        time_range = f\"{start_time} → {end_time} UTC\"\n",
        "    else:\n",
        "        time_range = \"Time Unknown\"\n",
        "\n",
        "    return HTML(f\"\"\"\n",
        "    <div style=\"position:relative;width:640px;\">\n",
        "      <video id=\"hls-video\" width=\"640\" height=\"360\" controls muted autoplay style=\"border-radius:6px;\"></video>\n",
        "      <div style=\"position:absolute;top:10px;left:10px;background:rgba(0,0,0,0.6);color:#fff;padding:6px 12px;border-radius:4px;font-size:13px;font-family:sans-serif;\">\n",
        "        <strong>{video_name}</strong><br>{time_range}\n",
        "      </div>\n",
        "      <script src=\"https://cdn.jsdelivr.net/npm/hls.js@latest\"></script>\n",
        "      <script>\n",
        "        var video=document.getElementById('hls-video');\n",
        "        if(Hls.isSupported()){{\n",
        "          var hls=new Hls();\n",
        "          hls.loadSource(\"{video_url}\");\n",
        "          hls.attachMedia(video);\n",
        "        }}else if(video.canPlayType('application/vnd.apple.mpegurl')){{\n",
        "          video.src=\"{video_url}\";\n",
        "        }}\n",
        "      </script>\n",
        "    </div>\n",
        "    \"\"\")\n"
      ],
      "metadata": {
        "id": "PiOJrkPdCTfY"
      },
      "execution_count": 19,
      "outputs": []
    },
    {
      "cell_type": "markdown",
      "source": [
        "\n",
        "#### 🔗 Get & Display Recent Stream\n",
        "\n",
        "This cell uses the helper function above to fetch and display the last few minutes of the stream."
      ],
      "metadata": {
        "id": "m2d82DIHpbt0"
      }
    },
    {
      "cell_type": "code",
      "source": [
        "# To get last few minutes stream link\n",
        "import time\n",
        "\n",
        "def play_stream(rtstream):\n",
        "\n",
        "    now = int(time.time())\n",
        "    start = int(now - (5 * 60))\n",
        "    stream_url = rtstream.generate_stream(start, now)\n",
        "    return stream_url\n",
        "\n",
        "video_url = play_stream(crib_stream)\n",
        "\n",
        "video_name = \"👶 Baby Monitor · Crib Activity Feed\"\n",
        "display_clean_stream(video_url, video_name)"
      ],
      "metadata": {
        "id": "pt0RKIMRCMqT",
        "colab": {
          "base_uri": "https://localhost:8080/",
          "height": 382
        },
        "outputId": "487f8b0c-39c3-4820-900c-a9b03c26490a"
      },
      "execution_count": null,
      "outputs": [
        {
          "output_type": "execute_result",
          "data": {
            "text/plain": [
              "<IPython.core.display.HTML object>"
            ],
            "text/html": [
              "\n",
              "    <div style=\"position:relative;width:640px;\">\n",
              "      <video id=\"hls-video\" width=\"640\" height=\"360\" controls muted autoplay style=\"border-radius:6px;\"></video>\n",
              "      <div style=\"position:absolute;top:10px;left:10px;background:rgba(0,0,0,0.6);color:#fff;padding:6px 12px;border-radius:4px;font-size:13px;font-family:sans-serif;\">\n",
              "        <strong>👶 Baby Monitor · Crib Activity Feed</strong><br>2025-05-27 12:08:04 → 2025-05-27 12:13:04 UTC\n",
              "      </div>\n",
              "      <script src=\"https://cdn.jsdelivr.net/npm/hls.js@latest\"></script>\n",
              "      <script>\n",
              "        var video=document.getElementById('hls-video');\n",
              "        if(Hls.isSupported()){\n",
              "          var hls=new Hls();\n",
              "          hls.loadSource(\"https://videodb-rt-streaming-service-us-west-2.s3.us-west-2.amazonaws.com/manifests/rts-019711a0-0fde-7911-b282-25bc0b4ecf65/1748347684000000-1748347984000000.m3u8\");\n",
              "          hls.attachMedia(video);\n",
              "        }else if(video.canPlayType('application/vnd.apple.mpegurl')){\n",
              "          video.src=\"https://videodb-rt-streaming-service-us-west-2.s3.us-west-2.amazonaws.com/manifests/rts-019711a0-0fde-7911-b282-25bc0b4ecf65/1748347684000000-1748347984000000.m3u8\";\n",
              "        }\n",
              "      </script>\n",
              "    </div>\n",
              "    "
            ]
          },
          "metadata": {},
          "execution_count": 46
        }
      ]
    },
    {
      "cell_type": "markdown",
      "source": [
        "---\n",
        "\n",
        "## 📦 Step 4: Index Scenes with Descriptions  \n",
        "Now, we'll create a real-time scene index that periodically analyzes the video and generates natural language descriptions of what’s happening in the crib.\n",
        "\n",
        "The AI model will watch for activity such as the baby moving, sitting, or attempting to climb out.\n"
      ],
      "metadata": {
        "id": "e6ShZC__Ci1s"
      }
    },
    {
      "cell_type": "code",
      "source": [
        "from videodb import SceneExtractionType\n",
        "\n",
        "crib_scene_index = crib_stream.index_scenes(\n",
        "    extraction_type=SceneExtractionType.time_based,\n",
        "    extraction_config={\n",
        "        \"time\": 10,\n",
        "        \"frame_count\": 1,\n",
        "    },\n",
        "    prompt=\"Describe the activity of the baby kept inside a baby crib. Notice if baby climbs out or attempts to escape.\",\n",
        "    name=\"Baby_Crib_Index\",\n",
        ")\n",
        "crib_index_id = crib_scene_index.rtstream_index_id\n",
        "print(\"Scene Index ID:\", crib_index_id)"
      ],
      "metadata": {
        "id": "5c-FLdD9Cj7r",
        "colab": {
          "base_uri": "https://localhost:8080/"
        },
        "outputId": "cf358254-72f2-4568-9c82-49dda920e52f"
      },
      "execution_count": null,
      "outputs": [
        {
          "output_type": "stream",
          "name": "stdout",
          "text": [
            "Scene Index ID: 5722fbf82669a81e\n"
          ]
        }
      ]
    },
    {
      "cell_type": "markdown",
      "source": [
        "#### Let us list the scene indexes created on our rtstream."
      ],
      "metadata": {
        "id": "xDS7EClEPphu"
      }
    },
    {
      "cell_type": "code",
      "source": [
        "def list_rtstream_indexes(rtstream):\n",
        "    # List live stream indexes\n",
        "    rtstream_indexes = rtstream.list_scene_indexes()\n",
        "    for rtstream_index in rtstream_indexes:\n",
        "\n",
        "        print(f\"\"\"RTStreamSceneIndex:\n",
        "            Index ID       : {rtstream_index.rtstream_index_id}\n",
        "            RTStream ID    : {rtstream_index.rtstream_id}\n",
        "            Name           : {rtstream_index.name}\n",
        "            Status         : {rtstream_index.status}\n",
        "            Config         : {rtstream_index.extraction_config}\n",
        "            Prompt         : {rtstream_index.prompt}\n",
        "        \"\"\")\n",
        "        print(\"-\" * 80)\n",
        "\n",
        "list_rtstream_indexes(crib_stream)"
      ],
      "metadata": {
        "colab": {
          "base_uri": "https://localhost:8080/"
        },
        "id": "LCoN_XYhPyuy",
        "outputId": "0ab19cdc-bd8f-4da6-e580-953c0b981231"
      },
      "execution_count": 17,
      "outputs": [
        {
          "output_type": "stream",
          "name": "stdout",
          "text": [
            "RTStreamSceneIndex:\n",
            "            Index ID       : 5722fbf82669a81e\n",
            "            RTStream ID    : rts-019711a0-0fde-7911-b282-25bc0b4ecf65\n",
            "            Name           : Baby_Crib_Index\n",
            "            Status         : stopped\n",
            "            Config         : {'frame_count': '1', 'time': '10'}\n",
            "            Prompt         : Describe the activity of the baby kept inside a baby crib. Notice if baby climbs out or attempts to escape.\n",
            "        \n",
            "--------------------------------------------------------------------------------\n"
          ]
        }
      ]
    },
    {
      "cell_type": "markdown",
      "source": [
        "\n",
        "#### If you have already created a scene index, run the below cell with your **scene index id** to reconnect."
      ],
      "metadata": {
        "id": "WiBQKKR5RmAw"
      }
    },
    {
      "cell_type": "code",
      "source": [
        "# crib_index_id = \"\"\n",
        "# crib_scene_index = crib_stream.get_scene_index(crib_index_id)"
      ],
      "metadata": {
        "id": "GlkI_cg_BtsH"
      },
      "execution_count": 11,
      "outputs": []
    },
    {
      "cell_type": "code",
      "source": [
        "# To stop the index\n",
        "# crib_scene_index.stop()"
      ],
      "metadata": {
        "id": "fgxPexsBzw0E"
      },
      "execution_count": null,
      "outputs": []
    },
    {
      "cell_type": "code",
      "source": [
        "# To start the index\n",
        "# crib_scene_index.start()"
      ],
      "metadata": {
        "id": "y1b91sf7zs_j"
      },
      "execution_count": 18,
      "outputs": []
    },
    {
      "cell_type": "markdown",
      "source": [
        "---\n",
        "### Let us see the result of the scene indexing"
      ],
      "metadata": {
        "id": "Wl-qrb-xCwkX"
      }
    },
    {
      "cell_type": "code",
      "source": [
        "import time\n",
        "from datetime import datetime\n",
        "from zoneinfo import ZoneInfo\n",
        "\n",
        "def _convert_to_ist(timestamp: float) -> str:\n",
        "    \"\"\"Convert UTC timestamp to IST (Asia/Kolkata) datetime string.\"\"\"\n",
        "    return (\n",
        "        datetime.fromtimestamp(timestamp)\n",
        "        .astimezone(ZoneInfo(\"Asia/Kolkata\"))\n",
        "        .strftime(\"%Y-%m-%d %H:%M:%S\")\n",
        "    )\n",
        "\n",
        "def get_scenes(rtstream, index_id):\n",
        "    # Print indexed scenes\n",
        "    rtstream_scene_index = rtstream.get_scene_index(index_id)\n",
        "    scenes = rtstream_scene_index.get_scenes(page_size=5)\n",
        "    # print(scenes[\"scenes\"][:2])\n",
        "    if scenes:\n",
        "        for scene in scenes.get(\"scenes\"):\n",
        "            start = _convert_to_ist(scene[\"start\"])\n",
        "            end = _convert_to_ist(scene[\"end\"])\n",
        "            description = scene[\"description\"]\n",
        "            print(f\"{start}-{end}: {description}\")\n",
        "            print(\"-\" * 80)\n",
        "    else:\n",
        "        print(\"Scenes not found for given index.\")\n",
        "\n",
        "get_scenes(crib_stream , crib_index_id)"
      ],
      "metadata": {
        "id": "Qu1QLl3KCx4f",
        "colab": {
          "base_uri": "https://localhost:8080/"
        },
        "outputId": "d6a2ad40-9337-4578-8de0-db9d6b81a315"
      },
      "execution_count": 12,
      "outputs": [
        {
          "output_type": "stream",
          "name": "stdout",
          "text": [
            "2025-05-27 18:15:40-2025-05-27 18:15:50: The baby is actively trying to climb out of the crib. The baby has one arm and part of its torso over the top rail of the crib, attempting to get the rest of its body over the side.\n",
            "--------------------------------------------------------------------------------\n",
            "2025-05-27 18:15:29-2025-05-27 18:15:39: The baby is actively climbing out of the baby crib. The baby has managed to get one leg over the side of the crib and is in the process of maneuvering the rest of their body over the edge. It appears the baby is attempting to escape the crib.\n",
            "--------------------------------------------------------------------------------\n",
            "2025-05-27 18:15:19-2025-05-27 18:15:29: The baby is actively trying to climb out of the crib. The baby is using the side of the crib as a ladder, placing their feet on the slats and using their hands to grip the top rail. The baby is wearing a striped shirt and dark pants. The crib is made of wood and has a decorative design.\n",
            "--------------------------------------------------------------------------------\n",
            "2025-05-27 18:15:09-2025-05-27 18:15:19: The baby is standing inside the crib, holding onto the top rail with both hands. The baby is looking over the top of the rail, seemingly attempting to climb out of the crib.\n",
            "--------------------------------------------------------------------------------\n",
            "2025-05-27 18:14:59-2025-05-27 18:15:09: The baby is actively trying to climb out of the crib. The baby has one arm and leg over the top rail of the crib, and is using the rail to pull itself up and over. The baby is wearing a dark-colored pajama set with white spots.\n",
            "--------------------------------------------------------------------------------\n"
          ]
        }
      ]
    },
    {
      "cell_type": "markdown",
      "source": [
        "---\n",
        "## 📦 Step 5: Define an Event for Baby Escape  \n",
        "We’ll now create an event in VideoDB to detect when the AI spots the baby attempting to climb out.\n"
      ],
      "metadata": {
        "id": "s2F1ELR2C5Fi"
      }
    },
    {
      "cell_type": "code",
      "source": [
        "event_id = conn.create_event(\n",
        "    event_prompt=\"Detect if the baby is trying to escape or climbing out of the crib.\",\n",
        "    label=\"baby_escape\",\n",
        ")\n",
        "print(\"Event ID:\", event_id)\n"
      ],
      "metadata": {
        "id": "U1r6hK6JC6Ty",
        "colab": {
          "base_uri": "https://localhost:8080/"
        },
        "outputId": "79f11bd9-8767-4263-c70f-98a232b73319"
      },
      "execution_count": null,
      "outputs": [
        {
          "output_type": "stream",
          "name": "stdout",
          "text": [
            "Event ID: 3adc40d26d6fed0d\n"
          ]
        }
      ]
    },
    {
      "cell_type": "markdown",
      "source": [
        "---\n",
        "## 📦 Step 6: Attach an Alert for the Escape Event  \n",
        "To complete our setup, we’ll link a real-time alert to this event, which will notify the parents instantly through a webhook.\n"
      ],
      "metadata": {
        "id": "qsCnFEZsC-DN"
      }
    },
    {
      "cell_type": "code",
      "source": [
        "# Enter link to your webhook url where you want alerts to go. You can create one simply on pipedream.\n",
        "webhook_url=\"\"\n",
        "\n",
        "if webhook_url:\n",
        "  alert_id = crib_scene_index.create_alert(\n",
        "      event_id,\n",
        "      callback_url=webhook_url\n",
        "  )\n",
        "  print(\"Alert ID:\", alert_id)\n",
        "else:\n",
        "  print(\"Error: Please provide Webhook URL. Alert cannot be created without it.\")"
      ],
      "metadata": {
        "id": "h2DGX1w_C-Uv",
        "colab": {
          "base_uri": "https://localhost:8080/"
        },
        "outputId": "7f79f22c-5ea7-4560-adee-c9c4c6fb24df"
      },
      "execution_count": null,
      "outputs": [
        {
          "output_type": "stream",
          "name": "stdout",
          "text": [
            "Alert ID: 06792489c7386e07\n"
          ]
        }
      ]
    },
    {
      "cell_type": "markdown",
      "source": [
        "---\n",
        "## 📡 Example Alert Received at the Webhook\n",
        "\n",
        "Here’s a real-time alert sent by our AI monitoring system to the webhook URL when the baby was detected trying to climb out of the crib:\n",
        "\n",
        "---\n",
        "\n",
        "**📬 Incoming Alert Payload (body):**\n",
        "\n",
        "```json\n",
        "{\n",
        "  \"event_id\": \"event-3adc40d26d6fed0d\",\n",
        "  \"label\": \"baby_escape\",\n",
        "  \"confidence\": 0.95,\n",
        "  \"explanation\": \"The baby is actively trying to climb out of the crib by holding onto the top rail and attempting to pull itself up, which indicates an escape attempt.\",\n",
        "  \"timestamp\": \"2025-05-28T23:36:39.979133+00:00\",\n",
        "  \"start_time\": \"2025-05-29T05:06:36.612197+05:30\",\n",
        "  \"end_time\": \"2025-05-29T05:06:46.612197+05:30\",\n",
        "  \"stream_url\": \"https://rt.stream.videodb.io/manifests/rts-019711a0-0fde-7911-b282-25bc0b4ecf65/1748475396000000-1748475407000000.m3u8\"\n",
        "}\n",
        "```\n",
        "\n",
        "---\n",
        "\n",
        "### 📌 What This Tells Us:\n",
        "- **event_id** — Unique ID for the event trigger  \n",
        "- **label** — Type of event detected (`baby_escape`)  \n",
        "- **confidence** — AI confidence score (0.95 = 95% sure)  \n",
        "- **explanation** — AI-generated description of what’s happening  \n",
        "- **timestamp** — When the alert was created  \n",
        "- **start_time / end_time** — Time range of the detected scene  \n",
        "- **stream_url** — This is a temporary link you can use to view the detected scene\n",
        "\n",
        "✅ This confirms our AI-powered baby monitor is working perfectly — detecting escape attempts and instantly sending alerts.\n"
      ],
      "metadata": {
        "id": "rDLu6OisDEbX"
      }
    },
    {
      "cell_type": "markdown",
      "source": [
        "---\n",
        "### Let us have a look at the stream_url received in the alert."
      ],
      "metadata": {
        "id": "I4ssZDWxRP99"
      }
    },
    {
      "cell_type": "code",
      "source": [
        "alert_stream_url = \"https://rt.stream.videodb.io/manifests/rts-019711a0-0fde-7911-b282-25bc0b4ecf65/1748475396000000-1748475407000000.m3u8\"\n",
        "video_name = \"🔔 Baby Monitor · baby_escape\"\n",
        "\n",
        "display_clean_stream(alert_stream_url, video_name)"
      ],
      "metadata": {
        "colab": {
          "base_uri": "https://localhost:8080/",
          "height": 382
        },
        "id": "0ZbUjnHARYCM",
        "outputId": "c2758d01-f97d-491b-d1ab-5f7e038dcac8"
      },
      "execution_count": 21,
      "outputs": [
        {
          "output_type": "execute_result",
          "data": {
            "text/plain": [
              "<IPython.core.display.HTML object>"
            ],
            "text/html": [
              "\n",
              "    <div style=\"position:relative;width:640px;\">\n",
              "      <video id=\"hls-video\" width=\"640\" height=\"360\" controls muted autoplay style=\"border-radius:6px;\"></video>\n",
              "      <div style=\"position:absolute;top:10px;left:10px;background:rgba(0,0,0,0.6);color:#fff;padding:6px 12px;border-radius:4px;font-size:13px;font-family:sans-serif;\">\n",
              "        <strong>🔔 Baby Monitor · baby_escape</strong><br>2025-05-28 23:36:36 → 2025-05-28 23:36:47 UTC\n",
              "      </div>\n",
              "      <script src=\"https://cdn.jsdelivr.net/npm/hls.js@latest\"></script>\n",
              "      <script>\n",
              "        var video=document.getElementById('hls-video');\n",
              "        if(Hls.isSupported()){\n",
              "          var hls=new Hls();\n",
              "          hls.loadSource(\"https://rt.stream.videodb.io/manifests/rts-019711a0-0fde-7911-b282-25bc0b4ecf65/1748475396000000-1748475407000000.m3u8\");\n",
              "          hls.attachMedia(video);\n",
              "        }else if(video.canPlayType('application/vnd.apple.mpegurl')){\n",
              "          video.src=\"https://rt.stream.videodb.io/manifests/rts-019711a0-0fde-7911-b282-25bc0b4ecf65/1748475396000000-1748475407000000.m3u8\";\n",
              "        }\n",
              "      </script>\n",
              "    </div>\n",
              "    "
            ]
          },
          "metadata": {},
          "execution_count": 21
        }
      ]
    },
    {
      "cell_type": "markdown",
      "source": [
        "---\n",
        "### Now we can stop the stream."
      ],
      "metadata": {
        "id": "X4DagrH7DN1o"
      }
    },
    {
      "cell_type": "code",
      "source": [
        "crib_stream.stop()"
      ],
      "metadata": {
        "id": "ryi7fuDvDFf8"
      },
      "execution_count": null,
      "outputs": []
    },
    {
      "cell_type": "markdown",
      "source": [
        "---\n",
        "\n",
        "## 🌙 Wrapping Up: Peace of Mind for Vidit and Meghna\n",
        "\n",
        "In this notebook, we built a smart, AI-powered video monitoring system for a real-life problem faced by Vidit and Meghna.  \n",
        "\n",
        "With this system in place, Vidit and Meghna can finally sleep peacefully, knowing their child is being safely monitored through AI-driven surveillance.  \n",
        "\n",
        "\n",
        "---\n",
        "\n",
        "\n",
        "**But this is just one story.**\n",
        "\n",
        "- What if the same system could monitor an elderly parent at home — detecting falls or prolonged inactivity?  \n",
        "- Or watch over a pet while the family is away, alerting them if it leaves a safe zone or behaves unusually?  \n",
        "- Or even notify parents when a toddler approaches dangerous areas like staircases or kitchen counters?\n",
        "\n",
        "The possibilities of real-time video intelligence at home are endless.\n",
        "\n",
        "**What would *you* monitor next?**"
      ],
      "metadata": {
        "id": "6rU7-6iLDRUz"
      }
    }
  ]
}