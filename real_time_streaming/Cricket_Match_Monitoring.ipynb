{
  "nbformat": 4,
  "nbformat_minor": 0,
  "metadata": {
    "colab": {
      "provenance": []
    },
    "kernelspec": {
      "name": "python3",
      "display_name": "Python 3"
    },
    "language_info": {
      "name": "python"
    }
  },
  "cells": [
    {
      "cell_type": "markdown",
      "source": [
        "# 🏏 ICC World Cup Finals: Cricket Highlights Monitoring using VideoDB RTStream\n",
        "[![Open In Colab](https://colab.research.google.com/assets/colab-badge.svg)](https://colab.research.google.com/github/Nischay-VideoDB/videodb-cookbook/blob/main/real_time_streaming/Cricket_Match_Monitoring.ipynb)\n",
        "## 📖 Storytime: Why This Matters\n",
        "\n",
        "Tonight is the **ICC World Cup finals between India and Pakistan**.  \n",
        "Millions are watching the match live, and the competition to post match highlights — sixes, wickets, and spectacular catches — on social media is fiercer than ever.  \n",
        "\n",
        "In the usual workflow, someone watches the match, waits for a moment to happen, then clips the video manually and uploads it online — often **several minutes too late**.\n",
        "\n",
        "But we have a smarter way.\n",
        "\n",
        "What if AI could monitor the match for you, detect key moments in real-time, and instantly send alerts when something exciting happens — giving you a headstart on posting highlights while everyone else scrambles?  \n",
        "\n",
        "**Let’s build exactly that using VideoDB RTStream.**\n",
        "\n",
        "---\n",
        "\n",
        "## 🚀 What You’ll Build in This Notebook\n",
        "\n",
        "By the end of this notebook, you'll learn how to:\n",
        "- Connect a cricket match video stream to VideoDB\n",
        "- Use AI to continuously analyze match footage and describe key moments\n",
        "- Detect real-time events like **sixes**, **fours**, **catches**, and **wickets**\n",
        "- Trigger instant alerts for each event through webhooks\n",
        "\n",
        "Let’s get started!\n",
        "\n",
        "---"
      ],
      "metadata": {
        "id": "kO86nzxaK4_5"
      }
    },
    {
      "cell_type": "markdown",
      "source": [
        "## 📦 Step 1: Install Dependencies\n",
        "\n",
        "We’ll begin by installing the VideoDB SDK"
      ],
      "metadata": {
        "id": "XBmSI6lUK_0o"
      }
    },
    {
      "cell_type": "code",
      "execution_count": 1,
      "metadata": {
        "id": "Qc_2CLkFKzVl",
        "colab": {
          "base_uri": "https://localhost:8080/"
        },
        "outputId": "4b5156fe-fa4b-4cfa-d952-762ab1c1af5f"
      },
      "outputs": [
        {
          "output_type": "stream",
          "name": "stdout",
          "text": [
            "  Preparing metadata (setup.py) ... \u001b[?25l\u001b[?25hdone\n",
            "  Building wheel for videodb (setup.py) ... \u001b[?25l\u001b[?25hdone\n"
          ]
        }
      ],
      "source": [
        "!pip install -q videodb"
      ]
    },
    {
      "cell_type": "markdown",
      "source": [
        "---\n",
        "## 📦 Step 2: Connect to VideoDB\n",
        "\n",
        "Let's connect to VideoDB's API using your credentials to prepare for stream monitoring.\n",
        "\n",
        "Please enter your `VIDEO_DB_API_KEY` in the input box that appears below after you run this cell.\n",
        "\n",
        "Your input will be masked.\n"
      ],
      "metadata": {
        "id": "UThnziTKLH_4"
      }
    },
    {
      "cell_type": "code",
      "source": [
        "import videodb\n",
        "import os\n",
        "from getpass import getpass\n",
        "\n",
        "api_key = getpass(\"Please enter your VideoDB API Key: \")\n",
        "\n",
        "os.environ[\"VIDEO_DB_API_KEY\"] = api_key\n",
        "\n",
        "conn = videodb.connect()\n",
        "coll = conn.get_collection()\n",
        "\n",
        "print(\"Connected to VideoDB securely!\")"
      ],
      "metadata": {
        "id": "XFJr9G18LIbR",
        "colab": {
          "base_uri": "https://localhost:8080/"
        },
        "outputId": "5362ab1f-2bc6-4ecf-c0b7-340d6c79ebd3"
      },
      "execution_count": 2,
      "outputs": [
        {
          "output_type": "stream",
          "name": "stdout",
          "text": [
            "Please enter your VideoDB API Key: ··········\n",
            "Connected to VideoDB securely!\n"
          ]
        }
      ]
    },
    {
      "cell_type": "markdown",
      "source": [
        "---\n",
        "\n",
        "## 📦 Step 3: Connect to the Cricket Match RTSP Stream\n",
        "\n",
        "We’ll now connect to the live video stream of the match using its RTSP URL.\n",
        "In this demo, the stream is running at `rtsp://samples.rts.videodb.io:8554/cricket`.\n"
      ],
      "metadata": {
        "id": "26NDfhgFLQo4"
      }
    },
    {
      "cell_type": "code",
      "source": [
        "rtsp_url = \"rtsp://samples.rts.videodb.io:8554/cricket\"\n",
        "cricket_stream = coll.connect_rtstream(\n",
        "    name=\"Cricket Finals Stream\",\n",
        "    url=rtsp_url,\n",
        ")\n",
        "print(cricket_stream)"
      ],
      "metadata": {
        "id": "9V0WZTUuLaSl",
        "colab": {
          "base_uri": "https://localhost:8080/"
        },
        "outputId": "fb5d5cfd-4d5d-44af-c6bb-42a98cd4ce85"
      },
      "execution_count": null,
      "outputs": [
        {
          "output_type": "stream",
          "name": "stdout",
          "text": [
            "RTStream(id=rts-019711db-1086-7750-ba79-8f47a4fed603, name=Cricket Finals Stream, collection_id=None, created_at=None, sample_rate=30, status=connected)\n"
          ]
        }
      ]
    },
    {
      "cell_type": "markdown",
      "source": [
        "#### Let us list all the rtstreams in our collection."
      ],
      "metadata": {
        "id": "hPqJX2v3WSzh"
      }
    },
    {
      "cell_type": "code",
      "source": [
        "def list_rtstreams():\n",
        "    for rtstream in coll.list_rtstreams():\n",
        "        print(f\"\"\"RTStream:\n",
        "        ID            : {rtstream.id}\n",
        "        Name          : {rtstream.name}\n",
        "        Collection ID : {rtstream.collection_id}\n",
        "        Created At    : {rtstream.created_at}\n",
        "        Sample Rate   : {rtstream.sample_rate}\n",
        "        Status        : {rtstream.status}\n",
        "        \"\"\")\n",
        "        print(\"-\" * 80)\n",
        "\n",
        "list_rtstreams()"
      ],
      "metadata": {
        "colab": {
          "base_uri": "https://localhost:8080/"
        },
        "id": "K-UtkJyvWUuA",
        "outputId": "cf38d574-f4bc-487a-a8d5-0e4b52eb5c55"
      },
      "execution_count": null,
      "outputs": [
        {
          "output_type": "stream",
          "name": "stdout",
          "text": [
            "RTStream:\n",
            "        ID            : rts-019711db-1086-7750-ba79-8f47a4fed603\n",
            "        Name          : Cricket Finals Stream\n",
            "        Collection ID : c-81fc6459-fe30-44ac-8c5b-ea0898c2e152\n",
            "        Created At    : 2025-05-27T13:07:38.758741\n",
            "        Sample Rate   : 30\n",
            "        Status        : connected\n",
            "        \n",
            "--------------------------------------------------------------------------------\n",
            "RTStream:\n",
            "        ID            : rts-019711a0-0fde-7911-b282-25bc0b4ecf65\n",
            "        Name          : Baby Crib Monitor\n",
            "        Collection ID : c-81fc6459-fe30-44ac-8c5b-ea0898c2e152\n",
            "        Created At    : 2025-05-27T12:03:11.966358\n",
            "        Sample Rate   : 30\n",
            "        Status        : stopped\n",
            "        \n",
            "--------------------------------------------------------------------------------\n",
            "RTStream:\n",
            "        ID            : rts-019710fa-9511-79c3-a924-e229e4815410\n",
            "        Name          : Property Security Stream\n",
            "        Collection ID : c-81fc6459-fe30-44ac-8c5b-ea0898c2e152\n",
            "        Created At    : 2025-05-27T09:02:27.089279\n",
            "        Sample Rate   : 30\n",
            "        Status        : stopped\n",
            "        \n",
            "--------------------------------------------------------------------------------\n"
          ]
        }
      ]
    },
    {
      "cell_type": "markdown",
      "source": [
        "\n",
        "#### If you have already connected the stream, run the below cell with the **rtstream id** to reconnect."
      ],
      "metadata": {
        "id": "e11P2KZF22xx"
      }
    },
    {
      "cell_type": "code",
      "source": [
        "# cricket_stream = coll.get_rtstream(\"\")"
      ],
      "metadata": {
        "id": "VPuEd_J923yY"
      },
      "execution_count": 3,
      "outputs": []
    },
    {
      "cell_type": "code",
      "source": [
        "# To stop the stream\n",
        "# cricket_stream.stop()"
      ],
      "metadata": {
        "id": "eLk7rtL73Ci3"
      },
      "execution_count": null,
      "outputs": []
    },
    {
      "cell_type": "code",
      "source": [
        "# To start the stream\n",
        "# cricket_stream.start()"
      ],
      "metadata": {
        "id": "TqqxMTcQ3B4v"
      },
      "execution_count": 4,
      "outputs": []
    },
    {
      "cell_type": "markdown",
      "source": [
        "---\n",
        "### 👀 Let us have a look at the cricket match"
      ],
      "metadata": {
        "id": "70d7muCjLlFf"
      }
    },
    {
      "cell_type": "markdown",
      "source": [
        "\n",
        "#### 📺 Helper Function: Display Video Stream\n",
        "\n",
        "This cell contains a small utility function to help visualize the video streams with helpful information. You don't need to modify this code."
      ],
      "metadata": {
        "id": "9jjx7-4J3QCH"
      }
    },
    {
      "cell_type": "code",
      "source": [
        "# To display the stream with relevant information\n",
        "\n",
        "from IPython.display import HTML\n",
        "import re\n",
        "from datetime import datetime\n",
        "from videodb import play_stream\n",
        "\n",
        "def display_stream(video_url, video_name=\"🎥 Camera Feed\"):\n",
        "\n",
        "    match = re.search(r'/(\\d{16})-(\\d{16})\\.m3u8', video_url)\n",
        "    if match:\n",
        "        start_ts = int(match.group(1)) / 1e6\n",
        "        end_ts = int(match.group(2)) / 1e6\n",
        "        start_time = datetime.utcfromtimestamp(start_ts).strftime('%Y-%m-%d %H:%M:%S')\n",
        "        end_time = datetime.utcfromtimestamp(end_ts).strftime('%Y-%m-%d %H:%M:%S')\n",
        "        time_range = f\"{start_time} → {end_time} UTC\"\n",
        "    else:\n",
        "        time_range = \"Time Unknown\"\n",
        "\n",
        "    video_player_html = play_stream(video_url)\n",
        "\n",
        "    return HTML(f\"\"\"\n",
        "    <div style=\"position:relative;width:640px;\">\n",
        "      {video_player_html._repr_html_() if hasattr(video_player_html, '_repr_html_') else video_player_html}\n",
        "      <div style=\"position:absolute;top:10px;left:10px;background:rgba(0,0,0,0.6);color:#fff;padding:6px 12px;border-radius:4px;font-size:13px;font-family:sans-serif;\">\n",
        "        <strong>{video_name}</strong><br>{time_range}\n",
        "      </div>\n",
        "    </div>\n",
        "    \"\"\")"
      ],
      "metadata": {
        "id": "fSl4fjg7LuNY"
      },
      "execution_count": 6,
      "outputs": []
    },
    {
      "cell_type": "markdown",
      "source": [
        "\n",
        "#### 🔗 Get & Display Recent Stream\n",
        "\n",
        "This cell uses the helper function above to fetch and display the last few minutes of the stream."
      ],
      "metadata": {
        "id": "E0gFicp13UIg"
      }
    },
    {
      "cell_type": "code",
      "source": [
        "# To get last few minutes stream link\n",
        "import time\n",
        "\n",
        "def fetch_stream(rtstream):\n",
        "\n",
        "    now = int(time.time())\n",
        "    start = int(now - (5 * 60))\n",
        "    stream_url = rtstream.generate_stream(start, now)\n",
        "    return stream_url\n",
        "\n",
        "video_url = fetch_stream(cricket_stream)\n",
        "\n",
        "video_name = \"🏏 ICC World Cup · India vs Pakistan\"\n",
        "display_stream(video_url, video_name)"
      ],
      "metadata": {
        "id": "Clwtuv2ZLsKs",
        "colab": {
          "base_uri": "https://localhost:8080/",
          "height": 422
        },
        "outputId": "1bfc3187-3048-4cd1-d520-5a60dfa4c0c7"
      },
      "execution_count": 15,
      "outputs": [
        {
          "output_type": "execute_result",
          "data": {
            "text/plain": [
              "<IPython.core.display.HTML object>"
            ],
            "text/html": [
              "\n",
              "    <div style=\"position:relative;width:640px;\">\n",
              "      \n",
              "        <iframe\n",
              "            width=\"800\"\n",
              "            height=\"400\"\n",
              "            src=\"https://console.videodb.io/player?url=https://rt.stream.videodb.io/manifests/rts-019711db-1086-7750-ba79-8f47a4fed603/1748515109000000-1748515409000000.m3u8\"\n",
              "            frameborder=\"0\"\n",
              "            allowfullscreen\n",
              "            \n",
              "        ></iframe>\n",
              "        \n",
              "      <div style=\"position:absolute;top:10px;left:10px;background:rgba(0,0,0,0.6);color:#fff;padding:6px 12px;border-radius:4px;font-size:13px;font-family:sans-serif;\">\n",
              "        <strong>🏏 ICC World Cup · India vs Pakistan</strong><br>2025-05-29 10:38:29 → 2025-05-29 10:43:29 UTC\n",
              "      </div>\n",
              "    </div>\n",
              "    "
            ]
          },
          "metadata": {},
          "execution_count": 15
        }
      ]
    },
    {
      "cell_type": "markdown",
      "source": [
        "---\n",
        "## 📦 Step 4: Index Scenes and Describe Match Highlights\n",
        "\n",
        "We’ll create a real-time scene index that periodically analyzes the video and generates natural language descriptions of what’s happening in the match.\n",
        "\n",
        "The AI model will look out for:\n",
        "- Sixes (ball hit over the boundary rope without bouncing)\n",
        "- Fours (ball crosses boundary rope after bouncing)\n",
        "- Catches (fielder catches the ball before it touches the ground)\n",
        "- Wickets (batsman is dismissed)"
      ],
      "metadata": {
        "id": "bIdL2H-HL1jo"
      }
    },
    {
      "cell_type": "code",
      "source": [
        "from videodb import SceneExtractionType\n",
        "\n",
        "cricket_scene_index = cricket_stream.index_scenes(\n",
        "    extraction_type=SceneExtractionType.time_based,\n",
        "    extraction_config={\n",
        "        \"time\": 7,\n",
        "        \"frame_count\": 7,\n",
        "    },\n",
        "    prompt=\"Identify and mention when a batsman hits a SIX (ball flying over the boundary rope), a FOUR (ball crosses boundary rope after bouncing), a CATCH OUT (fielder catches the ball mid-air before it touches ground) or a WICKET (when the wicket stumps are put down by the ball).\",\n",
        "    name=\"Cricket_Match_Scene_Index\",\n",
        ")\n",
        "cricket_index_id = cricket_scene_index.rtstream_index_id\n",
        "print(\"Scene Index ID:\", cricket_index_id)"
      ],
      "metadata": {
        "id": "svXbOJVBL32W",
        "colab": {
          "base_uri": "https://localhost:8080/"
        },
        "outputId": "c4e90af1-dfdc-49ca-99a5-af08279a01b1"
      },
      "execution_count": null,
      "outputs": [
        {
          "output_type": "stream",
          "name": "stdout",
          "text": [
            "Scene Index ID: c251098cf8fc4561\n"
          ]
        }
      ]
    },
    {
      "cell_type": "markdown",
      "source": [
        "#### Let us list the scene indexes created on our rtstream."
      ],
      "metadata": {
        "id": "l6CFNuv_Wakz"
      }
    },
    {
      "cell_type": "code",
      "source": [
        "def list_rtstream_indexes(rtstream):\n",
        "    # List live stream indexes\n",
        "    rtstream_indexes = rtstream.list_scene_indexes()\n",
        "    for rtstream_index in rtstream_indexes:\n",
        "\n",
        "        print(f\"\"\"RTStreamSceneIndex:\n",
        "            Index ID       : {rtstream_index.rtstream_index_id}\n",
        "            RTStream ID    : {rtstream_index.rtstream_id}\n",
        "            Name           : {rtstream_index.name}\n",
        "            Status         : {rtstream_index.status}\n",
        "            Config         : {rtstream_index.extraction_config}\n",
        "            Prompt         : {rtstream_index.prompt}\n",
        "        \"\"\")\n",
        "        print(\"-\" * 80)\n",
        "\n",
        "list_rtstream_indexes(cricket_stream)"
      ],
      "metadata": {
        "colab": {
          "base_uri": "https://localhost:8080/"
        },
        "id": "S8GvMO0MWgOQ",
        "outputId": "0c12dcff-c7b0-404d-8c2c-9fd79d2ac30b"
      },
      "execution_count": null,
      "outputs": [
        {
          "output_type": "stream",
          "name": "stdout",
          "text": [
            "RTStreamSceneIndex:\n",
            "            Index ID       : c251098cf8fc4561\n",
            "            RTStream ID    : rts-019711db-1086-7750-ba79-8f47a4fed603\n",
            "            Name           : Cricket_Match_Scene_Index\n",
            "            Status         : running\n",
            "            Config         : {'frame_count': '7', 'time': '7'}\n",
            "            Prompt         : Identify and mention when a batsman hits a SIX (ball flying over the boundary rope), a FOUR (ball crosses boundary rope after bouncing), a CATCH OUT (fielder catches the ball mid-air before it touches ground) or a WICKET (when the wicket stumps are put down by the ball).\n",
            "        \n",
            "--------------------------------------------------------------------------------\n",
            "RTStreamSceneIndex:\n",
            "            Index ID       : cd031ae88e755900\n",
            "            RTStream ID    : rts-019711db-1086-7750-ba79-8f47a4fed603\n",
            "            Name           : Cricket_Scene_Index\n",
            "            Status         : stopped\n",
            "            Config         : {'frame_count': '7', 'time': '7'}\n",
            "            Prompt         : Monitor the cricket match carefully. Identify and mention when a batsman hits a SIX (ball flying over the boundary rope), a FOUR (ball crosses boundary rope after bouncing), a CATCH OUT (fielder catches the ball mid-air before it touches ground) or a WICKET (when the wicket stumps are put down by the ball).\n",
            "        \n",
            "--------------------------------------------------------------------------------\n"
          ]
        }
      ]
    },
    {
      "cell_type": "markdown",
      "source": [
        "\n",
        "#### If you have already created a scene index, run the below cell with your **scene index id** to reconnect."
      ],
      "metadata": {
        "id": "6pSm3bj83jgw"
      }
    },
    {
      "cell_type": "code",
      "source": [
        "# cricket_index_id = \"\"\n",
        "# cricket_scene_index = cricket_stream.get_scene_index(cricket_index_id)"
      ],
      "metadata": {
        "id": "8xmrpUhN3kRi"
      },
      "execution_count": null,
      "outputs": []
    },
    {
      "cell_type": "code",
      "source": [
        "# To stop the index\n",
        "# cricket_scene_index.stop()"
      ],
      "metadata": {
        "id": "t_Dl05Oc3utw"
      },
      "execution_count": null,
      "outputs": []
    },
    {
      "cell_type": "code",
      "source": [
        "# To start the index\n",
        "# cricket_scene_index.start()"
      ],
      "metadata": {
        "id": "l_bKugSM3s_f"
      },
      "execution_count": null,
      "outputs": []
    },
    {
      "cell_type": "markdown",
      "source": [
        "---\n",
        "### Let us see the result of the scene indexing"
      ],
      "metadata": {
        "id": "GPD_IfJsL_oo"
      }
    },
    {
      "cell_type": "code",
      "source": [
        "import time\n",
        "from datetime import datetime\n",
        "from zoneinfo import ZoneInfo\n",
        "\n",
        "def _convert_to_ist(timestamp: float) -> str:\n",
        "    \"\"\"Convert UTC timestamp to IST (Asia/Kolkata) datetime string.\"\"\"\n",
        "    return (\n",
        "        datetime.fromtimestamp(timestamp)\n",
        "        .astimezone(ZoneInfo(\"Asia/Kolkata\"))\n",
        "        .strftime(\"%Y-%m-%d %H:%M:%S\")\n",
        "    )\n",
        "\n",
        "def get_scenes(rtstream, index_id):\n",
        "    # Print indexed scenes\n",
        "    rtstream_scene_index = rtstream.get_scene_index(index_id)\n",
        "    scenes = rtstream_scene_index.get_scenes(page_size=5)\n",
        "    # print(scenes[\"scenes\"][:2])\n",
        "    if scenes:\n",
        "        for scene in scenes.get(\"scenes\"):\n",
        "            start = _convert_to_ist(scene[\"start\"])\n",
        "            end = _convert_to_ist(scene[\"end\"])\n",
        "            description = scene[\"description\"]\n",
        "            print(f\"{start}-{end}: {description}\")\n",
        "            print(\"-\" * 80)\n",
        "    else:\n",
        "        print(\"Scenes not found for given index.\")\n",
        "\n",
        "get_scenes(cricket_stream , cricket_index_id)"
      ],
      "metadata": {
        "id": "dv0SS7FAL_7v",
        "colab": {
          "base_uri": "https://localhost:8080/"
        },
        "outputId": "9aafcd08-1f7f-4387-a7ba-c19bc3807747"
      },
      "execution_count": null,
      "outputs": [
        {
          "output_type": "stream",
          "name": "stdout",
          "text": [
            "2025-05-27 19:00:38-2025-05-27 19:00:45: Here's what I can identify from the images:\n",
            "\n",
            "*   **Image 1:** The umpire is signaling a FOUR.\n",
            "*   **Image 7:** The ball is hitting the wickets. This indicates a WICKET.\n",
            "--------------------------------------------------------------------------------\n",
            "2025-05-27 19:00:30-2025-05-27 19:00:37: Okay, I can identify those events in the images you provided.\n",
            "\n",
            "*   **Image 6:** WICKET - The batsman is out as the ball has hit the stumps.\n",
            "*   **Image 7:** WICKET - The umpire signals that the batsman is out.\n",
            "--------------------------------------------------------------------------------\n",
            "2025-05-27 19:00:21-2025-05-27 19:00:29: Based on the information available in the images, I can identify the following:\n",
            "\n",
            "*   **FOUR:** At 0:02 in the video, the scorecard shows a \"4\" for the current ball. This indicates that the batsman hit a FOUR.\n",
            "--------------------------------------------------------------------------------\n",
            "2025-05-27 19:00:13-2025-05-27 19:00:20: Here's what I can identify from the images:\n",
            "\n",
            "*   **Image 1 & 2:** The batsman is hitting the ball. It's impossible to tell from these images alone if it results in a SIX, FOUR, CATCH OUT, or WICKET.\n",
            "*   **Image 4 & 5:** The batsman is playing a shot. It's impossible to tell from these images alone if it results in a SIX, FOUR, CATCH OUT, or WICKET.\n",
            "*   **Image 6 & 7:** The ball is going towards the stands. It's impossible to tell from these images alone if it results in a SIX, FOUR, CATCH OUT, or WICKET.\n",
            "--------------------------------------------------------------------------------\n",
            "2025-05-27 19:00:05-2025-05-27 19:00:12: Based on the images, here's what I can identify:\n",
            "\n",
            "*   **Image 2 & 3:** A **CATCH OUT** has occurred. The wicket-keeper is celebrating, indicating he has caught the ball.\n",
            "*   **Image 4:** The score has changed from 314-4 to 314-5, indicating a **WICKET** has fallen.\n",
            "*   **Image 5, 6 & 7:** The UltraEdge technology is being used, suggesting a possible **CATCH OUT** or **WICKET** (if the ball edged and went to the keeper or slips).\n",
            "\n",
            "I cannot determine if a SIX or FOUR was hit from these images.\n",
            "--------------------------------------------------------------------------------\n"
          ]
        }
      ]
    },
    {
      "cell_type": "markdown",
      "source": [
        "## 📦 Step 5: Define Events for Each Match Highlight\n",
        "\n",
        "Now, let’s define four events to detect each key match moment.\n"
      ],
      "metadata": {
        "id": "I6hKrjUPMFGY"
      }
    },
    {
      "cell_type": "markdown",
      "source": [
        "1. Sixes (ball hit over the boundary rope without bouncing)"
      ],
      "metadata": {
        "id": "pV3DfpiH5xVt"
      }
    },
    {
      "cell_type": "code",
      "source": [
        "six_event_id = conn.create_event(\n",
        "    event_prompt=\"Detect when a batsman hits a SIX.\",\n",
        "    label=\"six_hit\"\n",
        ")"
      ],
      "metadata": {
        "id": "VD6hI3BfMGZf"
      },
      "execution_count": null,
      "outputs": []
    },
    {
      "cell_type": "markdown",
      "source": [
        "2. Fours (ball crosses boundary rope after bouncing)\n"
      ],
      "metadata": {
        "id": "gd5PDLpQ54BM"
      }
    },
    {
      "cell_type": "code",
      "source": [
        "four_event_id = conn.create_event(\n",
        "    event_prompt=\"Detect when a batsman hits a FOUR.\",\n",
        "    label=\"four_hit\"\n",
        ")"
      ],
      "metadata": {
        "id": "4gllIq-i53ek"
      },
      "execution_count": null,
      "outputs": []
    },
    {
      "cell_type": "markdown",
      "source": [
        "3. Catches (fielder catches the ball before it touches the ground)\n"
      ],
      "metadata": {
        "id": "qmD5d_7t58of"
      }
    },
    {
      "cell_type": "code",
      "source": [
        "catch_event_id = conn.create_event(\n",
        "    event_prompt=\"Detect when a player takes a CATCH OUT.\",\n",
        "    label=\"catch_out\"\n",
        ")"
      ],
      "metadata": {
        "id": "bKb5pIr25-BJ"
      },
      "execution_count": null,
      "outputs": []
    },
    {
      "cell_type": "markdown",
      "source": [
        "4. Wickets (batsman is dismissed)"
      ],
      "metadata": {
        "id": "Es_LFBg06Bms"
      }
    },
    {
      "cell_type": "code",
      "source": [
        "wicket_event_id = conn.create_event(\n",
        "    event_prompt=\"Detect when a batsman is dismissed (WICKET).\",\n",
        "    label=\"wicket\"\n",
        ")"
      ],
      "metadata": {
        "id": "dVknEJtt6Cxo"
      },
      "execution_count": null,
      "outputs": []
    },
    {
      "cell_type": "markdown",
      "source": [
        "Let us have a look at all the events created:"
      ],
      "metadata": {
        "id": "wmEHFQPk6HGM"
      }
    },
    {
      "cell_type": "code",
      "source": [
        "print(f\"Successfully created events with the following IDs:\\n\"\n",
        "      f\"- Six Event ID: {six_event_id}\\n\"\n",
        "      f\"- Four Event ID: {four_event_id}\\n\"\n",
        "      f\"- Catch Event ID: {catch_event_id}\\n\"\n",
        "      f\"- Wicket Event ID: {wicket_event_id}\")"
      ],
      "metadata": {
        "colab": {
          "base_uri": "https://localhost:8080/"
        },
        "id": "fG3jEJa26PHN",
        "outputId": "787e18a7-04c5-46b2-86b0-a91c5a320d97"
      },
      "execution_count": null,
      "outputs": [
        {
          "output_type": "stream",
          "name": "stdout",
          "text": [
            "Successfully created events with the following IDs:\n",
            "- Six Event ID: 627cdd8124f7731b\n",
            "- Four Event ID: 3bfdd25d9239861b\n",
            "- Catch Event ID: 16b35b66ef106a37\n",
            "- Wicket Event ID: fae540ba13f50530\n"
          ]
        }
      ]
    },
    {
      "cell_type": "markdown",
      "source": [
        "---\n",
        "\n",
        "## 📦 Step 6: Attach Alerts for Each Event\n",
        "\n",
        "We’ll create four different alerts — one for each event — but route them all to the same Pipedream webhook.\n"
      ],
      "metadata": {
        "id": "oYXk7FoOMLgX"
      }
    },
    {
      "cell_type": "code",
      "source": [
        "# Enter link to your webhook url where you want alerts to go. You can create one simply on pipedream.\n",
        "webhook_url=\"\""
      ],
      "metadata": {
        "id": "0zL_5_DuXJJQ"
      },
      "execution_count": null,
      "outputs": []
    },
    {
      "cell_type": "markdown",
      "source": [
        "1. Create an alert for 'six' events and store its ID"
      ],
      "metadata": {
        "id": "u0mViLY_6_pM"
      }
    },
    {
      "cell_type": "code",
      "source": [
        "if webhook_url:\n",
        "  six_alert_id = cricket_scene_index.create_alert(\n",
        "      event_id=six_event_id,\n",
        "      callback_url=webhook_url\n",
        "  )\n",
        "else:\n",
        "  print(\"Error: Please provide Webhook URL. Alert cannot be created without it.\")"
      ],
      "metadata": {
        "id": "zzzCnrwWMMwX"
      },
      "execution_count": null,
      "outputs": []
    },
    {
      "cell_type": "markdown",
      "source": [
        "2. Create an alert for 'four' events and store its ID"
      ],
      "metadata": {
        "id": "yCHk6uLO7NVM"
      }
    },
    {
      "cell_type": "code",
      "source": [
        "if webhook_url:\n",
        "  four_alert_id = cricket_scene_index.create_alert(\n",
        "      event_id=four_event_id,\n",
        "      callback_url=webhook_url\n",
        "  )\n",
        "else:\n",
        "  print(\"Error: Please provide Webhook URL. Alert cannot be created without it.\")"
      ],
      "metadata": {
        "id": "fa7z-KHq7Hcg"
      },
      "execution_count": null,
      "outputs": []
    },
    {
      "cell_type": "markdown",
      "source": [
        "3. Create an alert for 'catch' events and store its ID"
      ],
      "metadata": {
        "id": "eEBjmmSb7UPV"
      }
    },
    {
      "cell_type": "code",
      "source": [
        "if webhook_url:\n",
        "  catch_alert_id = cricket_scene_index.create_alert(\n",
        "      event_id=catch_event_id,\n",
        "      callback_url=webhook_url\n",
        "  )\n",
        "else:\n",
        "  print(\"Error: Please provide Webhook URL. Alert cannot be created without it.\")"
      ],
      "metadata": {
        "id": "MIL8N4mQ7JP9"
      },
      "execution_count": null,
      "outputs": []
    },
    {
      "cell_type": "markdown",
      "source": [
        "4. Create an alert for 'wicket' events and store its ID"
      ],
      "metadata": {
        "id": "U-I8zxJx7Zuc"
      }
    },
    {
      "cell_type": "code",
      "source": [
        "if webhook_url:\n",
        "  wicket_alert_id = cricket_scene_index.create_alert(\n",
        "      event_id=wicket_event_id,\n",
        "      callback_url=webhook_url\n",
        "  )\n",
        "else:\n",
        "  print(\"Error: Please provide Webhook URL. Alert cannot be created without it.\")"
      ],
      "metadata": {
        "id": "5b-Prj197KuE"
      },
      "execution_count": null,
      "outputs": []
    },
    {
      "cell_type": "markdown",
      "source": [
        "---\n",
        "#### Lets list all the alerts"
      ],
      "metadata": {
        "id": "aQPuGgs3MxHx"
      }
    },
    {
      "cell_type": "code",
      "source": [
        "def list_rtstream_alerts(rtstream, index_id):\n",
        "    \"\"\"\n",
        "    Prints a list of alerts associated with a given scene index.\n",
        "    \"\"\"\n",
        "    rtstream_scene_index = rtstream.get_scene_index(index_id)\n",
        "    alerts = rtstream_scene_index.list_alerts()\n",
        "\n",
        "    for alert in alerts:\n",
        "        print(f\"\"\"🔔 RTStream Alert:\n",
        "    Alert ID      : {alert['alert_id']}\n",
        "    Event ID      : {alert['event_id']}\n",
        "    Label         : {alert['label']}\n",
        "    Prompt        : {alert['prompt']}\n",
        "    Status        : {alert['status']}\n",
        "        \"\"\")\n",
        "        print(\"-\" * 80)\n",
        "\n",
        "list_rtstream_alerts(cricket_stream, cricket_index_id)\n"
      ],
      "metadata": {
        "id": "vVfjDk9tM397",
        "colab": {
          "base_uri": "https://localhost:8080/"
        },
        "outputId": "10d61425-e85a-410c-d211-5a7e634ff6df"
      },
      "execution_count": null,
      "outputs": [
        {
          "output_type": "stream",
          "name": "stdout",
          "text": [
            "🔔 RTStream Alert:\n",
            "    Alert ID      : 1891843a2c669ea3\n",
            "    Event ID      : 3bfdd25d9239861b\n",
            "    Label         : four_hit\n",
            "    Prompt        : Detect when a batsman hits a FOUR.\n",
            "    Status        : enabled\n",
            "        \n",
            "--------------------------------------------------------------------------------\n",
            "🔔 RTStream Alert:\n",
            "    Alert ID      : 6094972d46c861be\n",
            "    Event ID      : 16b35b66ef106a37\n",
            "    Label         : catch_out\n",
            "    Prompt        : Detect when a player takes a CATCH OUT.\n",
            "    Status        : enabled\n",
            "        \n",
            "--------------------------------------------------------------------------------\n",
            "🔔 RTStream Alert:\n",
            "    Alert ID      : 69d79872465ce9f2\n",
            "    Event ID      : 627cdd8124f7731b\n",
            "    Label         : six_hit\n",
            "    Prompt        : Detect when a batsman hits a SIX.\n",
            "    Status        : enabled\n",
            "        \n",
            "--------------------------------------------------------------------------------\n",
            "🔔 RTStream Alert:\n",
            "    Alert ID      : b4ae6c64ea065ca8\n",
            "    Event ID      : fae540ba13f50530\n",
            "    Label         : wicket\n",
            "    Prompt        : Detect when a batsman is dismissed (WICKET).\n",
            "    Status        : enabled\n",
            "        \n",
            "--------------------------------------------------------------------------------\n"
          ]
        }
      ]
    },
    {
      "cell_type": "markdown",
      "source": [
        "---\n",
        "\n",
        "## 📡 Example Alerts Received at the Webhook\n",
        "\n",
        "1. Alert received when a FOUR is hit\n",
        "\n",
        "```json\n",
        "{\n",
        "  \"event_id\": \"event-3bfdd25d9239861b\",\n",
        "  \"label\": \"four_hit\",\n",
        "  \"confidence\": 0.95,\n",
        "  \"explanation\": \"Image 4 shows the ball crossing the boundary after bouncing, indicating a FOUR has been scored. Therefore, an alert should be triggered.\",\n",
        "  \"timestamp\": \"2025-05-29T00:11:09.256447+00:00\",\n",
        "  \"start_time\": \"2025-05-29T05:40:32.544547+05:30\",\n",
        "  \"end_time\": \"2025-05-29T05:40:39.730362+05:30\",\n",
        "  \"stream_url\": \"https://rt.stream.videodb.io/manifests/rts-019711db-1086-7750-ba79-8f47a4fed603/1748477432000000-1748477440000000.m3u8\"\n",
        "}\n",
        "```\n",
        "\n",
        "2. Alert recieved on a CATCH OUT\n",
        "\n",
        "```json\n",
        "{\n",
        "  \"event_id\": \"event-16b35b66ef106a37\",\n",
        "  \"label\": \"catch_out\",\n",
        "  \"confidence\": 0.95,\n",
        "  \"explanation\": \"Image 4 shows a fielder catching the ball mid-air, indicating a CATCH OUT, which aligns with the alert context.\",\n",
        "  \"timestamp\": \"2025-05-29T00:10:52.331198+00:00\",\n",
        "  \"start_time\": \"2025-05-29T05:40:24.326385+05:30\",\n",
        "  \"end_time\": \"2025-05-29T05:40:31.314371+05:30\",\n",
        "  \"stream_url\": \"https://rt.stream.videodb.io/manifests/rts-019711db-1086-7750-ba79-8f47a4fed603/1748477424000000-1748477432000000.m3u8\"\n",
        "}\n",
        "```\n",
        "\n",
        "✅ Similarly, alerts will be triggered for **SIX** and **WICKET** events, routed to the same webhook URL."
      ],
      "metadata": {
        "id": "OYe1mm-rM_H_"
      }
    },
    {
      "cell_type": "markdown",
      "source": [
        "---\n",
        "### Let us have a look at the stream links we received in the alerts."
      ],
      "metadata": {
        "id": "_p2JgOc6aNeJ"
      }
    },
    {
      "cell_type": "markdown",
      "source": [
        "1. FOUR HIT"
      ],
      "metadata": {
        "id": "BgaYWBQjaaQ2"
      }
    },
    {
      "cell_type": "code",
      "source": [
        "alert_stream_url = \"https://rt.stream.videodb.io/manifests/rts-019711db-1086-7750-ba79-8f47a4fed603/1748477432000000-1748477440000000.m3u8\"\n",
        "video_name = \"🏏 ICC World Cup · four_hit\"\n",
        "\n",
        "display_stream(alert_stream_url,video_name)"
      ],
      "metadata": {
        "colab": {
          "base_uri": "https://localhost:8080/",
          "height": 422
        },
        "id": "9zWvALmqYcTS",
        "outputId": "27d2b025-d844-4d2f-ffee-3b8e6fe72b60"
      },
      "execution_count": 7,
      "outputs": [
        {
          "output_type": "execute_result",
          "data": {
            "text/plain": [
              "<IPython.core.display.HTML object>"
            ],
            "text/html": [
              "\n",
              "    <div style=\"position:relative;width:640px;\">\n",
              "      \n",
              "        <iframe\n",
              "            width=\"800\"\n",
              "            height=\"400\"\n",
              "            src=\"https://console.videodb.io/player?url=https://rt.stream.videodb.io/manifests/rts-019711db-1086-7750-ba79-8f47a4fed603/1748477432000000-1748477440000000.m3u8\"\n",
              "            frameborder=\"0\"\n",
              "            allowfullscreen\n",
              "            \n",
              "        ></iframe>\n",
              "        \n",
              "      <div style=\"position:absolute;top:10px;left:10px;background:rgba(0,0,0,0.6);color:#fff;padding:6px 12px;border-radius:4px;font-size:13px;font-family:sans-serif;\">\n",
              "        <strong>🏏 ICC World Cup · four_hit</strong><br>2025-05-29 00:10:32 → 2025-05-29 00:10:40 UTC\n",
              "      </div>\n",
              "    </div>\n",
              "    "
            ]
          },
          "metadata": {},
          "execution_count": 7
        }
      ]
    },
    {
      "cell_type": "markdown",
      "source": [
        "2. CATCH OUT"
      ],
      "metadata": {
        "id": "3kPePjTrac89"
      }
    },
    {
      "cell_type": "code",
      "source": [
        "alert_stream_url = \"https://rt.stream.videodb.io/manifests/rts-019711db-1086-7750-ba79-8f47a4fed603/1748477424000000-1748477432000000.m3u8\"\n",
        "video_name = \"🏏 ICC World Cup · catch_out\"\n",
        "\n",
        "display_stream(alert_stream_url,video_name)"
      ],
      "metadata": {
        "colab": {
          "base_uri": "https://localhost:8080/",
          "height": 422
        },
        "id": "-Dn-kuVrahFX",
        "outputId": "274825df-a702-4ede-c245-06b2c46c9172"
      },
      "execution_count": 8,
      "outputs": [
        {
          "output_type": "execute_result",
          "data": {
            "text/plain": [
              "<IPython.core.display.HTML object>"
            ],
            "text/html": [
              "\n",
              "    <div style=\"position:relative;width:640px;\">\n",
              "      \n",
              "        <iframe\n",
              "            width=\"800\"\n",
              "            height=\"400\"\n",
              "            src=\"https://console.videodb.io/player?url=https://rt.stream.videodb.io/manifests/rts-019711db-1086-7750-ba79-8f47a4fed603/1748477424000000-1748477432000000.m3u8\"\n",
              "            frameborder=\"0\"\n",
              "            allowfullscreen\n",
              "            \n",
              "        ></iframe>\n",
              "        \n",
              "      <div style=\"position:absolute;top:10px;left:10px;background:rgba(0,0,0,0.6);color:#fff;padding:6px 12px;border-radius:4px;font-size:13px;font-family:sans-serif;\">\n",
              "        <strong>🏏 ICC World Cup · catch_out</strong><br>2025-05-29 00:10:24 → 2025-05-29 00:10:32 UTC\n",
              "      </div>\n",
              "    </div>\n",
              "    "
            ]
          },
          "metadata": {},
          "execution_count": 8
        }
      ]
    },
    {
      "cell_type": "markdown",
      "source": [
        "---\n",
        "### After the match is over, we can disable the alerts."
      ],
      "metadata": {
        "id": "Sn3YCec3eEs7"
      }
    },
    {
      "cell_type": "code",
      "source": [
        "# Enter the id of the alert that we want to disable\n",
        "alert_id = \"\"\n",
        "# cricket_scene_index.disable_alert(alert_id)"
      ],
      "metadata": {
        "id": "pdHJCvzNeLJS"
      },
      "execution_count": null,
      "outputs": []
    },
    {
      "cell_type": "markdown",
      "source": [
        "- To enable the alert again:"
      ],
      "metadata": {
        "id": "pMYYapCYe_dp"
      }
    },
    {
      "cell_type": "code",
      "source": [
        "# cricket_scene_index.enable_alert(alert_id)"
      ],
      "metadata": {
        "id": "-P9dKZdBfELE"
      },
      "execution_count": null,
      "outputs": []
    },
    {
      "cell_type": "markdown",
      "source": [
        "---\n",
        "## 🏆 Wrapping Up: Outpacing the Competition in Real Time\n",
        "\n",
        "In this notebook, we built a smart, AI-powered video monitoring system tailored for the high-pressure, real-time demands of live sports broadcasting.\n",
        "\n",
        "With this setup in place, broadcasters and content creators no longer have to wait, clip, and scramble.  \n",
        "They can stay ahead of the crowd, instantly catching and sharing match-defining moments as they happen — turning every six, four, wicket, and catch into social media gold within seconds.\n",
        "\n",
        "---\n",
        "\n",
        "**But this is just one story.**\n",
        "\n",
        "- What if the same system could monitor a **football match**, detecting goals, penalties, and crowd invasions in real time?  \n",
        "- Or watch over an **esports championship**, capturing game-winning moves and viral moments?  \n",
        "- Or even scan **live news broadcasts**, flagging breaking events or significant headlines for immediate clipping and distribution?  \n",
        "\n",
        "The possibilities of real-time video intelligence in media and sports are endless.\n",
        "\n",
        "**What would *you* stream next?**\n"
      ],
      "metadata": {
        "id": "Van6xiWVNENn"
      }
    }
  ]
}