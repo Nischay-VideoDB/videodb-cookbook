{
  "nbformat": 4,
  "nbformat_minor": 0,
  "metadata": {
    "colab": {
      "provenance": []
    },
    "kernelspec": {
      "name": "python3",
      "display_name": "Python 3"
    },
    "language_info": {
      "name": "python"
    }
  },
  "cells": [
    {
      "cell_type": "markdown",
      "source": [
        "# 🌊 Flash Flood Detection in Arizona Using VideoDB RTStream\n",
        "\n",
        "[![Open In Colab](https://colab.research.google.com/assets/colab-badge.svg)](https://colab.research.google.com/github/video-db/videodb-cookbook/blob/main/real_time_streaming/Flash_Flood_Detection.ipynb)\n",
        "\n",
        "## 📖 Storytime: Why This Matters\n",
        "\n",
        "The stunning Arizona deserts, known for their dry riverbeds and scenic beauty, hide a deadly risk.  \n",
        "During the summer monsoon, sudden torrential rains can trigger **flash floods** in these seemingly harmless dry zones — with little or no warning.\n",
        "\n",
        "Conventional alert systems relying on rain gauges or weather satellites often fail to deliver timely, location-specific warnings. By the time a danger alert is sent, it might already be too late.\n",
        "\n",
        "**But we have a smarter way.**\n",
        "\n",
        "With **VideoDB RTStream**, we can install real-time cameras near flood-prone areas and let AI continuously monitor the visuals.  \n",
        "As soon as the AI detects signs of a flash flood — like a sudden surge of water through dry land — it can instantly send alerts, giving local authorities and tourists precious moments to act.\n",
        "\n",
        "---\n",
        "\n",
        "## 🚀 What You’ll Build in This Notebook\n",
        "\n",
        "In this notebook, we’ll create a real-time flash flood detection system using **VideoDB RTStream**.  \n",
        "By the end of this demo, you’ll learn how to:\n",
        "- Connect a live video stream to VideoDB\n",
        "- Use AI to continuously analyze scenes for signs of a flash flood\n",
        "- Detect a **flash flood event**\n",
        "- Trigger a real-time alert when detected\n",
        "\n",
        "Let’s build it together!\n",
        "\n"
      ],
      "metadata": {
        "id": "zpV7M-CLQJit"
      }
    },
    {
      "cell_type": "markdown",
      "source": [
        "---\n",
        "\n",
        "## 📦 Step 1: Install Dependencies\n",
        "\n",
        "Before setting up our AI-powered flood monitor, let’s install the required VideoDB SDK."
      ],
      "metadata": {
        "id": "f5lY3gziQNRe"
      }
    },
    {
      "cell_type": "code",
      "source": [
        "!pip install -q videodb"
      ],
      "metadata": {
        "id": "cD643idwQKJI",
        "colab": {
          "base_uri": "https://localhost:8080/"
        },
        "outputId": "9c63f06d-d433-4347-ef9a-72a393f851cf"
      },
      "execution_count": 1,
      "outputs": [
        {
          "output_type": "stream",
          "name": "stdout",
          "text": [
            "  Preparing metadata (setup.py) ... \u001b[?25l\u001b[?25hdone\n",
            "  Building wheel for videodb (setup.py) ... \u001b[?25l\u001b[?25hdone\n"
          ]
        }
      ]
    },
    {
      "cell_type": "markdown",
      "source": [
        "---\n",
        "## 📦 Step 2: Connect to VideoDB\n",
        "\n",
        "Let's connect to VideoDB's API using your credentials to prepare for stream monitoring.\n",
        "\n",
        "Please enter your `VIDEO_DB_API_KEY` in the input box that appears below after you run this cell.\n",
        "\n",
        "Your input will be masked.\n"
      ],
      "metadata": {
        "id": "JB_mg1kxQTcF"
      }
    },
    {
      "cell_type": "code",
      "source": [
        "import videodb\n",
        "import os\n",
        "from getpass import getpass\n",
        "\n",
        "api_key = getpass(\"Please enter your VideoDB API Key: \")\n",
        "\n",
        "os.environ[\"VIDEO_DB_API_KEY\"] = api_key\n",
        "\n",
        "conn = videodb.connect()\n",
        "coll = conn.get_collection()\n",
        "\n",
        "print(\"Connected to VideoDB securely!\")"
      ],
      "metadata": {
        "id": "ddqIQZteQWPj",
        "colab": {
          "base_uri": "https://localhost:8080/"
        },
        "outputId": "6a4a57c1-c37b-4258-96eb-0cc9fad6d772"
      },
      "execution_count": 2,
      "outputs": [
        {
          "output_type": "stream",
          "name": "stdout",
          "text": [
            "Please enter your VideoDB API Key: ··········\n",
            "Connected to VideoDB securely!\n"
          ]
        }
      ]
    },
    {
      "cell_type": "markdown",
      "source": [
        "---\n",
        "\n",
        "## 📦 Step 3: Connect to the Arizona Flood RTSP Stream\n",
        "\n",
        "Connect to the live camera stream monitoring a flood-prone desert area.\n",
        "\n",
        "In this demo, the stream is running at `rtsp://samples.rts.videodb.io:8554/floods`."
      ],
      "metadata": {
        "id": "GPfbBpinQbW0"
      }
    },
    {
      "cell_type": "code",
      "source": [
        "rtsp_url = \"rtsp://samples.rts.videodb.io:8554/floods\"\n",
        "flood_stream = coll.connect_rtstream(\n",
        "    name=\"Arizona Flood Stream\",\n",
        "    url=rtsp_url,\n",
        ")\n",
        "print(flood_stream)\n"
      ],
      "metadata": {
        "id": "A7_zI06cQhwr",
        "colab": {
          "base_uri": "https://localhost:8080/"
        },
        "outputId": "a1763469-b496-4934-9356-d103212f3b5c"
      },
      "execution_count": null,
      "outputs": [
        {
          "output_type": "stream",
          "name": "stdout",
          "text": [
            "RTStream(id=rts-019719b2-0c84-7a71-a037-311855a8d160, name=Arizona Flood Stream, collection_id=None, created_at=None, sample_rate=30, status=connected)\n"
          ]
        }
      ]
    },
    {
      "cell_type": "markdown",
      "source": [
        "#### Let us list all the rtstreams in our collection."
      ],
      "metadata": {
        "id": "bdxspdrXsl9R"
      }
    },
    {
      "cell_type": "code",
      "source": [
        "def list_rtstreams():\n",
        "    for rtstream in coll.list_rtstreams():\n",
        "        print(f\"\"\"RTStream:\n",
        "        ID            : {rtstream.id}\n",
        "        Name          : {rtstream.name}\n",
        "        Collection ID : {rtstream.collection_id}\n",
        "        Created At    : {rtstream.created_at}\n",
        "        Sample Rate   : {rtstream.sample_rate}\n",
        "        Status        : {rtstream.status}\n",
        "        \"\"\")\n",
        "        print(\"-\" * 80)\n",
        "\n",
        "list_rtstreams()"
      ],
      "metadata": {
        "colab": {
          "base_uri": "https://localhost:8080/"
        },
        "id": "gxtKJcrssmzJ",
        "outputId": "278db94e-e50b-486a-ae1f-46d0b04dd961"
      },
      "execution_count": null,
      "outputs": [
        {
          "output_type": "stream",
          "name": "stdout",
          "text": [
            "RTStream:\n",
            "        ID            : rts-019719b2-0c84-7a71-a037-311855a8d160\n",
            "        Name          : Arizona Flood Stream\n",
            "        Collection ID : c-81fc6459-fe30-44ac-8c5b-ea0898c2e152\n",
            "        Created At    : 2025-05-29T01:39:48.484134\n",
            "        Sample Rate   : 30\n",
            "        Status        : connected\n",
            "        \n",
            "--------------------------------------------------------------------------------\n",
            "RTStream:\n",
            "        ID            : rts-019711db-1086-7750-ba79-8f47a4fed603\n",
            "        Name          : Cricket Finals Stream\n",
            "        Collection ID : c-81fc6459-fe30-44ac-8c5b-ea0898c2e152\n",
            "        Created At    : 2025-05-27T13:07:38.758741\n",
            "        Sample Rate   : 30\n",
            "        Status        : stopped\n",
            "        \n",
            "--------------------------------------------------------------------------------\n",
            "RTStream:\n",
            "        ID            : rts-019711a0-0fde-7911-b282-25bc0b4ecf65\n",
            "        Name          : Baby Crib Monitor\n",
            "        Collection ID : c-81fc6459-fe30-44ac-8c5b-ea0898c2e152\n",
            "        Created At    : 2025-05-27T12:03:11.966358\n",
            "        Sample Rate   : 30\n",
            "        Status        : stopped\n",
            "        \n",
            "--------------------------------------------------------------------------------\n",
            "RTStream:\n",
            "        ID            : rts-019710fa-9511-79c3-a924-e229e4815410\n",
            "        Name          : Property Security Stream\n",
            "        Collection ID : c-81fc6459-fe30-44ac-8c5b-ea0898c2e152\n",
            "        Created At    : 2025-05-27T09:02:27.089279\n",
            "        Sample Rate   : 30\n",
            "        Status        : stopped\n",
            "        \n",
            "--------------------------------------------------------------------------------\n"
          ]
        }
      ]
    },
    {
      "cell_type": "markdown",
      "source": [
        "\n",
        "#### If you have already connected the stream, run the below cell with the **rtstream id** to reconnect."
      ],
      "metadata": {
        "id": "DMpqfcWds2CY"
      }
    },
    {
      "cell_type": "code",
      "source": [
        "# flood_stream = coll.get_rtstream(\"\")"
      ],
      "metadata": {
        "id": "dPPG2hsqs1Vv"
      },
      "execution_count": 3,
      "outputs": []
    },
    {
      "cell_type": "code",
      "source": [
        "# To stop the stream\n",
        "# flood_stream.stop()"
      ],
      "metadata": {
        "id": "NT0bnlhOs-pF"
      },
      "execution_count": null,
      "outputs": []
    },
    {
      "cell_type": "code",
      "source": [
        "# To start the stream\n",
        "# flood_stream.start()"
      ],
      "metadata": {
        "id": "NmiNzKcfs_Na"
      },
      "execution_count": 4,
      "outputs": []
    },
    {
      "cell_type": "markdown",
      "source": [
        "---\n",
        "### 👀 Let's have a look at the riverbed"
      ],
      "metadata": {
        "id": "KO8opDorQnpc"
      }
    },
    {
      "cell_type": "markdown",
      "source": [
        "\n",
        "#### 📺 Helper Function: Display Video Stream\n",
        "\n",
        "This cell contains a small utility function to help visualize the video streams with helpful information. You don't need to modify this code."
      ],
      "metadata": {
        "id": "z0BHpOB3tJgw"
      }
    },
    {
      "cell_type": "code",
      "source": [
        "# To display the stream with relevant information\n",
        "\n",
        "from IPython.display import HTML\n",
        "import re\n",
        "from datetime import datetime\n",
        "from videodb import play_stream\n",
        "\n",
        "def display_stream(video_url, video_name=\"🎥 Camera Feed\"):\n",
        "\n",
        "    match = re.search(r'/(\\d{16})-(\\d{16})\\.m3u8', video_url)\n",
        "    if match:\n",
        "        start_ts = int(match.group(1)) / 1e6\n",
        "        end_ts = int(match.group(2)) / 1e6\n",
        "        start_time = datetime.utcfromtimestamp(start_ts).strftime('%Y-%m-%d %H:%M:%S')\n",
        "        end_time = datetime.utcfromtimestamp(end_ts).strftime('%Y-%m-%d %H:%M:%S')\n",
        "        time_range = f\"{start_time} → {end_time} UTC\"\n",
        "    else:\n",
        "        time_range = \"Time Unknown\"\n",
        "\n",
        "    video_player_html = play_stream(video_url)\n",
        "\n",
        "    return HTML(f\"\"\"\n",
        "    <div style=\"position:relative;width:640px;\">\n",
        "      {video_player_html._repr_html_() if hasattr(video_player_html, '_repr_html_') else video_player_html}\n",
        "      <div style=\"position:absolute;top:10px;left:10px;background:rgba(0,0,0,0.6);color:#fff;padding:6px 12px;border-radius:4px;font-size:13px;font-family:sans-serif;\">\n",
        "        <strong>{video_name}</strong><br>{time_range}\n",
        "      </div>\n",
        "    </div>\n",
        "    \"\"\")"
      ],
      "metadata": {
        "id": "PpSSzPhMQqOE"
      },
      "execution_count": 5,
      "outputs": []
    },
    {
      "cell_type": "markdown",
      "source": [
        "\n",
        "#### 🔗 Get & Display Recent Stream\n",
        "\n",
        "This cell uses the helper function above to fetch and display the last few minutes of the stream."
      ],
      "metadata": {
        "id": "Kg5KSFhhtOQa"
      }
    },
    {
      "cell_type": "code",
      "source": [
        "# To get last few minutes stream link\n",
        "import time\n",
        "\n",
        "def fetch_stream(rtstream):\n",
        "\n",
        "    now = int(time.time())\n",
        "    start = int(now - (5 * 60))\n",
        "    stream_url = rtstream.generate_stream(start, now)\n",
        "    return stream_url\n",
        "\n",
        "video_url = fetch_stream(flood_stream)\n",
        "\n",
        "video_name = \"🌊 Arizona Desert · Flash Flood Detection\"\n",
        "display_stream(video_url , video_name)"
      ],
      "metadata": {
        "id": "g5W0GEc_Qoo7",
        "colab": {
          "base_uri": "https://localhost:8080/",
          "height": 422
        },
        "outputId": "65ae784e-58d9-416d-b0fc-8546997a2ad9"
      },
      "execution_count": 8,
      "outputs": [
        {
          "output_type": "execute_result",
          "data": {
            "text/plain": [
              "<IPython.core.display.HTML object>"
            ],
            "text/html": [
              "\n",
              "    <div style=\"position:relative;width:640px;\">\n",
              "      \n",
              "        <iframe\n",
              "            width=\"800\"\n",
              "            height=\"400\"\n",
              "            src=\"https://console.videodb.io/player?url=https://rt.stream.videodb.io/manifests/rts-019719b2-0c84-7a71-a037-311855a8d160/1748515780000000-1748516080000000.m3u8\"\n",
              "            frameborder=\"0\"\n",
              "            allowfullscreen\n",
              "            \n",
              "        ></iframe>\n",
              "        \n",
              "      <div style=\"position:absolute;top:10px;left:10px;background:rgba(0,0,0,0.6);color:#fff;padding:6px 12px;border-radius:4px;font-size:13px;font-family:sans-serif;\">\n",
              "        <strong>🌊 Arizona Desert · Flash Flood Detection</strong><br>2025-05-29 10:49:40 → 2025-05-29 10:54:40 UTC\n",
              "      </div>\n",
              "    </div>\n",
              "    "
            ]
          },
          "metadata": {},
          "execution_count": 8
        }
      ]
    },
    {
      "cell_type": "markdown",
      "source": [
        "\n",
        "---\n",
        "\n",
        "## 📦 Step 4: Index Scenes and Detect Flash Floods\n",
        "\n",
        "We’ll create a real-time scene index that periodically analyzes video frames and generates natural language descriptions of what’s happening in the stream.\n",
        "\n",
        "The AI will look for sudden visual cues of water flooding dry land and describe them.\n"
      ],
      "metadata": {
        "id": "eVIEAJFKQvqW"
      }
    },
    {
      "cell_type": "code",
      "source": [
        "from videodb import SceneExtractionType\n",
        "\n",
        "flood_scene_index = flood_stream.index_scenes(\n",
        "    extraction_type=SceneExtractionType.time_based,\n",
        "    extraction_config={\n",
        "        \"time\": 5,\n",
        "        \"frame_count\": 3,\n",
        "    },\n",
        "    prompt=\"Monitor the dry riverbed and surrounding area. If moving water is detected across the land, identify it as a flash flood and describe the scene.\",\n",
        "    name=\"Flash_Flood_Detection_Index\"\n",
        ")\n",
        "flood_index_id = flood_scene_index.rtstream_index_id\n",
        "print(\"Scene Index ID:\", flood_index_id)\n"
      ],
      "metadata": {
        "id": "CMU9WMlLQwvn",
        "colab": {
          "base_uri": "https://localhost:8080/"
        },
        "outputId": "eda5e049-ad57-477e-aaf0-c5d94947d7f7"
      },
      "execution_count": null,
      "outputs": [
        {
          "output_type": "stream",
          "name": "stdout",
          "text": [
            "Scene Index ID: 318f52d1a4524559\n"
          ]
        }
      ]
    },
    {
      "cell_type": "markdown",
      "source": [
        "#### Let us list the scene indexes created on our rtstream."
      ],
      "metadata": {
        "id": "KjDNDgQAt1IW"
      }
    },
    {
      "cell_type": "code",
      "source": [
        "def list_rtstream_indexes(rtstream):\n",
        "    # List live stream indexes\n",
        "    rtstream_indexes = rtstream.list_scene_indexes()\n",
        "    for rtstream_index in rtstream_indexes:\n",
        "\n",
        "        print(f\"\"\"RTStreamSceneIndex:\n",
        "            Index ID       : {rtstream_index.rtstream_index_id}\n",
        "            RTStream ID    : {rtstream_index.rtstream_id}\n",
        "            Name           : {rtstream_index.name}\n",
        "            Status         : {rtstream_index.status}\n",
        "            Config         : {rtstream_index.extraction_config}\n",
        "            Prompt         : {rtstream_index.prompt}\n",
        "        \"\"\")\n",
        "        print(\"-\" * 80)\n",
        "\n",
        "list_rtstream_indexes(flood_stream)"
      ],
      "metadata": {
        "colab": {
          "base_uri": "https://localhost:8080/"
        },
        "id": "Mcies-gct12A",
        "outputId": "21da65ef-62a3-43a7-b3ab-20c0eefaeccf"
      },
      "execution_count": null,
      "outputs": [
        {
          "output_type": "stream",
          "name": "stdout",
          "text": [
            "RTStreamSceneIndex:\n",
            "            Index ID       : 318f52d1a4524559\n",
            "            RTStream ID    : rts-019719b2-0c84-7a71-a037-311855a8d160\n",
            "            Name           : Flash_Flood_Detection_Index\n",
            "            Status         : running\n",
            "            Config         : {'frame_count': '3', 'time': '5'}\n",
            "            Prompt         : Monitor the dry riverbed and surrounding area. If moving water is detected across the land, identify it as a flash flood and describe the scene.\n",
            "        \n",
            "--------------------------------------------------------------------------------\n"
          ]
        }
      ]
    },
    {
      "cell_type": "markdown",
      "source": [
        "\n",
        "#### If you have already created a scene index, run the below cell with your **scene index id** to reconnect."
      ],
      "metadata": {
        "id": "abtAiqYRt8tm"
      }
    },
    {
      "cell_type": "code",
      "source": [
        "# flood_index_id = \"\"\n",
        "# flood_scene_index = flood_stream.get_scene_index(flood_index_id)"
      ],
      "metadata": {
        "id": "SiabmNgrt9al"
      },
      "execution_count": null,
      "outputs": []
    },
    {
      "cell_type": "code",
      "source": [
        "# To stop the index\n",
        "# flood_scene_index.stop()"
      ],
      "metadata": {
        "id": "oTJX-adPt9vE"
      },
      "execution_count": null,
      "outputs": []
    },
    {
      "cell_type": "code",
      "source": [
        "# To start the index\n",
        "# flood_scene_index.start()"
      ],
      "metadata": {
        "id": "fj8NNH7nt-B9"
      },
      "execution_count": null,
      "outputs": []
    },
    {
      "cell_type": "markdown",
      "source": [
        "---\n",
        "### Let us see the result of the scene indexing"
      ],
      "metadata": {
        "id": "yRZmI0IvQ0FF"
      }
    },
    {
      "cell_type": "code",
      "source": [
        "import time\n",
        "from datetime import datetime\n",
        "from zoneinfo import ZoneInfo\n",
        "\n",
        "def _convert_to_ist(timestamp: float) -> str:\n",
        "    \"\"\"Convert UTC timestamp to IST (Asia/Kolkata) datetime string.\"\"\"\n",
        "    return (\n",
        "        datetime.fromtimestamp(timestamp)\n",
        "        .astimezone(ZoneInfo(\"Asia/Kolkata\"))\n",
        "        .strftime(\"%Y-%m-%d %H:%M:%S\")\n",
        "    )\n",
        "\n",
        "def get_scenes(rtstream, index_id):\n",
        "    # Print indexed scenes\n",
        "    rtstream_scene_index = rtstream.get_scene_index(index_id)\n",
        "    scenes = rtstream_scene_index.get_scenes(page_size=5)\n",
        "    # print(scenes[\"scenes\"][:2])\n",
        "    if scenes:\n",
        "        for scene in scenes.get(\"scenes\"):\n",
        "            start = _convert_to_ist(scene[\"start\"])\n",
        "            end = _convert_to_ist(scene[\"end\"])\n",
        "            description = scene[\"description\"]\n",
        "            print(f\"{start}-{end}: {description}\")\n",
        "            print(\"-\" * 80)\n",
        "    else:\n",
        "        print(\"Scenes not found for given index.\")\n",
        "\n",
        "get_scenes(flood_stream , flood_index_id)"
      ],
      "metadata": {
        "id": "XUa08hPnQ0Zw",
        "colab": {
          "base_uri": "https://localhost:8080/"
        },
        "outputId": "ef8fc402-aa98-4dcd-a58b-f3d59fcc18d7"
      },
      "execution_count": null,
      "outputs": [
        {
          "output_type": "stream",
          "name": "stdout",
          "text": [
            "2025-05-29 07:17:51-2025-05-29 07:17:56: **Flash Flood Detected**\n",
            "\n",
            "The images show a flash flood occurring in a dry riverbed. The water is flowing rapidly and forcefully through the narrow channels carved into the red rock landscape. The water is churning and appears muddy, indicating it is carrying sediment and debris. The surrounding area is arid, with sparse vegetation. People are observing the flash flood from the rocky banks. The sky is overcast, suggesting recent rainfall may have contributed to the flash flood.\n",
            "--------------------------------------------------------------------------------\n",
            "2025-05-29 07:17:46-2025-05-29 07:17:50: **Flash Flood Detected**\n",
            "\n",
            "The scene depicts a flash flood surging through a narrow, rocky riverbed. The water is turbulent and fast-moving, churning with white foam as it rushes between the reddish-brown rock formations. The water level is high, filling the channel completely and indicating a sudden and significant increase in water volume. The surrounding landscape is arid and rocky, typical of a desert environment where flash floods are common after heavy rainfall.\n",
            "--------------------------------------------------------------------------------\n",
            "2025-05-29 07:17:40-2025-05-29 07:17:45: **Flash Flood Detected**\n",
            "\n",
            "The images show a flash flood occurring in a dry riverbed. The water is moving rapidly and forcefully, churning with foam and debris. The riverbed is filled with large, reddish-brown rocks, and the water is flowing around and over them. The scene suggests a sudden and powerful surge of water, typical of a flash flood event.\n",
            "--------------------------------------------------------------------------------\n",
            "2025-05-29 07:17:35-2025-05-29 07:17:40: **Flash Flood Detected**\n",
            "\n",
            "The images show a flash flood occurring in a dry riverbed. The water is moving rapidly and is heavily laden with sediment, giving it a muddy brown color. The water is flowing through narrow channels carved into the rock, creating turbulent currents and white foam. The surrounding rock formations are smooth and sculpted, indicating the erosive power of past floods. The scene is dynamic and potentially dangerous, highlighting the sudden and powerful nature of flash floods.\n",
            "--------------------------------------------------------------------------------\n",
            "2025-05-29 07:17:29-2025-05-29 07:17:34: **Flash Flood Detected**\n",
            "\n",
            "The scene depicts a flash flood surging through a dry riverbed. The water is muddy and turbulent, rushing over and around the large, reddish-brown rocks that characterize the landscape. The water level is high enough to create small waterfalls and rapids as it navigates the uneven terrain. The surrounding area appears arid, with sparse vegetation clinging to the edges of the riverbed. The sky is partially cloudy, suggesting the possibility of recent or ongoing rainfall that may have contributed to the flash flood.\n",
            "--------------------------------------------------------------------------------\n"
          ]
        }
      ]
    },
    {
      "cell_type": "markdown",
      "source": [
        "---\n",
        "\n",
        "## 📦 Step 5: Define a Flash Flood Event\n",
        "\n",
        "Now, we’ll define an event type in the system to detect visual signs of a flash flood.\n"
      ],
      "metadata": {
        "id": "-kO4RguhRNbk"
      }
    },
    {
      "cell_type": "code",
      "source": [
        "flood_event_id = conn.create_event(\n",
        "    event_prompt=\"Detect sudden flash floods or water surges.\",\n",
        "    label=\"flash_flood\"\n",
        ")\n",
        "print(\"Event ID:\", flood_event_id)\n"
      ],
      "metadata": {
        "id": "VxTWmd_hROVQ",
        "colab": {
          "base_uri": "https://localhost:8080/"
        },
        "outputId": "0b63a4f4-af21-4b69-c266-325d2caf69f6"
      },
      "execution_count": null,
      "outputs": [
        {
          "output_type": "stream",
          "name": "stdout",
          "text": [
            "Event ID: 7929a3ecc4624dbb\n"
          ]
        }
      ]
    },
    {
      "cell_type": "markdown",
      "source": [
        "---\n",
        "\n",
        "## 📦 Step 6: Attach an Alert to the Flash Flood Event\n",
        "\n",
        "Finally, we’ll link a real-time alert to this event, which will send a notification to our webhook the moment a flash flood is detected.\n"
      ],
      "metadata": {
        "id": "bRf6QOfrRQa2"
      }
    },
    {
      "cell_type": "code",
      "source": [
        "# Enter link to your webhook url where you want alerts to go. You can create one simply on pipedream.\n",
        "webhook_url = \"\"\n",
        "\n",
        "if webhook_url:\n",
        "  flood_alert_id = flood_scene_index.create_alert(\n",
        "      flood_event_id,\n",
        "      callback_url=webhook_url\n",
        "  )\n",
        "  print(\"Alert ID:\", flood_alert_id)\n",
        "else:\n",
        "  print(\"Error: Please provide Webhook URL. Alert cannot be created without it.\")"
      ],
      "metadata": {
        "id": "RftcmJUPRRmG",
        "colab": {
          "base_uri": "https://localhost:8080/"
        },
        "outputId": "1bb4b438-80d7-4282-ff4d-850df1a17155"
      },
      "execution_count": null,
      "outputs": [
        {
          "output_type": "stream",
          "name": "stdout",
          "text": [
            "Alert ID: d9c6038e631071cd\n"
          ]
        }
      ]
    },
    {
      "cell_type": "markdown",
      "source": [
        "---\n",
        "\n",
        "## 📡 Example Alert Payload\n",
        "\n",
        "When a flash flood occurs, the system sent this alert to the webhook url:\n",
        "\n",
        "```json\n",
        "{\n",
        "  \"event_id\": \"event-7929a3ecc4624dbb\",\n",
        "  \"label\": \"flash_flood\",\n",
        "  \"confidence\": 0.95,\n",
        "  \"explanation\": \"The scene analysis clearly depicts a flash flood with rapidly moving water, debris, and a recent heavy rainfall event, aligning strongly with the alert context of detecting sudden flash floods or water surges.\",\n",
        "  \"timestamp\": \"2025-05-29T01:51:33.907778+00:00\",\n",
        "  \"start_time\": \"2025-05-29T07:20:34.289908+05:30\",\n",
        "  \"end_time\": \"2025-05-29T07:20:39.891267+05:30\",\n",
        "  \"stream_url\": \"https://rt.stream.videodb.io/manifests/rts-019719b2-0c84-7a71-a037-311855a8d160/1748483434000000-1748483440000000.m3u8\"\n",
        "}\n",
        "```"
      ],
      "metadata": {
        "id": "o_u8OYaWRTbP"
      }
    },
    {
      "cell_type": "code",
      "source": [
        "alert_stream_url = \"https://rt.stream.videodb.io/manifests/rts-019719b2-0c84-7a71-a037-311855a8d160/1748483434000000-1748483440000000.m3u8\"\n",
        "video_name = \"🌊 Arizona Desert · flash_flood\"\n",
        "\n",
        "display_stream(alert_stream_url, video_name)"
      ],
      "metadata": {
        "colab": {
          "base_uri": "https://localhost:8080/",
          "height": 422
        },
        "id": "tA8WGWzUvPQ1",
        "outputId": "bc690012-a143-4263-dfa9-a4f549d85756"
      },
      "execution_count": 6,
      "outputs": [
        {
          "output_type": "execute_result",
          "data": {
            "text/plain": [
              "<IPython.core.display.HTML object>"
            ],
            "text/html": [
              "\n",
              "    <div style=\"position:relative;width:640px;\">\n",
              "      \n",
              "        <iframe\n",
              "            width=\"800\"\n",
              "            height=\"400\"\n",
              "            src=\"https://console.videodb.io/player?url=https://rt.stream.videodb.io/manifests/rts-019719b2-0c84-7a71-a037-311855a8d160/1748483434000000-1748483440000000.m3u8\"\n",
              "            frameborder=\"0\"\n",
              "            allowfullscreen\n",
              "            \n",
              "        ></iframe>\n",
              "        \n",
              "      <div style=\"position:absolute;top:10px;left:10px;background:rgba(0,0,0,0.6);color:#fff;padding:6px 12px;border-radius:4px;font-size:13px;font-family:sans-serif;\">\n",
              "        <strong>🌊 Arizona Desert · flash_flood</strong><br>2025-05-29 01:50:34 → 2025-05-29 01:50:40 UTC\n",
              "      </div>\n",
              "    </div>\n",
              "    "
            ]
          },
          "metadata": {},
          "execution_count": 6
        }
      ]
    },
    {
      "cell_type": "markdown",
      "source": [
        "#### Let us stop the flood index and proceed with the notebook to explore more possibilities."
      ],
      "metadata": {
        "id": "HuxU7xQTxBZ1"
      }
    },
    {
      "cell_type": "code",
      "source": [
        "# flood_scene_index.stop()"
      ],
      "metadata": {
        "id": "KcknjmPPxAzw"
      },
      "execution_count": null,
      "outputs": []
    },
    {
      "cell_type": "markdown",
      "source": [
        "---\n",
        "### Let us set up some other alerts that are necessary\n",
        "1. Heavy rainfall, detecting heavy rainfall early can help us predict a flash flood occurence\n",
        "2. Detect the presence of a person stuck in the flash flood, for immediate rescue  \n",
        "\n",
        "We can start with creating a new scene index for monitoring rainfall or a person stuck in the place."
      ],
      "metadata": {
        "id": "KwcEwZygRYZs"
      }
    },
    {
      "cell_type": "code",
      "source": [
        "riverbed_monitoring_scene_index = flood_stream.index_scenes(\n",
        "    extraction_type=SceneExtractionType.time_based,\n",
        "    extraction_config={\n",
        "        \"time\": 15,\n",
        "        \"frame_count\": 1,\n",
        "    },\n",
        "    prompt=\"Monitor the dry riverbed and surrounding area. In case you detect heavy rainfall mention 'heavy rainfall detected'. If you detect a person stuck in the area during rainfall or flash flood mention 'person detected, rescue needed'\",\n",
        "    name=\"Riverbed_Monitoring_Index\"\n",
        ")\n",
        "riverbed_monitoring_index_id = riverbed_monitoring_scene_index.rtstream_index_id\n",
        "print(\"Scene Index ID:\", riverbed_monitoring_index_id)\n"
      ],
      "metadata": {
        "id": "GX8L7BkyRU-b",
        "colab": {
          "base_uri": "https://localhost:8080/"
        },
        "outputId": "855703dd-b7cd-43b9-c63a-c0089bc2e7d7"
      },
      "execution_count": null,
      "outputs": [
        {
          "output_type": "stream",
          "name": "stdout",
          "text": [
            "Scene Index ID: a64531c43284cc99\n"
          ]
        }
      ]
    },
    {
      "cell_type": "markdown",
      "source": [
        "#### Checking the list of indexes"
      ],
      "metadata": {
        "id": "914lMw6PxQDu"
      }
    },
    {
      "cell_type": "code",
      "source": [
        "list_rtstream_indexes(flood_stream)"
      ],
      "metadata": {
        "colab": {
          "base_uri": "https://localhost:8080/"
        },
        "id": "UXuau8gPxguR",
        "outputId": "a6a243cc-2f82-4168-fbfe-285d401da947"
      },
      "execution_count": null,
      "outputs": [
        {
          "output_type": "stream",
          "name": "stdout",
          "text": [
            "RTStreamSceneIndex:\n",
            "            Index ID       : 318f52d1a4524559\n",
            "            RTStream ID    : rts-019719b2-0c84-7a71-a037-311855a8d160\n",
            "            Name           : Flash_Flood_Detection_Index\n",
            "            Status         : stopped\n",
            "            Config         : {'frame_count': '3', 'time': '5'}\n",
            "            Prompt         : Monitor the dry riverbed and surrounding area. If moving water is detected across the land, identify it as a flash flood and describe the scene.\n",
            "        \n",
            "--------------------------------------------------------------------------------\n",
            "RTStreamSceneIndex:\n",
            "            Index ID       : a64531c43284cc99\n",
            "            RTStream ID    : rts-019719b2-0c84-7a71-a037-311855a8d160\n",
            "            Name           : Riverbed_Monitoring_Index\n",
            "            Status         : running\n",
            "            Config         : {'frame_count': '1', 'time': '15'}\n",
            "            Prompt         : Monitor the dry riverbed and surrounding area. In case you detect heavy rainfall mention 'heavy rainfall detected'. If you detect a person stuck in the area during rainfall or flash flood mention 'person detected, rescue needed'\n",
            "        \n",
            "--------------------------------------------------------------------------------\n"
          ]
        }
      ]
    },
    {
      "cell_type": "markdown",
      "source": [
        "---\n",
        "### Let's have a look at generated scenes"
      ],
      "metadata": {
        "id": "FFoIxQO1Rbxs"
      }
    },
    {
      "cell_type": "code",
      "source": [
        "get_scenes(flood_stream , riverbed_monitoring_index_id)"
      ],
      "metadata": {
        "id": "3hfHascHRcw2",
        "colab": {
          "base_uri": "https://localhost:8080/"
        },
        "outputId": "6147fb2d-8723-40ec-9bae-826f8c3c005c"
      },
      "execution_count": null,
      "outputs": [
        {
          "output_type": "stream",
          "name": "stdout",
          "text": [
            "2025-05-29 07:34:50-2025-05-29 07:35:05: heavy rainfall detected\n",
            "--------------------------------------------------------------------------------\n",
            "2025-05-29 07:34:34-2025-05-29 07:34:49: No heavy rainfall detected. No person detected.\n",
            "--------------------------------------------------------------------------------\n",
            "2025-05-29 07:34:19-2025-05-29 07:34:34: No heavy rainfall detected. No person detected.\n",
            "--------------------------------------------------------------------------------\n",
            "2025-05-29 07:34:03-2025-05-29 07:34:18: 'person detected, rescue needed'\n",
            "--------------------------------------------------------------------------------\n",
            "2025-05-29 07:33:47-2025-05-29 07:34:02: heavy rainfall detected\n",
            "--------------------------------------------------------------------------------\n"
          ]
        }
      ]
    },
    {
      "cell_type": "markdown",
      "source": [
        "---\n",
        "### Now we can setup events and alerts for the index\n",
        "\n",
        "1. Rainfall Detection"
      ],
      "metadata": {
        "id": "--HEDr5WRe69"
      }
    },
    {
      "cell_type": "code",
      "source": [
        "# Create rainfall event\n",
        "rainfall_event_id = conn.create_event(\n",
        "    event_prompt=\"Detect heavy rainfall.\",\n",
        "    label=\"heavy_rainfall\"\n",
        ")\n",
        "print(\"Event ID:\", rainfall_event_id)"
      ],
      "metadata": {
        "id": "jf156IF7RgQf",
        "colab": {
          "base_uri": "https://localhost:8080/"
        },
        "outputId": "f128fcd8-4fd9-4a9a-e680-a1067c586ea1"
      },
      "execution_count": null,
      "outputs": [
        {
          "output_type": "stream",
          "name": "stdout",
          "text": [
            "Event ID: df1611d13772e09b\n"
          ]
        }
      ]
    },
    {
      "cell_type": "code",
      "source": [
        "# Create rainfall alert\n",
        "\n",
        "# Enter link to your webhook url where you want alerts to go.\n",
        "rainfall_webhook_url = \"\"\n",
        "\n",
        "if rainfall_webhook_url:\n",
        "  rainfall_alert_id = riverbed_monitoring_scene_index.create_alert(\n",
        "      rainfall_event_id,\n",
        "      callback_url=rainfall_webhook_url\n",
        "  )\n",
        "  print(\"Alert ID:\", rainfall_alert_id)\n",
        "else:\n",
        "  print(\"Error: Please provide Webhook URL. Alert cannot be created without it.\")"
      ],
      "metadata": {
        "colab": {
          "base_uri": "https://localhost:8080/"
        },
        "id": "Z9EnhfkOyvlg",
        "outputId": "f3a54042-2aec-4c06-9627-2e9ee9db88e4"
      },
      "execution_count": null,
      "outputs": [
        {
          "output_type": "stream",
          "name": "stdout",
          "text": [
            "Alert ID: ae31ea7c92a61bc7\n"
          ]
        }
      ]
    },
    {
      "cell_type": "markdown",
      "source": [
        "---\n",
        "2. Human detection for rescue"
      ],
      "metadata": {
        "id": "hEAftnXnRiTd"
      }
    },
    {
      "cell_type": "code",
      "source": [
        "# Create rescue event\n",
        "rescue_event_id = conn.create_event(\n",
        "    event_prompt=\"Detect if there is a person\",\n",
        "    label=\"human_rescue\"\n",
        ")\n",
        "print(\"Event ID:\", rescue_event_id)"
      ],
      "metadata": {
        "id": "7lSfgMwNRwJZ",
        "colab": {
          "base_uri": "https://localhost:8080/"
        },
        "outputId": "a6bda8fb-1890-4492-e9ce-5d951f1c3194"
      },
      "execution_count": null,
      "outputs": [
        {
          "output_type": "stream",
          "name": "stdout",
          "text": [
            "Event ID: 717a1bcf7a705ec7\n"
          ]
        }
      ]
    },
    {
      "cell_type": "code",
      "source": [
        "# Create rescue alert\n",
        "\n",
        "# Enter link to your webhook url where you want alerts to go.\n",
        "rescue_webhook_url = \"\"\n",
        "\n",
        "rescue_alert_id = riverbed_monitoring_scene_index.create_alert(\n",
        "    rescue_event_id,\n",
        "    callback_url=rescue_webhook_url\n",
        ")\n",
        "print(\"Alert ID:\", rescue_alert_id)"
      ],
      "metadata": {
        "colab": {
          "base_uri": "https://localhost:8080/"
        },
        "id": "smMe1bn_y_5q",
        "outputId": "6465cfb6-a1bc-44de-fab7-9ccfe01b3f9c"
      },
      "execution_count": null,
      "outputs": [
        {
          "output_type": "stream",
          "name": "stdout",
          "text": [
            "Alert ID: 766872338353f95b\n"
          ]
        }
      ]
    },
    {
      "cell_type": "markdown",
      "source": [
        "---\n",
        "### Let us see the list of alerts associated with the `riverbed_monitoring_scene_index`"
      ],
      "metadata": {
        "id": "AzmR7GD-zabA"
      }
    },
    {
      "cell_type": "code",
      "source": [
        "def list_rtstream_alerts(rtstream, index_id):\n",
        "    \"\"\"\n",
        "    Prints a list of alerts associated with a given scene index.\n",
        "    \"\"\"\n",
        "    rtstream_scene_index = rtstream.get_scene_index(index_id)\n",
        "    alerts = rtstream_scene_index.list_alerts()\n",
        "\n",
        "    for alert in alerts:\n",
        "        print(f\"\"\"🔔 RTStream Alert:\n",
        "    Alert ID      : {alert['alert_id']}\n",
        "    Event ID      : {alert['event_id']}\n",
        "    Label         : {alert['label']}\n",
        "    Prompt        : {alert['prompt']}\n",
        "    Status        : {alert['status']}\n",
        "        \"\"\")\n",
        "        print(\"-\" * 80)\n",
        "\n",
        "list_rtstream_alerts(flood_stream, riverbed_monitoring_index_id)\n"
      ],
      "metadata": {
        "colab": {
          "base_uri": "https://localhost:8080/"
        },
        "id": "CNH-aKZizr8B",
        "outputId": "05d5647b-b620-4cd6-add9-881da6baade1"
      },
      "execution_count": null,
      "outputs": [
        {
          "output_type": "stream",
          "name": "stdout",
          "text": [
            "🔔 RTStream Alert:\n",
            "    Alert ID      : 766872338353f95b\n",
            "    Event ID      : 717a1bcf7a705ec7\n",
            "    Label         : human_rescue\n",
            "    Prompt        : Detect if there is a person\n",
            "    Status        : enabled\n",
            "        \n",
            "--------------------------------------------------------------------------------\n",
            "🔔 RTStream Alert:\n",
            "    Alert ID      : ae31ea7c92a61bc7\n",
            "    Event ID      : df1611d13772e09b\n",
            "    Label         : heavy_rainfall\n",
            "    Prompt        : Detect heavy rainfall.\n",
            "    Status        : enabled\n",
            "        \n",
            "--------------------------------------------------------------------------------\n"
          ]
        }
      ]
    },
    {
      "cell_type": "markdown",
      "source": [
        "---\n",
        "\n",
        "## 📡 Example Alert Payload\n",
        "\n",
        "When the AI detected people near the flooding riverbed, the system sent this alert to the webhook url:\n",
        "\n",
        "```json\n",
        "{\n",
        "  \"event_id\": \"event-717a1bcf7a705ec7\",\n",
        "  \"label\": \"human_rescue\",\n",
        "  \"confidence\": 0.95,\n",
        "  \"explanation\": \"Flash flood is detected and a person is present, indicating a potential need for rescue. High confidence due to explicit rescue request.\",\n",
        "  \"timestamp\": \"2025-05-29T02:19:56.724411+00:00\",\n",
        "  \"start_time\": \"2025-05-29T07:49:49.789911+05:30\",\n",
        "  \"end_time\": \"2025-05-29T07:50:04.789911+05:30\",\n",
        "  \"stream_url\": \"https://rt.stream.videodb.io/manifests/rts-019719b2-0c84-7a71-a037-311855a8d160/1748485189000000-1748485205000000.m3u8\"\n",
        "}\n",
        "```"
      ],
      "metadata": {
        "id": "DtGcRljD0UYM"
      }
    },
    {
      "cell_type": "code",
      "source": [
        "alert_stream_url = \"https://rt.stream.videodb.io/manifests/rts-019719b2-0c84-7a71-a037-311855a8d160/1748485189000000-1748485205000000.m3u8\"\n",
        "video_name = \"🌊 Arizona Desert · human_rescue\"\n",
        "\n",
        "display_stream(alert_stream_url, video_name)"
      ],
      "metadata": {
        "colab": {
          "base_uri": "https://localhost:8080/",
          "height": 422
        },
        "id": "MZ1LBQ3E1dcV",
        "outputId": "20198543-639f-4034-ee25-ceaa8272b018"
      },
      "execution_count": 7,
      "outputs": [
        {
          "output_type": "execute_result",
          "data": {
            "text/plain": [
              "<IPython.core.display.HTML object>"
            ],
            "text/html": [
              "\n",
              "    <div style=\"position:relative;width:640px;\">\n",
              "      \n",
              "        <iframe\n",
              "            width=\"800\"\n",
              "            height=\"400\"\n",
              "            src=\"https://console.videodb.io/player?url=https://rt.stream.videodb.io/manifests/rts-019719b2-0c84-7a71-a037-311855a8d160/1748485189000000-1748485205000000.m3u8\"\n",
              "            frameborder=\"0\"\n",
              "            allowfullscreen\n",
              "            \n",
              "        ></iframe>\n",
              "        \n",
              "      <div style=\"position:absolute;top:10px;left:10px;background:rgba(0,0,0,0.6);color:#fff;padding:6px 12px;border-radius:4px;font-size:13px;font-family:sans-serif;\">\n",
              "        <strong>🌊 Arizona Desert · human_rescue</strong><br>2025-05-29 02:19:49 → 2025-05-29 02:20:05 UTC\n",
              "      </div>\n",
              "    </div>\n",
              "    "
            ]
          },
          "metadata": {},
          "execution_count": 7
        }
      ]
    },
    {
      "cell_type": "markdown",
      "source": [
        "---\n",
        "\n",
        "## 🌙 Wrapping Up: Real-Time Environmental Safety\n",
        "\n",
        "With this system in place, communities, tourists, and local authorities in Arizona’s desert regions can receive **immediate alerts** when a dangerous flash flood occurs — gaining critical seconds to take cover, clear routes, or initiate rescues.\n",
        "\n",
        "---\n",
        "\n",
        "## 🔥 What Else Could We Monitor?\n",
        "\n",
        "This system isn’t limited to flash floods. The same AI-driven video monitoring approach can protect lives in other natural disasters too.\n",
        "\n",
        "---\n",
        "\n",
        "### 🌲 Forest Fire Detection\n",
        "\n",
        "**Why it’s needed:**  \n",
        "In remote forest areas, smoke plumes and early fire flickers often go unnoticed for several minutes before traditional sensors or satellites pick them up.\n",
        "\n",
        "**How we can do it better:**  \n",
        "With AI-powered cameras watching key zones, we can detect rapid smoke build-ups or visible flames long before automated sensors trigger.\n",
        "\n",
        "**Example indexing prompt:**\n",
        "\n",
        "```markdown\n",
        "\"Monitor the forest area carefully. Detect sudden rising smoke, increasing haze, or visible flames. Clearly describe if a fire outbreak is visibly starting.\"\n",
        "```\n",
        "\n",
        "---\n",
        "\n",
        "### 🌊 Sudden Tsunami Detection\n",
        "\n",
        "**Why it’s needed:**  \n",
        "Even with tsunami sensors and ocean buoys, near-shoreline towns often get only minutes of warning. Visual cues like water rapidly pulling away from shore or unusually large approaching waves are immediate, reliable signs.\n",
        "\n",
        "**How we can do it better:**  \n",
        "Install AI cameras on popular beaches and coastlines to detect rapid water retreat or walls of water approaching.\n",
        "\n",
        "**Example indexing prompt:**\n",
        "\n",
        "```markdown\n",
        "\"Watch the beach and shoreline closely. Detect unusual rapid water withdrawal from the shore, or approaching large waves indicating a possible tsunami. Describe the situation clearly.\"\n",
        "```\n",
        "\n",
        "---\n",
        "\n",
        "### 🏔️ Landslide / Avalanche Detection\n",
        "\n",
        "**Why it’s needed:**  \n",
        "Mountain highways and tourist trails are often cut off by sudden landslides or snow avalanches, where every second matters for evacuation and road closures.\n",
        "\n",
        "**How we can do it better:**  \n",
        "Place AI cameras at landslide-prone mountain slopes or snow-covered passes to detect falling rocks, moving soil, or snow slides in real time.\n",
        "\n",
        "**Example indexing prompt:**\n",
        "\n",
        "```markdown\n",
        "\"Monitor the mountain slope area carefully. Detect falling rocks, soil displacement, or sudden snow slides. Clearly describe if a landslide or avalanche is starting.\"\n",
        "```\n",
        "\n",
        "---\n",
        "\n",
        "## 🌍 The Possibilities Are Endless\n",
        "\n",
        "Real-time AI video monitoring isn’t just for cities and homes — it can actively save lives in wild, unpredictable environments too.\n",
        "\n",
        "**What natural threat would *you* monitor next?**"
      ],
      "metadata": {
        "id": "BwE1fRaoR4BL"
      }
    }
  ]
}