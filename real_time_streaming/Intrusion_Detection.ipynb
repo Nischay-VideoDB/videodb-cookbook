{
  "nbformat": 4,
  "nbformat_minor": 0,
  "metadata": {
    "colab": {
      "provenance": []
    },
    "kernelspec": {
      "name": "python3",
      "display_name": "Python 3"
    },
    "language_info": {
      "name": "python"
    }
  },
  "cells": [
    {
      "cell_type": "markdown",
      "source": [
        "# 🏠 Smart Intruder Detection for Property Surveillance using VideoDB RTStream\n",
        "[![Open In Colab](https://colab.research.google.com/assets/colab-badge.svg)](https://colab.research.google.com/github/Nischay-VideoDB/videodb-cookbook/blob/main/real_time_streaming/Intrusion_Detection.ipynb)\n",
        "## 📖 Storytime: Why This Matters\n",
        "\n",
        "Have you ever felt anxious leaving your home, shop, or property unattended?  \n",
        "**What if someone’s lurking around your property?**  \n",
        "**What if someone’s trying the door or peeking through windows?**  \n",
        "Sure — you could install IP cameras, but who has the time to watch them 24/7?\n",
        "\n",
        "**Good news — you don’t have to anymore.**\n",
        "\n",
        "With **VideoDB RTStream**, you can build a smart, AI-powered property surveillance system that actively monitors live video streams, detects suspicious activity, and immediately sends alerts for escalating security breaches — all without human supervision.\n",
        "\n",
        "---\n",
        "\n",
        "## 🚀 What You’ll Build in This Notebook\n",
        "\n",
        "In this notebook, we’ll build a layered intruder detection system with **three levels of security breach detection**:\n",
        "- **🔸 Level 1: Loitering near the property perimeter**\n",
        "- **🔸 Level 2: Attempting to check the door lock (tampering / intrusion attempt)**\n",
        "- **🔸 Level 3: Physically entering the property (highest breach)**\n",
        "\n",
        "You’ll learn how to:\n",
        "- 📺 Connect a property surveillance video stream to VideoDB\n",
        "- 🤖 Use AI to continuously analyze scenes for suspicious activity\n",
        "- Detect and differentiate **three levels of security threats**\n",
        "- 🚨 Trigger separate real-time alerts for each level to a webhook\n",
        "\n",
        "Let’s build it!"
      ],
      "metadata": {
        "id": "Fsebg6qWNsIQ"
      }
    },
    {
      "cell_type": "markdown",
      "source": [
        "---\n",
        "\n",
        "## 📦 Step 1: Install Dependencies\n",
        "\n",
        "We’ll begin by installing the VideoDB SDK"
      ],
      "metadata": {
        "id": "tMOTjoKCNx4m"
      }
    },
    {
      "cell_type": "code",
      "source": [
        "!pip install -q videodb"
      ],
      "metadata": {
        "id": "VWIKa3mWNwSr",
        "colab": {
          "base_uri": "https://localhost:8080/"
        },
        "outputId": "45f11916-9c14-4017-a1b8-2822072583d3"
      },
      "execution_count": 1,
      "outputs": [
        {
          "output_type": "stream",
          "name": "stdout",
          "text": [
            "  Preparing metadata (setup.py) ... \u001b[?25l\u001b[?25hdone\n",
            "  Building wheel for videodb (setup.py) ... \u001b[?25l\u001b[?25hdone\n"
          ]
        }
      ]
    },
    {
      "cell_type": "markdown",
      "source": [
        "---\n",
        "## 📦 Step 2: Connect to VideoDB\n",
        "\n",
        "Let's connect to VideoDB's API using your credentials to prepare for stream monitoring.\n",
        "\n",
        "Please enter your `VIDEO_DB_API_KEY` in the input box that appears below after you run this cell.\n",
        "\n",
        "Your input will be masked.\n"
      ],
      "metadata": {
        "id": "ADeNXFVGN1g_"
      }
    },
    {
      "cell_type": "code",
      "source": [
        "import videodb\n",
        "import os\n",
        "from getpass import getpass\n",
        "\n",
        "api_key = getpass(\"Please enter your VideoDB API Key: \")\n",
        "\n",
        "os.environ[\"VIDEO_DB_API_KEY\"] = api_key\n",
        "\n",
        "conn = videodb.connect()\n",
        "coll = conn.get_collection()\n",
        "\n",
        "print(\"Connected to VideoDB securely!\")"
      ],
      "metadata": {
        "id": "HX-5_YF_N2mK",
        "colab": {
          "base_uri": "https://localhost:8080/"
        },
        "outputId": "bdeb93e2-4d10-4a72-c3e3-70973097a22e"
      },
      "execution_count": 2,
      "outputs": [
        {
          "output_type": "stream",
          "name": "stdout",
          "text": [
            "Please enter your VideoDB API Key: ··········\n",
            "Connected to VideoDB securely!\n"
          ]
        }
      ]
    },
    {
      "cell_type": "markdown",
      "source": [
        "---\n",
        "\n",
        "## 📦 Step 3: Connect to the Property Surveillance RTSP Stream\n",
        "\n",
        "We’ll connect to the live video stream of your property’s security camera.\n",
        "\n",
        "In this demo, the stream is running at `rtsp://samples.rts.videodb.io:8554/intruder`.\n"
      ],
      "metadata": {
        "id": "4zMEeRBaN7Zm"
      }
    },
    {
      "cell_type": "code",
      "source": [
        "rtsp_url = \"rtsp://samples.rts.videodb.io:8554/intruder\"\n",
        "intruder_stream = coll.connect_rtstream(\n",
        "    name=\"Property Security Stream\",\n",
        "    url=rtsp_url,\n",
        ")\n",
        "print(intruder_stream)"
      ],
      "metadata": {
        "id": "DCXckXELOABN",
        "colab": {
          "base_uri": "https://localhost:8080/"
        },
        "outputId": "dd7a27df-6d66-49b9-f918-92be75ef77ee"
      },
      "execution_count": null,
      "outputs": [
        {
          "output_type": "stream",
          "name": "stdout",
          "text": [
            "RTStream(id=rts-019710fa-9511-79c3-a924-e229e4815410, name=Property Security Stream, collection_id=None, created_at=None, sample_rate=30, status=connected)\n"
          ]
        }
      ]
    },
    {
      "cell_type": "markdown",
      "source": [
        "#### Let us list all the rtstreams in our collection."
      ],
      "metadata": {
        "id": "Uek0S-lYiagX"
      }
    },
    {
      "cell_type": "code",
      "source": [
        "def list_rtstreams():\n",
        "    for rtstream in coll.list_rtstreams():\n",
        "        print(f\"\"\"RTStream:\n",
        "        ID            : {rtstream.id}\n",
        "        Name          : {rtstream.name}\n",
        "        Collection ID : {rtstream.collection_id}\n",
        "        Created At    : {rtstream.created_at}\n",
        "        Sample Rate   : {rtstream.sample_rate}\n",
        "        Status        : {rtstream.status}\n",
        "        \"\"\")\n",
        "        print(\"-\" * 80)\n",
        "\n",
        "list_rtstreams()"
      ],
      "metadata": {
        "colab": {
          "base_uri": "https://localhost:8080/"
        },
        "id": "_LOUfC9CieDc",
        "outputId": "2f6d3d99-bfed-421c-a629-eadde1a65108"
      },
      "execution_count": 7,
      "outputs": [
        {
          "output_type": "stream",
          "name": "stdout",
          "text": [
            "RTStream:\n",
            "        ID            : rts-019711db-1086-7750-ba79-8f47a4fed603\n",
            "        Name          : Cricket Finals Stream\n",
            "        Collection ID : c-81fc6459-fe30-44ac-8c5b-ea0898c2e152\n",
            "        Created At    : 2025-05-27T13:07:38.758741\n",
            "        Sample Rate   : 30\n",
            "        Status        : stopped\n",
            "        \n",
            "--------------------------------------------------------------------------------\n",
            "RTStream:\n",
            "        ID            : rts-019711a0-0fde-7911-b282-25bc0b4ecf65\n",
            "        Name          : Baby Crib Monitor\n",
            "        Collection ID : c-81fc6459-fe30-44ac-8c5b-ea0898c2e152\n",
            "        Created At    : 2025-05-27T12:03:11.966358\n",
            "        Sample Rate   : 30\n",
            "        Status        : stopped\n",
            "        \n",
            "--------------------------------------------------------------------------------\n",
            "RTStream:\n",
            "        ID            : rts-019710fa-9511-79c3-a924-e229e4815410\n",
            "        Name          : Property Security Stream\n",
            "        Collection ID : c-81fc6459-fe30-44ac-8c5b-ea0898c2e152\n",
            "        Created At    : 2025-05-27T09:02:27.089279\n",
            "        Sample Rate   : 30\n",
            "        Status        : connected\n",
            "        \n",
            "--------------------------------------------------------------------------------\n"
          ]
        }
      ]
    },
    {
      "cell_type": "markdown",
      "source": [
        "\n",
        "#### If you have already connected the stream, run the below cell with the **rtstream id** to reconnect."
      ],
      "metadata": {
        "id": "m_GqDzuF_fmI"
      }
    },
    {
      "cell_type": "code",
      "source": [
        "# intruder_stream = coll.get_rtstream(\"\")"
      ],
      "metadata": {
        "id": "qnOll9oS_gnJ"
      },
      "execution_count": 3,
      "outputs": []
    },
    {
      "cell_type": "code",
      "source": [
        "# To stop the stream\n",
        "# intruder_stream.stop()"
      ],
      "metadata": {
        "id": "gHAqL2LzBMT1"
      },
      "execution_count": null,
      "outputs": []
    },
    {
      "cell_type": "code",
      "source": [
        "# To start the stream\n",
        "# intruder_stream.start()"
      ],
      "metadata": {
        "id": "1c0QNS-tBKpX"
      },
      "execution_count": null,
      "outputs": []
    },
    {
      "cell_type": "markdown",
      "source": [
        "---\n",
        "### 👀 Let us have a look at the camera feed"
      ],
      "metadata": {
        "id": "KcQmjyuFOMZ-"
      }
    },
    {
      "cell_type": "markdown",
      "source": [
        "\n",
        "#### 📺 Helper Function: Display Video Stream\n",
        "\n",
        "This cell contains a small utility function to help visualize the video streams with helpful information. You don't need to modify this code."
      ],
      "metadata": {
        "id": "soVJxcNOB3R-"
      }
    },
    {
      "cell_type": "code",
      "source": [
        "# To display the stream with relevant information\n",
        "\n",
        "from IPython.display import HTML\n",
        "import re\n",
        "from datetime import datetime\n",
        "\n",
        "def display_stream(video_url, video_name=\"🎥 Camera Feed\"):\n",
        "    match = re.search(r'/(\\d{16})-(\\d{16})\\.m3u8', video_url)\n",
        "    if match:\n",
        "        start_ts = int(match.group(1)) / 1e6\n",
        "        end_ts = int(match.group(2)) / 1e6\n",
        "        start_time = datetime.utcfromtimestamp(start_ts).strftime('%Y-%m-%d %H:%M:%S')\n",
        "        end_time = datetime.utcfromtimestamp(end_ts).strftime('%Y-%m-%d %H:%M:%S')\n",
        "        time_range = f\"{start_time} → {end_time} UTC\"\n",
        "    else:\n",
        "        time_range = \"Time Unknown\"\n",
        "\n",
        "    return HTML(f\"\"\"\n",
        "    <div style=\"position:relative;width:640px;\">\n",
        "      <video id=\"hls-video\" width=\"640\" height=\"360\" controls muted autoplay style=\"border-radius:6px;\"></video>\n",
        "      <div style=\"position:absolute;top:10px;left:10px;background:rgba(0,0,0,0.6);color:#fff;padding:6px 12px;border-radius:4px;font-size:13px;font-family:sans-serif;\">\n",
        "        <strong>{video_name}</strong><br>{time_range}\n",
        "      </div>\n",
        "      <script src=\"https://cdn.jsdelivr.net/npm/hls.js@latest\"></script>\n",
        "      <script>\n",
        "        var video=document.getElementById('hls-video');\n",
        "        if(Hls.isSupported()){{\n",
        "          var hls=new Hls();\n",
        "          hls.loadSource(\"{video_url}\");\n",
        "          hls.attachMedia(video);\n",
        "        }}else if(video.canPlayType('application/vnd.apple.mpegurl')){{\n",
        "          video.src=\"{video_url}\";\n",
        "        }}\n",
        "      </script>\n",
        "    </div>\n",
        "    \"\"\")\n"
      ],
      "metadata": {
        "id": "n138fEwKOSSF"
      },
      "execution_count": 8,
      "outputs": []
    },
    {
      "cell_type": "markdown",
      "source": [
        "\n",
        "#### 🔗 Get & Display Recent Stream\n",
        "\n",
        "This cell uses the helper function above to fetch and display the last few minutes of the stream."
      ],
      "metadata": {
        "id": "Y3ZVVG2xB8W4"
      }
    },
    {
      "cell_type": "code",
      "source": [
        "# To get last few minutes stream link\n",
        "import time\n",
        "\n",
        "def play_stream(rtstream):\n",
        "\n",
        "    now = int(time.time())\n",
        "    start = int(now - (5 * 60))\n",
        "    stream_url = rtstream.generate_stream(start, now)\n",
        "    return stream_url\n",
        "\n",
        "video_url = play_stream(intruder_stream)\n",
        "\n",
        "video_name = \"🚨 Private Property · Intruder Detection\"\n",
        "display_stream(video_url, video_name)"
      ],
      "metadata": {
        "id": "GW2ZL4e7ONmP",
        "colab": {
          "base_uri": "https://localhost:8080/",
          "height": 382
        },
        "outputId": "dfe7b81e-7afe-4e41-ad31-215db9882489"
      },
      "execution_count": null,
      "outputs": [
        {
          "output_type": "execute_result",
          "data": {
            "text/plain": [
              "<IPython.core.display.HTML object>"
            ],
            "text/html": [
              "\n",
              "    <div style=\"position:relative;width:640px;\">\n",
              "      <video id=\"hls-video\" width=\"640\" height=\"360\" controls muted autoplay style=\"border-radius:6px;\"></video>\n",
              "      <div style=\"position:absolute;top:10px;left:10px;background:rgba(0,0,0,0.6);color:#fff;padding:6px 12px;border-radius:4px;font-size:13px;font-family:sans-serif;\">\n",
              "        <strong>🚨 Private Property · Intruder Detection</strong><br>2025-05-27 14:55:42 → 2025-05-27 15:00:42 UTC\n",
              "      </div>\n",
              "      <script src=\"https://cdn.jsdelivr.net/npm/hls.js@latest\"></script>\n",
              "      <script>\n",
              "        var video=document.getElementById('hls-video');\n",
              "        if(Hls.isSupported()){\n",
              "          var hls=new Hls();\n",
              "          hls.loadSource(\"https://rt.stream.videodb.io/manifests/rts-019710fa-9511-79c3-a924-e229e4815410/1748357742000000-1748358042000000.m3u8\");\n",
              "          hls.attachMedia(video);\n",
              "        }else if(video.canPlayType('application/vnd.apple.mpegurl')){\n",
              "          video.src=\"https://rt.stream.videodb.io/manifests/rts-019710fa-9511-79c3-a924-e229e4815410/1748357742000000-1748358042000000.m3u8\";\n",
              "        }\n",
              "      </script>\n",
              "    </div>\n",
              "    "
            ]
          },
          "metadata": {},
          "execution_count": 67
        }
      ]
    },
    {
      "cell_type": "markdown",
      "source": [
        "---\n",
        "\n",
        "## 📦 Step 4: Index Scenes and Detect Suspicious Activity\n",
        "\n",
        "We’ll create a real-time scene index that periodically analyzes video frames and generates natural language descriptions of what’s happening on the property.\n",
        "\n",
        "The AI will look for:\n",
        "- People loitering\n",
        "- Approaching or physically interacting with the door/lock\n",
        "- Attempting to enter the property"
      ],
      "metadata": {
        "id": "m3gM9_nbObaH"
      }
    },
    {
      "cell_type": "code",
      "source": [
        "from videodb import SceneExtractionType\n",
        "\n",
        "intruder_scene_index = intruder_stream.index_scenes(\n",
        "    extraction_type=SceneExtractionType.time_based,\n",
        "    extraction_config={\n",
        "        \"time\": 5,\n",
        "        \"frame_count\": 2,\n",
        "    },\n",
        "    prompt=\"Monitor the area around the house closely. Detect and classify human presence around the house as either loitering, interacting with the door/lock, or entering the house; otherwise, consider the area safe.\",\n",
        "    name=\"Intruder_Detection_Index\",\n",
        ")\n",
        "intruder_index_id = intruder_scene_index.rtstream_index_id\n",
        "print(\"Scene Index ID:\", intruder_index_id)\n"
      ],
      "metadata": {
        "id": "I4IDVrPBOcaT",
        "colab": {
          "base_uri": "https://localhost:8080/"
        },
        "outputId": "ecf074dc-3952-44d4-99ae-1d82965b1f70"
      },
      "execution_count": null,
      "outputs": [
        {
          "output_type": "stream",
          "name": "stdout",
          "text": [
            "Scene Index ID: 7a6b9e4dc0132ebe\n"
          ]
        }
      ]
    },
    {
      "cell_type": "markdown",
      "source": [
        "#### Let us list the scene indexes created on our rtstream."
      ],
      "metadata": {
        "id": "f7R-LeKAioYI"
      }
    },
    {
      "cell_type": "code",
      "source": [
        "def list_rtstream_indexes(rtstream):\n",
        "    # List live stream indexes\n",
        "    rtstream_indexes = rtstream.list_scene_indexes()\n",
        "    for rtstream_index in rtstream_indexes:\n",
        "\n",
        "        print(f\"\"\"RTStreamSceneIndex:\n",
        "            Index ID       : {rtstream_index.rtstream_index_id}\n",
        "            RTStream ID    : {rtstream_index.rtstream_id}\n",
        "            Name           : {rtstream_index.name}\n",
        "            Status         : {rtstream_index.status}\n",
        "            Config         : {rtstream_index.extraction_config}\n",
        "            Prompt         : {rtstream_index.prompt}\n",
        "        \"\"\")\n",
        "        print(\"-\" * 80)\n",
        "\n",
        "list_rtstream_indexes(intruder_stream)"
      ],
      "metadata": {
        "colab": {
          "base_uri": "https://localhost:8080/"
        },
        "id": "MTHKJ6MCir--",
        "outputId": "97a74f3d-b3c5-4004-ffa5-25aec62def10"
      },
      "execution_count": 14,
      "outputs": [
        {
          "output_type": "stream",
          "name": "stdout",
          "text": [
            "RTStreamSceneIndex:\n",
            "            Index ID       : 7a6b9e4dc0132ebe\n",
            "            RTStream ID    : rts-019710fa-9511-79c3-a924-e229e4815410\n",
            "            Name           : Intruder_Detection_Index\n",
            "            Status         : running\n",
            "            Config         : {'frame_count': '2', 'time': '5'}\n",
            "            Prompt         : Monitor the area around the house closely. Detect and classify human presence around the house as either loitering, interacting with the door/lock, or entering the house; otherwise, consider the area safe.\n",
            "        \n",
            "--------------------------------------------------------------------------------\n",
            "RTStreamSceneIndex:\n",
            "            Index ID       : caf71652aed1141c\n",
            "            RTStream ID    : rts-019710fa-9511-79c3-a924-e229e4815410\n",
            "            Name           : Intruder_Security_Index\n",
            "            Status         : stopped\n",
            "            Config         : {'frame_count': '3', 'time': '5'}\n",
            "            Prompt         : Monitor the area around the house closely. Detect and classify human presence around the house as either loitering, interacting with the door/lock, or entering the house; otherwise, consider the area safe.\n",
            "        \n",
            "--------------------------------------------------------------------------------\n"
          ]
        }
      ]
    },
    {
      "cell_type": "markdown",
      "source": [
        "\n",
        "#### If you have already created a scene index, run the below cell with your **scene index id** to reconnect."
      ],
      "metadata": {
        "id": "in8K0RIhCjpu"
      }
    },
    {
      "cell_type": "code",
      "source": [
        "# intruder_index_id = \"\"\n",
        "# intruder_scene_index = intruder_stream.get_scene_index(intruder_index_id)"
      ],
      "metadata": {
        "id": "WG2oQmwbCoC2"
      },
      "execution_count": 4,
      "outputs": []
    },
    {
      "cell_type": "code",
      "source": [
        "# To stop the index\n",
        "# intruder_scene_index.stop()"
      ],
      "metadata": {
        "id": "-o_Ov8G6Cz5a"
      },
      "execution_count": null,
      "outputs": []
    },
    {
      "cell_type": "code",
      "source": [
        "# To start the index\n",
        "# intruder_scene_index.start()"
      ],
      "metadata": {
        "id": "yjaTDD3PCycw"
      },
      "execution_count": null,
      "outputs": []
    },
    {
      "cell_type": "markdown",
      "source": [
        "---\n",
        "### Let us see the generated indexes"
      ],
      "metadata": {
        "id": "7-N4193uOg7G"
      }
    },
    {
      "cell_type": "code",
      "source": [
        "import time\n",
        "from datetime import datetime\n",
        "from zoneinfo import ZoneInfo\n",
        "\n",
        "def _convert_to_ist(timestamp: float) -> str:\n",
        "    \"\"\"Convert UTC timestamp to IST (Asia/Kolkata) datetime string.\"\"\"\n",
        "    return (\n",
        "        datetime.fromtimestamp(timestamp)\n",
        "        .astimezone(ZoneInfo(\"Asia/Kolkata\"))\n",
        "        .strftime(\"%Y-%m-%d %H:%M:%S\")\n",
        "    )\n",
        "\n",
        "def get_scenes(rtstream, index_id):\n",
        "    # Print indexed scenes\n",
        "    rtstream_scene_index = rtstream.get_scene_index(index_id)\n",
        "    scenes = rtstream_scene_index.get_scenes(page_size=5)\n",
        "    # print(scenes[\"scenes\"][:2])\n",
        "    if scenes:\n",
        "        for scene in scenes.get(\"scenes\"):\n",
        "            start = _convert_to_ist(scene[\"start\"])\n",
        "            end = _convert_to_ist(scene[\"end\"])\n",
        "            description = scene[\"description\"]\n",
        "            print(f\"{start}-{end} : {description}\")\n",
        "            print(\"-\" * 80)\n",
        "    else:\n",
        "        print(\"Scenes not found for given index.\")\n",
        "\n",
        "get_scenes(intruder_stream , intruder_index_id)"
      ],
      "metadata": {
        "id": "VzzKcqWyOikc",
        "colab": {
          "base_uri": "https://localhost:8080/"
        },
        "outputId": "611aef8b-5084-4350-c13e-0c868511be44"
      },
      "execution_count": null,
      "outputs": [
        {
          "output_type": "stream",
          "name": "stdout",
          "text": [
            "2025-05-27 20:25:06-2025-05-27 20:25:10 : Based on the image, I can see a person near the left side of the image. The person is near a lawn mower. It is difficult to determine the person's intent or activity with certainty. The person is not interacting with the door/lock or entering the house. Therefore, the person is loitering.\n",
            "--------------------------------------------------------------------------------\n",
            "2025-05-27 20:24:46-2025-05-27 20:24:52 : Based on the image, there is a human presence loitering in the distance.\n",
            "--------------------------------------------------------------------------------\n",
            "2025-05-27 20:24:39-2025-05-27 20:24:44 : Here's a breakdown of the situation based on the images provided:\n",
            "\n",
            "**Analysis:**\n",
            "\n",
            "*   **Human Presence Detected:** Yes, there are at least two individuals visible in the images. One is near the left side of the image, and another is in the background.\n",
            "*   **Classification:**\n",
            "    *   The individual on the left appears to be walking or loitering.\n",
            "    *   The individual in the background appears to be loitering.\n",
            "*   **Interaction with Door/Lock:** No interaction with the door or lock is visible in the images.\n",
            "*   **Entering the House:** No one is currently entering the house in the images.\n",
            "\n",
            "**Conclusion:**\n",
            "\n",
            "Based on the images, the area around the house is currently showing signs of loitering. Further monitoring is recommended to determine the intent of the individuals and whether their behavior escalates.\n",
            "--------------------------------------------------------------------------------\n",
            "2025-05-27 20:24:31-2025-05-27 20:24:37 : Here's the analysis of the images based on your request:\n",
            "\n",
            "**Image 1:**\n",
            "\n",
            "*   **Human Presence:** Yes, there is a human figure in the background.\n",
            "*   **Classification:** Loitering (The person is standing in the yard, not interacting with the door or entering the house).\n",
            "\n",
            "**Image 2:**\n",
            "\n",
            "*   **Human Presence:** Yes, there is a human figure in the background.\n",
            "*   **Classification:** Loitering (The person is walking in the yard, not interacting with the door or entering the house).\n",
            "\n",
            "**Overall Assessment:**\n",
            "\n",
            "The area around the house is currently showing signs of loitering.\n",
            "\n",
            "--------------------------------------------------------------------------------\n",
            "2025-05-27 20:24:23-2025-05-27 20:24:29 : Here's the analysis of the images:\n",
            "\n",
            "**Image 1:**\n",
            "\n",
            "*   **Detection:** A person is detected in the yard.\n",
            "*   **Classification:** The person is walking across the yard, not loitering, interacting with the door/lock, or entering the house.\n",
            "*   **Status:** Safe.\n",
            "\n",
            "**Image 2:**\n",
            "\n",
            "*   **Detection:** No person is detected in the yard.\n",
            "*   **Classification:** N/A\n",
            "*   **Status:** Safe.\n",
            "--------------------------------------------------------------------------------\n"
          ]
        }
      ]
    },
    {
      "cell_type": "markdown",
      "source": [
        "---\n",
        "## 🚨 Level 1 Breach: Loitering Near the Property\n",
        "\n",
        "We’ll start by creating an event to detect people **loitering or lingering around the property** without actually touching or interacting with it.\n",
        "\n",
        "Then, we’ll immediately attach an alert to this event, so you get notified in real time.\n",
        "\n",
        "\n"
      ],
      "metadata": {
        "id": "Sp9DKyYrOqVt"
      }
    },
    {
      "cell_type": "markdown",
      "source": [
        "---\n",
        "#### First, let us set up the webhook url we are going to use in the alerts"
      ],
      "metadata": {
        "id": "Ilimj-VxjFbV"
      }
    },
    {
      "cell_type": "code",
      "source": [
        "# Enter link to your webhook url where you want alerts to go. You can create one simply on pipedream.\n",
        "webhook_url=\"\""
      ],
      "metadata": {
        "id": "wb_-9Q5VjPsI"
      },
      "execution_count": null,
      "outputs": []
    },
    {
      "cell_type": "markdown",
      "source": [
        "---\n",
        "\n",
        "### 📦 Create Event for Loitering Detection\n",
        "\n",
        "This event will flag when someone is spotted loitering near your property boundary.\n",
        "\n"
      ],
      "metadata": {
        "id": "F_bBDstPOuzG"
      }
    },
    {
      "cell_type": "code",
      "source": [
        "loitering_event_id = conn.create_event(\n",
        "    event_prompt=\"Detect if a person is loitering near the house perimeter.\",\n",
        "    label=\"loitering_near_property\"\n",
        ")\n",
        "print(\"Loitering Event ID:\", loitering_event_id)\n"
      ],
      "metadata": {
        "id": "PzadAArvOvHn",
        "colab": {
          "base_uri": "https://localhost:8080/"
        },
        "outputId": "f067b863-01a6-4cb0-e3a6-e2454e8899d8"
      },
      "execution_count": null,
      "outputs": [
        {
          "output_type": "stream",
          "name": "stdout",
          "text": [
            "Loitering Event ID: 679ade6411306f35\n"
          ]
        }
      ]
    },
    {
      "cell_type": "markdown",
      "source": [
        "---\n",
        "\n",
        "### 📦 Create Alert for Level 1 Breach\n",
        "\n",
        "As soon as the AI detects a loitering event, it’ll send a webhook alert notification."
      ],
      "metadata": {
        "id": "VVK_LWHoOxjO"
      }
    },
    {
      "cell_type": "code",
      "source": [
        "if webhook_url:\n",
        "  loitering_alert_id = intruder_scene_index.create_alert(\n",
        "      loitering_event_id,\n",
        "      callback_url=webhook_url\n",
        "  )\n",
        "  print(\"Loitering Alert ID:\", loitering_alert_id)\n",
        "else:\n",
        "  print(\"Error: Please provide Webhook URL. Alert cannot be created without it.\")"
      ],
      "metadata": {
        "id": "8lbFnsy1OzEI",
        "colab": {
          "base_uri": "https://localhost:8080/"
        },
        "outputId": "0492be1b-31ab-40ad-a218-579930875c26"
      },
      "execution_count": null,
      "outputs": [
        {
          "output_type": "stream",
          "name": "stdout",
          "text": [
            "Loitering Alert ID: c10272cfdf1bb7b1\n"
          ]
        }
      ]
    },
    {
      "cell_type": "markdown",
      "source": [
        "---\n",
        "\n",
        "## 🚨 Level 2 Breach: Door Checking or Lock Tampering\n",
        "\n",
        "Next, we’ll set up an event to detect when someone moves close to the front door and appears to check or tamper with the lock — a higher severity intrusion attempt.\n",
        "\n",
        "Then, we’ll link a dedicated alert to this event.\n",
        "\n",
        "\n"
      ],
      "metadata": {
        "id": "V7XyCb_iO07e"
      }
    },
    {
      "cell_type": "markdown",
      "source": [
        "---\n",
        "\n",
        "### 📦 Create Event for Intrusion Attempt\n",
        "\n",
        "This event will flag when a person approaches the property’s door and visibly interacts with it.\n",
        "\n"
      ],
      "metadata": {
        "id": "4kc__9fKO4_1"
      }
    },
    {
      "cell_type": "code",
      "source": [
        "intrusion_event_id = conn.create_event(\n",
        "    event_prompt=\"Detect if a person is interacting with the door or visibly checking the lock.\",\n",
        "    label=\"intrusion_attempt\"\n",
        ")\n",
        "print(\"Intrusion Attempt Event ID:\", intrusion_event_id)"
      ],
      "metadata": {
        "id": "cPHYFJkxO33x",
        "colab": {
          "base_uri": "https://localhost:8080/"
        },
        "outputId": "401bbe83-b38e-40a5-91f9-c800f4f313a9"
      },
      "execution_count": null,
      "outputs": [
        {
          "output_type": "stream",
          "name": "stdout",
          "text": [
            "Intrusion Attempt Event ID: 7bd0ccf7e53637ef\n"
          ]
        }
      ]
    },
    {
      "cell_type": "markdown",
      "source": [
        "---\n",
        "\n",
        "### 📦 Create Alert for Level 2 Breach\n",
        "\n",
        "When AI detects this activity, an instant alert will be routed to your webhook."
      ],
      "metadata": {
        "id": "vjWevnd5O76N"
      }
    },
    {
      "cell_type": "code",
      "source": [
        "if webhook_url:\n",
        "  intrusion_alert_id = intruder_scene_index.create_alert(\n",
        "      intrusion_event_id,\n",
        "      callback_url=webhook_url\n",
        "  )\n",
        "  print(\"Intrusion Alert ID:\", intrusion_alert_id)\n",
        "else:\n",
        "  print(\"Error: Please provide Webhook URL. Alert cannot be created without it.\")"
      ],
      "metadata": {
        "id": "AqE8F8jYO9vW",
        "colab": {
          "base_uri": "https://localhost:8080/"
        },
        "outputId": "f64400de-fc58-4ff4-e8db-268208564feb"
      },
      "execution_count": null,
      "outputs": [
        {
          "output_type": "stream",
          "name": "stdout",
          "text": [
            "Intrusion Alert ID: 441c80e43b16fbf5\n"
          ]
        }
      ]
    },
    {
      "cell_type": "markdown",
      "source": [
        "---\n",
        "\n",
        "## 🚨 Level 3 Breach: Unauthorized Property Entry\n",
        "\n",
        "Lastly, we’ll define an event to catch the most serious scenario — **someone entering the property**.\n",
        "\n",
        "Then, we’ll configure a real-time alert for it.\n",
        "\n",
        "\n"
      ],
      "metadata": {
        "id": "64QtYHT8O_fG"
      }
    },
    {
      "cell_type": "markdown",
      "source": [
        "---\n",
        "\n",
        "### 📦 Create Event for Property Entry\n",
        "\n",
        "This event triggers when AI spots someone crossing into the property, opening a door, or entering the house.\n",
        "\n"
      ],
      "metadata": {
        "id": "CzSqR3CnPDwW"
      }
    },
    {
      "cell_type": "code",
      "source": [
        "entry_event_id = conn.create_event(\n",
        "    event_prompt=\"Detect if a person enters the house or crosses the property boundary unlawfully.\",\n",
        "    label=\"property_entry\"\n",
        ")\n",
        "print(\"Property Entry Event ID:\", entry_event_id)\n"
      ],
      "metadata": {
        "id": "4SGBukMAPEDi",
        "colab": {
          "base_uri": "https://localhost:8080/"
        },
        "outputId": "95fc3858-e655-4470-8a11-7bd9bdb115a9"
      },
      "execution_count": null,
      "outputs": [
        {
          "output_type": "stream",
          "name": "stdout",
          "text": [
            "Property Entry Event ID: 796434851654377e\n"
          ]
        }
      ]
    },
    {
      "cell_type": "markdown",
      "source": [
        "---\n",
        "\n",
        "### 📦 Create Alert for Level 3 Breach\n",
        "\n",
        "The AI will send an immediate webhook alert for this highest-severity breach."
      ],
      "metadata": {
        "id": "5ifh9JI_PGBe"
      }
    },
    {
      "cell_type": "code",
      "source": [
        "if webhook_url:\n",
        "  entry_alert_id = intruder_scene_index.create_alert(\n",
        "      entry_event_id,\n",
        "      callback_url=webhook_url\n",
        "  )\n",
        "  print(\"Property Entry Alert ID:\", entry_alert_id)\n",
        "else:\n",
        "  print(\"Error: Please provide Webhook URL. Alert cannot be created without it.\")"
      ],
      "metadata": {
        "id": "wa-Om6R4PHHy",
        "colab": {
          "base_uri": "https://localhost:8080/"
        },
        "outputId": "4817f3a4-cce5-484a-9d5e-bc5e41ba263b"
      },
      "execution_count": null,
      "outputs": [
        {
          "output_type": "stream",
          "name": "stdout",
          "text": [
            "Property Entry Alert ID: 5d5bd37c77de2607\n"
          ]
        }
      ]
    },
    {
      "cell_type": "markdown",
      "source": [
        "---\n",
        "### Lets see the events and alerts we have set up"
      ],
      "metadata": {
        "id": "HX-EL8oGPIxG"
      }
    },
    {
      "cell_type": "code",
      "source": [
        "def list_rtstream_alerts(rtstream, index_id):\n",
        "    \"\"\"\n",
        "    Prints a list of alerts associated with a given scene index.\n",
        "    \"\"\"\n",
        "    rtstream_scene_index = rtstream.get_scene_index(index_id)\n",
        "    alerts = rtstream_scene_index.list_alerts()\n",
        "\n",
        "    for alert in alerts:\n",
        "        print(f\"\"\"🔔 RTStream Alert:\n",
        "    Alert ID      : {alert['alert_id']}\n",
        "    Event ID      : {alert['event_id']}\n",
        "    Label         : {alert['label']}\n",
        "    Prompt        : {alert['prompt']}\n",
        "    Status        : {alert['status']}\n",
        "        \"\"\")\n",
        "        print(\"-\" * 80)\n",
        "\n",
        "list_rtstream_alerts(intruder_stream, intruder_index_id)\n"
      ],
      "metadata": {
        "id": "QJcsScd8PKDj",
        "colab": {
          "base_uri": "https://localhost:8080/"
        },
        "outputId": "64e856a4-3327-44c1-a9cc-71d876dda859"
      },
      "execution_count": 5,
      "outputs": [
        {
          "output_type": "stream",
          "name": "stdout",
          "text": [
            "🔔 RTStream Alert:\n",
            "    Alert ID      : 441c80e43b16fbf5\n",
            "    Event ID      : 7bd0ccf7e53637ef\n",
            "    Label         : intrusion_attempt\n",
            "    Prompt        : Detect if a person is interacting with the door or visibly checking the lock.\n",
            "    Status        : enabled\n",
            "        \n",
            "--------------------------------------------------------------------------------\n",
            "🔔 RTStream Alert:\n",
            "    Alert ID      : 5d5bd37c77de2607\n",
            "    Event ID      : 796434851654377e\n",
            "    Label         : property_entry\n",
            "    Prompt        : Detect if a person enters the house or crosses the property boundary unlawfully.\n",
            "    Status        : enabled\n",
            "        \n",
            "--------------------------------------------------------------------------------\n",
            "🔔 RTStream Alert:\n",
            "    Alert ID      : c10272cfdf1bb7b1\n",
            "    Event ID      : 679ade6411306f35\n",
            "    Label         : loitering_near_property\n",
            "    Prompt        : Detect if a person is loitering near the house perimeter.\n",
            "    Status        : enabled\n",
            "        \n",
            "--------------------------------------------------------------------------------\n"
          ]
        }
      ]
    },
    {
      "cell_type": "markdown",
      "source": [
        "---\n",
        "\n",
        "## 📡 Example Alert Payload\n",
        "\n",
        "A **Level 1: Loitering Around** alert received on the webhook:\n",
        "\n",
        "```json\n",
        "{\n",
        "  \"event_id\": \"event-679ade6411306f35\",\n",
        "  \"label\": \"loitering_near_property\",\n",
        "  \"confidence\": 0.75,\n",
        "  \"explanation\": \"A person is detected loitering near the house perimeter, matching the alert context. Confidence is high due to the person's presence in the distance, although the specific activity is not definitively confirmed.\",\n",
        "  \"timestamp\": \"2025-05-27T14:58:34.908641+00:00\",\n",
        "  \"start_time\": \"2025-05-27T20:28:26.061836+05:30\",\n",
        "  \"end_time\": \"2025-05-27T20:28:30.089070+05:30\",\n",
        "  \"stream_url\": \"https://rt.stream.videodb.io/manifests/rts-019710fa-9511-79c3-a924-e229e4815410/1748357906000000-1748357910000000.m3u8\"\n",
        "}\n",
        "```\n",
        "\n",
        "✅ Similar alerts will be triggered for Level 2 and Level 3 security breaches.\n"
      ],
      "metadata": {
        "id": "j8MBrY0lPYxm"
      }
    },
    {
      "cell_type": "markdown",
      "source": [
        "---\n",
        "### Let us have a look at the stream_url received in the alert."
      ],
      "metadata": {
        "id": "NfsfAjeulCuJ"
      }
    },
    {
      "cell_type": "code",
      "source": [
        "alert_stream_url = \"https://rt.stream.videodb.io/manifests/rts-019710fa-9511-79c3-a924-e229e4815410/1748480575000000-1748480580000000.m3u8\"\n",
        "video_name = \"🚨 Private Property · loitering_near_property\"\n",
        "\n",
        "display_stream(alert_stream_url,video_name)"
      ],
      "metadata": {
        "colab": {
          "base_uri": "https://localhost:8080/",
          "height": 382
        },
        "id": "2IsLJaL1kCqh",
        "outputId": "679d40ef-8cbb-455b-f83d-4c376ef5918a"
      },
      "execution_count": 21,
      "outputs": [
        {
          "output_type": "execute_result",
          "data": {
            "text/plain": [
              "<IPython.core.display.HTML object>"
            ],
            "text/html": [
              "\n",
              "    <div style=\"position:relative;width:640px;\">\n",
              "      <video id=\"hls-video\" width=\"640\" height=\"360\" controls muted autoplay style=\"border-radius:6px;\"></video>\n",
              "      <div style=\"position:absolute;top:10px;left:10px;background:rgba(0,0,0,0.6);color:#fff;padding:6px 12px;border-radius:4px;font-size:13px;font-family:sans-serif;\">\n",
              "        <strong>🚨 Private Property · loitering_near_property</strong><br>2025-05-29 01:02:55 → 2025-05-29 01:03:00 UTC\n",
              "      </div>\n",
              "      <script src=\"https://cdn.jsdelivr.net/npm/hls.js@latest\"></script>\n",
              "      <script>\n",
              "        var video=document.getElementById('hls-video');\n",
              "        if(Hls.isSupported()){\n",
              "          var hls=new Hls();\n",
              "          hls.loadSource(\"https://rt.stream.videodb.io/manifests/rts-019710fa-9511-79c3-a924-e229e4815410/1748480575000000-1748480580000000.m3u8\");\n",
              "          hls.attachMedia(video);\n",
              "        }else if(video.canPlayType('application/vnd.apple.mpegurl')){\n",
              "          video.src=\"https://rt.stream.videodb.io/manifests/rts-019710fa-9511-79c3-a924-e229e4815410/1748480575000000-1748480580000000.m3u8\";\n",
              "        }\n",
              "      </script>\n",
              "    </div>\n",
              "    "
            ]
          },
          "metadata": {},
          "execution_count": 21
        }
      ]
    },
    {
      "cell_type": "markdown",
      "source": [
        "---\n",
        "\n",
        "## 🌙 Wrapping Up: Smarter Property Security Without Stress\n",
        "\n",
        "In this notebook, we built a **layered AI-powered video surveillance system** to protect your property in real time.\n",
        "\n",
        "With this in place, property owners can leave home without anxiety, knowing they’ll be immediately notified if anyone is:\n",
        "- **Loitering nearby**\n",
        "- **Interacting with the door**\n",
        "- **Or breaking in**\n",
        "\n",
        "---\n",
        "\n",
        "## 🔍 What Else Could We Secure?\n",
        "\n",
        "This layered security system isn’t limited to homes. It can just as easily protect:\n",
        "- 🏬 **Retail stores from shoplifters**\n",
        "- 🏢 **Warehouse perimeters and restricted areas**\n",
        "- 🛡️ **Military bases and government installations**\n",
        "- 🏫 **Schools and public buildings**\n",
        "\n",
        "**What would *you* secure next?**"
      ],
      "metadata": {
        "id": "69EbvxIOPdn-"
      }
    }
  ]
}